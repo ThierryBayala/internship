{
 "cells": [
  {
   "cell_type": "markdown",
   "metadata": {},
   "source": [
    "<div style=\"background-color:maroon;width:100%;color:white;font-size:20px;padding-top:20px;padding-bottom:20px;padding-left:15px;font-weight:bold\"><p>OVERVIEW TASK 1: Project Based Learning (PBL)</p></div>\n",
    "\n",
    "\n",
    "Machine Learning is on of the technique of artificial intelligence that is widely use in many field such as healthcare , agriculture, linguistic and so on. The context of this problem-based learning course is to provide to the students in MSc the basic knowledge about Natural Language Processing through a pratical example. "
   ]
  },
  {
   "cell_type": "markdown",
   "metadata": {},
   "source": [
    "<strong>OBJECTIVE OF THE PROJECT</strong>\n",
    "<hr style=`backgound-color:black;height:2px`>\n",
    "<ol>\n",
    "    <li>Data Exploration Methods</li>\n",
    "    <li>Data Cleanning Process</li>\n",
    "    <li>Text Embeddings Method</li> \n",
    "    <li>Text Data Classification </li>\n",
    "</ol>"
   ]
  },
  {
   "cell_type": "markdown",
   "metadata": {},
   "source": [
    "<strong>ABOUT THE DATASET</strong>\n",
    "<hr style=`backgound-color:black;height:2px`>\n",
    "\n",
    "For this pratical courses we will use customers support on twitter available on Kaggle. The datasets contains more than 1 million tweets including customers questions and the answers from the compaies. The dataset has 7 features describes as follow:\n",
    "<ul>\n",
    "    <li><strong>tweet_id:</strong> tweet_id is an unique identifier for each tweet in the dataset</li>\n",
    "    <li><strong>author_id:</strong>author_id is an unique identifier for each users in the dataset</li>\n",
    "    <li><strong>inbounded:</strong> inbounded is a boolean value which can be true or false if<br/> the tweet is a company answer or not.</li>\n",
    "    <li><strong>created_at:</strong> This date correspond to the date where the tweet posted <br/>by the users.</li>\n",
    "    <li><strong>text:</strong> text correspond to the customers inquiries or the companies answers</li>\n",
    "    <li><strong>response_tweet_id:</strong> IDs of tweets that are responses to this tweet, <br/>comma-separated.</li>\n",
    "    <li><strong>in_response_to_tweet_id:</strong> ID of the tweet this tweet is in response to, if<br/> any</li>\n",
    "    \n",
    "</ul>\n",
    "\n",
    "In additionnal the dataset has several languages such as english, french, and so on. "
   ]
  },
  {
   "cell_type": "markdown",
   "metadata": {},
   "source": [
    "<strong style=\"color:maroon\">HYPOTHESIS</strong>\n",
    "<hr style=`backgound-color:black;height:2px`>\n",
    "\n",
    "<p style=\"justify-content: center;padding:5px\">In this analysis we intend to build a classifier on the top of the datset of customer support on Twitter. Let's see how we can train classifier to classify the customer per companies based on their tweets. For the simplicity, let consider the following companies: Apple, Amazon, PlayStation, XboxSupport, TMobile and Uber_Support. </p>"
   ]
  },
  {
   "cell_type": "markdown",
   "metadata": {},
   "source": [
    "<strong>SOME CONCEPTS AND DEFINITION</strong>\n",
    "<hr style=`backgound-color:black;height:2px`>\n",
    "\n",
    "<ol>\n",
    "    <li>Natural Language Processing:</li>\n",
    "    <li>Supervised Machine Learning:</li>\n",
    "    <li>Tokenization:</li>\n",
    "    <li>Classification:</li>\n",
    "    <li>Words or Document Embedding:</li>\n",
    "    \n",
    "</ol>"
   ]
  },
  {
   "cell_type": "markdown",
   "metadata": {},
   "source": [
    "<strong>BASIC PYTHON PROGRAMMING</strong>\n",
    "<hr style=`backgound-color:black;height:2px`>\n",
    "\n",
    "This part of the module is to present briefly some libraries we used in this to students. In case the students are confortable with these libraries, they can just skip this part."
   ]
  },
  {
   "cell_type": "markdown",
   "metadata": {},
   "source": [
    "<strong style=\"color:maroon\">SOME LIBRARIES WE USE IN THIS COURSE</strong>\n",
    "<hr style=`backgound-color:black;height:2px`>\n",
    "\n",
    "<ol>\n",
    "    <li><strong>Pandas:</strong></li>\n",
    "    <li><strong>Gensim:</strong></li>\n",
    "    <li><strong>Matplolib:</strong></li>\n",
    "    <li><strong>Tensorflow:<strong></li>\n",
    "    <li><strong>Keras:</strong></li>\n",
    "    \n",
    "</ol>"
   ]
  },
  {
   "cell_type": "markdown",
   "metadata": {},
   "source": [
    "<strong>SOLUTION TO THE HYPOTHESIS</strong>\n",
    "<hr style=`backgound-color:black;height:2px`>"
   ]
  },
  {
   "cell_type": "markdown",
   "metadata": {},
   "source": [
    "## HYPOTHESIS 1"
   ]
  },
  {
   "cell_type": "code",
   "execution_count": 1,
   "metadata": {},
   "outputs": [],
   "source": [
    "import pandas as pd \n",
    "from string import ascii_letters, punctuation\n",
    "pd.options.mode.chained_assignment = None\n",
    "import numpy as np \n",
    "from copy import deepcopy\n",
    "import re\n",
    "import string\n",
    "import seaborn as sb\n",
    "from string import punctuation\n",
    "from random import shuffle\n",
    "from sklearn.feature_extraction.text import TfidfVectorizer\n",
    "import warnings\n",
    "warnings.filterwarnings('ignore')\n",
    "from sklearn.model_selection import train_test_split\n",
    "import matplotlib.pyplot as plt\n",
    "from tqdm import tqdm\n",
    "tqdm.pandas(desc=\"progress-cleanning\")\n",
    "from sklearn.preprocessing import scale\n",
    "import gensim\n",
    "from nltk.tokenize import TweetTokenizer\n",
    "tokenizer = TweetTokenizer()\n",
    "import warnings\n",
    "warnings.filterwarnings('ignore')"
   ]
  },
  {
   "cell_type": "markdown",
   "metadata": {},
   "source": [
    "#### LOADING THE DATASET IN A DATAFRAME"
   ]
  },
  {
   "cell_type": "code",
   "execution_count": 2,
   "metadata": {},
   "outputs": [
    {
     "name": "stdout",
     "output_type": "stream",
     "text": [
      "dataset loaded with shape (2811774, 7)\n"
     ]
    }
   ],
   "source": [
    "def ingest(path):\n",
    "    data = pd.read_csv(path)\n",
    "    \n",
    "    data = data[data.text.isnull() == False]\n",
    "    data = data[data['text'].isnull() == False]\n",
    "    data.reset_index(inplace=True)\n",
    "    data.drop('index', axis=1, inplace=True)\n",
    "    print('dataset loaded with shape', data.shape)    \n",
    "    return data\n",
    "\n",
    "data = ingest('twcs.csv')"
   ]
  },
  {
   "cell_type": "code",
   "execution_count": 3,
   "metadata": {},
   "outputs": [
    {
     "name": "stdout",
     "output_type": "stream",
     "text": [
      "Found 787346 first inbound messages.\n",
      "Found 875292 responses.\n",
      "Found 794299 responses from companies.\n"
     ]
    }
   ],
   "source": [
    "# Pick only inbound tweets that aren't in reply to anything...\n",
    "first_inbound = data[pd.isnull(data.in_response_to_tweet_id) & data.inbound]\n",
    "print('Found {} first inbound messages.'.format(len(first_inbound)))\n",
    "\n",
    "# Merge in all tweets in response\n",
    "inbounds_and_outbounds = pd.merge(first_inbound, data, left_on='tweet_id', \n",
    "                                  right_on='in_response_to_tweet_id')\n",
    "print(\"Found {} responses.\".format(len(inbounds_and_outbounds)))\n",
    "\n",
    "# Filter out cases where reply tweet isn't from company\n",
    "inbounds_and_outbounds = inbounds_and_outbounds[inbounds_and_outbounds.inbound_y ^ True]\n",
    "\n",
    "print(\"Found {} responses from companies.\".format(len(inbounds_and_outbounds)))\n"
   ]
  },
  {
   "cell_type": "code",
   "execution_count": 4,
   "metadata": {},
   "outputs": [],
   "source": [
    "df=inbounds_and_outbounds"
   ]
  },
  {
   "cell_type": "code",
   "execution_count": 5,
   "metadata": {},
   "outputs": [],
   "source": [
    "df=df.drop_duplicates(['tweet_id_x'], keep='first')"
   ]
  },
  {
   "cell_type": "code",
   "execution_count": 6,
   "metadata": {},
   "outputs": [],
   "source": [
    "array=['AppleSupport','AmazonHelp','AskPlayStation','XboxSupport','TMobileHelp','Uber_Support' ]\n",
    "\n",
    "df.loc[df['author_id_y'].isin(array)]\n",
    "df=df.loc[df['author_id_y'].isin(array)]"
   ]
  },
  {
   "cell_type": "code",
   "execution_count": 7,
   "metadata": {},
   "outputs": [],
   "source": [
    "df['category_id'] = df['author_id_y'].factorize()[0]\n",
    "from io import StringIO\n",
    "category_id_df = df[['author_id_y', 'category_id']].drop_duplicates().sort_values('category_id')\n",
    "category_to_id = dict(category_id_df.values)\n",
    "id_to_category = dict(category_id_df[['category_id', 'author_id_y']].values)"
   ]
  },
  {
   "cell_type": "code",
   "execution_count": 8,
   "metadata": {
    "scrolled": true
   },
   "outputs": [
    {
     "data": {
      "image/png": "[encoded data removed]",
      "text/plain": [
       "<Figure size 576x432 with 1 Axes>"
      ]
     },
     "metadata": {},
     "output_type": "display_data"
    }
   ],
   "source": [
    "sb.set()\n",
    "fig = plt.figure(figsize=(8,6))\n",
    "ax=df.groupby('author_id_y').text_x.count().plot.bar(rot=0)\n",
    "ax.set_xlabel(\"Company Name\")\n",
    "ax.set_ylabel(\"Customer First Tweet\")\n",
    "plt.savefig('chart.jpg', bbox_inches = \"tight\")\n",
    "plt.show()"
   ]
  },
  {
   "cell_type": "code",
   "execution_count": 9,
   "metadata": {},
   "outputs": [
    {
     "data": {
      "text/plain": [
       "10817"
      ]
     },
     "execution_count": 9,
     "metadata": {},
     "output_type": "execute_result"
    }
   ],
   "source": [
    "df.groupby('author_id_y').text_x.count().min()"
   ]
  },
  {
   "cell_type": "code",
   "execution_count": 10,
   "metadata": {},
   "outputs": [],
   "source": [
    "def sampling_k_elements(group, k=10817):\n",
    "    if len(group) < k:\n",
    "        return group\n",
    "    return group.sample(k)\n",
    "\n",
    "balanced = df.groupby('author_id_y').apply(sampling_k_elements).reset_index(drop=True)"
   ]
  },
  {
   "cell_type": "code",
   "execution_count": 11,
   "metadata": {},
   "outputs": [
    {
     "data": {
      "image/png": "[encoded data removed]",
      "text/plain": [
       "<Figure size 576x432 with 1 Axes>"
      ]
     },
     "metadata": {},
     "output_type": "display_data"
    }
   ],
   "source": [
    "fig = plt.figure(figsize=(8,6))\n",
    "ax=balanced.groupby('author_id_y').text_x.count().plot.bar(rot=0)\n",
    "ax.set_xlabel(\"Company Name\")\n",
    "ax.set_ylabel(\"Customer First Tweet\")\n",
    "plt.savefig('balancechart.jpg', bbox_inches = \"tight\")\n",
    "plt.show()"
   ]
  },
  {
   "cell_type": "code",
   "execution_count": 12,
   "metadata": {},
   "outputs": [
    {
     "data": {
      "text/html": [
       "<div>\n",
       "<style scoped>\n",
       "    .dataframe tbody tr th:only-of-type {\n",
       "        vertical-align: middle;\n",
       "    }\n",
       "\n",
       "    .dataframe tbody tr th {\n",
       "        vertical-align: top;\n",
       "    }\n",
       "\n",
       "    .dataframe thead th {\n",
       "        text-align: right;\n",
       "    }\n",
       "</style>\n",
       "<table border=\"1\" class=\"dataframe\">\n",
       "  <thead>\n",
       "    <tr style=\"text-align: right;\">\n",
       "      <th></th>\n",
       "      <th>created_at_x</th>\n",
       "      <th>created_at_y</th>\n",
       "    </tr>\n",
       "  </thead>\n",
       "  <tbody>\n",
       "    <tr>\n",
       "      <th>0</th>\n",
       "      <td>Fri Oct 27 19:10:05 +0000 2017</td>\n",
       "      <td>Fri Oct 27 19:34:29 +0000 2017</td>\n",
       "    </tr>\n",
       "    <tr>\n",
       "      <th>1</th>\n",
       "      <td>Sat Dec 02 14:16:18 +0000 2017</td>\n",
       "      <td>Sat Dec 02 14:21:00 +0000 2017</td>\n",
       "    </tr>\n",
       "  </tbody>\n",
       "</table>\n",
       "</div>"
      ],
      "text/plain": [
       "                     created_at_x                    created_at_y\n",
       "0  Fri Oct 27 19:10:05 +0000 2017  Fri Oct 27 19:34:29 +0000 2017\n",
       "1  Sat Dec 02 14:16:18 +0000 2017  Sat Dec 02 14:21:00 +0000 2017"
      ]
     },
     "execution_count": 12,
     "metadata": {},
     "output_type": "execute_result"
    }
   ],
   "source": [
    "balanced[['created_at_x','created_at_y']].head(2)"
   ]
  },
  {
   "cell_type": "code",
   "execution_count": 13,
   "metadata": {},
   "outputs": [],
   "source": [
    "balanced['time_created_at_x']=pd.to_datetime(balanced[\"created_at_x\"], format=\"%a %b %d %H:%M:%S +0000 %Y\")"
   ]
  },
  {
   "cell_type": "code",
   "execution_count": 14,
   "metadata": {},
   "outputs": [],
   "source": [
    "balanced['time_created_at_y']=pd.to_datetime(balanced[\"created_at_y\"], format=\"%a %b %d %H:%M:%S +0000 %Y\")"
   ]
  },
  {
   "cell_type": "code",
   "execution_count": 15,
   "metadata": {},
   "outputs": [
    {
     "data": {
      "text/html": [
       "<div>\n",
       "<style scoped>\n",
       "    .dataframe tbody tr th:only-of-type {\n",
       "        vertical-align: middle;\n",
       "    }\n",
       "\n",
       "    .dataframe tbody tr th {\n",
       "        vertical-align: top;\n",
       "    }\n",
       "\n",
       "    .dataframe thead th {\n",
       "        text-align: right;\n",
       "    }\n",
       "</style>\n",
       "<table border=\"1\" class=\"dataframe\">\n",
       "  <thead>\n",
       "    <tr style=\"text-align: right;\">\n",
       "      <th></th>\n",
       "      <th>created_at_x</th>\n",
       "      <th>time_created_at_x</th>\n",
       "    </tr>\n",
       "  </thead>\n",
       "  <tbody>\n",
       "    <tr>\n",
       "      <th>0</th>\n",
       "      <td>Fri Oct 27 19:10:05 +0000 2017</td>\n",
       "      <td>2017-10-27 19:10:05</td>\n",
       "    </tr>\n",
       "    <tr>\n",
       "      <th>1</th>\n",
       "      <td>Sat Dec 02 14:16:18 +0000 2017</td>\n",
       "      <td>2017-12-02 14:16:18</td>\n",
       "    </tr>\n",
       "  </tbody>\n",
       "</table>\n",
       "</div>"
      ],
      "text/plain": [
       "                     created_at_x   time_created_at_x\n",
       "0  Fri Oct 27 19:10:05 +0000 2017 2017-10-27 19:10:05\n",
       "1  Sat Dec 02 14:16:18 +0000 2017 2017-12-02 14:16:18"
      ]
     },
     "execution_count": 15,
     "metadata": {},
     "output_type": "execute_result"
    }
   ],
   "source": [
    "balanced[['created_at_x','time_created_at_x']].head(2)"
   ]
  },
  {
   "cell_type": "code",
   "execution_count": 16,
   "metadata": {},
   "outputs": [
    {
     "data": {
      "text/plain": [
       "0    1464.0\n",
       "1     282.0\n",
       "Name: response_time, dtype: float64"
      ]
     },
     "execution_count": 16,
     "metadata": {},
     "output_type": "execute_result"
    }
   ],
   "source": [
    "time=balanced['time_created_at_y']-balanced['time_created_at_x']\n",
    "balanced['response_time']=time.dt.total_seconds()\n",
    "balanced['response_time'].head(2)"
   ]
  },
  {
   "cell_type": "code",
   "execution_count": 17,
   "metadata": {},
   "outputs": [
    {
     "data": {
      "text/plain": [
       "11559.834827894363"
      ]
     },
     "execution_count": 17,
     "metadata": {},
     "output_type": "execute_result"
    }
   ],
   "source": [
    "balanced['response_time'].mean()"
   ]
  },
  {
   "cell_type": "code",
   "execution_count": 18,
   "metadata": {},
   "outputs": [
    {
     "data": {
      "image/png": "[encoded data removed]",
      "text/plain": [
       "<Figure size 576x432 with 1 Axes>"
      ]
     },
     "metadata": {},
     "output_type": "display_data"
    }
   ],
   "source": [
    "fig = plt.figure(figsize=(8,6))\n",
    "ax=balanced.groupby('author_id_y').response_time.mean().plot.bar(rot=0)\n",
    "ax.set_xlabel(\"Company Name\")\n",
    "ax.set_ylabel(\"Mean Response Time (s)\")\n",
    "plt.savefig('response.jpg', bbox_inches = \"tight\")\n",
    "plt.show()"
   ]
  },
  {
   "cell_type": "markdown",
   "metadata": {},
   "source": [
    "## HYPOTHESIS 2"
   ]
  },
  {
   "cell_type": "code",
   "execution_count": 19,
   "metadata": {},
   "outputs": [
    {
     "data": {
      "text/plain": [
       "Index(['tweet_id_x', 'author_id_x', 'inbound_x', 'created_at_x', 'text_x',\n",
       "       'response_tweet_id_x', 'in_response_to_tweet_id_x', 'tweet_id_y',\n",
       "       'author_id_y', 'inbound_y', 'created_at_y', 'text_y',\n",
       "       'response_tweet_id_y', 'in_response_to_tweet_id_y', 'category_id',\n",
       "       'time_created_at_x', 'time_created_at_y', 'response_time'],\n",
       "      dtype='object')"
      ]
     },
     "execution_count": 19,
     "metadata": {},
     "output_type": "execute_result"
    }
   ],
   "source": [
    "balanced.columns"
   ]
  },
  {
   "cell_type": "code",
   "execution_count": 20,
   "metadata": {},
   "outputs": [
    {
     "data": {
      "text/html": [
       "<div>\n",
       "<style scoped>\n",
       "    .dataframe tbody tr th:only-of-type {\n",
       "        vertical-align: middle;\n",
       "    }\n",
       "\n",
       "    .dataframe tbody tr th {\n",
       "        vertical-align: top;\n",
       "    }\n",
       "\n",
       "    .dataframe thead th {\n",
       "        text-align: right;\n",
       "    }\n",
       "</style>\n",
       "<table border=\"1\" class=\"dataframe\">\n",
       "  <thead>\n",
       "    <tr style=\"text-align: right;\">\n",
       "      <th></th>\n",
       "      <th>text_x</th>\n",
       "      <th>response_time</th>\n",
       "    </tr>\n",
       "  </thead>\n",
       "  <tbody>\n",
       "    <tr>\n",
       "      <th>0</th>\n",
       "      <td>Santa @117086 !!!\\nEstava atras desses livros ...</td>\n",
       "      <td>1464.0</td>\n",
       "    </tr>\n",
       "  </tbody>\n",
       "</table>\n",
       "</div>"
      ],
      "text/plain": [
       "                                              text_x  response_time\n",
       "0  Santa @117086 !!!\\nEstava atras desses livros ...         1464.0"
      ]
     },
     "execution_count": 20,
     "metadata": {},
     "output_type": "execute_result"
    }
   ],
   "source": [
    "balanced[[\"text_x\",\"response_time\"]].head(1)"
   ]
  },
  {
   "cell_type": "markdown",
   "metadata": {},
   "source": [
    "#### SPECIAL CHARACTERS & LANGUAGE FILTERING"
   ]
  },
  {
   "cell_type": "code",
   "execution_count": 21,
   "metadata": {},
   "outputs": [],
   "source": [
    "# Apply a first round of text cleaning techniques\n",
    "import re\n",
    "import string\n",
    "\n",
    "def clean_text_round1(text):\n",
    "    text = text.lower()\n",
    "    text = re.sub('\\[.*?\\]', ' ', text)\n",
    "    text = re.sub('[%s]' % re.escape(string.punctuation), ' ', text)\n",
    "    text = re.sub('\\w*\\d\\w*', ' ', text)\n",
    "    return text"
   ]
  },
  {
   "cell_type": "code",
   "execution_count": 22,
   "metadata": {},
   "outputs": [],
   "source": [
    "# Apply a second round of cleaning\n",
    "def clean_text_round2(text):\n",
    "    '''Get rid of some additional punctuation and non-sensical text that was missed in the first time around.'''\n",
    "    text = re.sub('[‘’“”…]', ' ', text)\n",
    "    text = re.sub('\\n', ' ', text)\n",
    "    return text"
   ]
  },
  {
   "cell_type": "code",
   "execution_count": 23,
   "metadata": {},
   "outputs": [],
   "source": [
    "from langdetect import detect\n",
    "stop_words=[]\n",
    "def tokenize(tweet):\n",
    "    try:\n",
    "        if detect(tweet)==\"en\":\n",
    "                tweet=clean_text_round1(tweet)\n",
    "                tweet=clean_text_round2(tweet)\n",
    "                \n",
    "                #creating tokens for each tweet\n",
    "                tokens = tokenizer.tokenize(tweet.lower())\n",
    "                #Removing te stop words from the tweet\n",
    "                tokens=[w for w in tokens if not w in stop_words]\n",
    "                #Removing the htag of the company\n",
    "                others_word_to_remove=['applesupport','tmobilehelp','ubersupport','xboxsupport','amazonhelp','askplaystation']\n",
    "                tokens=[w for w in tokens if not w in others_word_to_remove]\n",
    "                #Removing special characters such as kanjis from the tokens\n",
    "                allowed = set(ascii_letters)\n",
    "                tokens=[word for word in tokens if any(letter in allowed for letter in word)]\n",
    "\n",
    "                try:\n",
    "                    #We used this filter function to remove all tokens starting with these charaters \n",
    "                    #in order to delete information such as URL username ,link and htags\n",
    "                    tokens = list(filter(lambda t: not t.startswith('@'), tokens))\n",
    "                    tokens = list(filter(lambda t: not t.startswith('#'), tokens))\n",
    "                    tokens = list(filter(lambda t: not t.startswith('http'), tokens))\n",
    "                    tokens = list(filter(lambda t: not t.startswith('www'), tokens))\n",
    "                    # Since the tokens contain a list of word for each tweet, we reconstruct the tweet by using the function join\n",
    "                    return \" \".join(tokens)\n",
    "                except:\n",
    "                    return 'NC'\n",
    "    except:\n",
    "        pass"
   ]
  },
  {
   "cell_type": "code",
   "execution_count": 24,
   "metadata": {},
   "outputs": [
    {
     "data": {
      "text/plain": [
       "(64902, 18)"
      ]
     },
     "execution_count": 24,
     "metadata": {},
     "output_type": "execute_result"
    }
   ],
   "source": [
    "balanced.shape"
   ]
  },
  {
   "cell_type": "code",
   "execution_count": 25,
   "metadata": {},
   "outputs": [
    {
     "name": "stderr",
     "output_type": "stream",
     "text": [
      "progress-cleanning: 100%|███████████████████████████████████████████████████████| 64902/64902 [09:35<00:00, 112.87it/s]\n"
     ]
    }
   ],
   "source": [
    "def postprocess(data, n=64902):\n",
    "    data = data.head(n)\n",
    "    data['cleaned_tweet'] = data['text_x'].progress_map(tokenize)\n",
    "    data = data[data.cleaned_tweet != 'NC']\n",
    "    data.reset_index(inplace=True)\n",
    "    \n",
    "    return data\n",
    "data_clean = postprocess(balanced)"
   ]
  },
  {
   "cell_type": "code",
   "execution_count": 26,
   "metadata": {},
   "outputs": [],
   "source": [
    "data_to_save=data_clean[data_clean['cleaned_tweet'].isnull() == False]"
   ]
  },
  {
   "cell_type": "code",
   "execution_count": 27,
   "metadata": {},
   "outputs": [
    {
     "data": {
      "text/html": [
       "<div>\n",
       "<style scoped>\n",
       "    .dataframe tbody tr th:only-of-type {\n",
       "        vertical-align: middle;\n",
       "    }\n",
       "\n",
       "    .dataframe tbody tr th {\n",
       "        vertical-align: top;\n",
       "    }\n",
       "\n",
       "    .dataframe thead th {\n",
       "        text-align: right;\n",
       "    }\n",
       "</style>\n",
       "<table border=\"1\" class=\"dataframe\">\n",
       "  <thead>\n",
       "    <tr style=\"text-align: right;\">\n",
       "      <th></th>\n",
       "      <th>text_x</th>\n",
       "      <th>cleaned_tweet</th>\n",
       "    </tr>\n",
       "  </thead>\n",
       "  <tbody>\n",
       "    <tr>\n",
       "      <th>1</th>\n",
       "      <td>Everyone should cancel @115821 prime his time of year and just use their regular free shipping. You're not going to 2 days shipping this time of year anyway. #fail #canthandletheseason #amazonwasniceonce</td>\n",
       "      <td>everyone should cancel prime his time of year and just use their regular free shipping you re not going to days shipping this time of year anyway fail canthandletheseason amazonwasniceonce</td>\n",
       "    </tr>\n",
       "  </tbody>\n",
       "</table>\n",
       "</div>"
      ],
      "text/plain": [
       "                                                                                                                                                                                                        text_x  \\\n",
       "1  Everyone should cancel @115821 prime his time of year and just use their regular free shipping. You're not going to 2 days shipping this time of year anyway. #fail #canthandletheseason #amazonwasniceonce   \n",
       "\n",
       "                                                                                                                                                                                  cleaned_tweet  \n",
       "1  everyone should cancel prime his time of year and just use their regular free shipping you re not going to days shipping this time of year anyway fail canthandletheseason amazonwasniceonce  "
      ]
     },
     "execution_count": 27,
     "metadata": {},
     "output_type": "execute_result"
    }
   ],
   "source": [
    "pd.set_option('display.max_colwidth', -1)\n",
    "data_to_save[[\"text_x\",\"cleaned_tweet\"]].head(1)"
   ]
  },
  {
   "cell_type": "code",
   "execution_count": 28,
   "metadata": {},
   "outputs": [
    {
     "data": {
      "text/html": [
       "<div>\n",
       "<style scoped>\n",
       "    .dataframe tbody tr th:only-of-type {\n",
       "        vertical-align: middle;\n",
       "    }\n",
       "\n",
       "    .dataframe tbody tr th {\n",
       "        vertical-align: top;\n",
       "    }\n",
       "\n",
       "    .dataframe thead th {\n",
       "        text-align: right;\n",
       "    }\n",
       "</style>\n",
       "<table border=\"1\" class=\"dataframe\">\n",
       "  <thead>\n",
       "    <tr style=\"text-align: right;\">\n",
       "      <th></th>\n",
       "      <th>cleaned_tweet</th>\n",
       "      <th>response_time</th>\n",
       "    </tr>\n",
       "  </thead>\n",
       "  <tbody>\n",
       "    <tr>\n",
       "      <th>1</th>\n",
       "      <td>everyone should cancel prime his time of year and just use their regular free shipping you re not going to days shipping this time of year anyway fail canthandletheseason amazonwasniceonce</td>\n",
       "      <td>282.0</td>\n",
       "    </tr>\n",
       "  </tbody>\n",
       "</table>\n",
       "</div>"
      ],
      "text/plain": [
       "                                                                                                                                                                                  cleaned_tweet  \\\n",
       "1  everyone should cancel prime his time of year and just use their regular free shipping you re not going to days shipping this time of year anyway fail canthandletheseason amazonwasniceonce   \n",
       "\n",
       "   response_time  \n",
       "1  282.0          "
      ]
     },
     "execution_count": 28,
     "metadata": {},
     "output_type": "execute_result"
    }
   ],
   "source": [
    "data_to_save[[\"cleaned_tweet\",\"response_time\"]].head(1)"
   ]
  },
  {
   "cell_type": "markdown",
   "metadata": {},
   "source": [
    "### Let create de function the tweet annotation\n",
    "\n",
    "Here we will use a library calles TextBlob which can be install through the following command: <strong>pip install textblob </strong>"
   ]
  },
  {
   "cell_type": "code",
   "execution_count": 29,
   "metadata": {},
   "outputs": [],
   "source": [
    "from textblob import TextBlob\n",
    "def annotator(tweet):\n",
    "    blob=TextBlob(tweet)\n",
    "    if blob.sentiment.polarity>0.5:\n",
    "        return \"positive\"\n",
    "    else:\n",
    "        return \"negative\""
   ]
  },
  {
   "cell_type": "code",
   "execution_count": 30,
   "metadata": {},
   "outputs": [
    {
     "name": "stderr",
     "output_type": "stream",
     "text": [
      "progress-cleanning: 100%|██████████████████████████████████████████████████████| 59716/59716 [00:19<00:00, 3109.00it/s]\n"
     ]
    }
   ],
   "source": [
    "def annotationprocess(data, n=59761):\n",
    "    data = data.head(n)\n",
    "    data['category'] = data['cleaned_tweet'].progress_map(annotator)\n",
    "    data.reset_index(inplace=True)\n",
    "    return data\n",
    "data_annotated = annotationprocess(data_to_save)"
   ]
  },
  {
   "cell_type": "code",
   "execution_count": 31,
   "metadata": {},
   "outputs": [
    {
     "data": {
      "text/plain": [
       "Index(['level_0', 'index', 'tweet_id_x', 'author_id_x', 'inbound_x',\n",
       "       'created_at_x', 'text_x', 'response_tweet_id_x',\n",
       "       'in_response_to_tweet_id_x', 'tweet_id_y', 'author_id_y', 'inbound_y',\n",
       "       'created_at_y', 'text_y', 'response_tweet_id_y',\n",
       "       'in_response_to_tweet_id_y', 'category_id', 'time_created_at_x',\n",
       "       'time_created_at_y', 'response_time', 'cleaned_tweet', 'category'],\n",
       "      dtype='object')"
      ]
     },
     "execution_count": 31,
     "metadata": {},
     "output_type": "execute_result"
    }
   ],
   "source": [
    "data_annotated.columns"
   ]
  },
  {
   "cell_type": "code",
   "execution_count": 32,
   "metadata": {},
   "outputs": [
    {
     "data": {
      "text/html": [
       "<div>\n",
       "<style scoped>\n",
       "    .dataframe tbody tr th:only-of-type {\n",
       "        vertical-align: middle;\n",
       "    }\n",
       "\n",
       "    .dataframe tbody tr th {\n",
       "        vertical-align: top;\n",
       "    }\n",
       "\n",
       "    .dataframe thead th {\n",
       "        text-align: right;\n",
       "    }\n",
       "</style>\n",
       "<table border=\"1\" class=\"dataframe\">\n",
       "  <thead>\n",
       "    <tr style=\"text-align: right;\">\n",
       "      <th></th>\n",
       "      <th>cleaned_tweet</th>\n",
       "      <th>category</th>\n",
       "      <th>response_time</th>\n",
       "      <th>author_id_y</th>\n",
       "    </tr>\n",
       "  </thead>\n",
       "  <tbody>\n",
       "    <tr>\n",
       "      <th>0</th>\n",
       "      <td>everyone should cancel prime his time of year and just use their regular free shipping you re not going to days shipping this time of year anyway fail canthandletheseason amazonwasniceonce</td>\n",
       "      <td>negative</td>\n",
       "      <td>282.0</td>\n",
       "      <td>AmazonHelp</td>\n",
       "    </tr>\n",
       "    <tr>\n",
       "      <th>1</th>\n",
       "      <td>i m having major account problems and need help asap i can t find any way of contacting you can you give me a phone number</td>\n",
       "      <td>negative</td>\n",
       "      <td>270.0</td>\n",
       "      <td>AmazonHelp</td>\n",
       "    </tr>\n",
       "    <tr>\n",
       "      <th>2</th>\n",
       "      <td>order is my orderid worst service i have ever experienced shipment didnt deliver and its been a month</td>\n",
       "      <td>negative</td>\n",
       "      <td>1712.0</td>\n",
       "      <td>AmazonHelp</td>\n",
       "    </tr>\n",
       "    <tr>\n",
       "      <th>3</th>\n",
       "      <td>need a revert urgently</td>\n",
       "      <td>negative</td>\n",
       "      <td>603.0</td>\n",
       "      <td>AmazonHelp</td>\n",
       "    </tr>\n",
       "    <tr>\n",
       "      <th>4</th>\n",
       "      <td>when the delivery guy pisses on your stairs on his way out right as you arrive home with toddler and groceries in tow wtf t co bqubpxzgvs</td>\n",
       "      <td>negative</td>\n",
       "      <td>1574.0</td>\n",
       "      <td>AmazonHelp</td>\n",
       "    </tr>\n",
       "  </tbody>\n",
       "</table>\n",
       "</div>"
      ],
      "text/plain": [
       "                                                                                                                                                                                  cleaned_tweet  \\\n",
       "0  everyone should cancel prime his time of year and just use their regular free shipping you re not going to days shipping this time of year anyway fail canthandletheseason amazonwasniceonce   \n",
       "1  i m having major account problems and need help asap i can t find any way of contacting you can you give me a phone number                                                                     \n",
       "2  order is my orderid worst service i have ever experienced shipment didnt deliver and its been a month                                                                                          \n",
       "3  need a revert urgently                                                                                                                                                                         \n",
       "4  when the delivery guy pisses on your stairs on his way out right as you arrive home with toddler and groceries in tow wtf t co bqubpxzgvs                                                      \n",
       "\n",
       "   category  response_time author_id_y  \n",
       "0  negative  282.0          AmazonHelp  \n",
       "1  negative  270.0          AmazonHelp  \n",
       "2  negative  1712.0         AmazonHelp  \n",
       "3  negative  603.0          AmazonHelp  \n",
       "4  negative  1574.0         AmazonHelp  "
      ]
     },
     "execution_count": 32,
     "metadata": {},
     "output_type": "execute_result"
    }
   ],
   "source": [
    "data_annotated[[\"cleaned_tweet\",\"category\", \"response_time\",\"author_id_y\"]].head()"
   ]
  },
  {
   "cell_type": "markdown",
   "metadata": {},
   "source": [
    "Positive per Company / Negative per Company"
   ]
  },
  {
   "cell_type": "code",
   "execution_count": 33,
   "metadata": {},
   "outputs": [],
   "source": [
    "group_company=data_annotated.groupby(['author_id_y','category'])[\"category\"].count().reset_index(name=\"count\")"
   ]
  },
  {
   "cell_type": "code",
   "execution_count": 34,
   "metadata": {},
   "outputs": [
    {
     "data": {
      "text/html": [
       "<div>\n",
       "<style scoped>\n",
       "    .dataframe tbody tr th:only-of-type {\n",
       "        vertical-align: middle;\n",
       "    }\n",
       "\n",
       "    .dataframe tbody tr th {\n",
       "        vertical-align: top;\n",
       "    }\n",
       "\n",
       "    .dataframe thead th {\n",
       "        text-align: right;\n",
       "    }\n",
       "</style>\n",
       "<table border=\"1\" class=\"dataframe\">\n",
       "  <thead>\n",
       "    <tr style=\"text-align: right;\">\n",
       "      <th></th>\n",
       "      <th>author_id_y</th>\n",
       "      <th>category</th>\n",
       "      <th>count</th>\n",
       "    </tr>\n",
       "  </thead>\n",
       "  <tbody>\n",
       "    <tr>\n",
       "      <th>0</th>\n",
       "      <td>AmazonHelp</td>\n",
       "      <td>negative</td>\n",
       "      <td>7831</td>\n",
       "    </tr>\n",
       "    <tr>\n",
       "      <th>1</th>\n",
       "      <td>AmazonHelp</td>\n",
       "      <td>positive</td>\n",
       "      <td>231</td>\n",
       "    </tr>\n",
       "    <tr>\n",
       "      <th>2</th>\n",
       "      <td>AppleSupport</td>\n",
       "      <td>negative</td>\n",
       "      <td>10282</td>\n",
       "    </tr>\n",
       "    <tr>\n",
       "      <th>3</th>\n",
       "      <td>AppleSupport</td>\n",
       "      <td>positive</td>\n",
       "      <td>133</td>\n",
       "    </tr>\n",
       "    <tr>\n",
       "      <th>4</th>\n",
       "      <td>AskPlayStation</td>\n",
       "      <td>negative</td>\n",
       "      <td>9638</td>\n",
       "    </tr>\n",
       "    <tr>\n",
       "      <th>5</th>\n",
       "      <td>AskPlayStation</td>\n",
       "      <td>positive</td>\n",
       "      <td>124</td>\n",
       "    </tr>\n",
       "    <tr>\n",
       "      <th>6</th>\n",
       "      <td>TMobileHelp</td>\n",
       "      <td>negative</td>\n",
       "      <td>10151</td>\n",
       "    </tr>\n",
       "    <tr>\n",
       "      <th>7</th>\n",
       "      <td>TMobileHelp</td>\n",
       "      <td>positive</td>\n",
       "      <td>330</td>\n",
       "    </tr>\n",
       "    <tr>\n",
       "      <th>8</th>\n",
       "      <td>Uber_Support</td>\n",
       "      <td>negative</td>\n",
       "      <td>10430</td>\n",
       "    </tr>\n",
       "    <tr>\n",
       "      <th>9</th>\n",
       "      <td>Uber_Support</td>\n",
       "      <td>positive</td>\n",
       "      <td>181</td>\n",
       "    </tr>\n",
       "    <tr>\n",
       "      <th>10</th>\n",
       "      <td>XboxSupport</td>\n",
       "      <td>negative</td>\n",
       "      <td>10214</td>\n",
       "    </tr>\n",
       "    <tr>\n",
       "      <th>11</th>\n",
       "      <td>XboxSupport</td>\n",
       "      <td>positive</td>\n",
       "      <td>171</td>\n",
       "    </tr>\n",
       "  </tbody>\n",
       "</table>\n",
       "</div>"
      ],
      "text/plain": [
       "       author_id_y  category  count\n",
       "0   AmazonHelp      negative  7831 \n",
       "1   AmazonHelp      positive  231  \n",
       "2   AppleSupport    negative  10282\n",
       "3   AppleSupport    positive  133  \n",
       "4   AskPlayStation  negative  9638 \n",
       "5   AskPlayStation  positive  124  \n",
       "6   TMobileHelp     negative  10151\n",
       "7   TMobileHelp     positive  330  \n",
       "8   Uber_Support    negative  10430\n",
       "9   Uber_Support    positive  181  \n",
       "10  XboxSupport     negative  10214\n",
       "11  XboxSupport     positive  171  "
      ]
     },
     "execution_count": 34,
     "metadata": {},
     "output_type": "execute_result"
    }
   ],
   "source": [
    "group_company"
   ]
  },
  {
   "cell_type": "code",
   "execution_count": 35,
   "metadata": {},
   "outputs": [],
   "source": [
    "positive_df=group_company.loc[group_company[\"category\"]==\"positive\"]\n",
    "negative_df=group_company.loc[group_company[\"category\"]==\"negative\"]"
   ]
  },
  {
   "cell_type": "code",
   "execution_count": 36,
   "metadata": {},
   "outputs": [
    {
     "data": {
      "text/html": [
       "<div>\n",
       "<style scoped>\n",
       "    .dataframe tbody tr th:only-of-type {\n",
       "        vertical-align: middle;\n",
       "    }\n",
       "\n",
       "    .dataframe tbody tr th {\n",
       "        vertical-align: top;\n",
       "    }\n",
       "\n",
       "    .dataframe thead th {\n",
       "        text-align: right;\n",
       "    }\n",
       "</style>\n",
       "<table border=\"1\" class=\"dataframe\">\n",
       "  <thead>\n",
       "    <tr style=\"text-align: right;\">\n",
       "      <th></th>\n",
       "      <th>author_id_y</th>\n",
       "      <th>category</th>\n",
       "      <th>count</th>\n",
       "    </tr>\n",
       "  </thead>\n",
       "  <tbody>\n",
       "    <tr>\n",
       "      <th>1</th>\n",
       "      <td>AmazonHelp</td>\n",
       "      <td>positive</td>\n",
       "      <td>231</td>\n",
       "    </tr>\n",
       "    <tr>\n",
       "      <th>3</th>\n",
       "      <td>AppleSupport</td>\n",
       "      <td>positive</td>\n",
       "      <td>133</td>\n",
       "    </tr>\n",
       "    <tr>\n",
       "      <th>5</th>\n",
       "      <td>AskPlayStation</td>\n",
       "      <td>positive</td>\n",
       "      <td>124</td>\n",
       "    </tr>\n",
       "    <tr>\n",
       "      <th>7</th>\n",
       "      <td>TMobileHelp</td>\n",
       "      <td>positive</td>\n",
       "      <td>330</td>\n",
       "    </tr>\n",
       "    <tr>\n",
       "      <th>9</th>\n",
       "      <td>Uber_Support</td>\n",
       "      <td>positive</td>\n",
       "      <td>181</td>\n",
       "    </tr>\n",
       "    <tr>\n",
       "      <th>11</th>\n",
       "      <td>XboxSupport</td>\n",
       "      <td>positive</td>\n",
       "      <td>171</td>\n",
       "    </tr>\n",
       "  </tbody>\n",
       "</table>\n",
       "</div>"
      ],
      "text/plain": [
       "       author_id_y  category  count\n",
       "1   AmazonHelp      positive  231  \n",
       "3   AppleSupport    positive  133  \n",
       "5   AskPlayStation  positive  124  \n",
       "7   TMobileHelp     positive  330  \n",
       "9   Uber_Support    positive  181  \n",
       "11  XboxSupport     positive  171  "
      ]
     },
     "execution_count": 36,
     "metadata": {},
     "output_type": "execute_result"
    }
   ],
   "source": [
    "positive_df"
   ]
  },
  {
   "cell_type": "code",
   "execution_count": 37,
   "metadata": {},
   "outputs": [
    {
     "data": {
      "text/html": [
       "<div>\n",
       "<style scoped>\n",
       "    .dataframe tbody tr th:only-of-type {\n",
       "        vertical-align: middle;\n",
       "    }\n",
       "\n",
       "    .dataframe tbody tr th {\n",
       "        vertical-align: top;\n",
       "    }\n",
       "\n",
       "    .dataframe thead th {\n",
       "        text-align: right;\n",
       "    }\n",
       "</style>\n",
       "<table border=\"1\" class=\"dataframe\">\n",
       "  <thead>\n",
       "    <tr style=\"text-align: right;\">\n",
       "      <th></th>\n",
       "      <th>author_id_y</th>\n",
       "      <th>category</th>\n",
       "      <th>count</th>\n",
       "    </tr>\n",
       "  </thead>\n",
       "  <tbody>\n",
       "    <tr>\n",
       "      <th>0</th>\n",
       "      <td>AmazonHelp</td>\n",
       "      <td>negative</td>\n",
       "      <td>7831</td>\n",
       "    </tr>\n",
       "    <tr>\n",
       "      <th>2</th>\n",
       "      <td>AppleSupport</td>\n",
       "      <td>negative</td>\n",
       "      <td>10282</td>\n",
       "    </tr>\n",
       "    <tr>\n",
       "      <th>4</th>\n",
       "      <td>AskPlayStation</td>\n",
       "      <td>negative</td>\n",
       "      <td>9638</td>\n",
       "    </tr>\n",
       "    <tr>\n",
       "      <th>6</th>\n",
       "      <td>TMobileHelp</td>\n",
       "      <td>negative</td>\n",
       "      <td>10151</td>\n",
       "    </tr>\n",
       "    <tr>\n",
       "      <th>8</th>\n",
       "      <td>Uber_Support</td>\n",
       "      <td>negative</td>\n",
       "      <td>10430</td>\n",
       "    </tr>\n",
       "    <tr>\n",
       "      <th>10</th>\n",
       "      <td>XboxSupport</td>\n",
       "      <td>negative</td>\n",
       "      <td>10214</td>\n",
       "    </tr>\n",
       "  </tbody>\n",
       "</table>\n",
       "</div>"
      ],
      "text/plain": [
       "       author_id_y  category  count\n",
       "0   AmazonHelp      negative  7831 \n",
       "2   AppleSupport    negative  10282\n",
       "4   AskPlayStation  negative  9638 \n",
       "6   TMobileHelp     negative  10151\n",
       "8   Uber_Support    negative  10430\n",
       "10  XboxSupport     negative  10214"
      ]
     },
     "execution_count": 37,
     "metadata": {},
     "output_type": "execute_result"
    }
   ],
   "source": [
    "negative_df"
   ]
  },
  {
   "cell_type": "code",
   "execution_count": 38,
   "metadata": {},
   "outputs": [],
   "source": [
    "positive=tuple(positive_df[\"count\"].tolist())\n",
    "negative=tuple(negative_df[\"count\"].tolist())\n",
    "company_name=tuple(positive_df[\"author_id_y\"].tolist())"
   ]
  },
  {
   "cell_type": "code",
   "execution_count": 39,
   "metadata": {},
   "outputs": [
    {
     "data": {
      "text/plain": [
       "(231, 133, 124, 330, 181, 171)"
      ]
     },
     "execution_count": 39,
     "metadata": {},
     "output_type": "execute_result"
    }
   ],
   "source": [
    "positive"
   ]
  },
  {
   "cell_type": "code",
   "execution_count": 40,
   "metadata": {},
   "outputs": [
    {
     "data": {
      "text/plain": [
       "(7831, 10282, 9638, 10151, 10430, 10214)"
      ]
     },
     "execution_count": 40,
     "metadata": {},
     "output_type": "execute_result"
    }
   ],
   "source": [
    "negative"
   ]
  },
  {
   "cell_type": "code",
   "execution_count": 41,
   "metadata": {},
   "outputs": [
    {
     "data": {
      "text/plain": [
       "('AmazonHelp',\n",
       " 'AppleSupport',\n",
       " 'AskPlayStation',\n",
       " 'TMobileHelp',\n",
       " 'Uber_Support',\n",
       " 'XboxSupport')"
      ]
     },
     "execution_count": 41,
     "metadata": {},
     "output_type": "execute_result"
    }
   ],
   "source": [
    "company_name"
   ]
  },
  {
   "cell_type": "code",
   "execution_count": 42,
   "metadata": {},
   "outputs": [
    {
     "data": {
      "image/png": "[encoded data removed]",
      "text/plain": [
       "<Figure size 432x288 with 1 Axes>"
      ]
     },
     "metadata": {},
     "output_type": "display_data"
    }
   ],
   "source": [
    "ind = np.arange(len(company_name))  # the x locations for the groups\n",
    "width = 0.35  # the width of the bars\n",
    "\n",
    "fig, ax = plt.subplots()\n",
    "rects1 = ax.bar(ind - width/2, positive, width,color='Green', label='Positive')\n",
    "\n",
    "rects2 = ax.bar(ind + width/2, negative, width, color='Red', label='Negative')\n",
    "\n",
    "# Add some text for labels, title and custom x-axis tick labels, etc.\n",
    "ax.set_ylabel('Sentiment')\n",
    "ax.set_xlabel('Company Name')\n",
    "\n",
    "ax.set_xticks(ind)\n",
    "ax.set_xticklabels(company_name)\n",
    "ax.legend()\n",
    "\n",
    "\n",
    "def autolabel(rects, xpos='center'):\n",
    "    xpos = xpos.lower() \n",
    "    ha = {'center': 'center', 'right': 'left', 'left': 'right'}\n",
    "    offset = {'center': 0.5, 'right': 0.57, 'left': 0.43} \n",
    "\n",
    "    for rect in rects:\n",
    "        height = rect.get_height()\n",
    "        ax.text(rect.get_x() + rect.get_width()*offset[xpos], 1.01*height,\n",
    "                '{}'.format(height), ha=ha[xpos], va='bottom')\n",
    "\n",
    "\n",
    "autolabel(rects1, \"left\")\n",
    "autolabel(rects2, \"right\")\n",
    "plt.xticks(rotation=25)\n",
    "plt.savefig('sentiment.jpg', bbox_inches = \"tight\")\n",
    "plt.show()"
   ]
  },
  {
   "cell_type": "markdown",
   "metadata": {},
   "source": [
    "# HPOTHSIS 3\n"
   ]
  },
  {
   "cell_type": "markdown",
   "metadata": {},
   "source": [
    "Let create a function to assign the label <strong> bad </strong> if the response time is larger than the mean and <strong> good </strong> if it smaler than the mean."
   ]
  },
  {
   "cell_type": "code",
   "execution_count": 43,
   "metadata": {},
   "outputs": [
    {
     "data": {
      "text/plain": [
       "(59716, 22)"
      ]
     },
     "execution_count": 43,
     "metadata": {},
     "output_type": "execute_result"
    }
   ],
   "source": [
    "data_annotated.shape"
   ]
  },
  {
   "cell_type": "code",
   "execution_count": 44,
   "metadata": {},
   "outputs": [
    {
     "name": "stdout",
     "output_type": "stream",
     "text": [
      "11651.434288967781\n"
     ]
    }
   ],
   "source": [
    "mean=data_annotated[\"response_time\"].mean()\n",
    "print(mean)"
   ]
  },
  {
   "cell_type": "code",
   "execution_count": 45,
   "metadata": {},
   "outputs": [],
   "source": [
    "def behaviorannotator(response_time):\n",
    "    if response_time<mean:\n",
    "        return \"good\"\n",
    "    else:\n",
    "        return \"bad\""
   ]
  },
  {
   "cell_type": "code",
   "execution_count": 46,
   "metadata": {},
   "outputs": [
    {
     "name": "stderr",
     "output_type": "stream",
     "text": [
      "progress-cleanning: 100%|████████████████████████████████████████████████████| 59716/59716 [00:00<00:00, 806893.67it/s]\n"
     ]
    }
   ],
   "source": [
    "def behaviorannotationprocess(datas, n=59761):\n",
    "    datas = datas.head(n)\n",
    "    datas['behavior'] = datas['response_time'].progress_map(behaviorannotator)\n",
    "    return datas\n",
    "d=behaviorannotationprocess(data_annotated)"
   ]
  },
  {
   "cell_type": "code",
   "execution_count": 47,
   "metadata": {},
   "outputs": [
    {
     "data": {
      "text/html": [
       "<div>\n",
       "<style scoped>\n",
       "    .dataframe tbody tr th:only-of-type {\n",
       "        vertical-align: middle;\n",
       "    }\n",
       "\n",
       "    .dataframe tbody tr th {\n",
       "        vertical-align: top;\n",
       "    }\n",
       "\n",
       "    .dataframe thead th {\n",
       "        text-align: right;\n",
       "    }\n",
       "</style>\n",
       "<table border=\"1\" class=\"dataframe\">\n",
       "  <thead>\n",
       "    <tr style=\"text-align: right;\">\n",
       "      <th></th>\n",
       "      <th>cleaned_tweet</th>\n",
       "      <th>response_time</th>\n",
       "      <th>behavior</th>\n",
       "    </tr>\n",
       "  </thead>\n",
       "  <tbody>\n",
       "    <tr>\n",
       "      <th>0</th>\n",
       "      <td>everyone should cancel prime his time of year and just use their regular free shipping you re not going to days shipping this time of year anyway fail canthandletheseason amazonwasniceonce</td>\n",
       "      <td>282.0</td>\n",
       "      <td>good</td>\n",
       "    </tr>\n",
       "    <tr>\n",
       "      <th>1</th>\n",
       "      <td>i m having major account problems and need help asap i can t find any way of contacting you can you give me a phone number</td>\n",
       "      <td>270.0</td>\n",
       "      <td>good</td>\n",
       "    </tr>\n",
       "  </tbody>\n",
       "</table>\n",
       "</div>"
      ],
      "text/plain": [
       "                                                                                                                                                                                  cleaned_tweet  \\\n",
       "0  everyone should cancel prime his time of year and just use their regular free shipping you re not going to days shipping this time of year anyway fail canthandletheseason amazonwasniceonce   \n",
       "1  i m having major account problems and need help asap i can t find any way of contacting you can you give me a phone number                                                                     \n",
       "\n",
       "   response_time behavior  \n",
       "0  282.0          good     \n",
       "1  270.0          good     "
      ]
     },
     "execution_count": 47,
     "metadata": {},
     "output_type": "execute_result"
    }
   ],
   "source": [
    "d[[\"cleaned_tweet\",\"response_time\",\"behavior\"]].head(2)"
   ]
  },
  {
   "cell_type": "markdown",
   "metadata": {},
   "source": [
    "## Ranking the company per Bad or Good"
   ]
  },
  {
   "cell_type": "code",
   "execution_count": 48,
   "metadata": {},
   "outputs": [],
   "source": [
    "group_company=d.groupby(['author_id_y','behavior'])[\"behavior\"].count().reset_index(name=\"count\")"
   ]
  },
  {
   "cell_type": "code",
   "execution_count": 49,
   "metadata": {},
   "outputs": [],
   "source": [
    "good_df=group_company.loc[group_company[\"behavior\"]==\"good\"]\n",
    "bad_df=group_company.loc[group_company[\"behavior\"]==\"bad\"]"
   ]
  },
  {
   "cell_type": "code",
   "execution_count": 50,
   "metadata": {},
   "outputs": [],
   "source": [
    "good=tuple(good_df[\"count\"].tolist())\n",
    "bad=tuple(bad_df[\"count\"].tolist())\n",
    "company_name=tuple(good_df[\"author_id_y\"].tolist())"
   ]
  },
  {
   "cell_type": "code",
   "execution_count": 51,
   "metadata": {},
   "outputs": [
    {
     "data": {
      "image/png": "[encoded data removed]",
      "text/plain": [
       "<Figure size 432x288 with 1 Axes>"
      ]
     },
     "metadata": {},
     "output_type": "display_data"
    }
   ],
   "source": [
    "ind = np.arange(len(company_name))  # the x locations for the groups\n",
    "width = 0.35  # the width of the bars\n",
    "\n",
    "fig, ax = plt.subplots()\n",
    "rects1 = ax.bar(ind - width/2, good, width,color='Green', label='Good')\n",
    "\n",
    "rects2 = ax.bar(ind + width/2, bad, width, color='Red', label='Bad')\n",
    "\n",
    "# Add some text for labels, title and custom x-axis tick labels, etc.\n",
    "ax.set_ylabel('Behavior')\n",
    "ax.set_xlabel('Company Name')\n",
    "\n",
    "ax.set_xticks(ind)\n",
    "ax.set_xticklabels(company_name)\n",
    "ax.legend()\n",
    "\n",
    "\n",
    "def autolabel(rects, xpos='center'):\n",
    "    xpos = xpos.lower() \n",
    "    ha = {'center': 'center', 'right': 'left', 'left': 'right'}\n",
    "    offset = {'center': 0.5, 'right': 0.57, 'left': 0.43} \n",
    "\n",
    "    for rect in rects:\n",
    "        height = rect.get_height()\n",
    "        ax.text(rect.get_x() + rect.get_width()*offset[xpos], 1.01*height,\n",
    "                '{}'.format(height), ha=ha[xpos], va='bottom')\n",
    "\n",
    "\n",
    "autolabel(rects1, \"left\")\n",
    "autolabel(rects2, \"right\")\n",
    "plt.xticks(rotation=25)\n",
    "plt.savefig('behav.jpg', bbox_inches = \"tight\")\n",
    "plt.show()"
   ]
  },
  {
   "cell_type": "markdown",
   "metadata": {},
   "source": [
    "## Word Embeddings"
   ]
  },
  {
   "cell_type": "code",
   "execution_count": 52,
   "metadata": {},
   "outputs": [
    {
     "data": {
      "text/plain": [
       "Index(['level_0', 'index', 'tweet_id_x', 'author_id_x', 'inbound_x',\n",
       "       'created_at_x', 'text_x', 'response_tweet_id_x',\n",
       "       'in_response_to_tweet_id_x', 'tweet_id_y', 'author_id_y', 'inbound_y',\n",
       "       'created_at_y', 'text_y', 'response_tweet_id_y',\n",
       "       'in_response_to_tweet_id_y', 'category_id', 'time_created_at_x',\n",
       "       'time_created_at_y', 'response_time', 'cleaned_tweet', 'category',\n",
       "       'behavior'],\n",
       "      dtype='object')"
      ]
     },
     "execution_count": 52,
     "metadata": {},
     "output_type": "execute_result"
    }
   ],
   "source": [
    "d.columns"
   ]
  },
  {
   "cell_type": "code",
   "execution_count": 53,
   "metadata": {},
   "outputs": [],
   "source": [
    "cleaned_list=d[[\"cleaned_tweet\",\"category\",\"author_id_y\"]]"
   ]
  },
  {
   "cell_type": "markdown",
   "metadata": {},
   "source": [
    "### Creating the tokens from the cleaned data"
   ]
  },
  {
   "cell_type": "code",
   "execution_count": 54,
   "metadata": {},
   "outputs": [],
   "source": [
    "documents_information=list(map(len, cleaned_list.cleaned_tweet.str.split(\" \")))"
   ]
  },
  {
   "cell_type": "code",
   "execution_count": 55,
   "metadata": {},
   "outputs": [
    {
     "name": "stdout",
     "output_type": "stream",
     "text": [
      "Total of words: 1236575\n",
      "min count: 1\n",
      "max count: 68\n"
     ]
    }
   ],
   "source": [
    "print(\"Total of words: {}\".format(np.sum(documents_information)))\n",
    "print(\"min count: {}\".format(min(documents_information)))\n",
    "print(\"max count: {}\".format(max(documents_information)))"
   ]
  },
  {
   "cell_type": "code",
   "execution_count": 102,
   "metadata": {},
   "outputs": [
    {
     "data": {
      "image/png": "[encoded data removed]",
      "text/plain": [
       "<Figure size 1080x432 with 1 Axes>"
      ]
     },
     "metadata": {},
     "output_type": "display_data"
    }
   ],
   "source": [
    "sb.set()\n",
    "fig, ax = plt.subplots(figsize=(15,6))\n",
    "\n",
    "ax.set_title(\"Distribution of number of words\", fontsize=16)\n",
    "ax.set_xlabel(\"Number of words\")\n",
    "sb.distplot(documents_information, ax=ax,hist_kws=dict(edgecolor=\"w\", linewidth=1));\n",
    "plt.savefig('worddistribution.jpg', bbox_inches = \"tight\")"
   ]
  },
  {
   "cell_type": "code",
   "execution_count": 57,
   "metadata": {},
   "outputs": [],
   "source": [
    "import nltk\n",
    "def get_tokens(df):\n",
    "    cleaned_list[\"tokens\"]=list(map(nltk.word_tokenize, df.cleaned_tweet))\n",
    "\n",
    "get_tokens(cleaned_list)"
   ]
  },
  {
   "cell_type": "code",
   "execution_count": 58,
   "metadata": {},
   "outputs": [],
   "source": [
    "from collections import Counter\n",
    "tokenized_only_dict = Counter(np.concatenate(cleaned_list.tokens.values))\n",
    "\n",
    "tokenized_only_df = pd.DataFrame.from_dict(tokenized_only_dict, orient='index')\n",
    "tokenized_only_df.rename(columns={0: 'count'}, inplace=True)"
   ]
  },
  {
   "cell_type": "code",
   "execution_count": 59,
   "metadata": {},
   "outputs": [],
   "source": [
    "tokenized_only_df.sort_values('count', ascending=False, inplace=True)"
   ]
  },
  {
   "cell_type": "markdown",
   "metadata": {},
   "source": [
    "## Including Stop "
   ]
  },
  {
   "cell_type": "code",
   "execution_count": 60,
   "metadata": {},
   "outputs": [
    {
     "data": {
      "image/png": "[encoded data removed]",
      "text/plain": [
       "<Figure size 1440x360 with 1 Axes>"
      ]
     },
     "metadata": {},
     "output_type": "display_data"
    }
   ],
   "source": [
    "def word_frequency_barplot(df, nr_top_words=30):\n",
    "    \"\"\" df should have a column named count.\n",
    "    \"\"\"\n",
    "    fig, ax = plt.subplots(1,1,figsize=(20,5))\n",
    "\n",
    "    sb.barplot(list(range(nr_top_words)), df['count'].values[:nr_top_words],color=\"r\", ax=ax)\n",
    "\n",
    "    ax.set_xticks(list(range(nr_top_words)))\n",
    "    ax.set_xticklabels(df.index[:nr_top_words], fontsize=14, rotation=90)\n",
    "    return ax\n",
    "    \n",
    "ax = word_frequency_barplot(tokenized_only_df)\n",
    "ax.set_title(\"Word Frequencies\", fontsize=16);\n",
    "plt.savefig('frequencyeithstowords.jpg', bbox_inches = \"tight\")"
   ]
  },
  {
   "cell_type": "markdown",
   "metadata": {},
   "source": [
    "## Without Stop Words"
   ]
  },
  {
   "cell_type": "code",
   "execution_count": 61,
   "metadata": {},
   "outputs": [],
   "source": [
    "from nltk.corpus import stopwords\n",
    "from nltk.corpus import wordnet\n",
    "\n",
    "stopwords=set(stopwords.words(\"english\"))"
   ]
  },
  {
   "cell_type": "code",
   "execution_count": 62,
   "metadata": {},
   "outputs": [],
   "source": [
    "\n",
    "def nostopword(tweet):\n",
    "    tokens=tokenizer.tokenize(tweet)\n",
    "    tokens=[w for w in tokens if not w in stopwords and len(w)>2]\n",
    "    \n",
    "    return tokens"
   ]
  },
  {
   "cell_type": "code",
   "execution_count": 63,
   "metadata": {},
   "outputs": [
    {
     "name": "stderr",
     "output_type": "stream",
     "text": [
      "progress-cleanning: 100%|█████████████████████████████████████████████████████| 59716/59716 [00:05<00:00, 11557.85it/s]\n"
     ]
    }
   ],
   "source": [
    "def get_nostopword(data, n=59738):\n",
    "    data = data.head(n)\n",
    "    data['nostopword'] = data['cleaned_tweet'].progress_map(nostopword)\n",
    "    return data\n",
    "cleaned_list=get_nostopword(cleaned_list)"
   ]
  },
  {
   "cell_type": "markdown",
   "metadata": {},
   "source": [
    "## Stemming and Lemmatizing"
   ]
  },
  {
   "cell_type": "code",
   "execution_count": 64,
   "metadata": {},
   "outputs": [],
   "source": [
    "from nltk import pos_tag\n",
    "def stem_words(df):\n",
    "    lemm = nltk.stem.WordNetLemmatizer()\n",
    "    df['lemmatized_text'] =  list(map(lambda sentence:[lemm.lemmatize(i,j[0].lower()) if j[0].lower() in ['a','n','v'] else lemm.lemmatize(i) for i,j in pos_tag(sentence)]\n",
    ", cleaned_list.nostopword))\n",
    "\n",
    "    p_stemmer = nltk.stem.porter.PorterStemmer()\n",
    "    df['stemmed_text'] = list(map(lambda sentence:list(map(p_stemmer.stem, sentence)), cleaned_list.lemmatized_text))\n",
    "\n",
    "stem_words(cleaned_list)"
   ]
  },
  {
   "cell_type": "code",
   "execution_count": 65,
   "metadata": {},
   "outputs": [],
   "source": [
    "tokenized_only_dict = Counter(np.concatenate(cleaned_list.lemmatized_text.values))\n",
    "\n",
    "tokenized_only_df = pd.DataFrame.from_dict(tokenized_only_dict, orient='index')\n",
    "tokenized_only_df.rename(columns={0: 'count'}, inplace=True)"
   ]
  },
  {
   "cell_type": "code",
   "execution_count": 66,
   "metadata": {},
   "outputs": [],
   "source": [
    "tokenized_only_df.sort_values('count', ascending=False, inplace=True)"
   ]
  },
  {
   "cell_type": "code",
   "execution_count": 67,
   "metadata": {},
   "outputs": [
    {
     "data": {
      "image/png": "[encoded data removed]",
      "text/plain": [
       "<Figure size 1440x360 with 1 Axes>"
      ]
     },
     "metadata": {},
     "output_type": "display_data"
    }
   ],
   "source": [
    "def word_frequency_barplot(df, nr_top_words=30):\n",
    "    \"\"\" df should have a column named count.\n",
    "    \"\"\"\n",
    "    fig, ax = plt.subplots(1,1,figsize=(20,5))\n",
    "\n",
    "    sb.barplot(list(range(nr_top_words)), df['count'].values[:nr_top_words],color=\"g\", ax=ax)\n",
    "\n",
    "    ax.set_xticks(list(range(nr_top_words)))\n",
    "    ax.set_xticklabels(df.index[:nr_top_words], fontsize=14, rotation=90)\n",
    "    return ax\n",
    "    \n",
    "ax = word_frequency_barplot(tokenized_only_df)\n",
    "ax.set_title(\"Word Frequencies\", fontsize=16);\n",
    "plt.savefig('frequencynostop.jpg', bbox_inches = \"tight\")"
   ]
  },
  {
   "cell_type": "code",
   "execution_count": 68,
   "metadata": {},
   "outputs": [
    {
     "data": {
      "text/plain": [
       "Index(['cleaned_tweet', 'category', 'author_id_y', 'tokens', 'nostopword',\n",
       "       'lemmatized_text', 'stemmed_text'],\n",
       "      dtype='object')"
      ]
     },
     "execution_count": 68,
     "metadata": {},
     "output_type": "execute_result"
    }
   ],
   "source": [
    "cleaned_list.columns"
   ]
  },
  {
   "cell_type": "code",
   "execution_count": 69,
   "metadata": {},
   "outputs": [
    {
     "data": {
      "text/plain": [
       "(59716, 7)"
      ]
     },
     "execution_count": 69,
     "metadata": {},
     "output_type": "execute_result"
    }
   ],
   "source": [
    "cleaned_list.shape"
   ]
  },
  {
   "cell_type": "code",
   "execution_count": 70,
   "metadata": {},
   "outputs": [],
   "source": [
    "x_train, x_test, y_train, y_test = train_test_split(np.array(cleaned_list.head(93170).tokens),\n",
    "                                   np.array(cleaned_list.head(93170).cleaned_tweet), test_size=0.2)\n"
   ]
  },
  {
   "cell_type": "code",
   "execution_count": 71,
   "metadata": {},
   "outputs": [
    {
     "name": "stderr",
     "output_type": "stream",
     "text": [
      "47772it [00:00, 63307.49it/s] \n",
      "11944it [00:00, 146636.13it/s]\n"
     ]
    }
   ],
   "source": [
    "from gensim.models.word2vec import Word2Vec \n",
    "LabeledSentence = gensim.models.doc2vec.LabeledSentence \n",
    "def labelizeTweets(tweets, label_type):\n",
    "    labelized = []\n",
    "    for i,v in tqdm(enumerate(tweets)):\n",
    "        label = '%s_%s'%(label_type,i)\n",
    "        labelized.append(LabeledSentence(v, [label]))\n",
    "    return labelized\n",
    "\n",
    "x_train = labelizeTweets(x_train, 'TRAIN')\n",
    "x_test = labelizeTweets(x_test, 'TEST')"
   ]
  },
  {
   "cell_type": "code",
   "execution_count": 72,
   "metadata": {},
   "outputs": [],
   "source": [
    "#tweet_w2v = Word2Vec(size=150, min_count=20,sg=0)#sg=1: skip-gram, 0: cbow\n",
    "#tweet_w2v.build_vocab([x.words for x in tqdm(x_train)])\n",
    "#tweet_w2v.train([x.words for x in tqdm(x_train)], \n",
    "#                total_examples=tweet_w2v.corpus_count, epochs=tweet_w2v.iter)"
   ]
  },
  {
   "cell_type": "code",
   "execution_count": 73,
   "metadata": {},
   "outputs": [],
   "source": [
    "tweet_w2v=Word2Vec.load(\"word2vec.model\")"
   ]
  },
  {
   "cell_type": "code",
   "execution_count": 74,
   "metadata": {},
   "outputs": [
    {
     "data": {
      "text/plain": [
       "[('iphone', 0.6134347915649414),\n",
       " ('ios', 0.5708719491958618),\n",
       " ('phones', 0.5670835375785828),\n",
       " ('wife', 0.564886748790741),\n",
       " ('device', 0.5456759929656982),\n",
       " ('port', 0.5366654396057129),\n",
       " ('bill', 0.5346403121948242),\n",
       " ('laptop', 0.5276452898979187),\n",
       " ('battery', 0.5213087797164917),\n",
       " ('ipad', 0.5206581354141235)]"
      ]
     },
     "execution_count": 74,
     "metadata": {},
     "output_type": "execute_result"
    }
   ],
   "source": [
    "tweet_w2v.wv.most_similar([\"phone\"])"
   ]
  },
  {
   "cell_type": "code",
   "execution_count": 75,
   "metadata": {},
   "outputs": [],
   "source": [
    " #tweet_w2v.save(\"word2vec.model\")\n",
    "    "
   ]
  },
  {
   "cell_type": "code",
   "execution_count": 76,
   "metadata": {},
   "outputs": [],
   "source": [
    "import matplotlib.pyplot as plt\n",
    "import pandas as pd\n",
    "from sklearn.decomposition import PCA\n",
    "\n",
    "def plot_words(words):\n",
    "    word_vecs = [tweet_w2v[word] for word in words]\n",
    "    pca = PCA(n_components=2)\n",
    "\n",
    "    columns = [\"Component1\",\"Component2\"]\n",
    "    df = pd.DataFrame(pca.fit_transform(word_vecs), columns=columns, index=words)\n",
    "    def annotate_df(row):  \n",
    "        ax.annotate(row.name, list(row.values),\n",
    "                    xytext=(10,-5), \n",
    "                    textcoords='offset points',\n",
    "                    size=12, \n",
    "                    color='black')\n",
    "\n",
    "    ax = df.plot(kind=\"scatter\",x='Component1', y='Component2',figsize=(20,10))\n",
    "    _ = df.apply(annotate_df, axis=1)\n",
    "    plt.savefig('outputcb.jpg')"
   ]
  },
  {
   "cell_type": "code",
   "execution_count": 77,
   "metadata": {},
   "outputs": [
    {
     "data": {
      "text/plain": [
       "150"
      ]
     },
     "execution_count": 77,
     "metadata": {},
     "output_type": "execute_result"
    }
   ],
   "source": [
    "len(tweet_w2v[\"phone\"])"
   ]
  },
  {
   "cell_type": "code",
   "execution_count": 78,
   "metadata": {},
   "outputs": [],
   "source": [
    "words=[]\n",
    "for wordlist in  cleaned_list.nostopword:\n",
    "    words.extend(wordlist)"
   ]
  },
  {
   "cell_type": "code",
   "execution_count": 79,
   "metadata": {},
   "outputs": [],
   "source": [
    "w=[]\n",
    "for word in words:\n",
    "    if word in tweet_w2v.wv:\n",
    "        w.append(word)"
   ]
  },
  {
   "cell_type": "code",
   "execution_count": 80,
   "metadata": {},
   "outputs": [
    {
     "name": "stdout",
     "output_type": "stream",
     "text": [
      "528609\n"
     ]
    }
   ],
   "source": [
    "print(len(w))"
   ]
  },
  {
   "cell_type": "code",
   "execution_count": 81,
   "metadata": {},
   "outputs": [
    {
     "name": "stderr",
     "output_type": "stream",
     "text": [
      "'c' argument looks like a single numeric RGB or RGBA sequence, which should be avoided as value-mapping will have precedence in case its length matches with 'x' & 'y'.  Please use a 2-D array with a single row if you really want to specify the same RGB or RGBA value for all points.\n"
     ]
    },
    {
     "data": {
      "image/png": "[encoded data removed]",
      "text/plain": [
       "<Figure size 1440x720 with 1 Axes>"
      ]
     },
     "metadata": {},
     "output_type": "display_data"
    }
   ],
   "source": [
    "plot_words(w[:100])"
   ]
  },
  {
   "cell_type": "code",
   "execution_count": 82,
   "metadata": {},
   "outputs": [
    {
     "name": "stdout",
     "output_type": "stream",
     "text": [
      "building tf-idf matrix ...\n",
      "vocab size : 22678\n"
     ]
    }
   ],
   "source": [
    "print('building tf-idf matrix ...')\n",
    "vectorizer = TfidfVectorizer(analyzer=lambda x: x, min_df=0)\n",
    "matrix = vectorizer.fit_transform([x.words for x in x_train])\n",
    "tfidf = dict(zip(vectorizer.get_feature_names(), vectorizer.idf_))\n",
    "print('vocab size :', len(tfidf))"
   ]
  },
  {
   "cell_type": "code",
   "execution_count": 83,
   "metadata": {},
   "outputs": [],
   "source": [
    "def buildWordVector(tokens, size):\n",
    "    vec = np.zeros(size).reshape((1, size))\n",
    "    count = 0.\n",
    "    for word in tokens:\n",
    "        try:\n",
    "            vec += tweet_w2v[word].reshape((1, size)) * tfidf[word]\n",
    "            count += 1.\n",
    "        except KeyError: # handling the case where the token is not\n",
    "                         # in the corpus. useful for testing.\n",
    "            continue\n",
    "    if count != 0:\n",
    "        vec /= count\n",
    "    return vec"
   ]
  },
  {
   "cell_type": "code",
   "execution_count": 84,
   "metadata": {},
   "outputs": [
    {
     "name": "stderr",
     "output_type": "stream",
     "text": [
      "59716it [00:10, 5716.17it/s]\n"
     ]
    }
   ],
   "source": [
    "vectors = np.concatenate([buildWordVector(z, 150) for z in tqdm(map(lambda x: x, cleaned_list.lemmatized_text))])\n",
    "labels=[label for label in  cleaned_list.author_id_y]\n",
    "vectors = scale(vectors)"
   ]
  },
  {
   "cell_type": "code",
   "execution_count": 85,
   "metadata": {},
   "outputs": [
    {
     "data": {
      "text/plain": [
       "59716"
      ]
     },
     "execution_count": 85,
     "metadata": {},
     "output_type": "execute_result"
    }
   ],
   "source": [
    "len(vectors)"
   ]
  },
  {
   "cell_type": "code",
   "execution_count": 86,
   "metadata": {},
   "outputs": [
    {
     "data": {
      "text/plain": [
       "59716"
      ]
     },
     "execution_count": 86,
     "metadata": {},
     "output_type": "execute_result"
    }
   ],
   "source": [
    "len(labels)"
   ]
  },
  {
   "cell_type": "markdown",
   "metadata": {},
   "source": [
    "## Spliting the data into train and test sets"
   ]
  },
  {
   "cell_type": "code",
   "execution_count": 87,
   "metadata": {},
   "outputs": [],
   "source": [
    "X_train, X_test, y_train, y_test = train_test_split( vectors, labels, test_size=0.33, random_state=42)"
   ]
  },
  {
   "cell_type": "code",
   "execution_count": 88,
   "metadata": {},
   "outputs": [],
   "source": [
    "from sklearn import preprocessing\n",
    "encoder = preprocessing.LabelBinarizer()\n",
    "encoder.fit(y_train)\n",
    "y_train = encoder.transform(y_train)\n",
    "y_test = encoder.transform(y_test)"
   ]
  },
  {
   "cell_type": "code",
   "execution_count": 89,
   "metadata": {},
   "outputs": [
    {
     "data": {
      "text/plain": [
       "array([0, 1, 0, 0, 0, 0])"
      ]
     },
     "execution_count": 89,
     "metadata": {},
     "output_type": "execute_result"
    }
   ],
   "source": [
    "y_train[0]"
   ]
  },
  {
   "cell_type": "markdown",
   "metadata": {},
   "source": [
    "## Keras "
   ]
  },
  {
   "cell_type": "code",
   "execution_count": 90,
   "metadata": {},
   "outputs": [
    {
     "name": "stderr",
     "output_type": "stream",
     "text": [
      "Using TensorFlow backend.\n"
     ]
    }
   ],
   "source": [
    "from keras.models import Sequential\n",
    "from keras.layers import Dense, Activation"
   ]
  },
  {
   "cell_type": "code",
   "execution_count": 91,
   "metadata": {},
   "outputs": [],
   "source": [
    "model= Sequential()"
   ]
  },
  {
   "cell_type": "code",
   "execution_count": 92,
   "metadata": {},
   "outputs": [
    {
     "name": "stdout",
     "output_type": "stream",
     "text": [
      "WARNING:tensorflow:From C:\\Users\\71532396\\AppData\\Local\\Continuum\\anaconda3\\lib\\site-packages\\tensorflow\\python\\framework\\op_def_library.py:263: colocate_with (from tensorflow.python.framework.ops) is deprecated and will be removed in a future version.\n",
      "Instructions for updating:\n",
      "Colocations handled automatically by placer.\n"
     ]
    }
   ],
   "source": [
    "model.add(Dense(512, input_shape=(150,)))\n",
    "model.add(Activation('relu'))"
   ]
  },
  {
   "cell_type": "code",
   "execution_count": 93,
   "metadata": {},
   "outputs": [],
   "source": [
    "model.add(Dense(6))\n",
    "model.add(Activation('softmax'))"
   ]
  },
  {
   "cell_type": "code",
   "execution_count": 94,
   "metadata": {},
   "outputs": [],
   "source": [
    "model.compile(loss='categorical_crossentropy', \n",
    "              optimizer='rmsprop', \n",
    "              metrics=['accuracy'])  "
   ]
  },
  {
   "cell_type": "code",
   "execution_count": 95,
   "metadata": {
    "scrolled": false
   },
   "outputs": [
    {
     "name": "stdout",
     "output_type": "stream",
     "text": [
      "WARNING:tensorflow:From C:\\Users\\71532396\\AppData\\Local\\Continuum\\anaconda3\\lib\\site-packages\\tensorflow\\python\\ops\\math_ops.py:3066: to_int32 (from tensorflow.python.ops.math_ops) is deprecated and will be removed in a future version.\n",
      "Instructions for updating:\n",
      "Use tf.cast instead.\n",
      "Train on 36008 samples, validate on 4001 samples\n",
      "Epoch 1/150\n",
      "36008/36008 [==============================] - ETA: 2:38 - loss: 2.0045 - acc: 0.180 - ETA: 10s - loss: 1.0235 - acc: 0.622 - ETA: 5s - loss: 0.9386 - acc: 0.6635 - ETA: 4s - loss: 0.9029 - acc: 0.679 - ETA: 3s - loss: 0.8864 - acc: 0.684 - ETA: 2s - loss: 0.8614 - acc: 0.695 - ETA: 2s - loss: 0.8521 - acc: 0.698 - ETA: 2s - loss: 0.8405 - acc: 0.701 - ETA: 1s - loss: 0.8267 - acc: 0.705 - ETA: 1s - loss: 0.8197 - acc: 0.707 - ETA: 1s - loss: 0.8172 - acc: 0.710 - ETA: 1s - loss: 0.8134 - acc: 0.712 - ETA: 1s - loss: 0.8086 - acc: 0.713 - ETA: 1s - loss: 0.8022 - acc: 0.715 - ETA: 0s - loss: 0.7979 - acc: 0.716 - ETA: 0s - loss: 0.7997 - acc: 0.716 - ETA: 0s - loss: 0.7965 - acc: 0.718 - ETA: 0s - loss: 0.7954 - acc: 0.719 - ETA: 0s - loss: 0.7926 - acc: 0.720 - ETA: 0s - loss: 0.7914 - acc: 0.720 - ETA: 0s - loss: 0.7910 - acc: 0.721 - ETA: 0s - loss: 0.7881 - acc: 0.721 - ETA: 0s - loss: 0.7857 - acc: 0.722 - ETA: 0s - loss: 0.7849 - acc: 0.722 - ETA: 0s - loss: 0.7844 - acc: 0.722 - ETA: 0s - loss: 0.7806 - acc: 0.724 - ETA: 0s - loss: 0.7802 - acc: 0.723 - 2s 52us/step - loss: 0.7800 - acc: 0.7239 - val_loss: 0.7713 - val_acc: 0.7298\n",
      "Epoch 2/150\n",
      "36008/36008 [==============================] - ETA: 2s - loss: 0.7215 - acc: 0.790 - ETA: 1s - loss: 0.6562 - acc: 0.764 - ETA: 1s - loss: 0.6903 - acc: 0.747 - ETA: 1s - loss: 0.7007 - acc: 0.743 - ETA: 1s - loss: 0.7126 - acc: 0.741 - ETA: 1s - loss: 0.7005 - acc: 0.746 - ETA: 0s - loss: 0.7029 - acc: 0.744 - ETA: 0s - loss: 0.7031 - acc: 0.744 - ETA: 0s - loss: 0.7026 - acc: 0.744 - ETA: 0s - loss: 0.6986 - acc: 0.748 - ETA: 0s - loss: 0.6957 - acc: 0.750 - ETA: 0s - loss: 0.6968 - acc: 0.750 - ETA: 0s - loss: 0.6971 - acc: 0.750 - ETA: 0s - loss: 0.6957 - acc: 0.752 - ETA: 0s - loss: 0.6952 - acc: 0.752 - ETA: 0s - loss: 0.6971 - acc: 0.750 - ETA: 0s - loss: 0.6966 - acc: 0.752 - ETA: 0s - loss: 0.6948 - acc: 0.752 - ETA: 0s - loss: 0.6945 - acc: 0.752 - ETA: 0s - loss: 0.6956 - acc: 0.752 - ETA: 0s - loss: 0.6949 - acc: 0.752 - ETA: 0s - loss: 0.6941 - acc: 0.752 - ETA: 0s - loss: 0.6976 - acc: 0.751 - ETA: 0s - loss: 0.6995 - acc: 0.751 - ETA: 0s - loss: 0.6985 - acc: 0.752 - ETA: 0s - loss: 0.6974 - acc: 0.752 - ETA: 0s - loss: 0.6977 - acc: 0.752 - ETA: 0s - loss: 0.6980 - acc: 0.752 - ETA: 0s - loss: 0.6981 - acc: 0.752 - ETA: 0s - loss: 0.6990 - acc: 0.752 - 2s 45us/step - loss: 0.6993 - acc: 0.7523 - val_loss: 0.7551 - val_acc: 0.7303\n",
      "Epoch 3/150\n",
      "36008/36008 [==============================] - ETA: 4s - loss: 0.6163 - acc: 0.760 - ETA: 1s - loss: 0.6703 - acc: 0.757 - ETA: 2s - loss: 0.6807 - acc: 0.749 - ETA: 2s - loss: 0.6731 - acc: 0.755 - ETA: 1s - loss: 0.6669 - acc: 0.761 - ETA: 1s - loss: 0.6675 - acc: 0.761 - ETA: 1s - loss: 0.6735 - acc: 0.759 - ETA: 1s - loss: 0.6769 - acc: 0.758 - ETA: 1s - loss: 0.6739 - acc: 0.760 - ETA: 1s - loss: 0.6739 - acc: 0.760 - ETA: 1s - loss: 0.6682 - acc: 0.761 - ETA: 1s - loss: 0.6681 - acc: 0.761 - ETA: 1s - loss: 0.6704 - acc: 0.761 - ETA: 1s - loss: 0.6713 - acc: 0.762 - ETA: 0s - loss: 0.6696 - acc: 0.762 - ETA: 0s - loss: 0.6687 - acc: 0.762 - ETA: 0s - loss: 0.6686 - acc: 0.763 - ETA: 0s - loss: 0.6703 - acc: 0.762 - ETA: 0s - loss: 0.6711 - acc: 0.763 - ETA: 0s - loss: 0.6713 - acc: 0.763 - ETA: 0s - loss: 0.6722 - acc: 0.762 - ETA: 0s - loss: 0.6692 - acc: 0.763 - ETA: 0s - loss: 0.6691 - acc: 0.763 - ETA: 0s - loss: 0.6693 - acc: 0.763 - ETA: 0s - loss: 0.6701 - acc: 0.762 - ETA: 0s - loss: 0.6687 - acc: 0.762 - ETA: 0s - loss: 0.6691 - acc: 0.763 - ETA: 0s - loss: 0.6665 - acc: 0.763 - ETA: 0s - loss: 0.6666 - acc: 0.763 - ETA: 0s - loss: 0.6670 - acc: 0.762 - ETA: 0s - loss: 0.6680 - acc: 0.762 - 2s 46us/step - loss: 0.6692 - acc: 0.7626 - val_loss: 0.7320 - val_acc: 0.7323\n",
      "Epoch 4/150\n",
      "36008/36008 [==============================] - ETA: 2s - loss: 0.6777 - acc: 0.760 - ETA: 1s - loss: 0.6264 - acc: 0.779 - ETA: 1s - loss: 0.6247 - acc: 0.781 - ETA: 1s - loss: 0.6262 - acc: 0.785 - ETA: 1s - loss: 0.6227 - acc: 0.784 - ETA: 1s - loss: 0.6252 - acc: 0.784 - ETA: 1s - loss: 0.6278 - acc: 0.781 - ETA: 1s - loss: 0.6281 - acc: 0.779 - ETA: 1s - loss: 0.6278 - acc: 0.777 - ETA: 1s - loss: 0.6298 - acc: 0.776 - ETA: 1s - loss: 0.6329 - acc: 0.774 - ETA: 1s - loss: 0.6346 - acc: 0.772 - ETA: 1s - loss: 0.6385 - acc: 0.771 - ETA: 0s - loss: 0.6338 - acc: 0.773 - ETA: 0s - loss: 0.6342 - acc: 0.773 - ETA: 0s - loss: 0.6373 - acc: 0.772 - ETA: 0s - loss: 0.6382 - acc: 0.771 - ETA: 0s - loss: 0.6406 - acc: 0.770 - ETA: 0s - loss: 0.6390 - acc: 0.771 - ETA: 0s - loss: 0.6402 - acc: 0.770 - ETA: 0s - loss: 0.6406 - acc: 0.771 - ETA: 0s - loss: 0.6424 - acc: 0.770 - ETA: 0s - loss: 0.6415 - acc: 0.770 - ETA: 0s - loss: 0.6418 - acc: 0.770 - ETA: 0s - loss: 0.6454 - acc: 0.769 - ETA: 0s - loss: 0.6478 - acc: 0.768 - ETA: 0s - loss: 0.6490 - acc: 0.767 - ETA: 0s - loss: 0.6491 - acc: 0.768 - ETA: 0s - loss: 0.6490 - acc: 0.768 - 1s 42us/step - loss: 0.6490 - acc: 0.7684 - val_loss: 0.7668 - val_acc: 0.7258\n",
      "Epoch 5/150\n",
      "36008/36008 [==============================] - ETA: 2s - loss: 0.5538 - acc: 0.810 - ETA: 1s - loss: 0.6210 - acc: 0.777 - ETA: 1s - loss: 0.6245 - acc: 0.773 - ETA: 0s - loss: 0.6251 - acc: 0.772 - ETA: 0s - loss: 0.6239 - acc: 0.773 - ETA: 0s - loss: 0.6293 - acc: 0.775 - ETA: 0s - loss: 0.6353 - acc: 0.771 - ETA: 0s - loss: 0.6357 - acc: 0.772 - ETA: 0s - loss: 0.6293 - acc: 0.774 - ETA: 0s - loss: 0.6303 - acc: 0.774 - ETA: 0s - loss: 0.6307 - acc: 0.773 - ETA: 0s - loss: 0.6322 - acc: 0.772 - ETA: 0s - loss: 0.6343 - acc: 0.773 - ETA: 0s - loss: 0.6343 - acc: 0.773 - ETA: 0s - loss: 0.6332 - acc: 0.774 - ETA: 0s - loss: 0.6330 - acc: 0.774 - ETA: 0s - loss: 0.6322 - acc: 0.773 - ETA: 0s - loss: 0.6328 - acc: 0.773 - ETA: 0s - loss: 0.6334 - acc: 0.773 - ETA: 0s - loss: 0.6332 - acc: 0.773 - ETA: 0s - loss: 0.6336 - acc: 0.773 - ETA: 0s - loss: 0.6332 - acc: 0.773 - 1s 32us/step - loss: 0.6326 - acc: 0.7738 - val_loss: 0.7259 - val_acc: 0.7376\n",
      "Epoch 6/150\n",
      "36008/36008 [==============================] - ETA: 1s - loss: 0.6484 - acc: 0.740 - ETA: 1s - loss: 0.5843 - acc: 0.796 - ETA: 1s - loss: 0.6094 - acc: 0.780 - ETA: 1s - loss: 0.5973 - acc: 0.785 - ETA: 1s - loss: 0.6052 - acc: 0.783 - ETA: 1s - loss: 0.6050 - acc: 0.781 - ETA: 1s - loss: 0.6047 - acc: 0.784 - ETA: 0s - loss: 0.6064 - acc: 0.785 - ETA: 0s - loss: 0.6047 - acc: 0.784 - ETA: 0s - loss: 0.6031 - acc: 0.784 - ETA: 0s - loss: 0.6032 - acc: 0.785 - ETA: 0s - loss: 0.6082 - acc: 0.782 - ETA: 0s - loss: 0.6098 - acc: 0.781 - ETA: 0s - loss: 0.6102 - acc: 0.781 - ETA: 0s - loss: 0.6106 - acc: 0.781 - ETA: 0s - loss: 0.6119 - acc: 0.781 - ETA: 0s - loss: 0.6124 - acc: 0.782 - ETA: 0s - loss: 0.6123 - acc: 0.781 - ETA: 0s - loss: 0.6124 - acc: 0.781 - ETA: 0s - loss: 0.6129 - acc: 0.780 - ETA: 0s - loss: 0.6150 - acc: 0.779 - ETA: 0s - loss: 0.6167 - acc: 0.778 - ETA: 0s - loss: 0.6171 - acc: 0.779 - 1s 34us/step - loss: 0.6173 - acc: 0.7790 - val_loss: 0.7610 - val_acc: 0.7288\n",
      "Epoch 7/150\n",
      "36008/36008 [==============================] - ETA: 1s - loss: 0.4432 - acc: 0.810 - ETA: 1s - loss: 0.5844 - acc: 0.783 - ETA: 1s - loss: 0.5862 - acc: 0.786 - ETA: 0s - loss: 0.5943 - acc: 0.785 - ETA: 0s - loss: 0.6082 - acc: 0.781 - ETA: 0s - loss: 0.6025 - acc: 0.785 - ETA: 0s - loss: 0.6060 - acc: 0.783 - ETA: 0s - loss: 0.6058 - acc: 0.782 - ETA: 0s - loss: 0.6055 - acc: 0.782 - ETA: 0s - loss: 0.6056 - acc: 0.783 - ETA: 0s - loss: 0.6030 - acc: 0.784 - ETA: 0s - loss: 0.6014 - acc: 0.784 - ETA: 0s - loss: 0.6035 - acc: 0.783 - ETA: 0s - loss: 0.6022 - acc: 0.784 - ETA: 0s - loss: 0.6015 - acc: 0.784 - ETA: 0s - loss: 0.6020 - acc: 0.784 - ETA: 0s - loss: 0.6038 - acc: 0.783 - ETA: 0s - loss: 0.6044 - acc: 0.783 - ETA: 0s - loss: 0.6062 - acc: 0.782 - ETA: 0s - loss: 0.6074 - acc: 0.782 - ETA: 0s - loss: 0.6065 - acc: 0.783 - ETA: 0s - loss: 0.6070 - acc: 0.783 - ETA: 0s - loss: 0.6060 - acc: 0.783 - 1s 33us/step - loss: 0.6061 - acc: 0.7832 - val_loss: 0.7137 - val_acc: 0.7518\n",
      "Epoch 8/150\n",
      "36008/36008 [==============================] - ETA: 1s - loss: 0.7898 - acc: 0.670 - ETA: 0s - loss: 0.5820 - acc: 0.788 - ETA: 0s - loss: 0.5842 - acc: 0.790 - ETA: 0s - loss: 0.5778 - acc: 0.793 - ETA: 0s - loss: 0.5738 - acc: 0.794 - ETA: 0s - loss: 0.5749 - acc: 0.791 - ETA: 0s - loss: 0.5719 - acc: 0.794 - ETA: 0s - loss: 0.5788 - acc: 0.790 - ETA: 0s - loss: 0.5888 - acc: 0.788 - ETA: 0s - loss: 0.5891 - acc: 0.788 - ETA: 0s - loss: 0.5860 - acc: 0.789 - ETA: 0s - loss: 0.5894 - acc: 0.787 - ETA: 0s - loss: 0.5914 - acc: 0.786 - ETA: 0s - loss: 0.5905 - acc: 0.786 - ETA: 0s - loss: 0.5896 - acc: 0.787 - ETA: 0s - loss: 0.5932 - acc: 0.786 - ETA: 0s - loss: 0.5950 - acc: 0.785 - ETA: 0s - loss: 0.5953 - acc: 0.785 - ETA: 0s - loss: 0.5948 - acc: 0.785 - ETA: 0s - loss: 0.5948 - acc: 0.785 - 1s 30us/step - loss: 0.5949 - acc: 0.7856 - val_loss: 0.7690 - val_acc: 0.7286\n",
      "Epoch 9/150\n",
      "36008/36008 [==============================] - ETA: 2s - loss: 0.5974 - acc: 0.810 - ETA: 1s - loss: 0.5524 - acc: 0.800 - ETA: 0s - loss: 0.5610 - acc: 0.798 - ETA: 0s - loss: 0.5706 - acc: 0.794 - ETA: 0s - loss: 0.5678 - acc: 0.795 - ETA: 0s - loss: 0.5715 - acc: 0.793 - ETA: 0s - loss: 0.5702 - acc: 0.794 - ETA: 0s - loss: 0.5753 - acc: 0.791 - ETA: 0s - loss: 0.5746 - acc: 0.790 - ETA: 0s - loss: 0.5745 - acc: 0.790 - ETA: 0s - loss: 0.5769 - acc: 0.790 - ETA: 0s - loss: 0.5793 - acc: 0.790 - ETA: 0s - loss: 0.5797 - acc: 0.790 - ETA: 0s - loss: 0.5819 - acc: 0.790 - ETA: 0s - loss: 0.5821 - acc: 0.790 - ETA: 0s - loss: 0.5818 - acc: 0.789 - ETA: 0s - loss: 0.5823 - acc: 0.790 - ETA: 0s - loss: 0.5855 - acc: 0.789 - ETA: 0s - loss: 0.5866 - acc: 0.789 - ETA: 0s - loss: 0.5881 - acc: 0.788 - ETA: 0s - loss: 0.5875 - acc: 0.788 - 1s 30us/step - loss: 0.5860 - acc: 0.7892 - val_loss: 0.7621 - val_acc: 0.7323\n",
      "Epoch 10/150\n",
      "36008/36008 [==============================] - ETA: 1s - loss: 0.6484 - acc: 0.700 - ETA: 0s - loss: 0.5452 - acc: 0.799 - ETA: 0s - loss: 0.5542 - acc: 0.797 - ETA: 0s - loss: 0.5455 - acc: 0.798 - ETA: 0s - loss: 0.5474 - acc: 0.798 - ETA: 0s - loss: 0.5482 - acc: 0.799 - ETA: 0s - loss: 0.5438 - acc: 0.801 - ETA: 0s - loss: 0.5539 - acc: 0.799 - ETA: 0s - loss: 0.5600 - acc: 0.797 - ETA: 0s - loss: 0.5604 - acc: 0.797 - ETA: 0s - loss: 0.5614 - acc: 0.798 - ETA: 0s - loss: 0.5653 - acc: 0.796 - ETA: 0s - loss: 0.5657 - acc: 0.796 - ETA: 0s - loss: 0.5672 - acc: 0.796 - ETA: 0s - loss: 0.5730 - acc: 0.794 - ETA: 0s - loss: 0.5730 - acc: 0.793 - ETA: 0s - loss: 0.5741 - acc: 0.793 - ETA: 0s - loss: 0.5749 - acc: 0.794 - ETA: 0s - loss: 0.5728 - acc: 0.794 - ETA: 0s - loss: 0.5724 - acc: 0.794 - ETA: 0s - loss: 0.5721 - acc: 0.794 - ETA: 0s - loss: 0.5733 - acc: 0.794 - ETA: 0s - loss: 0.5723 - acc: 0.794 - ETA: 0s - loss: 0.5738 - acc: 0.794 - 1s 35us/step - loss: 0.5748 - acc: 0.7939 - val_loss: 0.7151 - val_acc: 0.7483\n",
      "Epoch 11/150\n",
      "36008/36008 [==============================] - ETA: 2s - loss: 0.5960 - acc: 0.790 - ETA: 1s - loss: 0.5760 - acc: 0.786 - ETA: 1s - loss: 0.5675 - acc: 0.788 - ETA: 1s - loss: 0.5538 - acc: 0.796 - ETA: 1s - loss: 0.5530 - acc: 0.799 - ETA: 1s - loss: 0.5563 - acc: 0.799 - ETA: 1s - loss: 0.5609 - acc: 0.798 - ETA: 1s - loss: 0.5611 - acc: 0.800 - ETA: 0s - loss: 0.5623 - acc: 0.801 - ETA: 0s - loss: 0.5607 - acc: 0.800 - ETA: 0s - loss: 0.5603 - acc: 0.800 - ETA: 0s - loss: 0.5571 - acc: 0.802 - ETA: 0s - loss: 0.5613 - acc: 0.799 - ETA: 0s - loss: 0.5583 - acc: 0.801 - ETA: 0s - loss: 0.5581 - acc: 0.801 - ETA: 0s - loss: 0.5595 - acc: 0.800 - ETA: 0s - loss: 0.5599 - acc: 0.800 - ETA: 0s - loss: 0.5587 - acc: 0.800 - ETA: 0s - loss: 0.5597 - acc: 0.799 - ETA: 0s - loss: 0.5600 - acc: 0.799 - ETA: 0s - loss: 0.5616 - acc: 0.799 - ETA: 0s - loss: 0.5621 - acc: 0.798 - ETA: 0s - loss: 0.5631 - acc: 0.799 - ETA: 0s - loss: 0.5638 - acc: 0.798 - 1s 34us/step - loss: 0.5638 - acc: 0.7990 - val_loss: 0.7253 - val_acc: 0.7483\n",
      "Epoch 12/150\n",
      "36008/36008 [==============================] - ETA: 1s - loss: 0.4116 - acc: 0.820 - ETA: 0s - loss: 0.5321 - acc: 0.806 - ETA: 0s - loss: 0.5411 - acc: 0.799 - ETA: 0s - loss: 0.5488 - acc: 0.801 - ETA: 0s - loss: 0.5431 - acc: 0.803 - ETA: 0s - loss: 0.5412 - acc: 0.804 - ETA: 0s - loss: 0.5462 - acc: 0.802 - ETA: 0s - loss: 0.5466 - acc: 0.803 - ETA: 0s - loss: 0.5469 - acc: 0.803 - ETA: 0s - loss: 0.5461 - acc: 0.803 - ETA: 0s - loss: 0.5489 - acc: 0.802 - ETA: 0s - loss: 0.5526 - acc: 0.801 - ETA: 0s - loss: 0.5501 - acc: 0.801 - ETA: 0s - loss: 0.5533 - acc: 0.800 - ETA: 0s - loss: 0.5554 - acc: 0.800 - ETA: 0s - loss: 0.5534 - acc: 0.800 - ETA: 0s - loss: 0.5529 - acc: 0.801 - ETA: 0s - loss: 0.5527 - acc: 0.801 - ETA: 0s - loss: 0.5536 - acc: 0.801 - ETA: 0s - loss: 0.5556 - acc: 0.800 - 1s 29us/step - loss: 0.5564 - acc: 0.8001 - val_loss: 0.7659 - val_acc: 0.7388\n",
      "Epoch 13/150\n",
      "36008/36008 [==============================] - ETA: 1s - loss: 0.4496 - acc: 0.810 - ETA: 0s - loss: 0.5022 - acc: 0.822 - ETA: 0s - loss: 0.5360 - acc: 0.808 - ETA: 0s - loss: 0.5376 - acc: 0.806 - ETA: 0s - loss: 0.5444 - acc: 0.805 - ETA: 0s - loss: 0.5466 - acc: 0.805 - ETA: 0s - loss: 0.5392 - acc: 0.808 - ETA: 0s - loss: 0.5378 - acc: 0.808 - ETA: 0s - loss: 0.5392 - acc: 0.806 - ETA: 0s - loss: 0.5375 - acc: 0.807 - ETA: 0s - loss: 0.5375 - acc: 0.805 - ETA: 0s - loss: 0.5392 - acc: 0.805 - ETA: 0s - loss: 0.5413 - acc: 0.804 - ETA: 0s - loss: 0.5413 - acc: 0.803 - ETA: 0s - loss: 0.5419 - acc: 0.803 - ETA: 0s - loss: 0.5441 - acc: 0.802 - ETA: 0s - loss: 0.5440 - acc: 0.802 - ETA: 0s - loss: 0.5443 - acc: 0.802 - ETA: 0s - loss: 0.5453 - acc: 0.802 - ETA: 0s - loss: 0.5457 - acc: 0.802 - ETA: 0s - loss: 0.5462 - acc: 0.802 - 1s 31us/step - loss: 0.5469 - acc: 0.8023 - val_loss: 0.7745 - val_acc: 0.7408\n",
      "Epoch 14/150\n",
      "36008/36008 [==============================] - ETA: 1s - loss: 0.5073 - acc: 0.820 - ETA: 1s - loss: 0.4991 - acc: 0.817 - ETA: 1s - loss: 0.5033 - acc: 0.815 - ETA: 0s - loss: 0.5200 - acc: 0.812 - ETA: 0s - loss: 0.5119 - acc: 0.815 - ETA: 0s - loss: 0.5154 - acc: 0.814 - ETA: 0s - loss: 0.5144 - acc: 0.813 - ETA: 0s - loss: 0.5232 - acc: 0.809 - ETA: 0s - loss: 0.5235 - acc: 0.809 - ETA: 0s - loss: 0.5170 - acc: 0.812 - ETA: 0s - loss: 0.5181 - acc: 0.812 - ETA: 0s - loss: 0.5251 - acc: 0.811 - ETA: 0s - loss: 0.5275 - acc: 0.810 - ETA: 0s - loss: 0.5284 - acc: 0.810 - ETA: 0s - loss: 0.5306 - acc: 0.809 - ETA: 0s - loss: 0.5331 - acc: 0.808 - ETA: 0s - loss: 0.5323 - acc: 0.808 - ETA: 0s - loss: 0.5329 - acc: 0.808 - ETA: 0s - loss: 0.5333 - acc: 0.807 - ETA: 0s - loss: 0.5367 - acc: 0.806 - ETA: 0s - loss: 0.5361 - acc: 0.807 - ETA: 0s - loss: 0.5390 - acc: 0.805 - 1s 32us/step - loss: 0.5394 - acc: 0.8054 - val_loss: 0.7268 - val_acc: 0.7493\n",
      "Epoch 15/150\n"
     ]
    },
    {
     "name": "stdout",
     "output_type": "stream",
     "text": [
      "36008/36008 [==============================] - ETA: 1s - loss: 0.5768 - acc: 0.780 - ETA: 1s - loss: 0.4992 - acc: 0.818 - ETA: 0s - loss: 0.5052 - acc: 0.818 - ETA: 0s - loss: 0.5063 - acc: 0.817 - ETA: 0s - loss: 0.5001 - acc: 0.820 - ETA: 0s - loss: 0.5083 - acc: 0.815 - ETA: 0s - loss: 0.5084 - acc: 0.816 - ETA: 0s - loss: 0.5069 - acc: 0.818 - ETA: 0s - loss: 0.5140 - acc: 0.814 - ETA: 0s - loss: 0.5109 - acc: 0.815 - ETA: 0s - loss: 0.5123 - acc: 0.814 - ETA: 0s - loss: 0.5170 - acc: 0.813 - ETA: 0s - loss: 0.5149 - acc: 0.814 - ETA: 0s - loss: 0.5178 - acc: 0.813 - ETA: 0s - loss: 0.5197 - acc: 0.812 - ETA: 0s - loss: 0.5200 - acc: 0.812 - ETA: 0s - loss: 0.5225 - acc: 0.811 - ETA: 0s - loss: 0.5233 - acc: 0.811 - ETA: 0s - loss: 0.5242 - acc: 0.811 - ETA: 0s - loss: 0.5265 - acc: 0.810 - ETA: 0s - loss: 0.5270 - acc: 0.810 - ETA: 0s - loss: 0.5280 - acc: 0.810 - ETA: 0s - loss: 0.5304 - acc: 0.809 - 1s 33us/step - loss: 0.5304 - acc: 0.8093 - val_loss: 0.7829 - val_acc: 0.7381\n",
      "Epoch 16/150\n",
      "36008/36008 [==============================] - ETA: 2s - loss: 0.5786 - acc: 0.770 - ETA: 1s - loss: 0.4833 - acc: 0.824 - ETA: 1s - loss: 0.4983 - acc: 0.823 - ETA: 1s - loss: 0.5122 - acc: 0.818 - ETA: 1s - loss: 0.5093 - acc: 0.818 - ETA: 1s - loss: 0.5063 - acc: 0.818 - ETA: 0s - loss: 0.5028 - acc: 0.818 - ETA: 0s - loss: 0.5077 - acc: 0.818 - ETA: 0s - loss: 0.5096 - acc: 0.817 - ETA: 0s - loss: 0.5089 - acc: 0.818 - ETA: 0s - loss: 0.5105 - acc: 0.818 - ETA: 0s - loss: 0.5150 - acc: 0.816 - ETA: 0s - loss: 0.5165 - acc: 0.816 - ETA: 0s - loss: 0.5171 - acc: 0.815 - ETA: 0s - loss: 0.5192 - acc: 0.814 - ETA: 0s - loss: 0.5178 - acc: 0.815 - ETA: 0s - loss: 0.5176 - acc: 0.815 - ETA: 0s - loss: 0.5215 - acc: 0.813 - ETA: 0s - loss: 0.5220 - acc: 0.813 - ETA: 0s - loss: 0.5222 - acc: 0.813 - ETA: 0s - loss: 0.5223 - acc: 0.813 - ETA: 0s - loss: 0.5221 - acc: 0.813 - 1s 31us/step - loss: 0.5225 - acc: 0.8128 - val_loss: 0.7666 - val_acc: 0.7418\n",
      "Epoch 17/150\n",
      "36008/36008 [==============================] - ETA: 1s - loss: 0.5448 - acc: 0.790 - ETA: 0s - loss: 0.4795 - acc: 0.829 - ETA: 0s - loss: 0.4800 - acc: 0.823 - ETA: 0s - loss: 0.4902 - acc: 0.820 - ETA: 0s - loss: 0.4978 - acc: 0.818 - ETA: 0s - loss: 0.4970 - acc: 0.818 - ETA: 0s - loss: 0.4982 - acc: 0.816 - ETA: 0s - loss: 0.5024 - acc: 0.816 - ETA: 0s - loss: 0.5064 - acc: 0.816 - ETA: 0s - loss: 0.5060 - acc: 0.817 - ETA: 0s - loss: 0.5096 - acc: 0.816 - ETA: 0s - loss: 0.5115 - acc: 0.814 - ETA: 0s - loss: 0.5143 - acc: 0.814 - ETA: 0s - loss: 0.5135 - acc: 0.815 - ETA: 0s - loss: 0.5145 - acc: 0.814 - ETA: 0s - loss: 0.5141 - acc: 0.815 - ETA: 0s - loss: 0.5150 - acc: 0.815 - ETA: 0s - loss: 0.5133 - acc: 0.815 - ETA: 0s - loss: 0.5142 - acc: 0.815 - 1s 28us/step - loss: 0.5119 - acc: 0.8163 - val_loss: 0.7572 - val_acc: 0.7531\n",
      "Epoch 18/150\n",
      "36008/36008 [==============================] - ETA: 1s - loss: 0.4935 - acc: 0.850 - ETA: 1s - loss: 0.5224 - acc: 0.812 - ETA: 0s - loss: 0.4988 - acc: 0.819 - ETA: 0s - loss: 0.4985 - acc: 0.817 - ETA: 0s - loss: 0.4926 - acc: 0.818 - ETA: 0s - loss: 0.4952 - acc: 0.819 - ETA: 0s - loss: 0.4975 - acc: 0.818 - ETA: 0s - loss: 0.4992 - acc: 0.817 - ETA: 0s - loss: 0.4948 - acc: 0.820 - ETA: 0s - loss: 0.4964 - acc: 0.820 - ETA: 0s - loss: 0.4982 - acc: 0.819 - ETA: 0s - loss: 0.4991 - acc: 0.820 - ETA: 0s - loss: 0.4994 - acc: 0.820 - ETA: 0s - loss: 0.5017 - acc: 0.820 - ETA: 0s - loss: 0.5033 - acc: 0.820 - ETA: 0s - loss: 0.5035 - acc: 0.819 - ETA: 0s - loss: 0.5043 - acc: 0.818 - ETA: 0s - loss: 0.5053 - acc: 0.818 - ETA: 0s - loss: 0.5051 - acc: 0.818 - ETA: 0s - loss: 0.5070 - acc: 0.818 - 1s 28us/step - loss: 0.5075 - acc: 0.8182 - val_loss: 0.7815 - val_acc: 0.7426\n",
      "Epoch 19/150\n",
      "36008/36008 [==============================] - ETA: 1s - loss: 0.3974 - acc: 0.880 - ETA: 0s - loss: 0.4925 - acc: 0.826 - ETA: 0s - loss: 0.4891 - acc: 0.828 - ETA: 0s - loss: 0.4868 - acc: 0.827 - ETA: 0s - loss: 0.4913 - acc: 0.825 - ETA: 0s - loss: 0.4908 - acc: 0.825 - ETA: 0s - loss: 0.4851 - acc: 0.828 - ETA: 0s - loss: 0.4904 - acc: 0.824 - ETA: 0s - loss: 0.4949 - acc: 0.822 - ETA: 0s - loss: 0.4934 - acc: 0.822 - ETA: 0s - loss: 0.4948 - acc: 0.822 - ETA: 0s - loss: 0.4948 - acc: 0.822 - ETA: 0s - loss: 0.4955 - acc: 0.822 - ETA: 0s - loss: 0.4933 - acc: 0.823 - ETA: 0s - loss: 0.4954 - acc: 0.823 - ETA: 0s - loss: 0.4967 - acc: 0.822 - ETA: 0s - loss: 0.4964 - acc: 0.822 - ETA: 0s - loss: 0.4973 - acc: 0.821 - ETA: 0s - loss: 0.4986 - acc: 0.821 - ETA: 0s - loss: 0.5004 - acc: 0.820 - ETA: 0s - loss: 0.5002 - acc: 0.820 - 1s 30us/step - loss: 0.5007 - acc: 0.8201 - val_loss: 0.8433 - val_acc: 0.7238\n",
      "Epoch 20/150\n",
      "36008/36008 [==============================] - ETA: 2s - loss: 0.4296 - acc: 0.850 - ETA: 0s - loss: 0.4567 - acc: 0.840 - ETA: 0s - loss: 0.4752 - acc: 0.828 - ETA: 0s - loss: 0.4826 - acc: 0.825 - ETA: 0s - loss: 0.4876 - acc: 0.823 - ETA: 0s - loss: 0.4838 - acc: 0.825 - ETA: 0s - loss: 0.4844 - acc: 0.823 - ETA: 0s - loss: 0.4815 - acc: 0.825 - ETA: 0s - loss: 0.4791 - acc: 0.828 - ETA: 0s - loss: 0.4786 - acc: 0.827 - ETA: 0s - loss: 0.4787 - acc: 0.828 - ETA: 0s - loss: 0.4808 - acc: 0.828 - ETA: 0s - loss: 0.4846 - acc: 0.827 - ETA: 0s - loss: 0.4824 - acc: 0.827 - ETA: 0s - loss: 0.4844 - acc: 0.826 - ETA: 0s - loss: 0.4859 - acc: 0.825 - ETA: 0s - loss: 0.4871 - acc: 0.825 - ETA: 0s - loss: 0.4879 - acc: 0.825 - ETA: 0s - loss: 0.4903 - acc: 0.823 - ETA: 0s - loss: 0.4905 - acc: 0.823 - ETA: 0s - loss: 0.4931 - acc: 0.822 - ETA: 0s - loss: 0.4934 - acc: 0.822 - 1s 31us/step - loss: 0.4935 - acc: 0.8223 - val_loss: 0.8314 - val_acc: 0.7293\n",
      "Epoch 21/150\n",
      "36008/36008 [==============================] - ETA: 1s - loss: 0.4698 - acc: 0.820 - ETA: 0s - loss: 0.4634 - acc: 0.831 - ETA: 0s - loss: 0.4791 - acc: 0.826 - ETA: 0s - loss: 0.4818 - acc: 0.826 - ETA: 0s - loss: 0.4846 - acc: 0.825 - ETA: 0s - loss: 0.4810 - acc: 0.828 - ETA: 0s - loss: 0.4869 - acc: 0.826 - ETA: 0s - loss: 0.4861 - acc: 0.824 - ETA: 0s - loss: 0.4830 - acc: 0.826 - ETA: 0s - loss: 0.4800 - acc: 0.828 - ETA: 0s - loss: 0.4793 - acc: 0.827 - ETA: 0s - loss: 0.4788 - acc: 0.827 - ETA: 0s - loss: 0.4796 - acc: 0.827 - ETA: 0s - loss: 0.4785 - acc: 0.828 - ETA: 0s - loss: 0.4755 - acc: 0.830 - ETA: 0s - loss: 0.4761 - acc: 0.829 - ETA: 0s - loss: 0.4767 - acc: 0.829 - ETA: 0s - loss: 0.4788 - acc: 0.828 - ETA: 0s - loss: 0.4828 - acc: 0.826 - ETA: 0s - loss: 0.4843 - acc: 0.826 - 1s 29us/step - loss: 0.4860 - acc: 0.8254 - val_loss: 0.8125 - val_acc: 0.7283\n",
      "Epoch 22/150\n",
      "36008/36008 [==============================] - ETA: 1s - loss: 0.5712 - acc: 0.790 - ETA: 0s - loss: 0.4624 - acc: 0.832 - ETA: 0s - loss: 0.4738 - acc: 0.836 - ETA: 0s - loss: 0.4699 - acc: 0.834 - ETA: 0s - loss: 0.4678 - acc: 0.833 - ETA: 0s - loss: 0.4657 - acc: 0.835 - ETA: 0s - loss: 0.4696 - acc: 0.834 - ETA: 0s - loss: 0.4691 - acc: 0.833 - ETA: 0s - loss: 0.4708 - acc: 0.831 - ETA: 0s - loss: 0.4706 - acc: 0.831 - ETA: 0s - loss: 0.4721 - acc: 0.831 - ETA: 0s - loss: 0.4722 - acc: 0.830 - ETA: 0s - loss: 0.4735 - acc: 0.830 - ETA: 0s - loss: 0.4742 - acc: 0.830 - ETA: 0s - loss: 0.4734 - acc: 0.830 - ETA: 0s - loss: 0.4747 - acc: 0.829 - ETA: 0s - loss: 0.4752 - acc: 0.830 - ETA: 0s - loss: 0.4744 - acc: 0.830 - ETA: 0s - loss: 0.4766 - acc: 0.830 - ETA: 0s - loss: 0.4747 - acc: 0.830 - ETA: 0s - loss: 0.4779 - acc: 0.829 - 1s 30us/step - loss: 0.4783 - acc: 0.8292 - val_loss: 0.8252 - val_acc: 0.7396\n",
      "Epoch 23/150\n",
      "36008/36008 [==============================] - ETA: 1s - loss: 0.3922 - acc: 0.890 - ETA: 0s - loss: 0.4483 - acc: 0.842 - ETA: 0s - loss: 0.4649 - acc: 0.837 - ETA: 0s - loss: 0.4693 - acc: 0.836 - ETA: 0s - loss: 0.4683 - acc: 0.835 - ETA: 0s - loss: 0.4641 - acc: 0.836 - ETA: 0s - loss: 0.4703 - acc: 0.833 - ETA: 0s - loss: 0.4665 - acc: 0.833 - ETA: 0s - loss: 0.4644 - acc: 0.834 - ETA: 0s - loss: 0.4671 - acc: 0.833 - ETA: 0s - loss: 0.4631 - acc: 0.834 - ETA: 0s - loss: 0.4626 - acc: 0.834 - ETA: 0s - loss: 0.4638 - acc: 0.834 - ETA: 0s - loss: 0.4633 - acc: 0.834 - ETA: 0s - loss: 0.4640 - acc: 0.833 - ETA: 0s - loss: 0.4665 - acc: 0.833 - ETA: 0s - loss: 0.4664 - acc: 0.832 - ETA: 0s - loss: 0.4682 - acc: 0.831 - ETA: 0s - loss: 0.4699 - acc: 0.831 - ETA: 0s - loss: 0.4721 - acc: 0.829 - ETA: 0s - loss: 0.4728 - acc: 0.829 - 1s 30us/step - loss: 0.4725 - acc: 0.8297 - val_loss: 0.8295 - val_acc: 0.7403\n",
      "Epoch 24/150\n",
      "36008/36008 [==============================] - ETA: 1s - loss: 0.5231 - acc: 0.800 - ETA: 1s - loss: 0.4416 - acc: 0.848 - ETA: 1s - loss: 0.4412 - acc: 0.844 - ETA: 1s - loss: 0.4379 - acc: 0.848 - ETA: 1s - loss: 0.4465 - acc: 0.842 - ETA: 0s - loss: 0.4452 - acc: 0.843 - ETA: 0s - loss: 0.4535 - acc: 0.839 - ETA: 0s - loss: 0.4610 - acc: 0.836 - ETA: 0s - loss: 0.4634 - acc: 0.835 - ETA: 0s - loss: 0.4608 - acc: 0.836 - ETA: 0s - loss: 0.4625 - acc: 0.835 - ETA: 0s - loss: 0.4627 - acc: 0.834 - ETA: 0s - loss: 0.4613 - acc: 0.834 - ETA: 0s - loss: 0.4608 - acc: 0.833 - ETA: 0s - loss: 0.4623 - acc: 0.833 - ETA: 0s - loss: 0.4630 - acc: 0.832 - ETA: 0s - loss: 0.4648 - acc: 0.832 - ETA: 0s - loss: 0.4628 - acc: 0.832 - ETA: 0s - loss: 0.4624 - acc: 0.832 - ETA: 0s - loss: 0.4645 - acc: 0.831 - ETA: 0s - loss: 0.4650 - acc: 0.831 - ETA: 0s - loss: 0.4653 - acc: 0.831 - ETA: 0s - loss: 0.4667 - acc: 0.831 - ETA: 0s - loss: 0.4668 - acc: 0.831 - 1s 35us/step - loss: 0.4673 - acc: 0.8311 - val_loss: 0.8366 - val_acc: 0.7273\n",
      "Epoch 25/150\n",
      "36008/36008 [==============================] - ETA: 1s - loss: 0.5261 - acc: 0.780 - ETA: 1s - loss: 0.4185 - acc: 0.841 - ETA: 1s - loss: 0.4243 - acc: 0.846 - ETA: 1s - loss: 0.4151 - acc: 0.850 - ETA: 1s - loss: 0.4236 - acc: 0.844 - ETA: 1s - loss: 0.4249 - acc: 0.844 - ETA: 0s - loss: 0.4325 - acc: 0.840 - ETA: 0s - loss: 0.4417 - acc: 0.837 - ETA: 0s - loss: 0.4415 - acc: 0.838 - ETA: 0s - loss: 0.4434 - acc: 0.837 - ETA: 0s - loss: 0.4422 - acc: 0.838 - ETA: 0s - loss: 0.4431 - acc: 0.838 - ETA: 0s - loss: 0.4426 - acc: 0.838 - ETA: 0s - loss: 0.4455 - acc: 0.837 - ETA: 0s - loss: 0.4470 - acc: 0.837 - ETA: 0s - loss: 0.4496 - acc: 0.836 - ETA: 0s - loss: 0.4514 - acc: 0.835 - ETA: 0s - loss: 0.4532 - acc: 0.835 - ETA: 0s - loss: 0.4536 - acc: 0.835 - ETA: 0s - loss: 0.4541 - acc: 0.835 - ETA: 0s - loss: 0.4565 - acc: 0.834 - ETA: 0s - loss: 0.4576 - acc: 0.834 - ETA: 0s - loss: 0.4566 - acc: 0.834 - ETA: 0s - loss: 0.4568 - acc: 0.834 - ETA: 0s - loss: 0.4582 - acc: 0.834 - ETA: 0s - loss: 0.4597 - acc: 0.833 - ETA: 0s - loss: 0.4594 - acc: 0.833 - ETA: 0s - loss: 0.4605 - acc: 0.833 - 1s 41us/step - loss: 0.4609 - acc: 0.8330 - val_loss: 0.8328 - val_acc: 0.7378\n",
      "Epoch 26/150\n",
      "36008/36008 [==============================] - ETA: 2s - loss: 0.5617 - acc: 0.820 - ETA: 1s - loss: 0.4324 - acc: 0.847 - ETA: 1s - loss: 0.4339 - acc: 0.842 - ETA: 1s - loss: 0.4229 - acc: 0.847 - ETA: 1s - loss: 0.4220 - acc: 0.844 - ETA: 1s - loss: 0.4333 - acc: 0.840 - ETA: 1s - loss: 0.4382 - acc: 0.837 - ETA: 0s - loss: 0.4339 - acc: 0.839 - ETA: 0s - loss: 0.4432 - acc: 0.835 - ETA: 0s - loss: 0.4457 - acc: 0.835 - ETA: 0s - loss: 0.4437 - acc: 0.836 - ETA: 0s - loss: 0.4427 - acc: 0.836 - ETA: 0s - loss: 0.4451 - acc: 0.835 - ETA: 0s - loss: 0.4472 - acc: 0.835 - ETA: 0s - loss: 0.4489 - acc: 0.834 - ETA: 0s - loss: 0.4490 - acc: 0.834 - ETA: 0s - loss: 0.4467 - acc: 0.836 - ETA: 0s - loss: 0.4471 - acc: 0.836 - ETA: 0s - loss: 0.4466 - acc: 0.837 - ETA: 0s - loss: 0.4471 - acc: 0.837 - ETA: 0s - loss: 0.4491 - acc: 0.836 - ETA: 0s - loss: 0.4487 - acc: 0.837 - ETA: 0s - loss: 0.4522 - acc: 0.837 - ETA: 0s - loss: 0.4522 - acc: 0.836 - ETA: 0s - loss: 0.4523 - acc: 0.837 - 1s 37us/step - loss: 0.4523 - acc: 0.8371 - val_loss: 0.8116 - val_acc: 0.7523\n",
      "Epoch 27/150\n",
      "36008/36008 [==============================] - ETA: 2s - loss: 0.4336 - acc: 0.840 - ETA: 1s - loss: 0.4363 - acc: 0.848 - ETA: 1s - loss: 0.4159 - acc: 0.849 - ETA: 1s - loss: 0.4310 - acc: 0.844 - ETA: 1s - loss: 0.4394 - acc: 0.843 - ETA: 0s - loss: 0.4363 - acc: 0.845 - ETA: 0s - loss: 0.4375 - acc: 0.844 - ETA: 0s - loss: 0.4364 - acc: 0.843 - ETA: 0s - loss: 0.4431 - acc: 0.841 - ETA: 0s - loss: 0.4406 - acc: 0.841 - ETA: 0s - loss: 0.4413 - acc: 0.840 - ETA: 0s - loss: 0.4435 - acc: 0.840 - ETA: 0s - loss: 0.4449 - acc: 0.839 - ETA: 0s - loss: 0.4440 - acc: 0.840 - ETA: 0s - loss: 0.4410 - acc: 0.841 - ETA: 0s - loss: 0.4396 - acc: 0.841 - ETA: 0s - loss: 0.4418 - acc: 0.840 - ETA: 0s - loss: 0.4424 - acc: 0.840 - ETA: 0s - loss: 0.4436 - acc: 0.840 - ETA: 0s - loss: 0.4438 - acc: 0.840 - ETA: 0s - loss: 0.4440 - acc: 0.839 - ETA: 0s - loss: 0.4448 - acc: 0.839 - ETA: 0s - loss: 0.4451 - acc: 0.839 - 1s 34us/step - loss: 0.4455 - acc: 0.8388 - val_loss: 0.8706 - val_acc: 0.7296\n",
      "Epoch 28/150\n",
      "36008/36008 [==============================] - ETA: 2s - loss: 0.4838 - acc: 0.830 - ETA: 1s - loss: 0.4265 - acc: 0.843 - ETA: 1s - loss: 0.4214 - acc: 0.846 - ETA: 1s - loss: 0.4170 - acc: 0.846 - ETA: 1s - loss: 0.4265 - acc: 0.845 - ETA: 1s - loss: 0.4289 - acc: 0.844 - ETA: 0s - loss: 0.4317 - acc: 0.843 - ETA: 0s - loss: 0.4321 - acc: 0.844 - ETA: 0s - loss: 0.4303 - acc: 0.845 - ETA: 0s - loss: 0.4291 - acc: 0.846 - ETA: 0s - loss: 0.4288 - acc: 0.846 - ETA: 0s - loss: 0.4301 - acc: 0.846 - ETA: 0s - loss: 0.4309 - acc: 0.845 - ETA: 0s - loss: 0.4303 - acc: 0.845 - ETA: 0s - loss: 0.4317 - acc: 0.844 - ETA: 0s - loss: 0.4346 - acc: 0.842 - ETA: 0s - loss: 0.4340 - acc: 0.842 - ETA: 0s - loss: 0.4367 - acc: 0.842 - ETA: 0s - loss: 0.4386 - acc: 0.841 - ETA: 0s - loss: 0.4386 - acc: 0.841 - ETA: 0s - loss: 0.4389 - acc: 0.841 - ETA: 0s - loss: 0.4400 - acc: 0.840 - ETA: 0s - loss: 0.4409 - acc: 0.840 - ETA: 0s - loss: 0.4419 - acc: 0.840 - 1s 36us/step - loss: 0.4424 - acc: 0.8405 - val_loss: 0.8094 - val_acc: 0.7488\n",
      "Epoch 29/150\n",
      "36008/36008 [==============================] - ETA: 2s - loss: 0.4267 - acc: 0.850 - ETA: 1s - loss: 0.3999 - acc: 0.865 - ETA: 1s - loss: 0.3941 - acc: 0.868 - ETA: 1s - loss: 0.3912 - acc: 0.865 - ETA: 1s - loss: 0.4015 - acc: 0.860 - ETA: 0s - loss: 0.4024 - acc: 0.859 - ETA: 0s - loss: 0.4023 - acc: 0.859 - ETA: 0s - loss: 0.4084 - acc: 0.856 - ETA: 0s - loss: 0.4087 - acc: 0.856 - ETA: 0s - loss: 0.4156 - acc: 0.853 - ETA: 0s - loss: 0.4194 - acc: 0.852 - ETA: 0s - loss: 0.4197 - acc: 0.852 - ETA: 0s - loss: 0.4248 - acc: 0.850 - ETA: 0s - loss: 0.4282 - acc: 0.849 - ETA: 0s - loss: 0.4276 - acc: 0.848 - ETA: 0s - loss: 0.4289 - acc: 0.848 - ETA: 0s - loss: 0.4308 - acc: 0.846 - ETA: 0s - loss: 0.4311 - acc: 0.846 - ETA: 0s - loss: 0.4316 - acc: 0.846 - ETA: 0s - loss: 0.4330 - acc: 0.846 - ETA: 0s - loss: 0.4359 - acc: 0.845 - ETA: 0s - loss: 0.4359 - acc: 0.845 - ETA: 0s - loss: 0.4350 - acc: 0.845 - ETA: 0s - loss: 0.4344 - acc: 0.846 - 1s 34us/step - loss: 0.4344 - acc: 0.8460 - val_loss: 0.8702 - val_acc: 0.7316\n",
      "Epoch 30/150\n"
     ]
    },
    {
     "name": "stdout",
     "output_type": "stream",
     "text": [
      "36008/36008 [==============================] - ETA: 1s - loss: 0.3989 - acc: 0.890 - ETA: 0s - loss: 0.4187 - acc: 0.858 - ETA: 0s - loss: 0.4037 - acc: 0.862 - ETA: 0s - loss: 0.4059 - acc: 0.861 - ETA: 0s - loss: 0.4153 - acc: 0.856 - ETA: 0s - loss: 0.4134 - acc: 0.857 - ETA: 0s - loss: 0.4129 - acc: 0.857 - ETA: 0s - loss: 0.4162 - acc: 0.854 - ETA: 0s - loss: 0.4161 - acc: 0.852 - ETA: 0s - loss: 0.4110 - acc: 0.854 - ETA: 0s - loss: 0.4175 - acc: 0.852 - ETA: 0s - loss: 0.4211 - acc: 0.850 - ETA: 0s - loss: 0.4219 - acc: 0.849 - ETA: 0s - loss: 0.4218 - acc: 0.849 - ETA: 0s - loss: 0.4197 - acc: 0.850 - ETA: 0s - loss: 0.4184 - acc: 0.849 - ETA: 0s - loss: 0.4207 - acc: 0.848 - ETA: 0s - loss: 0.4203 - acc: 0.848 - ETA: 0s - loss: 0.4209 - acc: 0.848 - ETA: 0s - loss: 0.4231 - acc: 0.847 - ETA: 0s - loss: 0.4255 - acc: 0.846 - ETA: 0s - loss: 0.4284 - acc: 0.844 - 1s 32us/step - loss: 0.4291 - acc: 0.8442 - val_loss: 0.8439 - val_acc: 0.7378\n",
      "Epoch 31/150\n",
      "36008/36008 [==============================] - ETA: 1s - loss: 0.4087 - acc: 0.860 - ETA: 0s - loss: 0.4177 - acc: 0.851 - ETA: 0s - loss: 0.4169 - acc: 0.848 - ETA: 0s - loss: 0.4116 - acc: 0.850 - ETA: 0s - loss: 0.4091 - acc: 0.851 - ETA: 0s - loss: 0.4164 - acc: 0.849 - ETA: 0s - loss: 0.4181 - acc: 0.848 - ETA: 0s - loss: 0.4190 - acc: 0.849 - ETA: 0s - loss: 0.4203 - acc: 0.848 - ETA: 0s - loss: 0.4204 - acc: 0.849 - ETA: 0s - loss: 0.4230 - acc: 0.847 - ETA: 0s - loss: 0.4219 - acc: 0.847 - ETA: 0s - loss: 0.4215 - acc: 0.848 - ETA: 0s - loss: 0.4203 - acc: 0.848 - ETA: 0s - loss: 0.4174 - acc: 0.849 - ETA: 0s - loss: 0.4172 - acc: 0.849 - ETA: 0s - loss: 0.4175 - acc: 0.849 - ETA: 0s - loss: 0.4180 - acc: 0.848 - ETA: 0s - loss: 0.4188 - acc: 0.848 - ETA: 0s - loss: 0.4191 - acc: 0.849 - ETA: 0s - loss: 0.4209 - acc: 0.848 - 1s 30us/step - loss: 0.4210 - acc: 0.8486 - val_loss: 0.8732 - val_acc: 0.7366\n",
      "Epoch 32/150\n",
      "36008/36008 [==============================] - ETA: 1s - loss: 0.3239 - acc: 0.880 - ETA: 0s - loss: 0.3940 - acc: 0.862 - ETA: 0s - loss: 0.3888 - acc: 0.859 - ETA: 0s - loss: 0.4044 - acc: 0.856 - ETA: 0s - loss: 0.4029 - acc: 0.856 - ETA: 0s - loss: 0.3960 - acc: 0.857 - ETA: 0s - loss: 0.3972 - acc: 0.856 - ETA: 0s - loss: 0.4005 - acc: 0.855 - ETA: 0s - loss: 0.4046 - acc: 0.853 - ETA: 0s - loss: 0.4091 - acc: 0.852 - ETA: 0s - loss: 0.4105 - acc: 0.851 - ETA: 0s - loss: 0.4120 - acc: 0.851 - ETA: 0s - loss: 0.4148 - acc: 0.850 - ETA: 0s - loss: 0.4153 - acc: 0.850 - ETA: 0s - loss: 0.4154 - acc: 0.850 - ETA: 0s - loss: 0.4134 - acc: 0.850 - ETA: 0s - loss: 0.4138 - acc: 0.850 - ETA: 0s - loss: 0.4150 - acc: 0.850 - ETA: 0s - loss: 0.4152 - acc: 0.850 - ETA: 0s - loss: 0.4171 - acc: 0.850 - ETA: 0s - loss: 0.4168 - acc: 0.850 - 1s 30us/step - loss: 0.4164 - acc: 0.8506 - val_loss: 0.8357 - val_acc: 0.7428\n",
      "Epoch 33/150\n",
      "36008/36008 [==============================] - ETA: 1s - loss: 0.3376 - acc: 0.860 - ETA: 0s - loss: 0.3796 - acc: 0.862 - ETA: 0s - loss: 0.4046 - acc: 0.854 - ETA: 0s - loss: 0.4018 - acc: 0.855 - ETA: 0s - loss: 0.4002 - acc: 0.856 - ETA: 0s - loss: 0.3970 - acc: 0.857 - ETA: 0s - loss: 0.3957 - acc: 0.857 - ETA: 0s - loss: 0.3976 - acc: 0.856 - ETA: 0s - loss: 0.3968 - acc: 0.856 - ETA: 0s - loss: 0.4034 - acc: 0.853 - ETA: 0s - loss: 0.4036 - acc: 0.853 - ETA: 0s - loss: 0.4052 - acc: 0.853 - ETA: 0s - loss: 0.4099 - acc: 0.851 - ETA: 0s - loss: 0.4081 - acc: 0.852 - ETA: 0s - loss: 0.4081 - acc: 0.852 - ETA: 0s - loss: 0.4075 - acc: 0.853 - ETA: 0s - loss: 0.4118 - acc: 0.851 - ETA: 0s - loss: 0.4109 - acc: 0.852 - ETA: 0s - loss: 0.4117 - acc: 0.851 - ETA: 0s - loss: 0.4128 - acc: 0.851 - ETA: 0s - loss: 0.4130 - acc: 0.851 - 1s 30us/step - loss: 0.4131 - acc: 0.8513 - val_loss: 0.8298 - val_acc: 0.7501\n",
      "Epoch 34/150\n",
      "36008/36008 [==============================] - ETA: 2s - loss: 0.3722 - acc: 0.870 - ETA: 1s - loss: 0.3630 - acc: 0.870 - ETA: 0s - loss: 0.3768 - acc: 0.858 - ETA: 0s - loss: 0.3826 - acc: 0.862 - ETA: 0s - loss: 0.3833 - acc: 0.865 - ETA: 0s - loss: 0.3856 - acc: 0.863 - ETA: 0s - loss: 0.3862 - acc: 0.862 - ETA: 0s - loss: 0.3922 - acc: 0.861 - ETA: 0s - loss: 0.3924 - acc: 0.860 - ETA: 0s - loss: 0.3962 - acc: 0.859 - ETA: 0s - loss: 0.3947 - acc: 0.859 - ETA: 0s - loss: 0.3963 - acc: 0.859 - ETA: 0s - loss: 0.3988 - acc: 0.858 - ETA: 0s - loss: 0.4013 - acc: 0.857 - ETA: 0s - loss: 0.4034 - acc: 0.855 - ETA: 0s - loss: 0.4033 - acc: 0.855 - ETA: 0s - loss: 0.4044 - acc: 0.855 - ETA: 0s - loss: 0.4040 - acc: 0.855 - ETA: 0s - loss: 0.4052 - acc: 0.855 - ETA: 0s - loss: 0.4060 - acc: 0.854 - 1s 29us/step - loss: 0.4060 - acc: 0.8544 - val_loss: 0.9087 - val_acc: 0.7258\n",
      "Epoch 35/150\n",
      "36008/36008 [==============================] - ETA: 1s - loss: 0.3145 - acc: 0.910 - ETA: 1s - loss: 0.3534 - acc: 0.874 - ETA: 1s - loss: 0.3637 - acc: 0.870 - ETA: 0s - loss: 0.3623 - acc: 0.870 - ETA: 0s - loss: 0.3653 - acc: 0.867 - ETA: 0s - loss: 0.3719 - acc: 0.866 - ETA: 0s - loss: 0.3709 - acc: 0.867 - ETA: 0s - loss: 0.3738 - acc: 0.865 - ETA: 0s - loss: 0.3759 - acc: 0.865 - ETA: 0s - loss: 0.3801 - acc: 0.864 - ETA: 0s - loss: 0.3871 - acc: 0.861 - ETA: 0s - loss: 0.3887 - acc: 0.860 - ETA: 0s - loss: 0.3922 - acc: 0.859 - ETA: 0s - loss: 0.3930 - acc: 0.859 - ETA: 0s - loss: 0.3951 - acc: 0.858 - ETA: 0s - loss: 0.3968 - acc: 0.857 - ETA: 0s - loss: 0.3990 - acc: 0.856 - ETA: 0s - loss: 0.4001 - acc: 0.855 - ETA: 0s - loss: 0.3997 - acc: 0.855 - ETA: 0s - loss: 0.3999 - acc: 0.855 - ETA: 0s - loss: 0.3990 - acc: 0.856 - 1s 30us/step - loss: 0.3989 - acc: 0.8559 - val_loss: 0.8919 - val_acc: 0.7343\n",
      "Epoch 36/150\n",
      "36008/36008 [==============================] - ETA: 1s - loss: 0.3039 - acc: 0.900 - ETA: 0s - loss: 0.3849 - acc: 0.860 - ETA: 0s - loss: 0.3714 - acc: 0.866 - ETA: 0s - loss: 0.3801 - acc: 0.864 - ETA: 0s - loss: 0.3795 - acc: 0.865 - ETA: 0s - loss: 0.3821 - acc: 0.862 - ETA: 0s - loss: 0.3806 - acc: 0.863 - ETA: 0s - loss: 0.3818 - acc: 0.863 - ETA: 0s - loss: 0.3812 - acc: 0.864 - ETA: 0s - loss: 0.3859 - acc: 0.863 - ETA: 0s - loss: 0.3846 - acc: 0.863 - ETA: 0s - loss: 0.3855 - acc: 0.862 - ETA: 0s - loss: 0.3857 - acc: 0.862 - ETA: 0s - loss: 0.3865 - acc: 0.862 - ETA: 0s - loss: 0.3887 - acc: 0.860 - ETA: 0s - loss: 0.3882 - acc: 0.860 - ETA: 0s - loss: 0.3915 - acc: 0.859 - ETA: 0s - loss: 0.3926 - acc: 0.859 - ETA: 0s - loss: 0.3919 - acc: 0.859 - ETA: 0s - loss: 0.3941 - acc: 0.858 - 1s 29us/step - loss: 0.3958 - acc: 0.8576 - val_loss: 0.9023 - val_acc: 0.7358\n",
      "Epoch 37/150\n",
      "36008/36008 [==============================] - ETA: 1s - loss: 0.2950 - acc: 0.900 - ETA: 1s - loss: 0.3488 - acc: 0.883 - ETA: 1s - loss: 0.3561 - acc: 0.872 - ETA: 1s - loss: 0.3814 - acc: 0.867 - ETA: 0s - loss: 0.3747 - acc: 0.868 - ETA: 0s - loss: 0.3815 - acc: 0.866 - ETA: 0s - loss: 0.3868 - acc: 0.863 - ETA: 0s - loss: 0.3864 - acc: 0.862 - ETA: 0s - loss: 0.3839 - acc: 0.864 - ETA: 0s - loss: 0.3833 - acc: 0.863 - ETA: 0s - loss: 0.3829 - acc: 0.864 - ETA: 0s - loss: 0.3828 - acc: 0.864 - ETA: 0s - loss: 0.3839 - acc: 0.864 - ETA: 0s - loss: 0.3830 - acc: 0.863 - ETA: 0s - loss: 0.3824 - acc: 0.864 - ETA: 0s - loss: 0.3817 - acc: 0.864 - ETA: 0s - loss: 0.3814 - acc: 0.864 - ETA: 0s - loss: 0.3836 - acc: 0.863 - ETA: 0s - loss: 0.3859 - acc: 0.862 - ETA: 0s - loss: 0.3868 - acc: 0.862 - ETA: 0s - loss: 0.3867 - acc: 0.863 - ETA: 0s - loss: 0.3892 - acc: 0.862 - ETA: 0s - loss: 0.3891 - acc: 0.862 - 1s 33us/step - loss: 0.3898 - acc: 0.8622 - val_loss: 0.8783 - val_acc: 0.7343\n",
      "Epoch 38/150\n",
      "36008/36008 [==============================] - ETA: 1s - loss: 0.4373 - acc: 0.800 - ETA: 1s - loss: 0.3902 - acc: 0.867 - ETA: 1s - loss: 0.3645 - acc: 0.875 - ETA: 0s - loss: 0.3635 - acc: 0.872 - ETA: 0s - loss: 0.3687 - acc: 0.870 - ETA: 0s - loss: 0.3714 - acc: 0.871 - ETA: 0s - loss: 0.3697 - acc: 0.870 - ETA: 0s - loss: 0.3712 - acc: 0.869 - ETA: 0s - loss: 0.3744 - acc: 0.868 - ETA: 0s - loss: 0.3773 - acc: 0.868 - ETA: 0s - loss: 0.3781 - acc: 0.867 - ETA: 0s - loss: 0.3770 - acc: 0.868 - ETA: 0s - loss: 0.3766 - acc: 0.868 - ETA: 0s - loss: 0.3768 - acc: 0.869 - ETA: 0s - loss: 0.3780 - acc: 0.868 - ETA: 0s - loss: 0.3806 - acc: 0.867 - ETA: 0s - loss: 0.3806 - acc: 0.866 - ETA: 0s - loss: 0.3827 - acc: 0.865 - ETA: 0s - loss: 0.3808 - acc: 0.866 - ETA: 0s - loss: 0.3831 - acc: 0.865 - ETA: 0s - loss: 0.3830 - acc: 0.864 - ETA: 0s - loss: 0.3837 - acc: 0.864 - ETA: 0s - loss: 0.3856 - acc: 0.863 - ETA: 0s - loss: 0.3869 - acc: 0.863 - 1s 35us/step - loss: 0.3873 - acc: 0.8629 - val_loss: 0.8743 - val_acc: 0.7391\n",
      "Epoch 39/150\n",
      "36008/36008 [==============================] - ETA: 1s - loss: 0.4094 - acc: 0.870 - ETA: 0s - loss: 0.3808 - acc: 0.866 - ETA: 0s - loss: 0.3787 - acc: 0.872 - ETA: 0s - loss: 0.3770 - acc: 0.869 - ETA: 0s - loss: 0.3745 - acc: 0.869 - ETA: 0s - loss: 0.3694 - acc: 0.871 - ETA: 0s - loss: 0.3663 - acc: 0.871 - ETA: 0s - loss: 0.3685 - acc: 0.868 - ETA: 0s - loss: 0.3679 - acc: 0.868 - ETA: 0s - loss: 0.3680 - acc: 0.867 - ETA: 0s - loss: 0.3683 - acc: 0.868 - ETA: 0s - loss: 0.3705 - acc: 0.868 - ETA: 0s - loss: 0.3718 - acc: 0.867 - ETA: 0s - loss: 0.3732 - acc: 0.866 - ETA: 0s - loss: 0.3750 - acc: 0.865 - ETA: 0s - loss: 0.3733 - acc: 0.865 - ETA: 0s - loss: 0.3763 - acc: 0.864 - ETA: 0s - loss: 0.3767 - acc: 0.864 - ETA: 0s - loss: 0.3785 - acc: 0.864 - ETA: 0s - loss: 0.3789 - acc: 0.864 - ETA: 0s - loss: 0.3783 - acc: 0.864 - 1s 31us/step - loss: 0.3792 - acc: 0.8639 - val_loss: 0.9089 - val_acc: 0.7351\n",
      "Epoch 40/150\n",
      "36008/36008 [==============================] - ETA: 2s - loss: 0.4303 - acc: 0.820 - ETA: 1s - loss: 0.3367 - acc: 0.883 - ETA: 0s - loss: 0.3502 - acc: 0.875 - ETA: 0s - loss: 0.3523 - acc: 0.874 - ETA: 0s - loss: 0.3487 - acc: 0.878 - ETA: 0s - loss: 0.3567 - acc: 0.876 - ETA: 0s - loss: 0.3542 - acc: 0.876 - ETA: 0s - loss: 0.3578 - acc: 0.876 - ETA: 0s - loss: 0.3578 - acc: 0.874 - ETA: 0s - loss: 0.3618 - acc: 0.872 - ETA: 0s - loss: 0.3640 - acc: 0.871 - ETA: 0s - loss: 0.3671 - acc: 0.869 - ETA: 0s - loss: 0.3685 - acc: 0.869 - ETA: 0s - loss: 0.3695 - acc: 0.869 - ETA: 0s - loss: 0.3710 - acc: 0.868 - ETA: 0s - loss: 0.3716 - acc: 0.868 - ETA: 0s - loss: 0.3729 - acc: 0.868 - ETA: 0s - loss: 0.3744 - acc: 0.867 - ETA: 0s - loss: 0.3765 - acc: 0.866 - ETA: 0s - loss: 0.3784 - acc: 0.865 - 1s 29us/step - loss: 0.3779 - acc: 0.8655 - val_loss: 0.9123 - val_acc: 0.7328\n",
      "Epoch 41/150\n",
      "36008/36008 [==============================] - ETA: 1s - loss: 0.3578 - acc: 0.830 - ETA: 1s - loss: 0.3435 - acc: 0.880 - ETA: 1s - loss: 0.3460 - acc: 0.882 - ETA: 0s - loss: 0.3390 - acc: 0.883 - ETA: 0s - loss: 0.3386 - acc: 0.881 - ETA: 0s - loss: 0.3412 - acc: 0.880 - ETA: 0s - loss: 0.3453 - acc: 0.877 - ETA: 0s - loss: 0.3412 - acc: 0.880 - ETA: 0s - loss: 0.3479 - acc: 0.878 - ETA: 0s - loss: 0.3506 - acc: 0.876 - ETA: 0s - loss: 0.3549 - acc: 0.875 - ETA: 0s - loss: 0.3562 - acc: 0.875 - ETA: 0s - loss: 0.3619 - acc: 0.873 - ETA: 0s - loss: 0.3646 - acc: 0.872 - ETA: 0s - loss: 0.3687 - acc: 0.870 - ETA: 0s - loss: 0.3683 - acc: 0.870 - ETA: 0s - loss: 0.3696 - acc: 0.869 - ETA: 0s - loss: 0.3685 - acc: 0.869 - ETA: 0s - loss: 0.3705 - acc: 0.868 - ETA: 0s - loss: 0.3717 - acc: 0.868 - ETA: 0s - loss: 0.3731 - acc: 0.867 - 1s 30us/step - loss: 0.3731 - acc: 0.8678 - val_loss: 0.9545 - val_acc: 0.7293\n",
      "Epoch 42/150\n",
      "36008/36008 [==============================] - ETA: 1s - loss: 0.3413 - acc: 0.850 - ETA: 0s - loss: 0.3373 - acc: 0.874 - ETA: 0s - loss: 0.3419 - acc: 0.875 - ETA: 0s - loss: 0.3532 - acc: 0.874 - ETA: 0s - loss: 0.3544 - acc: 0.874 - ETA: 0s - loss: 0.3545 - acc: 0.874 - ETA: 0s - loss: 0.3578 - acc: 0.874 - ETA: 0s - loss: 0.3543 - acc: 0.875 - ETA: 0s - loss: 0.3557 - acc: 0.874 - ETA: 0s - loss: 0.3575 - acc: 0.874 - ETA: 0s - loss: 0.3595 - acc: 0.872 - ETA: 0s - loss: 0.3603 - acc: 0.872 - ETA: 0s - loss: 0.3602 - acc: 0.872 - ETA: 0s - loss: 0.3606 - acc: 0.872 - ETA: 0s - loss: 0.3626 - acc: 0.871 - ETA: 0s - loss: 0.3627 - acc: 0.870 - ETA: 0s - loss: 0.3640 - acc: 0.870 - ETA: 0s - loss: 0.3649 - acc: 0.870 - ETA: 0s - loss: 0.3663 - acc: 0.869 - ETA: 0s - loss: 0.3664 - acc: 0.869 - 1s 28us/step - loss: 0.3664 - acc: 0.8693 - val_loss: 0.9436 - val_acc: 0.7286\n",
      "Epoch 43/150\n",
      "36008/36008 [==============================] - ETA: 2s - loss: 0.3566 - acc: 0.880 - ETA: 0s - loss: 0.3327 - acc: 0.882 - ETA: 0s - loss: 0.3359 - acc: 0.881 - ETA: 0s - loss: 0.3398 - acc: 0.879 - ETA: 0s - loss: 0.3479 - acc: 0.875 - ETA: 0s - loss: 0.3484 - acc: 0.876 - ETA: 0s - loss: 0.3519 - acc: 0.874 - ETA: 0s - loss: 0.3550 - acc: 0.874 - ETA: 0s - loss: 0.3531 - acc: 0.875 - ETA: 0s - loss: 0.3520 - acc: 0.876 - ETA: 0s - loss: 0.3557 - acc: 0.874 - ETA: 0s - loss: 0.3564 - acc: 0.873 - ETA: 0s - loss: 0.3564 - acc: 0.873 - ETA: 0s - loss: 0.3573 - acc: 0.873 - ETA: 0s - loss: 0.3568 - acc: 0.874 - ETA: 0s - loss: 0.3590 - acc: 0.873 - ETA: 0s - loss: 0.3598 - acc: 0.873 - ETA: 0s - loss: 0.3604 - acc: 0.873 - ETA: 0s - loss: 0.3611 - acc: 0.873 - ETA: 0s - loss: 0.3614 - acc: 0.872 - 1s 29us/step - loss: 0.3618 - acc: 0.8725 - val_loss: 0.9792 - val_acc: 0.7213\n",
      "Epoch 44/150\n",
      "36008/36008 [==============================] - ETA: 1s - loss: 0.2903 - acc: 0.890 - ETA: 0s - loss: 0.3218 - acc: 0.884 - ETA: 0s - loss: 0.3270 - acc: 0.887 - ETA: 0s - loss: 0.3410 - acc: 0.881 - ETA: 0s - loss: 0.3412 - acc: 0.881 - ETA: 0s - loss: 0.3400 - acc: 0.881 - ETA: 0s - loss: 0.3461 - acc: 0.880 - ETA: 0s - loss: 0.3442 - acc: 0.881 - ETA: 0s - loss: 0.3425 - acc: 0.880 - ETA: 0s - loss: 0.3474 - acc: 0.879 - ETA: 0s - loss: 0.3468 - acc: 0.879 - ETA: 0s - loss: 0.3478 - acc: 0.878 - ETA: 0s - loss: 0.3481 - acc: 0.877 - ETA: 0s - loss: 0.3489 - acc: 0.877 - ETA: 0s - loss: 0.3475 - acc: 0.877 - ETA: 0s - loss: 0.3496 - acc: 0.876 - ETA: 0s - loss: 0.3510 - acc: 0.876 - ETA: 0s - loss: 0.3540 - acc: 0.874 - ETA: 0s - loss: 0.3575 - acc: 0.873 - 1s 27us/step - loss: 0.3580 - acc: 0.8736 - val_loss: 0.9738 - val_acc: 0.7363\n",
      "Epoch 45/150\n",
      "36008/36008 [==============================] - ETA: 1s - loss: 0.2221 - acc: 0.930 - ETA: 0s - loss: 0.3027 - acc: 0.902 - ETA: 0s - loss: 0.3102 - acc: 0.895 - ETA: 0s - loss: 0.3362 - acc: 0.883 - ETA: 0s - loss: 0.3378 - acc: 0.882 - ETA: 0s - loss: 0.3400 - acc: 0.880 - ETA: 0s - loss: 0.3408 - acc: 0.879 - ETA: 0s - loss: 0.3390 - acc: 0.878 - ETA: 0s - loss: 0.3395 - acc: 0.879 - ETA: 0s - loss: 0.3374 - acc: 0.880 - ETA: 0s - loss: 0.3382 - acc: 0.879 - ETA: 0s - loss: 0.3389 - acc: 0.880 - ETA: 0s - loss: 0.3416 - acc: 0.879 - ETA: 0s - loss: 0.3422 - acc: 0.879 - ETA: 0s - loss: 0.3453 - acc: 0.878 - ETA: 0s - loss: 0.3485 - acc: 0.876 - ETA: 0s - loss: 0.3497 - acc: 0.875 - ETA: 0s - loss: 0.3524 - acc: 0.875 - ETA: 0s - loss: 0.3528 - acc: 0.875 - 1s 27us/step - loss: 0.3539 - acc: 0.8752 - val_loss: 0.9421 - val_acc: 0.7286\n",
      "Epoch 46/150\n"
     ]
    },
    {
     "name": "stdout",
     "output_type": "stream",
     "text": [
      "36008/36008 [==============================] - ETA: 1s - loss: 0.2759 - acc: 0.890 - ETA: 1s - loss: 0.3367 - acc: 0.880 - ETA: 0s - loss: 0.3360 - acc: 0.885 - ETA: 0s - loss: 0.3315 - acc: 0.886 - ETA: 0s - loss: 0.3312 - acc: 0.884 - ETA: 0s - loss: 0.3308 - acc: 0.884 - ETA: 0s - loss: 0.3278 - acc: 0.884 - ETA: 0s - loss: 0.3259 - acc: 0.885 - ETA: 0s - loss: 0.3297 - acc: 0.884 - ETA: 0s - loss: 0.3321 - acc: 0.883 - ETA: 0s - loss: 0.3370 - acc: 0.881 - ETA: 0s - loss: 0.3380 - acc: 0.881 - ETA: 0s - loss: 0.3379 - acc: 0.881 - ETA: 0s - loss: 0.3406 - acc: 0.880 - ETA: 0s - loss: 0.3426 - acc: 0.880 - ETA: 0s - loss: 0.3436 - acc: 0.879 - ETA: 0s - loss: 0.3439 - acc: 0.879 - ETA: 0s - loss: 0.3442 - acc: 0.879 - ETA: 0s - loss: 0.3459 - acc: 0.878 - ETA: 0s - loss: 0.3470 - acc: 0.878 - ETA: 0s - loss: 0.3478 - acc: 0.878 - ETA: 0s - loss: 0.3481 - acc: 0.877 - ETA: 0s - loss: 0.3488 - acc: 0.877 - 1s 33us/step - loss: 0.3492 - acc: 0.8772 - val_loss: 0.9594 - val_acc: 0.7311\n",
      "Epoch 47/150\n",
      "36008/36008 [==============================] - ETA: 1s - loss: 0.3186 - acc: 0.880 - ETA: 1s - loss: 0.3373 - acc: 0.889 - ETA: 1s - loss: 0.3261 - acc: 0.887 - ETA: 1s - loss: 0.3256 - acc: 0.882 - ETA: 1s - loss: 0.3293 - acc: 0.881 - ETA: 1s - loss: 0.3227 - acc: 0.884 - ETA: 0s - loss: 0.3202 - acc: 0.884 - ETA: 0s - loss: 0.3206 - acc: 0.885 - ETA: 0s - loss: 0.3212 - acc: 0.884 - ETA: 0s - loss: 0.3236 - acc: 0.882 - ETA: 0s - loss: 0.3252 - acc: 0.882 - ETA: 0s - loss: 0.3265 - acc: 0.882 - ETA: 0s - loss: 0.3308 - acc: 0.881 - ETA: 0s - loss: 0.3315 - acc: 0.881 - ETA: 0s - loss: 0.3336 - acc: 0.881 - ETA: 0s - loss: 0.3348 - acc: 0.880 - ETA: 0s - loss: 0.3353 - acc: 0.880 - ETA: 0s - loss: 0.3371 - acc: 0.879 - ETA: 0s - loss: 0.3406 - acc: 0.877 - ETA: 0s - loss: 0.3387 - acc: 0.878 - ETA: 0s - loss: 0.3402 - acc: 0.877 - ETA: 0s - loss: 0.3410 - acc: 0.877 - ETA: 0s - loss: 0.3414 - acc: 0.877 - ETA: 0s - loss: 0.3427 - acc: 0.877 - ETA: 0s - loss: 0.3439 - acc: 0.877 - 1s 36us/step - loss: 0.3432 - acc: 0.8771 - val_loss: 1.0280 - val_acc: 0.7243\n",
      "Epoch 48/150\n",
      "36008/36008 [==============================] - ETA: 2s - loss: 0.3932 - acc: 0.890 - ETA: 1s - loss: 0.3067 - acc: 0.898 - ETA: 0s - loss: 0.3193 - acc: 0.891 - ETA: 0s - loss: 0.3175 - acc: 0.889 - ETA: 0s - loss: 0.3199 - acc: 0.886 - ETA: 0s - loss: 0.3210 - acc: 0.888 - ETA: 0s - loss: 0.3280 - acc: 0.884 - ETA: 0s - loss: 0.3279 - acc: 0.883 - ETA: 0s - loss: 0.3285 - acc: 0.883 - ETA: 0s - loss: 0.3269 - acc: 0.883 - ETA: 0s - loss: 0.3295 - acc: 0.882 - ETA: 0s - loss: 0.3318 - acc: 0.880 - ETA: 0s - loss: 0.3307 - acc: 0.881 - ETA: 0s - loss: 0.3339 - acc: 0.880 - ETA: 0s - loss: 0.3347 - acc: 0.880 - ETA: 0s - loss: 0.3353 - acc: 0.881 - ETA: 0s - loss: 0.3362 - acc: 0.881 - ETA: 0s - loss: 0.3376 - acc: 0.880 - ETA: 0s - loss: 0.3391 - acc: 0.879 - ETA: 0s - loss: 0.3395 - acc: 0.879 - ETA: 0s - loss: 0.3399 - acc: 0.879 - 1s 31us/step - loss: 0.3408 - acc: 0.8794 - val_loss: 1.0011 - val_acc: 0.7328\n",
      "Epoch 49/150\n",
      "36008/36008 [==============================] - ETA: 1s - loss: 0.2988 - acc: 0.890 - ETA: 1s - loss: 0.3038 - acc: 0.898 - ETA: 0s - loss: 0.3084 - acc: 0.898 - ETA: 0s - loss: 0.3103 - acc: 0.895 - ETA: 0s - loss: 0.3093 - acc: 0.894 - ETA: 0s - loss: 0.3162 - acc: 0.892 - ETA: 0s - loss: 0.3113 - acc: 0.895 - ETA: 0s - loss: 0.3124 - acc: 0.893 - ETA: 0s - loss: 0.3145 - acc: 0.892 - ETA: 0s - loss: 0.3161 - acc: 0.892 - ETA: 0s - loss: 0.3201 - acc: 0.890 - ETA: 0s - loss: 0.3225 - acc: 0.889 - ETA: 0s - loss: 0.3234 - acc: 0.889 - ETA: 0s - loss: 0.3248 - acc: 0.888 - ETA: 0s - loss: 0.3262 - acc: 0.887 - ETA: 0s - loss: 0.3256 - acc: 0.887 - ETA: 0s - loss: 0.3274 - acc: 0.886 - ETA: 0s - loss: 0.3300 - acc: 0.885 - ETA: 0s - loss: 0.3315 - acc: 0.885 - ETA: 0s - loss: 0.3323 - acc: 0.885 - ETA: 0s - loss: 0.3346 - acc: 0.884 - 1s 30us/step - loss: 0.3354 - acc: 0.8839 - val_loss: 0.9608 - val_acc: 0.7263\n",
      "Epoch 50/150\n",
      "36008/36008 [==============================] - ETA: 1s - loss: 0.3006 - acc: 0.880 - ETA: 1s - loss: 0.3189 - acc: 0.884 - ETA: 1s - loss: 0.3133 - acc: 0.890 - ETA: 1s - loss: 0.3055 - acc: 0.889 - ETA: 0s - loss: 0.3109 - acc: 0.886 - ETA: 0s - loss: 0.3085 - acc: 0.891 - ETA: 0s - loss: 0.3093 - acc: 0.889 - ETA: 0s - loss: 0.3109 - acc: 0.890 - ETA: 0s - loss: 0.3119 - acc: 0.890 - ETA: 0s - loss: 0.3106 - acc: 0.890 - ETA: 0s - loss: 0.3145 - acc: 0.888 - ETA: 0s - loss: 0.3159 - acc: 0.887 - ETA: 0s - loss: 0.3152 - acc: 0.887 - ETA: 0s - loss: 0.3182 - acc: 0.887 - ETA: 0s - loss: 0.3208 - acc: 0.886 - ETA: 0s - loss: 0.3238 - acc: 0.884 - ETA: 0s - loss: 0.3249 - acc: 0.884 - ETA: 0s - loss: 0.3253 - acc: 0.884 - ETA: 0s - loss: 0.3259 - acc: 0.884 - ETA: 0s - loss: 0.3250 - acc: 0.883 - ETA: 0s - loss: 0.3253 - acc: 0.884 - ETA: 0s - loss: 0.3279 - acc: 0.884 - ETA: 0s - loss: 0.3296 - acc: 0.883 - ETA: 0s - loss: 0.3304 - acc: 0.883 - 1s 36us/step - loss: 0.3317 - acc: 0.8832 - val_loss: 1.0502 - val_acc: 0.7333\n",
      "Epoch 51/150\n",
      "36008/36008 [==============================] - ETA: 2s - loss: 0.2377 - acc: 0.920 - ETA: 0s - loss: 0.2865 - acc: 0.902 - ETA: 0s - loss: 0.2961 - acc: 0.899 - ETA: 0s - loss: 0.3053 - acc: 0.896 - ETA: 0s - loss: 0.3157 - acc: 0.892 - ETA: 0s - loss: 0.3167 - acc: 0.891 - ETA: 0s - loss: 0.3187 - acc: 0.890 - ETA: 0s - loss: 0.3165 - acc: 0.890 - ETA: 0s - loss: 0.3144 - acc: 0.890 - ETA: 0s - loss: 0.3138 - acc: 0.891 - ETA: 0s - loss: 0.3142 - acc: 0.890 - ETA: 0s - loss: 0.3165 - acc: 0.890 - ETA: 0s - loss: 0.3176 - acc: 0.890 - ETA: 0s - loss: 0.3203 - acc: 0.889 - ETA: 0s - loss: 0.3232 - acc: 0.889 - ETA: 0s - loss: 0.3228 - acc: 0.888 - ETA: 0s - loss: 0.3243 - acc: 0.888 - ETA: 0s - loss: 0.3254 - acc: 0.887 - ETA: 0s - loss: 0.3259 - acc: 0.887 - ETA: 0s - loss: 0.3269 - acc: 0.887 - ETA: 0s - loss: 0.3287 - acc: 0.886 - 1s 30us/step - loss: 0.3292 - acc: 0.8859 - val_loss: 1.0324 - val_acc: 0.7241\n",
      "Epoch 52/150\n",
      "36008/36008 [==============================] - ETA: 2s - loss: 0.3264 - acc: 0.860 - ETA: 1s - loss: 0.2879 - acc: 0.891 - ETA: 1s - loss: 0.2754 - acc: 0.902 - ETA: 1s - loss: 0.2789 - acc: 0.900 - ETA: 1s - loss: 0.2907 - acc: 0.898 - ETA: 1s - loss: 0.3059 - acc: 0.895 - ETA: 1s - loss: 0.3049 - acc: 0.896 - ETA: 0s - loss: 0.3122 - acc: 0.895 - ETA: 0s - loss: 0.3130 - acc: 0.894 - ETA: 0s - loss: 0.3136 - acc: 0.893 - ETA: 0s - loss: 0.3119 - acc: 0.894 - ETA: 0s - loss: 0.3143 - acc: 0.893 - ETA: 0s - loss: 0.3152 - acc: 0.892 - ETA: 0s - loss: 0.3183 - acc: 0.891 - ETA: 0s - loss: 0.3160 - acc: 0.892 - ETA: 0s - loss: 0.3167 - acc: 0.891 - ETA: 0s - loss: 0.3177 - acc: 0.891 - ETA: 0s - loss: 0.3204 - acc: 0.890 - ETA: 0s - loss: 0.3222 - acc: 0.889 - ETA: 0s - loss: 0.3236 - acc: 0.888 - ETA: 0s - loss: 0.3236 - acc: 0.888 - ETA: 0s - loss: 0.3228 - acc: 0.888 - ETA: 0s - loss: 0.3235 - acc: 0.888 - ETA: 0s - loss: 0.3243 - acc: 0.887 - 1s 35us/step - loss: 0.3243 - acc: 0.8874 - val_loss: 1.0645 - val_acc: 0.7328\n",
      "Epoch 53/150\n",
      "36008/36008 [==============================] - ETA: 1s - loss: 0.2164 - acc: 0.930 - ETA: 0s - loss: 0.2982 - acc: 0.892 - ETA: 0s - loss: 0.3012 - acc: 0.896 - ETA: 0s - loss: 0.2978 - acc: 0.900 - ETA: 0s - loss: 0.2984 - acc: 0.900 - ETA: 0s - loss: 0.3004 - acc: 0.898 - ETA: 0s - loss: 0.3022 - acc: 0.897 - ETA: 0s - loss: 0.3033 - acc: 0.897 - ETA: 0s - loss: 0.3057 - acc: 0.895 - ETA: 0s - loss: 0.3051 - acc: 0.895 - ETA: 0s - loss: 0.3078 - acc: 0.893 - ETA: 0s - loss: 0.3106 - acc: 0.891 - ETA: 0s - loss: 0.3114 - acc: 0.891 - ETA: 0s - loss: 0.3135 - acc: 0.890 - ETA: 0s - loss: 0.3149 - acc: 0.890 - ETA: 0s - loss: 0.3168 - acc: 0.889 - ETA: 0s - loss: 0.3184 - acc: 0.889 - ETA: 0s - loss: 0.3202 - acc: 0.888 - ETA: 0s - loss: 0.3213 - acc: 0.888 - ETA: 0s - loss: 0.3216 - acc: 0.888 - ETA: 0s - loss: 0.3216 - acc: 0.888 - 1s 30us/step - loss: 0.3220 - acc: 0.8882 - val_loss: 1.0399 - val_acc: 0.7201\n",
      "Epoch 54/150\n",
      "36008/36008 [==============================] - ETA: 1s - loss: 0.2670 - acc: 0.900 - ETA: 0s - loss: 0.2916 - acc: 0.899 - ETA: 0s - loss: 0.2903 - acc: 0.902 - ETA: 0s - loss: 0.2885 - acc: 0.900 - ETA: 0s - loss: 0.2897 - acc: 0.899 - ETA: 0s - loss: 0.2882 - acc: 0.899 - ETA: 0s - loss: 0.2962 - acc: 0.897 - ETA: 0s - loss: 0.2985 - acc: 0.895 - ETA: 0s - loss: 0.3017 - acc: 0.895 - ETA: 0s - loss: 0.2999 - acc: 0.895 - ETA: 0s - loss: 0.2989 - acc: 0.895 - ETA: 0s - loss: 0.3034 - acc: 0.894 - ETA: 0s - loss: 0.3052 - acc: 0.893 - ETA: 0s - loss: 0.3058 - acc: 0.893 - ETA: 0s - loss: 0.3053 - acc: 0.893 - ETA: 0s - loss: 0.3076 - acc: 0.893 - ETA: 0s - loss: 0.3084 - acc: 0.893 - ETA: 0s - loss: 0.3089 - acc: 0.892 - ETA: 0s - loss: 0.3085 - acc: 0.892 - ETA: 0s - loss: 0.3098 - acc: 0.892 - ETA: 0s - loss: 0.3110 - acc: 0.891 - ETA: 0s - loss: 0.3119 - acc: 0.891 - ETA: 0s - loss: 0.3141 - acc: 0.890 - ETA: 0s - loss: 0.3154 - acc: 0.890 - 1s 35us/step - loss: 0.3155 - acc: 0.8900 - val_loss: 1.0270 - val_acc: 0.7306\n",
      "Epoch 55/150\n",
      "36008/36008 [==============================] - ETA: 1s - loss: 0.2079 - acc: 0.940 - ETA: 1s - loss: 0.2760 - acc: 0.908 - ETA: 1s - loss: 0.2765 - acc: 0.904 - ETA: 1s - loss: 0.2873 - acc: 0.898 - ETA: 1s - loss: 0.2897 - acc: 0.897 - ETA: 1s - loss: 0.2855 - acc: 0.898 - ETA: 1s - loss: 0.2964 - acc: 0.895 - ETA: 1s - loss: 0.2953 - acc: 0.895 - ETA: 1s - loss: 0.2964 - acc: 0.894 - ETA: 1s - loss: 0.2923 - acc: 0.896 - ETA: 1s - loss: 0.2940 - acc: 0.895 - ETA: 0s - loss: 0.2921 - acc: 0.896 - ETA: 0s - loss: 0.2945 - acc: 0.894 - ETA: 0s - loss: 0.2967 - acc: 0.894 - ETA: 0s - loss: 0.2956 - acc: 0.894 - ETA: 0s - loss: 0.2957 - acc: 0.893 - ETA: 0s - loss: 0.2977 - acc: 0.892 - ETA: 0s - loss: 0.2997 - acc: 0.892 - ETA: 0s - loss: 0.3015 - acc: 0.892 - ETA: 0s - loss: 0.3010 - acc: 0.892 - ETA: 0s - loss: 0.3030 - acc: 0.893 - ETA: 0s - loss: 0.3046 - acc: 0.892 - ETA: 0s - loss: 0.3083 - acc: 0.891 - ETA: 0s - loss: 0.3095 - acc: 0.891 - ETA: 0s - loss: 0.3130 - acc: 0.890 - ETA: 0s - loss: 0.3140 - acc: 0.890 - ETA: 0s - loss: 0.3142 - acc: 0.889 - 1s 41us/step - loss: 0.3145 - acc: 0.8898 - val_loss: 0.9836 - val_acc: 0.7388\n",
      "Epoch 56/150\n",
      "36008/36008 [==============================] - ETA: 1s - loss: 0.2550 - acc: 0.890 - ETA: 1s - loss: 0.2601 - acc: 0.907 - ETA: 1s - loss: 0.2665 - acc: 0.906 - ETA: 1s - loss: 0.2663 - acc: 0.906 - ETA: 1s - loss: 0.2723 - acc: 0.905 - ETA: 1s - loss: 0.2758 - acc: 0.904 - ETA: 0s - loss: 0.2785 - acc: 0.903 - ETA: 0s - loss: 0.2866 - acc: 0.900 - ETA: 0s - loss: 0.2896 - acc: 0.899 - ETA: 0s - loss: 0.2882 - acc: 0.901 - ETA: 0s - loss: 0.2909 - acc: 0.900 - ETA: 0s - loss: 0.2927 - acc: 0.899 - ETA: 0s - loss: 0.2962 - acc: 0.897 - ETA: 0s - loss: 0.2996 - acc: 0.895 - ETA: 0s - loss: 0.3013 - acc: 0.894 - ETA: 0s - loss: 0.3044 - acc: 0.893 - ETA: 0s - loss: 0.3040 - acc: 0.893 - ETA: 0s - loss: 0.3048 - acc: 0.893 - ETA: 0s - loss: 0.3078 - acc: 0.892 - ETA: 0s - loss: 0.3091 - acc: 0.892 - ETA: 0s - loss: 0.3109 - acc: 0.891 - ETA: 0s - loss: 0.3112 - acc: 0.891 - 1s 32us/step - loss: 0.3111 - acc: 0.8915 - val_loss: 1.0070 - val_acc: 0.7428\n",
      "Epoch 57/150\n",
      "36008/36008 [==============================] - ETA: 1s - loss: 0.4007 - acc: 0.860 - ETA: 0s - loss: 0.2965 - acc: 0.905 - ETA: 0s - loss: 0.2826 - acc: 0.908 - ETA: 0s - loss: 0.2885 - acc: 0.902 - ETA: 0s - loss: 0.2943 - acc: 0.898 - ETA: 0s - loss: 0.2908 - acc: 0.898 - ETA: 0s - loss: 0.2890 - acc: 0.900 - ETA: 0s - loss: 0.2862 - acc: 0.900 - ETA: 0s - loss: 0.2875 - acc: 0.901 - ETA: 0s - loss: 0.2895 - acc: 0.900 - ETA: 0s - loss: 0.2908 - acc: 0.899 - ETA: 0s - loss: 0.2908 - acc: 0.899 - ETA: 0s - loss: 0.2944 - acc: 0.897 - ETA: 0s - loss: 0.2936 - acc: 0.898 - ETA: 0s - loss: 0.2951 - acc: 0.898 - ETA: 0s - loss: 0.2961 - acc: 0.897 - ETA: 0s - loss: 0.3005 - acc: 0.896 - ETA: 0s - loss: 0.3026 - acc: 0.896 - ETA: 0s - loss: 0.3041 - acc: 0.895 - ETA: 0s - loss: 0.3048 - acc: 0.895 - ETA: 0s - loss: 0.3043 - acc: 0.894 - 1s 31us/step - loss: 0.3061 - acc: 0.8942 - val_loss: 1.1754 - val_acc: 0.7113\n",
      "Epoch 58/150\n",
      "36008/36008 [==============================] - ETA: 1s - loss: 0.5153 - acc: 0.870 - ETA: 0s - loss: 0.2631 - acc: 0.911 - ETA: 0s - loss: 0.2712 - acc: 0.910 - ETA: 0s - loss: 0.2701 - acc: 0.912 - ETA: 0s - loss: 0.2883 - acc: 0.907 - ETA: 0s - loss: 0.2882 - acc: 0.906 - ETA: 0s - loss: 0.2857 - acc: 0.905 - ETA: 0s - loss: 0.2916 - acc: 0.903 - ETA: 0s - loss: 0.2915 - acc: 0.902 - ETA: 0s - loss: 0.2945 - acc: 0.900 - ETA: 0s - loss: 0.2946 - acc: 0.899 - ETA: 0s - loss: 0.2966 - acc: 0.899 - ETA: 0s - loss: 0.2980 - acc: 0.898 - ETA: 0s - loss: 0.2976 - acc: 0.898 - ETA: 0s - loss: 0.2995 - acc: 0.897 - ETA: 0s - loss: 0.2995 - acc: 0.898 - ETA: 0s - loss: 0.2988 - acc: 0.898 - ETA: 0s - loss: 0.2997 - acc: 0.897 - ETA: 0s - loss: 0.3006 - acc: 0.897 - ETA: 0s - loss: 0.3025 - acc: 0.896 - ETA: 0s - loss: 0.3023 - acc: 0.896 - 1s 30us/step - loss: 0.3025 - acc: 0.8962 - val_loss: 1.0538 - val_acc: 0.7296\n",
      "Epoch 59/150\n",
      "36008/36008 [==============================] - ETA: 2s - loss: 0.1644 - acc: 0.930 - ETA: 1s - loss: 0.2717 - acc: 0.912 - ETA: 0s - loss: 0.2808 - acc: 0.913 - ETA: 0s - loss: 0.2826 - acc: 0.907 - ETA: 0s - loss: 0.2776 - acc: 0.907 - ETA: 0s - loss: 0.2793 - acc: 0.906 - ETA: 0s - loss: 0.2852 - acc: 0.904 - ETA: 0s - loss: 0.2848 - acc: 0.905 - ETA: 0s - loss: 0.2852 - acc: 0.905 - ETA: 0s - loss: 0.2861 - acc: 0.904 - ETA: 0s - loss: 0.2878 - acc: 0.904 - ETA: 0s - loss: 0.2887 - acc: 0.902 - ETA: 0s - loss: 0.2930 - acc: 0.900 - ETA: 0s - loss: 0.2962 - acc: 0.899 - ETA: 0s - loss: 0.2972 - acc: 0.899 - ETA: 0s - loss: 0.2988 - acc: 0.898 - ETA: 0s - loss: 0.3003 - acc: 0.898 - ETA: 0s - loss: 0.3002 - acc: 0.898 - ETA: 0s - loss: 0.3015 - acc: 0.897 - ETA: 0s - loss: 0.3004 - acc: 0.897 - ETA: 0s - loss: 0.2998 - acc: 0.898 - ETA: 0s - loss: 0.3009 - acc: 0.897 - 1s 33us/step - loss: 0.3005 - acc: 0.8979 - val_loss: 1.0547 - val_acc: 0.7343\n",
      "Epoch 60/150\n",
      "36008/36008 [==============================] - ETA: 1s - loss: 0.3314 - acc: 0.890 - ETA: 0s - loss: 0.2792 - acc: 0.906 - ETA: 0s - loss: 0.2821 - acc: 0.904 - ETA: 0s - loss: 0.2798 - acc: 0.907 - ETA: 0s - loss: 0.2776 - acc: 0.908 - ETA: 0s - loss: 0.2782 - acc: 0.907 - ETA: 0s - loss: 0.2812 - acc: 0.908 - ETA: 0s - loss: 0.2869 - acc: 0.906 - ETA: 0s - loss: 0.2888 - acc: 0.904 - ETA: 0s - loss: 0.2889 - acc: 0.903 - ETA: 0s - loss: 0.2895 - acc: 0.902 - ETA: 0s - loss: 0.2929 - acc: 0.901 - ETA: 0s - loss: 0.2948 - acc: 0.900 - ETA: 0s - loss: 0.2955 - acc: 0.899 - ETA: 0s - loss: 0.2946 - acc: 0.899 - ETA: 0s - loss: 0.2960 - acc: 0.898 - ETA: 0s - loss: 0.2941 - acc: 0.898 - ETA: 0s - loss: 0.2971 - acc: 0.897 - ETA: 0s - loss: 0.2959 - acc: 0.897 - ETA: 0s - loss: 0.2963 - acc: 0.896 - ETA: 0s - loss: 0.2965 - acc: 0.896 - 1s 31us/step - loss: 0.2964 - acc: 0.8970 - val_loss: 1.0593 - val_acc: 0.7411\n",
      "Epoch 61/150\n",
      "36008/36008 [==============================] - ETA: 1s - loss: 0.4333 - acc: 0.880 - ETA: 0s - loss: 0.2706 - acc: 0.908 - ETA: 1s - loss: 0.2606 - acc: 0.911 - ETA: 1s - loss: 0.2685 - acc: 0.906 - ETA: 1s - loss: 0.2794 - acc: 0.905 - ETA: 0s - loss: 0.2759 - acc: 0.905 - ETA: 0s - loss: 0.2720 - acc: 0.905 - ETA: 0s - loss: 0.2715 - acc: 0.905 - ETA: 0s - loss: 0.2726 - acc: 0.905 - ETA: 0s - loss: 0.2724 - acc: 0.905 - ETA: 0s - loss: 0.2747 - acc: 0.905 - ETA: 0s - loss: 0.2781 - acc: 0.904 - ETA: 0s - loss: 0.2798 - acc: 0.903 - ETA: 0s - loss: 0.2824 - acc: 0.903 - ETA: 0s - loss: 0.2852 - acc: 0.902 - ETA: 0s - loss: 0.2857 - acc: 0.902 - ETA: 0s - loss: 0.2892 - acc: 0.901 - ETA: 0s - loss: 0.2897 - acc: 0.901 - ETA: 0s - loss: 0.2908 - acc: 0.901 - ETA: 0s - loss: 0.2907 - acc: 0.901 - ETA: 0s - loss: 0.2930 - acc: 0.901 - ETA: 0s - loss: 0.2925 - acc: 0.900 - ETA: 0s - loss: 0.2939 - acc: 0.900 - ETA: 0s - loss: 0.2925 - acc: 0.900 - ETA: 0s - loss: 0.2933 - acc: 0.899 - 1s 36us/step - loss: 0.2923 - acc: 0.8999 - val_loss: 1.0860 - val_acc: 0.7301\n",
      "Epoch 62/150\n"
     ]
    },
    {
     "name": "stdout",
     "output_type": "stream",
     "text": [
      "36008/36008 [==============================] - ETA: 2s - loss: 0.3147 - acc: 0.900 - ETA: 1s - loss: 0.2619 - acc: 0.911 - ETA: 1s - loss: 0.2763 - acc: 0.905 - ETA: 1s - loss: 0.2659 - acc: 0.908 - ETA: 1s - loss: 0.2707 - acc: 0.904 - ETA: 0s - loss: 0.2716 - acc: 0.903 - ETA: 0s - loss: 0.2721 - acc: 0.904 - ETA: 0s - loss: 0.2713 - acc: 0.906 - ETA: 0s - loss: 0.2726 - acc: 0.905 - ETA: 0s - loss: 0.2738 - acc: 0.905 - ETA: 0s - loss: 0.2732 - acc: 0.906 - ETA: 0s - loss: 0.2768 - acc: 0.905 - ETA: 0s - loss: 0.2776 - acc: 0.904 - ETA: 0s - loss: 0.2820 - acc: 0.904 - ETA: 0s - loss: 0.2824 - acc: 0.903 - ETA: 0s - loss: 0.2820 - acc: 0.904 - ETA: 0s - loss: 0.2841 - acc: 0.903 - ETA: 0s - loss: 0.2856 - acc: 0.903 - ETA: 0s - loss: 0.2870 - acc: 0.902 - ETA: 0s - loss: 0.2868 - acc: 0.901 - ETA: 0s - loss: 0.2883 - acc: 0.901 - ETA: 0s - loss: 0.2891 - acc: 0.901 - 1s 32us/step - loss: 0.2915 - acc: 0.9004 - val_loss: 1.0516 - val_acc: 0.7378\n",
      "Epoch 63/150\n",
      "36008/36008 [==============================] - ETA: 1s - loss: 0.2733 - acc: 0.890 - ETA: 1s - loss: 0.2567 - acc: 0.917 - ETA: 1s - loss: 0.2455 - acc: 0.919 - ETA: 1s - loss: 0.2470 - acc: 0.916 - ETA: 0s - loss: 0.2566 - acc: 0.913 - ETA: 0s - loss: 0.2600 - acc: 0.911 - ETA: 0s - loss: 0.2682 - acc: 0.908 - ETA: 0s - loss: 0.2702 - acc: 0.908 - ETA: 0s - loss: 0.2705 - acc: 0.907 - ETA: 0s - loss: 0.2708 - acc: 0.906 - ETA: 0s - loss: 0.2733 - acc: 0.905 - ETA: 0s - loss: 0.2757 - acc: 0.904 - ETA: 0s - loss: 0.2750 - acc: 0.904 - ETA: 0s - loss: 0.2748 - acc: 0.904 - ETA: 0s - loss: 0.2782 - acc: 0.904 - ETA: 0s - loss: 0.2783 - acc: 0.903 - ETA: 0s - loss: 0.2802 - acc: 0.903 - ETA: 0s - loss: 0.2814 - acc: 0.903 - ETA: 0s - loss: 0.2832 - acc: 0.902 - ETA: 0s - loss: 0.2835 - acc: 0.901 - ETA: 0s - loss: 0.2854 - acc: 0.901 - ETA: 0s - loss: 0.2866 - acc: 0.901 - ETA: 0s - loss: 0.2872 - acc: 0.901 - ETA: 0s - loss: 0.2887 - acc: 0.900 - ETA: 0s - loss: 0.2877 - acc: 0.901 - 1s 36us/step - loss: 0.2890 - acc: 0.9009 - val_loss: 1.1819 - val_acc: 0.7063\n",
      "Epoch 64/150\n",
      "36008/36008 [==============================] - ETA: 1s - loss: 0.4962 - acc: 0.780 - ETA: 1s - loss: 0.2664 - acc: 0.906 - ETA: 1s - loss: 0.2567 - acc: 0.913 - ETA: 1s - loss: 0.2518 - acc: 0.912 - ETA: 0s - loss: 0.2585 - acc: 0.911 - ETA: 0s - loss: 0.2620 - acc: 0.908 - ETA: 0s - loss: 0.2660 - acc: 0.908 - ETA: 0s - loss: 0.2680 - acc: 0.908 - ETA: 0s - loss: 0.2710 - acc: 0.908 - ETA: 0s - loss: 0.2756 - acc: 0.906 - ETA: 0s - loss: 0.2790 - acc: 0.905 - ETA: 0s - loss: 0.2773 - acc: 0.905 - ETA: 0s - loss: 0.2779 - acc: 0.905 - ETA: 0s - loss: 0.2796 - acc: 0.906 - ETA: 0s - loss: 0.2819 - acc: 0.904 - ETA: 0s - loss: 0.2814 - acc: 0.904 - ETA: 0s - loss: 0.2810 - acc: 0.904 - ETA: 0s - loss: 0.2820 - acc: 0.904 - ETA: 0s - loss: 0.2824 - acc: 0.904 - ETA: 0s - loss: 0.2828 - acc: 0.904 - ETA: 0s - loss: 0.2839 - acc: 0.903 - ETA: 0s - loss: 0.2853 - acc: 0.902 - ETA: 0s - loss: 0.2850 - acc: 0.903 - ETA: 0s - loss: 0.2841 - acc: 0.903 - 1s 35us/step - loss: 0.2840 - acc: 0.9034 - val_loss: 1.0991 - val_acc: 0.7288\n",
      "Epoch 65/150\n",
      "36008/36008 [==============================] - ETA: 1s - loss: 0.1918 - acc: 0.940 - ETA: 1s - loss: 0.2428 - acc: 0.911 - ETA: 1s - loss: 0.2318 - acc: 0.918 - ETA: 1s - loss: 0.2467 - acc: 0.912 - ETA: 0s - loss: 0.2564 - acc: 0.909 - ETA: 0s - loss: 0.2576 - acc: 0.910 - ETA: 0s - loss: 0.2663 - acc: 0.907 - ETA: 0s - loss: 0.2596 - acc: 0.909 - ETA: 0s - loss: 0.2622 - acc: 0.909 - ETA: 0s - loss: 0.2636 - acc: 0.909 - ETA: 0s - loss: 0.2717 - acc: 0.907 - ETA: 0s - loss: 0.2716 - acc: 0.908 - ETA: 0s - loss: 0.2753 - acc: 0.907 - ETA: 0s - loss: 0.2749 - acc: 0.907 - ETA: 0s - loss: 0.2742 - acc: 0.907 - ETA: 0s - loss: 0.2763 - acc: 0.907 - ETA: 0s - loss: 0.2769 - acc: 0.906 - ETA: 0s - loss: 0.2780 - acc: 0.905 - ETA: 0s - loss: 0.2790 - acc: 0.905 - ETA: 0s - loss: 0.2799 - acc: 0.904 - ETA: 0s - loss: 0.2795 - acc: 0.904 - ETA: 0s - loss: 0.2810 - acc: 0.904 - ETA: 0s - loss: 0.2800 - acc: 0.904 - 1s 33us/step - loss: 0.2811 - acc: 0.9047 - val_loss: 1.1480 - val_acc: 0.7231\n",
      "Epoch 66/150\n",
      "36008/36008 [==============================] - ETA: 1s - loss: 0.2238 - acc: 0.940 - ETA: 0s - loss: 0.2247 - acc: 0.926 - ETA: 0s - loss: 0.2346 - acc: 0.918 - ETA: 0s - loss: 0.2399 - acc: 0.917 - ETA: 0s - loss: 0.2507 - acc: 0.915 - ETA: 0s - loss: 0.2569 - acc: 0.913 - ETA: 0s - loss: 0.2634 - acc: 0.912 - ETA: 0s - loss: 0.2639 - acc: 0.912 - ETA: 0s - loss: 0.2627 - acc: 0.912 - ETA: 0s - loss: 0.2668 - acc: 0.911 - ETA: 0s - loss: 0.2697 - acc: 0.910 - ETA: 0s - loss: 0.2696 - acc: 0.910 - ETA: 0s - loss: 0.2682 - acc: 0.911 - ETA: 0s - loss: 0.2679 - acc: 0.910 - ETA: 0s - loss: 0.2695 - acc: 0.909 - ETA: 0s - loss: 0.2719 - acc: 0.908 - ETA: 0s - loss: 0.2734 - acc: 0.907 - ETA: 0s - loss: 0.2744 - acc: 0.907 - ETA: 0s - loss: 0.2757 - acc: 0.906 - ETA: 0s - loss: 0.2767 - acc: 0.906 - 1s 28us/step - loss: 0.2769 - acc: 0.9065 - val_loss: 1.1455 - val_acc: 0.7338\n",
      "Epoch 67/150\n",
      "36008/36008 [==============================] - ETA: 1s - loss: 0.2516 - acc: 0.920 - ETA: 1s - loss: 0.2533 - acc: 0.920 - ETA: 0s - loss: 0.2449 - acc: 0.920 - ETA: 0s - loss: 0.2516 - acc: 0.916 - ETA: 0s - loss: 0.2552 - acc: 0.915 - ETA: 0s - loss: 0.2584 - acc: 0.913 - ETA: 0s - loss: 0.2604 - acc: 0.912 - ETA: 0s - loss: 0.2615 - acc: 0.912 - ETA: 0s - loss: 0.2623 - acc: 0.911 - ETA: 0s - loss: 0.2603 - acc: 0.912 - ETA: 0s - loss: 0.2626 - acc: 0.911 - ETA: 0s - loss: 0.2637 - acc: 0.911 - ETA: 0s - loss: 0.2674 - acc: 0.910 - ETA: 0s - loss: 0.2675 - acc: 0.910 - ETA: 0s - loss: 0.2685 - acc: 0.909 - ETA: 0s - loss: 0.2702 - acc: 0.908 - ETA: 0s - loss: 0.2711 - acc: 0.908 - ETA: 0s - loss: 0.2724 - acc: 0.908 - ETA: 0s - loss: 0.2735 - acc: 0.908 - ETA: 0s - loss: 0.2745 - acc: 0.907 - 1s 28us/step - loss: 0.2745 - acc: 0.9074 - val_loss: 1.1179 - val_acc: 0.7231\n",
      "Epoch 68/150\n",
      "36008/36008 [==============================] - ETA: 1s - loss: 0.3005 - acc: 0.910 - ETA: 0s - loss: 0.2314 - acc: 0.923 - ETA: 0s - loss: 0.2373 - acc: 0.922 - ETA: 0s - loss: 0.2459 - acc: 0.920 - ETA: 0s - loss: 0.2479 - acc: 0.920 - ETA: 0s - loss: 0.2492 - acc: 0.920 - ETA: 0s - loss: 0.2547 - acc: 0.917 - ETA: 0s - loss: 0.2548 - acc: 0.917 - ETA: 0s - loss: 0.2595 - acc: 0.914 - ETA: 0s - loss: 0.2578 - acc: 0.915 - ETA: 0s - loss: 0.2606 - acc: 0.914 - ETA: 0s - loss: 0.2632 - acc: 0.913 - ETA: 0s - loss: 0.2642 - acc: 0.913 - ETA: 0s - loss: 0.2658 - acc: 0.912 - ETA: 0s - loss: 0.2679 - acc: 0.911 - ETA: 0s - loss: 0.2682 - acc: 0.910 - ETA: 0s - loss: 0.2691 - acc: 0.909 - ETA: 0s - loss: 0.2719 - acc: 0.909 - 1s 26us/step - loss: 0.2733 - acc: 0.9090 - val_loss: 1.1541 - val_acc: 0.7153\n",
      "Epoch 69/150\n",
      "36008/36008 [==============================] - ETA: 2s - loss: 0.2933 - acc: 0.880 - ETA: 0s - loss: 0.2651 - acc: 0.914 - ETA: 0s - loss: 0.2557 - acc: 0.918 - ETA: 0s - loss: 0.2524 - acc: 0.918 - ETA: 0s - loss: 0.2449 - acc: 0.918 - ETA: 0s - loss: 0.2476 - acc: 0.916 - ETA: 0s - loss: 0.2533 - acc: 0.914 - ETA: 0s - loss: 0.2532 - acc: 0.916 - ETA: 0s - loss: 0.2551 - acc: 0.914 - ETA: 0s - loss: 0.2600 - acc: 0.913 - ETA: 0s - loss: 0.2624 - acc: 0.911 - ETA: 0s - loss: 0.2621 - acc: 0.911 - ETA: 0s - loss: 0.2607 - acc: 0.912 - ETA: 0s - loss: 0.2610 - acc: 0.911 - ETA: 0s - loss: 0.2614 - acc: 0.911 - ETA: 0s - loss: 0.2615 - acc: 0.910 - ETA: 0s - loss: 0.2639 - acc: 0.909 - ETA: 0s - loss: 0.2656 - acc: 0.908 - ETA: 0s - loss: 0.2682 - acc: 0.907 - 1s 28us/step - loss: 0.2675 - acc: 0.9082 - val_loss: 1.1222 - val_acc: 0.7386\n",
      "Epoch 70/150\n",
      "36008/36008 [==============================] - ETA: 1s - loss: 0.2443 - acc: 0.940 - ETA: 0s - loss: 0.2379 - acc: 0.920 - ETA: 0s - loss: 0.2537 - acc: 0.913 - ETA: 0s - loss: 0.2517 - acc: 0.915 - ETA: 0s - loss: 0.2534 - acc: 0.916 - ETA: 0s - loss: 0.2546 - acc: 0.915 - ETA: 0s - loss: 0.2558 - acc: 0.914 - ETA: 0s - loss: 0.2522 - acc: 0.915 - ETA: 0s - loss: 0.2568 - acc: 0.914 - ETA: 0s - loss: 0.2590 - acc: 0.913 - ETA: 0s - loss: 0.2578 - acc: 0.913 - ETA: 0s - loss: 0.2590 - acc: 0.912 - ETA: 0s - loss: 0.2631 - acc: 0.910 - ETA: 0s - loss: 0.2621 - acc: 0.910 - ETA: 0s - loss: 0.2658 - acc: 0.910 - ETA: 0s - loss: 0.2655 - acc: 0.910 - ETA: 0s - loss: 0.2677 - acc: 0.909 - ETA: 0s - loss: 0.2688 - acc: 0.909 - ETA: 0s - loss: 0.2685 - acc: 0.908 - 1s 27us/step - loss: 0.2696 - acc: 0.9086 - val_loss: 1.2638 - val_acc: 0.7188\n",
      "Epoch 71/150\n",
      "36008/36008 [==============================] - ETA: 2s - loss: 0.1773 - acc: 0.950 - ETA: 0s - loss: 0.2293 - acc: 0.921 - ETA: 0s - loss: 0.2449 - acc: 0.919 - ETA: 0s - loss: 0.2447 - acc: 0.918 - ETA: 0s - loss: 0.2453 - acc: 0.917 - ETA: 0s - loss: 0.2471 - acc: 0.917 - ETA: 0s - loss: 0.2500 - acc: 0.916 - ETA: 0s - loss: 0.2460 - acc: 0.917 - ETA: 0s - loss: 0.2524 - acc: 0.915 - ETA: 0s - loss: 0.2531 - acc: 0.915 - ETA: 0s - loss: 0.2547 - acc: 0.914 - ETA: 0s - loss: 0.2581 - acc: 0.913 - ETA: 0s - loss: 0.2567 - acc: 0.913 - ETA: 0s - loss: 0.2603 - acc: 0.912 - ETA: 0s - loss: 0.2618 - acc: 0.912 - ETA: 0s - loss: 0.2623 - acc: 0.911 - ETA: 0s - loss: 0.2626 - acc: 0.911 - ETA: 0s - loss: 0.2635 - acc: 0.911 - ETA: 0s - loss: 0.2639 - acc: 0.911 - 1s 27us/step - loss: 0.2635 - acc: 0.9118 - val_loss: 1.2030 - val_acc: 0.7221\n",
      "Epoch 72/150\n",
      "36008/36008 [==============================] - ETA: 1s - loss: 0.3801 - acc: 0.860 - ETA: 1s - loss: 0.2407 - acc: 0.918 - ETA: 0s - loss: 0.2291 - acc: 0.920 - ETA: 0s - loss: 0.2268 - acc: 0.922 - ETA: 0s - loss: 0.2365 - acc: 0.920 - ETA: 0s - loss: 0.2433 - acc: 0.918 - ETA: 0s - loss: 0.2466 - acc: 0.917 - ETA: 0s - loss: 0.2504 - acc: 0.915 - ETA: 0s - loss: 0.2506 - acc: 0.915 - ETA: 0s - loss: 0.2489 - acc: 0.915 - ETA: 0s - loss: 0.2511 - acc: 0.914 - ETA: 0s - loss: 0.2519 - acc: 0.914 - ETA: 0s - loss: 0.2559 - acc: 0.914 - ETA: 0s - loss: 0.2574 - acc: 0.913 - ETA: 0s - loss: 0.2574 - acc: 0.913 - ETA: 0s - loss: 0.2586 - acc: 0.913 - ETA: 0s - loss: 0.2586 - acc: 0.912 - ETA: 0s - loss: 0.2601 - acc: 0.912 - ETA: 0s - loss: 0.2602 - acc: 0.912 - 1s 28us/step - loss: 0.2608 - acc: 0.9117 - val_loss: 1.3252 - val_acc: 0.7161\n",
      "Epoch 73/150\n",
      "36008/36008 [==============================] - ETA: 2s - loss: 0.5908 - acc: 0.870 - ETA: 1s - loss: 0.2379 - acc: 0.926 - ETA: 0s - loss: 0.2303 - acc: 0.927 - ETA: 0s - loss: 0.2322 - acc: 0.923 - ETA: 0s - loss: 0.2346 - acc: 0.922 - ETA: 0s - loss: 0.2342 - acc: 0.922 - ETA: 0s - loss: 0.2358 - acc: 0.921 - ETA: 0s - loss: 0.2373 - acc: 0.921 - ETA: 0s - loss: 0.2377 - acc: 0.919 - ETA: 0s - loss: 0.2376 - acc: 0.919 - ETA: 0s - loss: 0.2402 - acc: 0.919 - ETA: 0s - loss: 0.2427 - acc: 0.918 - ETA: 0s - loss: 0.2455 - acc: 0.917 - ETA: 0s - loss: 0.2478 - acc: 0.917 - ETA: 0s - loss: 0.2503 - acc: 0.916 - ETA: 0s - loss: 0.2532 - acc: 0.915 - ETA: 0s - loss: 0.2580 - acc: 0.914 - ETA: 0s - loss: 0.2585 - acc: 0.914 - ETA: 0s - loss: 0.2581 - acc: 0.914 - ETA: 0s - loss: 0.2591 - acc: 0.913 - 1s 29us/step - loss: 0.2590 - acc: 0.9137 - val_loss: 1.1553 - val_acc: 0.7366\n",
      "Epoch 74/150\n",
      "36008/36008 [==============================] - ETA: 1s - loss: 0.3592 - acc: 0.930 - ETA: 0s - loss: 0.2608 - acc: 0.907 - ETA: 0s - loss: 0.2564 - acc: 0.915 - ETA: 0s - loss: 0.2480 - acc: 0.919 - ETA: 0s - loss: 0.2484 - acc: 0.921 - ETA: 0s - loss: 0.2463 - acc: 0.921 - ETA: 0s - loss: 0.2484 - acc: 0.920 - ETA: 0s - loss: 0.2482 - acc: 0.919 - ETA: 0s - loss: 0.2516 - acc: 0.918 - ETA: 0s - loss: 0.2528 - acc: 0.917 - ETA: 0s - loss: 0.2541 - acc: 0.917 - ETA: 0s - loss: 0.2537 - acc: 0.916 - ETA: 0s - loss: 0.2547 - acc: 0.916 - ETA: 0s - loss: 0.2517 - acc: 0.916 - ETA: 0s - loss: 0.2550 - acc: 0.916 - ETA: 0s - loss: 0.2551 - acc: 0.915 - ETA: 0s - loss: 0.2581 - acc: 0.914 - ETA: 0s - loss: 0.2583 - acc: 0.914 - ETA: 0s - loss: 0.2581 - acc: 0.914 - ETA: 0s - loss: 0.2590 - acc: 0.914 - 1s 29us/step - loss: 0.2583 - acc: 0.9144 - val_loss: 1.2364 - val_acc: 0.7191\n",
      "Epoch 75/150\n",
      "36008/36008 [==============================] - ETA: 1s - loss: 0.1979 - acc: 0.920 - ETA: 0s - loss: 0.2126 - acc: 0.930 - ETA: 0s - loss: 0.2249 - acc: 0.928 - ETA: 0s - loss: 0.2197 - acc: 0.926 - ETA: 0s - loss: 0.2222 - acc: 0.927 - ETA: 0s - loss: 0.2222 - acc: 0.926 - ETA: 0s - loss: 0.2256 - acc: 0.924 - ETA: 0s - loss: 0.2292 - acc: 0.922 - ETA: 0s - loss: 0.2371 - acc: 0.920 - ETA: 0s - loss: 0.2371 - acc: 0.920 - ETA: 0s - loss: 0.2391 - acc: 0.920 - ETA: 0s - loss: 0.2415 - acc: 0.918 - ETA: 0s - loss: 0.2437 - acc: 0.917 - ETA: 0s - loss: 0.2451 - acc: 0.917 - ETA: 0s - loss: 0.2499 - acc: 0.916 - ETA: 0s - loss: 0.2505 - acc: 0.915 - ETA: 0s - loss: 0.2525 - acc: 0.916 - ETA: 0s - loss: 0.2552 - acc: 0.915 - ETA: 0s - loss: 0.2528 - acc: 0.915 - ETA: 0s - loss: 0.2530 - acc: 0.915 - ETA: 0s - loss: 0.2538 - acc: 0.915 - ETA: 0s - loss: 0.2551 - acc: 0.914 - 1s 31us/step - loss: 0.2551 - acc: 0.9148 - val_loss: 1.1579 - val_acc: 0.7458\n",
      "Epoch 76/150\n",
      "36008/36008 [==============================] - ETA: 1s - loss: 0.2753 - acc: 0.920 - ETA: 1s - loss: 0.1969 - acc: 0.930 - ETA: 1s - loss: 0.2147 - acc: 0.924 - ETA: 1s - loss: 0.2148 - acc: 0.924 - ETA: 0s - loss: 0.2182 - acc: 0.923 - ETA: 0s - loss: 0.2248 - acc: 0.922 - ETA: 0s - loss: 0.2239 - acc: 0.923 - ETA: 0s - loss: 0.2313 - acc: 0.921 - ETA: 0s - loss: 0.2341 - acc: 0.921 - ETA: 0s - loss: 0.2374 - acc: 0.920 - ETA: 0s - loss: 0.2362 - acc: 0.920 - ETA: 0s - loss: 0.2365 - acc: 0.921 - ETA: 0s - loss: 0.2350 - acc: 0.921 - ETA: 0s - loss: 0.2376 - acc: 0.920 - ETA: 0s - loss: 0.2393 - acc: 0.919 - ETA: 0s - loss: 0.2390 - acc: 0.919 - ETA: 0s - loss: 0.2421 - acc: 0.918 - ETA: 0s - loss: 0.2418 - acc: 0.918 - ETA: 0s - loss: 0.2425 - acc: 0.918 - ETA: 0s - loss: 0.2440 - acc: 0.918 - ETA: 0s - loss: 0.2432 - acc: 0.918 - ETA: 0s - loss: 0.2443 - acc: 0.918 - ETA: 0s - loss: 0.2478 - acc: 0.917 - ETA: 0s - loss: 0.2491 - acc: 0.917 - 1s 35us/step - loss: 0.2503 - acc: 0.9169 - val_loss: 1.1913 - val_acc: 0.7261\n",
      "Epoch 77/150\n",
      "36008/36008 [==============================] - ETA: 2s - loss: 0.1986 - acc: 0.930 - ETA: 1s - loss: 0.1852 - acc: 0.940 - ETA: 1s - loss: 0.1914 - acc: 0.939 - ETA: 0s - loss: 0.1983 - acc: 0.936 - ETA: 0s - loss: 0.2120 - acc: 0.929 - ETA: 0s - loss: 0.2140 - acc: 0.927 - ETA: 0s - loss: 0.2216 - acc: 0.926 - ETA: 0s - loss: 0.2261 - acc: 0.926 - ETA: 0s - loss: 0.2355 - acc: 0.923 - ETA: 0s - loss: 0.2376 - acc: 0.923 - ETA: 0s - loss: 0.2384 - acc: 0.922 - ETA: 0s - loss: 0.2450 - acc: 0.920 - ETA: 0s - loss: 0.2456 - acc: 0.920 - ETA: 0s - loss: 0.2444 - acc: 0.921 - ETA: 0s - loss: 0.2457 - acc: 0.920 - ETA: 0s - loss: 0.2485 - acc: 0.919 - ETA: 0s - loss: 0.2489 - acc: 0.918 - ETA: 0s - loss: 0.2521 - acc: 0.918 - ETA: 0s - loss: 0.2504 - acc: 0.918 - ETA: 0s - loss: 0.2509 - acc: 0.918 - ETA: 0s - loss: 0.2507 - acc: 0.918 - 1s 31us/step - loss: 0.2514 - acc: 0.9182 - val_loss: 1.2673 - val_acc: 0.7196\n",
      "Epoch 78/150\n",
      "36008/36008 [==============================] - ETA: 1s - loss: 0.2250 - acc: 0.920 - ETA: 0s - loss: 0.2173 - acc: 0.927 - ETA: 0s - loss: 0.2273 - acc: 0.926 - ETA: 0s - loss: 0.2255 - acc: 0.925 - ETA: 0s - loss: 0.2258 - acc: 0.923 - ETA: 0s - loss: 0.2315 - acc: 0.922 - ETA: 0s - loss: 0.2327 - acc: 0.922 - ETA: 0s - loss: 0.2410 - acc: 0.921 - ETA: 0s - loss: 0.2382 - acc: 0.922 - ETA: 0s - loss: 0.2394 - acc: 0.922 - ETA: 0s - loss: 0.2409 - acc: 0.921 - ETA: 0s - loss: 0.2424 - acc: 0.920 - ETA: 0s - loss: 0.2451 - acc: 0.919 - ETA: 0s - loss: 0.2448 - acc: 0.920 - ETA: 0s - loss: 0.2458 - acc: 0.919 - ETA: 0s - loss: 0.2462 - acc: 0.919 - ETA: 0s - loss: 0.2459 - acc: 0.919 - ETA: 0s - loss: 0.2476 - acc: 0.919 - ETA: 0s - loss: 0.2470 - acc: 0.919 - ETA: 0s - loss: 0.2458 - acc: 0.919 - ETA: 0s - loss: 0.2479 - acc: 0.918 - 1s 31us/step - loss: 0.2479 - acc: 0.9182 - val_loss: 1.2015 - val_acc: 0.7281\n"
     ]
    },
    {
     "name": "stdout",
     "output_type": "stream",
     "text": [
      "Epoch 79/150\n",
      "36008/36008 [==============================] - ETA: 2s - loss: 0.1502 - acc: 0.960 - ETA: 1s - loss: 0.2037 - acc: 0.934 - ETA: 1s - loss: 0.2115 - acc: 0.932 - ETA: 1s - loss: 0.2123 - acc: 0.932 - ETA: 1s - loss: 0.2114 - acc: 0.931 - ETA: 0s - loss: 0.2120 - acc: 0.930 - ETA: 0s - loss: 0.2140 - acc: 0.928 - ETA: 0s - loss: 0.2173 - acc: 0.927 - ETA: 0s - loss: 0.2222 - acc: 0.925 - ETA: 0s - loss: 0.2250 - acc: 0.924 - ETA: 0s - loss: 0.2236 - acc: 0.925 - ETA: 0s - loss: 0.2294 - acc: 0.923 - ETA: 0s - loss: 0.2330 - acc: 0.922 - ETA: 0s - loss: 0.2383 - acc: 0.920 - ETA: 0s - loss: 0.2366 - acc: 0.921 - ETA: 0s - loss: 0.2374 - acc: 0.920 - ETA: 0s - loss: 0.2387 - acc: 0.920 - ETA: 0s - loss: 0.2386 - acc: 0.920 - ETA: 0s - loss: 0.2409 - acc: 0.920 - ETA: 0s - loss: 0.2434 - acc: 0.919 - ETA: 0s - loss: 0.2437 - acc: 0.919 - ETA: 0s - loss: 0.2437 - acc: 0.919 - 1s 31us/step - loss: 0.2443 - acc: 0.9189 - val_loss: 1.1691 - val_acc: 0.7363\n",
      "Epoch 80/150\n",
      "36008/36008 [==============================] - ETA: 1s - loss: 0.1589 - acc: 0.940 - ETA: 0s - loss: 0.1929 - acc: 0.935 - ETA: 1s - loss: 0.1998 - acc: 0.932 - ETA: 1s - loss: 0.2106 - acc: 0.929 - ETA: 1s - loss: 0.2167 - acc: 0.928 - ETA: 0s - loss: 0.2153 - acc: 0.930 - ETA: 0s - loss: 0.2182 - acc: 0.929 - ETA: 0s - loss: 0.2182 - acc: 0.929 - ETA: 0s - loss: 0.2217 - acc: 0.929 - ETA: 0s - loss: 0.2236 - acc: 0.929 - ETA: 0s - loss: 0.2232 - acc: 0.928 - ETA: 0s - loss: 0.2256 - acc: 0.927 - ETA: 0s - loss: 0.2266 - acc: 0.926 - ETA: 0s - loss: 0.2282 - acc: 0.926 - ETA: 0s - loss: 0.2305 - acc: 0.925 - ETA: 0s - loss: 0.2314 - acc: 0.925 - ETA: 0s - loss: 0.2315 - acc: 0.925 - ETA: 0s - loss: 0.2349 - acc: 0.924 - ETA: 0s - loss: 0.2365 - acc: 0.923 - ETA: 0s - loss: 0.2389 - acc: 0.922 - ETA: 0s - loss: 0.2399 - acc: 0.921 - ETA: 0s - loss: 0.2423 - acc: 0.920 - 1s 32us/step - loss: 0.2422 - acc: 0.9209 - val_loss: 1.2959 - val_acc: 0.7223\n",
      "Epoch 81/150\n",
      "36008/36008 [==============================] - ETA: 1s - loss: 0.3715 - acc: 0.840 - ETA: 1s - loss: 0.2459 - acc: 0.924 - ETA: 0s - loss: 0.2284 - acc: 0.931 - ETA: 0s - loss: 0.2246 - acc: 0.933 - ETA: 0s - loss: 0.2332 - acc: 0.930 - ETA: 0s - loss: 0.2337 - acc: 0.928 - ETA: 0s - loss: 0.2351 - acc: 0.928 - ETA: 0s - loss: 0.2344 - acc: 0.927 - ETA: 0s - loss: 0.2329 - acc: 0.927 - ETA: 0s - loss: 0.2383 - acc: 0.926 - ETA: 0s - loss: 0.2379 - acc: 0.925 - ETA: 0s - loss: 0.2363 - acc: 0.925 - ETA: 0s - loss: 0.2374 - acc: 0.925 - ETA: 0s - loss: 0.2381 - acc: 0.925 - ETA: 0s - loss: 0.2364 - acc: 0.926 - ETA: 0s - loss: 0.2361 - acc: 0.925 - ETA: 0s - loss: 0.2361 - acc: 0.925 - ETA: 0s - loss: 0.2369 - acc: 0.924 - ETA: 0s - loss: 0.2385 - acc: 0.923 - ETA: 0s - loss: 0.2388 - acc: 0.923 - 1s 28us/step - loss: 0.2387 - acc: 0.9236 - val_loss: 1.2318 - val_acc: 0.7416\n",
      "Epoch 82/150\n",
      "36008/36008 [==============================] - ETA: 1s - loss: 0.3371 - acc: 0.930 - ETA: 0s - loss: 0.2568 - acc: 0.923 - ETA: 0s - loss: 0.2513 - acc: 0.922 - ETA: 0s - loss: 0.2482 - acc: 0.923 - ETA: 0s - loss: 0.2494 - acc: 0.924 - ETA: 0s - loss: 0.2394 - acc: 0.925 - ETA: 0s - loss: 0.2384 - acc: 0.925 - ETA: 0s - loss: 0.2384 - acc: 0.925 - ETA: 0s - loss: 0.2397 - acc: 0.924 - ETA: 0s - loss: 0.2399 - acc: 0.924 - ETA: 0s - loss: 0.2382 - acc: 0.924 - ETA: 0s - loss: 0.2397 - acc: 0.923 - ETA: 0s - loss: 0.2382 - acc: 0.923 - ETA: 0s - loss: 0.2396 - acc: 0.923 - ETA: 0s - loss: 0.2379 - acc: 0.924 - ETA: 0s - loss: 0.2382 - acc: 0.923 - ETA: 0s - loss: 0.2379 - acc: 0.923 - ETA: 0s - loss: 0.2394 - acc: 0.922 - ETA: 0s - loss: 0.2407 - acc: 0.922 - ETA: 0s - loss: 0.2416 - acc: 0.921 - 1s 30us/step - loss: 0.2421 - acc: 0.9214 - val_loss: 1.2039 - val_acc: 0.7398\n",
      "Epoch 83/150\n",
      "36008/36008 [==============================] - ETA: 1s - loss: 0.2114 - acc: 0.970 - ETA: 0s - loss: 0.1887 - acc: 0.935 - ETA: 0s - loss: 0.1967 - acc: 0.937 - ETA: 0s - loss: 0.2092 - acc: 0.932 - ETA: 0s - loss: 0.2067 - acc: 0.933 - ETA: 0s - loss: 0.2164 - acc: 0.929 - ETA: 0s - loss: 0.2191 - acc: 0.928 - ETA: 0s - loss: 0.2171 - acc: 0.929 - ETA: 0s - loss: 0.2247 - acc: 0.927 - ETA: 0s - loss: 0.2247 - acc: 0.926 - ETA: 0s - loss: 0.2261 - acc: 0.926 - ETA: 0s - loss: 0.2284 - acc: 0.925 - ETA: 0s - loss: 0.2310 - acc: 0.924 - ETA: 0s - loss: 0.2338 - acc: 0.923 - ETA: 0s - loss: 0.2330 - acc: 0.923 - ETA: 0s - loss: 0.2336 - acc: 0.922 - ETA: 0s - loss: 0.2355 - acc: 0.921 - ETA: 0s - loss: 0.2343 - acc: 0.922 - ETA: 0s - loss: 0.2328 - acc: 0.922 - ETA: 0s - loss: 0.2338 - acc: 0.922 - ETA: 0s - loss: 0.2343 - acc: 0.921 - 1s 31us/step - loss: 0.2360 - acc: 0.9212 - val_loss: 1.1987 - val_acc: 0.7406\n",
      "Epoch 84/150\n",
      "36008/36008 [==============================] - ETA: 1s - loss: 0.0719 - acc: 0.970 - ETA: 0s - loss: 0.1978 - acc: 0.931 - ETA: 0s - loss: 0.2022 - acc: 0.929 - ETA: 0s - loss: 0.2036 - acc: 0.930 - ETA: 0s - loss: 0.2045 - acc: 0.929 - ETA: 0s - loss: 0.2107 - acc: 0.928 - ETA: 0s - loss: 0.2136 - acc: 0.928 - ETA: 0s - loss: 0.2132 - acc: 0.930 - ETA: 0s - loss: 0.2105 - acc: 0.931 - ETA: 0s - loss: 0.2125 - acc: 0.931 - ETA: 0s - loss: 0.2141 - acc: 0.930 - ETA: 0s - loss: 0.2174 - acc: 0.929 - ETA: 0s - loss: 0.2232 - acc: 0.928 - ETA: 0s - loss: 0.2238 - acc: 0.927 - ETA: 0s - loss: 0.2242 - acc: 0.926 - ETA: 0s - loss: 0.2248 - acc: 0.925 - ETA: 0s - loss: 0.2291 - acc: 0.925 - ETA: 0s - loss: 0.2295 - acc: 0.925 - ETA: 0s - loss: 0.2294 - acc: 0.925 - ETA: 0s - loss: 0.2290 - acc: 0.925 - ETA: 0s - loss: 0.2296 - acc: 0.925 - ETA: 0s - loss: 0.2299 - acc: 0.925 - 1s 31us/step - loss: 0.2300 - acc: 0.9253 - val_loss: 1.2308 - val_acc: 0.7318\n",
      "Epoch 85/150\n",
      "36008/36008 [==============================] - ETA: 2s - loss: 0.2022 - acc: 0.950 - ETA: 1s - loss: 0.2172 - acc: 0.937 - ETA: 1s - loss: 0.2026 - acc: 0.939 - ETA: 1s - loss: 0.2028 - acc: 0.935 - ETA: 0s - loss: 0.2080 - acc: 0.931 - ETA: 0s - loss: 0.2126 - acc: 0.932 - ETA: 0s - loss: 0.2108 - acc: 0.932 - ETA: 0s - loss: 0.2158 - acc: 0.931 - ETA: 0s - loss: 0.2183 - acc: 0.929 - ETA: 0s - loss: 0.2141 - acc: 0.930 - ETA: 0s - loss: 0.2175 - acc: 0.929 - ETA: 0s - loss: 0.2205 - acc: 0.928 - ETA: 0s - loss: 0.2213 - acc: 0.928 - ETA: 0s - loss: 0.2224 - acc: 0.928 - ETA: 0s - loss: 0.2238 - acc: 0.927 - ETA: 0s - loss: 0.2260 - acc: 0.926 - ETA: 0s - loss: 0.2282 - acc: 0.926 - ETA: 0s - loss: 0.2318 - acc: 0.925 - ETA: 0s - loss: 0.2315 - acc: 0.925 - ETA: 0s - loss: 0.2309 - acc: 0.925 - ETA: 0s - loss: 0.2313 - acc: 0.925 - 1s 31us/step - loss: 0.2314 - acc: 0.9250 - val_loss: 1.3789 - val_acc: 0.7148\n",
      "Epoch 86/150\n",
      "36008/36008 [==============================] - ETA: 1s - loss: 0.2593 - acc: 0.900 - ETA: 0s - loss: 0.1955 - acc: 0.936 - ETA: 0s - loss: 0.1807 - acc: 0.940 - ETA: 0s - loss: 0.1946 - acc: 0.934 - ETA: 1s - loss: 0.1962 - acc: 0.935 - ETA: 0s - loss: 0.2078 - acc: 0.932 - ETA: 0s - loss: 0.2100 - acc: 0.931 - ETA: 0s - loss: 0.2070 - acc: 0.930 - ETA: 0s - loss: 0.2062 - acc: 0.931 - ETA: 0s - loss: 0.2127 - acc: 0.930 - ETA: 0s - loss: 0.2144 - acc: 0.930 - ETA: 0s - loss: 0.2172 - acc: 0.929 - ETA: 0s - loss: 0.2176 - acc: 0.929 - ETA: 0s - loss: 0.2214 - acc: 0.928 - ETA: 0s - loss: 0.2232 - acc: 0.928 - ETA: 0s - loss: 0.2231 - acc: 0.928 - ETA: 0s - loss: 0.2252 - acc: 0.927 - ETA: 0s - loss: 0.2249 - acc: 0.927 - ETA: 0s - loss: 0.2259 - acc: 0.926 - ETA: 0s - loss: 0.2266 - acc: 0.926 - ETA: 0s - loss: 0.2277 - acc: 0.926 - ETA: 0s - loss: 0.2279 - acc: 0.926 - ETA: 0s - loss: 0.2283 - acc: 0.925 - 1s 34us/step - loss: 0.2295 - acc: 0.9253 - val_loss: 1.3201 - val_acc: 0.7273\n",
      "Epoch 87/150\n",
      "36008/36008 [==============================] - ETA: 1s - loss: 0.3775 - acc: 0.870 - ETA: 1s - loss: 0.2154 - acc: 0.932 - ETA: 1s - loss: 0.2079 - acc: 0.933 - ETA: 1s - loss: 0.2205 - acc: 0.931 - ETA: 1s - loss: 0.2223 - acc: 0.930 - ETA: 0s - loss: 0.2167 - acc: 0.931 - ETA: 0s - loss: 0.2190 - acc: 0.932 - ETA: 0s - loss: 0.2211 - acc: 0.931 - ETA: 0s - loss: 0.2182 - acc: 0.931 - ETA: 0s - loss: 0.2221 - acc: 0.930 - ETA: 0s - loss: 0.2232 - acc: 0.929 - ETA: 0s - loss: 0.2219 - acc: 0.929 - ETA: 0s - loss: 0.2209 - acc: 0.929 - ETA: 0s - loss: 0.2216 - acc: 0.929 - ETA: 0s - loss: 0.2236 - acc: 0.928 - ETA: 0s - loss: 0.2246 - acc: 0.928 - ETA: 0s - loss: 0.2265 - acc: 0.927 - ETA: 0s - loss: 0.2251 - acc: 0.928 - ETA: 0s - loss: 0.2270 - acc: 0.927 - ETA: 0s - loss: 0.2297 - acc: 0.926 - ETA: 0s - loss: 0.2306 - acc: 0.926 - ETA: 0s - loss: 0.2318 - acc: 0.926 - 1s 32us/step - loss: 0.2314 - acc: 0.9268 - val_loss: 1.3013 - val_acc: 0.7268\n",
      "Epoch 88/150\n",
      "36008/36008 [==============================] - ETA: 1s - loss: 0.2419 - acc: 0.910 - ETA: 1s - loss: 0.2255 - acc: 0.931 - ETA: 1s - loss: 0.2187 - acc: 0.932 - ETA: 0s - loss: 0.2253 - acc: 0.930 - ETA: 0s - loss: 0.2130 - acc: 0.932 - ETA: 0s - loss: 0.2112 - acc: 0.932 - ETA: 0s - loss: 0.2136 - acc: 0.931 - ETA: 0s - loss: 0.2134 - acc: 0.931 - ETA: 0s - loss: 0.2128 - acc: 0.931 - ETA: 0s - loss: 0.2156 - acc: 0.930 - ETA: 0s - loss: 0.2165 - acc: 0.929 - ETA: 0s - loss: 0.2176 - acc: 0.928 - ETA: 0s - loss: 0.2206 - acc: 0.928 - ETA: 0s - loss: 0.2187 - acc: 0.928 - ETA: 0s - loss: 0.2183 - acc: 0.928 - ETA: 0s - loss: 0.2191 - acc: 0.928 - ETA: 0s - loss: 0.2220 - acc: 0.927 - ETA: 0s - loss: 0.2229 - acc: 0.927 - ETA: 0s - loss: 0.2248 - acc: 0.927 - ETA: 0s - loss: 0.2265 - acc: 0.926 - ETA: 0s - loss: 0.2260 - acc: 0.926 - 1s 30us/step - loss: 0.2261 - acc: 0.9269 - val_loss: 1.3644 - val_acc: 0.7151\n",
      "Epoch 89/150\n",
      "36008/36008 [==============================] - ETA: 2s - loss: 0.3797 - acc: 0.920 - ETA: 1s - loss: 0.2427 - acc: 0.928 - ETA: 0s - loss: 0.2156 - acc: 0.934 - ETA: 0s - loss: 0.2055 - acc: 0.938 - ETA: 0s - loss: 0.2037 - acc: 0.938 - ETA: 0s - loss: 0.2046 - acc: 0.938 - ETA: 0s - loss: 0.2026 - acc: 0.938 - ETA: 0s - loss: 0.2033 - acc: 0.938 - ETA: 0s - loss: 0.2035 - acc: 0.937 - ETA: 0s - loss: 0.2055 - acc: 0.936 - ETA: 0s - loss: 0.2067 - acc: 0.935 - ETA: 0s - loss: 0.2095 - acc: 0.934 - ETA: 0s - loss: 0.2095 - acc: 0.934 - ETA: 0s - loss: 0.2111 - acc: 0.933 - ETA: 0s - loss: 0.2138 - acc: 0.932 - ETA: 0s - loss: 0.2148 - acc: 0.932 - ETA: 0s - loss: 0.2180 - acc: 0.931 - ETA: 0s - loss: 0.2205 - acc: 0.930 - ETA: 0s - loss: 0.2214 - acc: 0.930 - ETA: 0s - loss: 0.2209 - acc: 0.930 - ETA: 0s - loss: 0.2216 - acc: 0.929 - 1s 30us/step - loss: 0.2219 - acc: 0.9300 - val_loss: 1.2828 - val_acc: 0.7383\n",
      "Epoch 90/150\n",
      "36008/36008 [==============================] - ETA: 1s - loss: 0.1235 - acc: 0.960 - ETA: 0s - loss: 0.1873 - acc: 0.942 - ETA: 0s - loss: 0.1853 - acc: 0.944 - ETA: 0s - loss: 0.1906 - acc: 0.939 - ETA: 0s - loss: 0.1894 - acc: 0.939 - ETA: 0s - loss: 0.1893 - acc: 0.939 - ETA: 0s - loss: 0.1897 - acc: 0.939 - ETA: 0s - loss: 0.1981 - acc: 0.935 - ETA: 0s - loss: 0.2025 - acc: 0.934 - ETA: 0s - loss: 0.2036 - acc: 0.934 - ETA: 0s - loss: 0.2088 - acc: 0.933 - ETA: 0s - loss: 0.2113 - acc: 0.931 - ETA: 0s - loss: 0.2126 - acc: 0.931 - ETA: 0s - loss: 0.2161 - acc: 0.930 - ETA: 0s - loss: 0.2177 - acc: 0.930 - ETA: 0s - loss: 0.2177 - acc: 0.930 - ETA: 0s - loss: 0.2169 - acc: 0.930 - ETA: 0s - loss: 0.2176 - acc: 0.930 - ETA: 0s - loss: 0.2189 - acc: 0.930 - ETA: 0s - loss: 0.2224 - acc: 0.928 - ETA: 0s - loss: 0.2234 - acc: 0.928 - 1s 30us/step - loss: 0.2230 - acc: 0.9291 - val_loss: 1.2798 - val_acc: 0.7378\n",
      "Epoch 91/150\n",
      "36008/36008 [==============================] - ETA: 1s - loss: 0.2262 - acc: 0.930 - ETA: 0s - loss: 0.2228 - acc: 0.934 - ETA: 0s - loss: 0.2238 - acc: 0.932 - ETA: 0s - loss: 0.2128 - acc: 0.936 - ETA: 0s - loss: 0.2116 - acc: 0.935 - ETA: 0s - loss: 0.2089 - acc: 0.935 - ETA: 0s - loss: 0.2070 - acc: 0.935 - ETA: 0s - loss: 0.2070 - acc: 0.935 - ETA: 0s - loss: 0.2107 - acc: 0.934 - ETA: 0s - loss: 0.2120 - acc: 0.933 - ETA: 0s - loss: 0.2129 - acc: 0.933 - ETA: 0s - loss: 0.2111 - acc: 0.933 - ETA: 0s - loss: 0.2113 - acc: 0.932 - ETA: 0s - loss: 0.2101 - acc: 0.933 - ETA: 0s - loss: 0.2135 - acc: 0.932 - ETA: 0s - loss: 0.2133 - acc: 0.932 - ETA: 0s - loss: 0.2136 - acc: 0.932 - ETA: 0s - loss: 0.2139 - acc: 0.932 - ETA: 0s - loss: 0.2142 - acc: 0.932 - ETA: 0s - loss: 0.2154 - acc: 0.932 - ETA: 0s - loss: 0.2180 - acc: 0.931 - ETA: 0s - loss: 0.2185 - acc: 0.931 - ETA: 0s - loss: 0.2187 - acc: 0.931 - ETA: 0s - loss: 0.2195 - acc: 0.931 - 1s 36us/step - loss: 0.2193 - acc: 0.9312 - val_loss: 1.3586 - val_acc: 0.7226\n",
      "Epoch 92/150\n",
      "36008/36008 [==============================] - ETA: 3s - loss: 0.2064 - acc: 0.930 - ETA: 1s - loss: 0.1788 - acc: 0.946 - ETA: 1s - loss: 0.1984 - acc: 0.937 - ETA: 1s - loss: 0.2009 - acc: 0.935 - ETA: 0s - loss: 0.2108 - acc: 0.930 - ETA: 0s - loss: 0.2128 - acc: 0.930 - ETA: 0s - loss: 0.2081 - acc: 0.933 - ETA: 0s - loss: 0.2121 - acc: 0.932 - ETA: 0s - loss: 0.2156 - acc: 0.932 - ETA: 0s - loss: 0.2153 - acc: 0.932 - ETA: 0s - loss: 0.2128 - acc: 0.932 - ETA: 0s - loss: 0.2122 - acc: 0.932 - ETA: 0s - loss: 0.2145 - acc: 0.932 - ETA: 0s - loss: 0.2161 - acc: 0.931 - ETA: 0s - loss: 0.2151 - acc: 0.931 - ETA: 0s - loss: 0.2161 - acc: 0.930 - ETA: 0s - loss: 0.2167 - acc: 0.931 - ETA: 0s - loss: 0.2169 - acc: 0.930 - ETA: 0s - loss: 0.2166 - acc: 0.930 - ETA: 0s - loss: 0.2178 - acc: 0.930 - 1s 28us/step - loss: 0.2176 - acc: 0.9305 - val_loss: 1.3337 - val_acc: 0.7278\n",
      "Epoch 93/150\n",
      "36008/36008 [==============================] - ETA: 2s - loss: 0.2255 - acc: 0.920 - ETA: 0s - loss: 0.1651 - acc: 0.952 - ETA: 0s - loss: 0.1774 - acc: 0.945 - ETA: 0s - loss: 0.1819 - acc: 0.941 - ETA: 0s - loss: 0.1784 - acc: 0.942 - ETA: 0s - loss: 0.1804 - acc: 0.941 - ETA: 0s - loss: 0.1885 - acc: 0.938 - ETA: 0s - loss: 0.1965 - acc: 0.936 - ETA: 0s - loss: 0.1999 - acc: 0.936 - ETA: 0s - loss: 0.2046 - acc: 0.934 - ETA: 0s - loss: 0.2079 - acc: 0.934 - ETA: 0s - loss: 0.2083 - acc: 0.933 - ETA: 0s - loss: 0.2089 - acc: 0.933 - ETA: 0s - loss: 0.2103 - acc: 0.933 - ETA: 0s - loss: 0.2113 - acc: 0.933 - ETA: 0s - loss: 0.2147 - acc: 0.932 - ETA: 0s - loss: 0.2149 - acc: 0.932 - ETA: 0s - loss: 0.2142 - acc: 0.932 - ETA: 0s - loss: 0.2151 - acc: 0.931 - 1s 28us/step - loss: 0.2153 - acc: 0.9317 - val_loss: 1.3441 - val_acc: 0.7191\n",
      "Epoch 94/150\n",
      "36008/36008 [==============================] - ETA: 1s - loss: 0.2430 - acc: 0.930 - ETA: 0s - loss: 0.1951 - acc: 0.937 - ETA: 0s - loss: 0.1935 - acc: 0.941 - ETA: 0s - loss: 0.1928 - acc: 0.943 - ETA: 0s - loss: 0.1967 - acc: 0.941 - ETA: 0s - loss: 0.2028 - acc: 0.939 - ETA: 0s - loss: 0.2094 - acc: 0.937 - ETA: 0s - loss: 0.2053 - acc: 0.937 - ETA: 0s - loss: 0.2051 - acc: 0.937 - ETA: 0s - loss: 0.2058 - acc: 0.936 - ETA: 0s - loss: 0.2046 - acc: 0.936 - ETA: 0s - loss: 0.2063 - acc: 0.935 - ETA: 0s - loss: 0.2070 - acc: 0.934 - ETA: 0s - loss: 0.2086 - acc: 0.934 - ETA: 0s - loss: 0.2090 - acc: 0.934 - ETA: 0s - loss: 0.2115 - acc: 0.933 - ETA: 0s - loss: 0.2129 - acc: 0.932 - ETA: 0s - loss: 0.2135 - acc: 0.932 - ETA: 0s - loss: 0.2138 - acc: 0.932 - ETA: 0s - loss: 0.2150 - acc: 0.932 - 1s 29us/step - loss: 0.2158 - acc: 0.9320 - val_loss: 1.3297 - val_acc: 0.7383\n",
      "Epoch 95/150\n"
     ]
    },
    {
     "name": "stdout",
     "output_type": "stream",
     "text": [
      "36008/36008 [==============================] - ETA: 1s - loss: 0.3261 - acc: 0.920 - ETA: 0s - loss: 0.2036 - acc: 0.938 - ETA: 0s - loss: 0.2047 - acc: 0.936 - ETA: 0s - loss: 0.2003 - acc: 0.937 - ETA: 0s - loss: 0.2058 - acc: 0.938 - ETA: 0s - loss: 0.2036 - acc: 0.938 - ETA: 0s - loss: 0.2039 - acc: 0.938 - ETA: 0s - loss: 0.2031 - acc: 0.939 - ETA: 0s - loss: 0.2039 - acc: 0.938 - ETA: 0s - loss: 0.2036 - acc: 0.939 - ETA: 0s - loss: 0.2085 - acc: 0.937 - ETA: 0s - loss: 0.2092 - acc: 0.936 - ETA: 0s - loss: 0.2116 - acc: 0.935 - ETA: 0s - loss: 0.2139 - acc: 0.934 - ETA: 0s - loss: 0.2132 - acc: 0.934 - ETA: 0s - loss: 0.2104 - acc: 0.934 - ETA: 0s - loss: 0.2114 - acc: 0.934 - ETA: 0s - loss: 0.2115 - acc: 0.934 - ETA: 0s - loss: 0.2127 - acc: 0.933 - ETA: 0s - loss: 0.2126 - acc: 0.933 - ETA: 0s - loss: 0.2134 - acc: 0.932 - 1s 30us/step - loss: 0.2135 - acc: 0.9328 - val_loss: 1.4374 - val_acc: 0.7201\n",
      "Epoch 96/150\n",
      "36008/36008 [==============================] - ETA: 2s - loss: 0.3759 - acc: 0.900 - ETA: 1s - loss: 0.1990 - acc: 0.936 - ETA: 0s - loss: 0.1974 - acc: 0.937 - ETA: 0s - loss: 0.1927 - acc: 0.937 - ETA: 0s - loss: 0.1899 - acc: 0.938 - ETA: 0s - loss: 0.1889 - acc: 0.939 - ETA: 0s - loss: 0.1901 - acc: 0.939 - ETA: 0s - loss: 0.1908 - acc: 0.939 - ETA: 0s - loss: 0.1961 - acc: 0.938 - ETA: 0s - loss: 0.1979 - acc: 0.938 - ETA: 0s - loss: 0.1990 - acc: 0.937 - ETA: 0s - loss: 0.2008 - acc: 0.937 - ETA: 0s - loss: 0.2006 - acc: 0.937 - ETA: 0s - loss: 0.2040 - acc: 0.936 - ETA: 0s - loss: 0.2078 - acc: 0.935 - ETA: 0s - loss: 0.2080 - acc: 0.934 - ETA: 0s - loss: 0.2125 - acc: 0.933 - ETA: 0s - loss: 0.2123 - acc: 0.933 - ETA: 0s - loss: 0.2128 - acc: 0.933 - ETA: 0s - loss: 0.2118 - acc: 0.933 - ETA: 0s - loss: 0.2111 - acc: 0.933 - 1s 31us/step - loss: 0.2130 - acc: 0.9328 - val_loss: 1.3171 - val_acc: 0.7366\n",
      "Epoch 97/150\n",
      "36008/36008 [==============================] - ETA: 1s - loss: 0.2084 - acc: 0.950 - ETA: 1s - loss: 0.1865 - acc: 0.945 - ETA: 1s - loss: 0.1835 - acc: 0.948 - ETA: 1s - loss: 0.1903 - acc: 0.944 - ETA: 1s - loss: 0.1839 - acc: 0.944 - ETA: 0s - loss: 0.1891 - acc: 0.943 - ETA: 0s - loss: 0.1873 - acc: 0.943 - ETA: 0s - loss: 0.1896 - acc: 0.941 - ETA: 0s - loss: 0.1920 - acc: 0.941 - ETA: 0s - loss: 0.1940 - acc: 0.941 - ETA: 0s - loss: 0.1973 - acc: 0.940 - ETA: 0s - loss: 0.2040 - acc: 0.938 - ETA: 0s - loss: 0.2015 - acc: 0.938 - ETA: 0s - loss: 0.2061 - acc: 0.937 - ETA: 0s - loss: 0.2064 - acc: 0.936 - ETA: 0s - loss: 0.2068 - acc: 0.935 - ETA: 0s - loss: 0.2081 - acc: 0.935 - ETA: 0s - loss: 0.2084 - acc: 0.935 - ETA: 0s - loss: 0.2106 - acc: 0.934 - ETA: 0s - loss: 0.2099 - acc: 0.934 - ETA: 0s - loss: 0.2119 - acc: 0.934 - ETA: 0s - loss: 0.2119 - acc: 0.934 - ETA: 0s - loss: 0.2123 - acc: 0.933 - 1s 33us/step - loss: 0.2115 - acc: 0.9343 - val_loss: 1.3383 - val_acc: 0.7301\n",
      "Epoch 98/150\n",
      "36008/36008 [==============================] - ETA: 1s - loss: 0.0878 - acc: 0.970 - ETA: 0s - loss: 0.1600 - acc: 0.954 - ETA: 0s - loss: 0.1856 - acc: 0.946 - ETA: 0s - loss: 0.1933 - acc: 0.945 - ETA: 0s - loss: 0.1953 - acc: 0.943 - ETA: 0s - loss: 0.1996 - acc: 0.942 - ETA: 0s - loss: 0.2034 - acc: 0.942 - ETA: 0s - loss: 0.2034 - acc: 0.941 - ETA: 0s - loss: 0.2053 - acc: 0.940 - ETA: 0s - loss: 0.2048 - acc: 0.939 - ETA: 0s - loss: 0.2067 - acc: 0.938 - ETA: 0s - loss: 0.2076 - acc: 0.938 - ETA: 0s - loss: 0.2057 - acc: 0.937 - ETA: 0s - loss: 0.2081 - acc: 0.936 - ETA: 0s - loss: 0.2069 - acc: 0.937 - ETA: 0s - loss: 0.2086 - acc: 0.936 - ETA: 0s - loss: 0.2111 - acc: 0.935 - ETA: 0s - loss: 0.2109 - acc: 0.935 - ETA: 0s - loss: 0.2098 - acc: 0.936 - ETA: 0s - loss: 0.2086 - acc: 0.936 - ETA: 0s - loss: 0.2092 - acc: 0.935 - 1s 30us/step - loss: 0.2095 - acc: 0.9360 - val_loss: 1.3986 - val_acc: 0.7323\n",
      "Epoch 99/150\n",
      "36008/36008 [==============================] - ETA: 1s - loss: 0.1016 - acc: 0.960 - ETA: 0s - loss: 0.1971 - acc: 0.937 - ETA: 0s - loss: 0.2018 - acc: 0.937 - ETA: 0s - loss: 0.2092 - acc: 0.938 - ETA: 0s - loss: 0.2019 - acc: 0.938 - ETA: 0s - loss: 0.1984 - acc: 0.939 - ETA: 0s - loss: 0.2023 - acc: 0.938 - ETA: 0s - loss: 0.2036 - acc: 0.938 - ETA: 0s - loss: 0.2007 - acc: 0.938 - ETA: 0s - loss: 0.2003 - acc: 0.938 - ETA: 0s - loss: 0.2010 - acc: 0.938 - ETA: 0s - loss: 0.2020 - acc: 0.937 - ETA: 0s - loss: 0.2006 - acc: 0.937 - ETA: 0s - loss: 0.2015 - acc: 0.937 - ETA: 0s - loss: 0.2028 - acc: 0.936 - ETA: 0s - loss: 0.2036 - acc: 0.936 - ETA: 0s - loss: 0.2035 - acc: 0.937 - ETA: 0s - loss: 0.2038 - acc: 0.937 - ETA: 0s - loss: 0.2054 - acc: 0.936 - ETA: 0s - loss: 0.2045 - acc: 0.937 - ETA: 0s - loss: 0.2070 - acc: 0.936 - ETA: 0s - loss: 0.2068 - acc: 0.936 - ETA: 0s - loss: 0.2058 - acc: 0.936 - 1s 33us/step - loss: 0.2061 - acc: 0.9364 - val_loss: 1.3223 - val_acc: 0.7338\n",
      "Epoch 100/150\n",
      "36008/36008 [==============================] - ETA: 2s - loss: 0.0870 - acc: 0.960 - ETA: 1s - loss: 0.1618 - acc: 0.945 - ETA: 1s - loss: 0.1736 - acc: 0.944 - ETA: 1s - loss: 0.1881 - acc: 0.938 - ETA: 1s - loss: 0.1812 - acc: 0.940 - ETA: 1s - loss: 0.1838 - acc: 0.940 - ETA: 1s - loss: 0.1918 - acc: 0.938 - ETA: 1s - loss: 0.1888 - acc: 0.940 - ETA: 0s - loss: 0.1879 - acc: 0.942 - ETA: 0s - loss: 0.1878 - acc: 0.942 - ETA: 0s - loss: 0.1914 - acc: 0.941 - ETA: 0s - loss: 0.1907 - acc: 0.941 - ETA: 0s - loss: 0.1926 - acc: 0.941 - ETA: 0s - loss: 0.1951 - acc: 0.940 - ETA: 0s - loss: 0.1955 - acc: 0.940 - ETA: 0s - loss: 0.1966 - acc: 0.939 - ETA: 0s - loss: 0.1991 - acc: 0.939 - ETA: 0s - loss: 0.1992 - acc: 0.939 - ETA: 0s - loss: 0.1993 - acc: 0.939 - ETA: 0s - loss: 0.2005 - acc: 0.938 - ETA: 0s - loss: 0.2019 - acc: 0.938 - ETA: 0s - loss: 0.2038 - acc: 0.937 - ETA: 0s - loss: 0.2046 - acc: 0.937 - ETA: 0s - loss: 0.2067 - acc: 0.936 - ETA: 0s - loss: 0.2048 - acc: 0.937 - ETA: 0s - loss: 0.2051 - acc: 0.936 - 1s 38us/step - loss: 0.2070 - acc: 0.9362 - val_loss: 1.3715 - val_acc: 0.7281\n",
      "Epoch 101/150\n",
      "36008/36008 [==============================] - ETA: 1s - loss: 0.2151 - acc: 0.920 - ETA: 0s - loss: 0.1551 - acc: 0.953 - ETA: 0s - loss: 0.1677 - acc: 0.948 - ETA: 0s - loss: 0.1790 - acc: 0.947 - ETA: 0s - loss: 0.1761 - acc: 0.948 - ETA: 0s - loss: 0.1845 - acc: 0.946 - ETA: 0s - loss: 0.1895 - acc: 0.944 - ETA: 0s - loss: 0.1932 - acc: 0.943 - ETA: 0s - loss: 0.1923 - acc: 0.943 - ETA: 0s - loss: 0.1956 - acc: 0.942 - ETA: 0s - loss: 0.1954 - acc: 0.942 - ETA: 0s - loss: 0.1956 - acc: 0.942 - ETA: 0s - loss: 0.1952 - acc: 0.941 - ETA: 0s - loss: 0.1952 - acc: 0.941 - ETA: 0s - loss: 0.1977 - acc: 0.940 - ETA: 0s - loss: 0.2009 - acc: 0.939 - ETA: 0s - loss: 0.2014 - acc: 0.938 - ETA: 0s - loss: 0.2013 - acc: 0.938 - ETA: 0s - loss: 0.2023 - acc: 0.938 - ETA: 0s - loss: 0.2025 - acc: 0.937 - 1s 30us/step - loss: 0.2029 - acc: 0.9380 - val_loss: 1.3753 - val_acc: 0.7283\n",
      "Epoch 102/150\n",
      "36008/36008 [==============================] - ETA: 2s - loss: 0.1526 - acc: 0.930 - ETA: 1s - loss: 0.1610 - acc: 0.948 - ETA: 1s - loss: 0.1598 - acc: 0.949 - ETA: 1s - loss: 0.1678 - acc: 0.947 - ETA: 1s - loss: 0.1813 - acc: 0.946 - ETA: 1s - loss: 0.1782 - acc: 0.946 - ETA: 1s - loss: 0.1890 - acc: 0.943 - ETA: 0s - loss: 0.1884 - acc: 0.943 - ETA: 0s - loss: 0.1916 - acc: 0.942 - ETA: 0s - loss: 0.1921 - acc: 0.942 - ETA: 0s - loss: 0.1920 - acc: 0.942 - ETA: 0s - loss: 0.1946 - acc: 0.941 - ETA: 0s - loss: 0.1968 - acc: 0.940 - ETA: 0s - loss: 0.2011 - acc: 0.939 - ETA: 0s - loss: 0.2013 - acc: 0.939 - ETA: 0s - loss: 0.2010 - acc: 0.938 - ETA: 0s - loss: 0.2030 - acc: 0.938 - ETA: 0s - loss: 0.2029 - acc: 0.938 - ETA: 0s - loss: 0.2020 - acc: 0.938 - ETA: 0s - loss: 0.2016 - acc: 0.938 - ETA: 0s - loss: 0.2003 - acc: 0.938 - ETA: 0s - loss: 0.1997 - acc: 0.938 - ETA: 0s - loss: 0.1996 - acc: 0.938 - ETA: 0s - loss: 0.2002 - acc: 0.938 - ETA: 0s - loss: 0.2001 - acc: 0.938 - 1s 37us/step - loss: 0.2004 - acc: 0.9384 - val_loss: 1.4253 - val_acc: 0.7211\n",
      "Epoch 103/150\n",
      "36008/36008 [==============================] - ETA: 1s - loss: 0.1345 - acc: 0.960 - ETA: 1s - loss: 0.1677 - acc: 0.952 - ETA: 0s - loss: 0.1699 - acc: 0.951 - ETA: 0s - loss: 0.1732 - acc: 0.950 - ETA: 0s - loss: 0.1806 - acc: 0.946 - ETA: 0s - loss: 0.1778 - acc: 0.945 - ETA: 0s - loss: 0.1844 - acc: 0.944 - ETA: 0s - loss: 0.1840 - acc: 0.943 - ETA: 0s - loss: 0.1884 - acc: 0.942 - ETA: 0s - loss: 0.1891 - acc: 0.942 - ETA: 0s - loss: 0.1880 - acc: 0.942 - ETA: 0s - loss: 0.1916 - acc: 0.941 - ETA: 0s - loss: 0.1942 - acc: 0.940 - ETA: 0s - loss: 0.1970 - acc: 0.940 - ETA: 0s - loss: 0.1990 - acc: 0.940 - ETA: 0s - loss: 0.1990 - acc: 0.940 - ETA: 0s - loss: 0.1986 - acc: 0.940 - ETA: 0s - loss: 0.2011 - acc: 0.939 - ETA: 0s - loss: 0.2017 - acc: 0.938 - ETA: 0s - loss: 0.2017 - acc: 0.939 - ETA: 0s - loss: 0.2020 - acc: 0.938 - 1s 30us/step - loss: 0.2023 - acc: 0.9383 - val_loss: 1.4129 - val_acc: 0.7221\n",
      "Epoch 104/150\n",
      "36008/36008 [==============================] - ETA: 2s - loss: 0.4207 - acc: 0.930 - ETA: 1s - loss: 0.1799 - acc: 0.953 - ETA: 0s - loss: 0.1690 - acc: 0.952 - ETA: 0s - loss: 0.1776 - acc: 0.950 - ETA: 0s - loss: 0.1767 - acc: 0.949 - ETA: 0s - loss: 0.1888 - acc: 0.946 - ETA: 0s - loss: 0.1855 - acc: 0.947 - ETA: 0s - loss: 0.1831 - acc: 0.946 - ETA: 0s - loss: 0.1860 - acc: 0.945 - ETA: 0s - loss: 0.1879 - acc: 0.944 - ETA: 0s - loss: 0.1889 - acc: 0.943 - ETA: 0s - loss: 0.1893 - acc: 0.943 - ETA: 0s - loss: 0.1884 - acc: 0.943 - ETA: 0s - loss: 0.1927 - acc: 0.942 - ETA: 0s - loss: 0.1956 - acc: 0.942 - ETA: 0s - loss: 0.1987 - acc: 0.941 - ETA: 0s - loss: 0.1990 - acc: 0.941 - ETA: 0s - loss: 0.1993 - acc: 0.940 - ETA: 0s - loss: 0.1989 - acc: 0.939 - 1s 28us/step - loss: 0.2003 - acc: 0.9396 - val_loss: 1.3823 - val_acc: 0.7381\n",
      "Epoch 105/150\n",
      "36008/36008 [==============================] - ETA: 1s - loss: 0.1535 - acc: 0.960 - ETA: 0s - loss: 0.1671 - acc: 0.953 - ETA: 0s - loss: 0.1859 - acc: 0.949 - ETA: 0s - loss: 0.1760 - acc: 0.951 - ETA: 0s - loss: 0.1785 - acc: 0.948 - ETA: 0s - loss: 0.1806 - acc: 0.946 - ETA: 0s - loss: 0.1832 - acc: 0.946 - ETA: 0s - loss: 0.1827 - acc: 0.946 - ETA: 0s - loss: 0.1859 - acc: 0.944 - ETA: 0s - loss: 0.1833 - acc: 0.944 - ETA: 0s - loss: 0.1850 - acc: 0.943 - ETA: 0s - loss: 0.1870 - acc: 0.943 - ETA: 0s - loss: 0.1898 - acc: 0.942 - ETA: 0s - loss: 0.1909 - acc: 0.942 - ETA: 0s - loss: 0.1909 - acc: 0.942 - ETA: 0s - loss: 0.1957 - acc: 0.941 - ETA: 0s - loss: 0.1957 - acc: 0.940 - ETA: 0s - loss: 0.1962 - acc: 0.940 - ETA: 0s - loss: 0.1958 - acc: 0.940 - ETA: 0s - loss: 0.1954 - acc: 0.940 - 1s 29us/step - loss: 0.1961 - acc: 0.9399 - val_loss: 1.5684 - val_acc: 0.7068\n",
      "Epoch 106/150\n",
      "36008/36008 [==============================] - ETA: 1s - loss: 0.3322 - acc: 0.930 - ETA: 0s - loss: 0.1858 - acc: 0.946 - ETA: 0s - loss: 0.1761 - acc: 0.946 - ETA: 0s - loss: 0.1928 - acc: 0.944 - ETA: 0s - loss: 0.1902 - acc: 0.944 - ETA: 0s - loss: 0.1876 - acc: 0.944 - ETA: 0s - loss: 0.1897 - acc: 0.944 - ETA: 0s - loss: 0.1889 - acc: 0.943 - ETA: 0s - loss: 0.1936 - acc: 0.942 - ETA: 0s - loss: 0.1921 - acc: 0.943 - ETA: 0s - loss: 0.1931 - acc: 0.943 - ETA: 0s - loss: 0.1940 - acc: 0.943 - ETA: 0s - loss: 0.1946 - acc: 0.942 - ETA: 0s - loss: 0.1952 - acc: 0.942 - ETA: 0s - loss: 0.1938 - acc: 0.942 - ETA: 0s - loss: 0.1953 - acc: 0.941 - ETA: 0s - loss: 0.1964 - acc: 0.941 - ETA: 0s - loss: 0.1959 - acc: 0.940 - ETA: 0s - loss: 0.1982 - acc: 0.940 - 1s 27us/step - loss: 0.1979 - acc: 0.9401 - val_loss: 1.3895 - val_acc: 0.7341\n",
      "Epoch 107/150\n",
      "36008/36008 [==============================] - ETA: 2s - loss: 0.3023 - acc: 0.930 - ETA: 0s - loss: 0.1650 - acc: 0.955 - ETA: 0s - loss: 0.1541 - acc: 0.955 - ETA: 0s - loss: 0.1638 - acc: 0.951 - ETA: 0s - loss: 0.1780 - acc: 0.947 - ETA: 0s - loss: 0.1835 - acc: 0.947 - ETA: 0s - loss: 0.1862 - acc: 0.946 - ETA: 0s - loss: 0.1881 - acc: 0.944 - ETA: 0s - loss: 0.1904 - acc: 0.944 - ETA: 0s - loss: 0.1922 - acc: 0.943 - ETA: 0s - loss: 0.1914 - acc: 0.943 - ETA: 0s - loss: 0.1895 - acc: 0.944 - ETA: 0s - loss: 0.1913 - acc: 0.943 - ETA: 0s - loss: 0.1904 - acc: 0.944 - ETA: 0s - loss: 0.1928 - acc: 0.943 - ETA: 0s - loss: 0.1925 - acc: 0.943 - ETA: 0s - loss: 0.1938 - acc: 0.942 - ETA: 0s - loss: 0.1953 - acc: 0.942 - 1s 26us/step - loss: 0.1965 - acc: 0.9422 - val_loss: 1.4350 - val_acc: 0.7211\n",
      "Epoch 108/150\n",
      "36008/36008 [==============================] - ETA: 1s - loss: 0.1828 - acc: 0.920 - ETA: 0s - loss: 0.1884 - acc: 0.948 - ETA: 0s - loss: 0.1874 - acc: 0.945 - ETA: 0s - loss: 0.1817 - acc: 0.948 - ETA: 0s - loss: 0.1925 - acc: 0.945 - ETA: 0s - loss: 0.1885 - acc: 0.944 - ETA: 0s - loss: 0.1868 - acc: 0.944 - ETA: 0s - loss: 0.1856 - acc: 0.944 - ETA: 0s - loss: 0.1865 - acc: 0.944 - ETA: 0s - loss: 0.1867 - acc: 0.944 - ETA: 0s - loss: 0.1852 - acc: 0.944 - ETA: 0s - loss: 0.1871 - acc: 0.944 - ETA: 0s - loss: 0.1889 - acc: 0.943 - ETA: 0s - loss: 0.1900 - acc: 0.943 - ETA: 0s - loss: 0.1919 - acc: 0.942 - ETA: 0s - loss: 0.1926 - acc: 0.942 - ETA: 0s - loss: 0.1930 - acc: 0.942 - ETA: 0s - loss: 0.1919 - acc: 0.943 - ETA: 0s - loss: 0.1912 - acc: 0.943 - ETA: 0s - loss: 0.1926 - acc: 0.942 - 1s 29us/step - loss: 0.1921 - acc: 0.9427 - val_loss: 1.4031 - val_acc: 0.7378\n",
      "Epoch 109/150\n",
      "36008/36008 [==============================] - ETA: 1s - loss: 0.1311 - acc: 0.960 - ETA: 0s - loss: 0.2430 - acc: 0.940 - ETA: 0s - loss: 0.2012 - acc: 0.945 - ETA: 1s - loss: 0.1995 - acc: 0.943 - ETA: 0s - loss: 0.2014 - acc: 0.943 - ETA: 0s - loss: 0.1920 - acc: 0.945 - ETA: 0s - loss: 0.1912 - acc: 0.944 - ETA: 0s - loss: 0.1939 - acc: 0.944 - ETA: 0s - loss: 0.1908 - acc: 0.944 - ETA: 0s - loss: 0.1924 - acc: 0.944 - ETA: 0s - loss: 0.1901 - acc: 0.944 - ETA: 0s - loss: 0.1918 - acc: 0.944 - ETA: 0s - loss: 0.1884 - acc: 0.944 - ETA: 0s - loss: 0.1894 - acc: 0.944 - ETA: 0s - loss: 0.1898 - acc: 0.943 - ETA: 0s - loss: 0.1911 - acc: 0.942 - ETA: 0s - loss: 0.1905 - acc: 0.942 - ETA: 0s - loss: 0.1913 - acc: 0.942 - ETA: 0s - loss: 0.1918 - acc: 0.942 - ETA: 0s - loss: 0.1896 - acc: 0.942 - ETA: 0s - loss: 0.1920 - acc: 0.941 - ETA: 0s - loss: 0.1912 - acc: 0.942 - ETA: 0s - loss: 0.1917 - acc: 0.942 - 1s 33us/step - loss: 0.1927 - acc: 0.9420 - val_loss: 1.4236 - val_acc: 0.7398\n",
      "Epoch 110/150\n",
      "36008/36008 [==============================] - ETA: 1s - loss: 0.1347 - acc: 0.980 - ETA: 1s - loss: 0.1424 - acc: 0.953 - ETA: 0s - loss: 0.1575 - acc: 0.951 - ETA: 0s - loss: 0.1778 - acc: 0.945 - ETA: 0s - loss: 0.1789 - acc: 0.945 - ETA: 0s - loss: 0.1768 - acc: 0.946 - ETA: 0s - loss: 0.1784 - acc: 0.946 - ETA: 0s - loss: 0.1828 - acc: 0.946 - ETA: 0s - loss: 0.1829 - acc: 0.946 - ETA: 0s - loss: 0.1857 - acc: 0.945 - ETA: 0s - loss: 0.1828 - acc: 0.946 - ETA: 0s - loss: 0.1851 - acc: 0.946 - ETA: 0s - loss: 0.1837 - acc: 0.945 - ETA: 0s - loss: 0.1828 - acc: 0.945 - ETA: 0s - loss: 0.1837 - acc: 0.945 - ETA: 0s - loss: 0.1825 - acc: 0.945 - ETA: 0s - loss: 0.1849 - acc: 0.944 - ETA: 0s - loss: 0.1834 - acc: 0.945 - ETA: 0s - loss: 0.1832 - acc: 0.945 - ETA: 0s - loss: 0.1851 - acc: 0.944 - ETA: 0s - loss: 0.1872 - acc: 0.944 - ETA: 0s - loss: 0.1871 - acc: 0.944 - 1s 32us/step - loss: 0.1866 - acc: 0.9443 - val_loss: 1.5362 - val_acc: 0.7061\n",
      "Epoch 111/150\n"
     ]
    },
    {
     "name": "stdout",
     "output_type": "stream",
     "text": [
      "36008/36008 [==============================] - ETA: 2s - loss: 0.1602 - acc: 0.940 - ETA: 1s - loss: 0.1623 - acc: 0.948 - ETA: 1s - loss: 0.1824 - acc: 0.954 - ETA: 1s - loss: 0.1713 - acc: 0.953 - ETA: 1s - loss: 0.1815 - acc: 0.949 - ETA: 1s - loss: 0.1880 - acc: 0.950 - ETA: 1s - loss: 0.1851 - acc: 0.950 - ETA: 1s - loss: 0.1892 - acc: 0.949 - ETA: 1s - loss: 0.1844 - acc: 0.950 - ETA: 1s - loss: 0.1829 - acc: 0.949 - ETA: 0s - loss: 0.1831 - acc: 0.948 - ETA: 0s - loss: 0.1835 - acc: 0.948 - ETA: 0s - loss: 0.1841 - acc: 0.947 - ETA: 0s - loss: 0.1845 - acc: 0.948 - ETA: 0s - loss: 0.1857 - acc: 0.947 - ETA: 0s - loss: 0.1851 - acc: 0.947 - ETA: 0s - loss: 0.1864 - acc: 0.947 - ETA: 0s - loss: 0.1860 - acc: 0.947 - ETA: 0s - loss: 0.1862 - acc: 0.946 - ETA: 0s - loss: 0.1868 - acc: 0.946 - ETA: 0s - loss: 0.1861 - acc: 0.946 - ETA: 0s - loss: 0.1866 - acc: 0.945 - ETA: 0s - loss: 0.1864 - acc: 0.945 - ETA: 0s - loss: 0.1856 - acc: 0.945 - ETA: 0s - loss: 0.1857 - acc: 0.945 - ETA: 0s - loss: 0.1883 - acc: 0.944 - 1s 38us/step - loss: 0.1876 - acc: 0.9447 - val_loss: 1.4863 - val_acc: 0.7221\n",
      "Epoch 112/150\n",
      "36008/36008 [==============================] - ETA: 1s - loss: 0.1209 - acc: 0.950 - ETA: 1s - loss: 0.2088 - acc: 0.937 - ETA: 1s - loss: 0.1863 - acc: 0.942 - ETA: 1s - loss: 0.1803 - acc: 0.946 - ETA: 1s - loss: 0.1765 - acc: 0.948 - ETA: 1s - loss: 0.1862 - acc: 0.945 - ETA: 0s - loss: 0.1824 - acc: 0.946 - ETA: 0s - loss: 0.1791 - acc: 0.945 - ETA: 0s - loss: 0.1760 - acc: 0.946 - ETA: 0s - loss: 0.1814 - acc: 0.946 - ETA: 0s - loss: 0.1828 - acc: 0.946 - ETA: 0s - loss: 0.1822 - acc: 0.946 - ETA: 0s - loss: 0.1840 - acc: 0.946 - ETA: 0s - loss: 0.1823 - acc: 0.946 - ETA: 0s - loss: 0.1841 - acc: 0.945 - ETA: 0s - loss: 0.1862 - acc: 0.944 - ETA: 0s - loss: 0.1872 - acc: 0.944 - ETA: 0s - loss: 0.1866 - acc: 0.944 - ETA: 0s - loss: 0.1878 - acc: 0.944 - ETA: 0s - loss: 0.1879 - acc: 0.943 - ETA: 0s - loss: 0.1880 - acc: 0.943 - ETA: 0s - loss: 0.1897 - acc: 0.943 - ETA: 0s - loss: 0.1912 - acc: 0.942 - ETA: 0s - loss: 0.1929 - acc: 0.942 - ETA: 0s - loss: 0.1945 - acc: 0.942 - ETA: 0s - loss: 0.1936 - acc: 0.942 - 1s 38us/step - loss: 0.1932 - acc: 0.9422 - val_loss: 1.5042 - val_acc: 0.7211\n",
      "Epoch 113/150\n",
      "36008/36008 [==============================] - ETA: 1s - loss: 0.2053 - acc: 0.950 - ETA: 1s - loss: 0.1462 - acc: 0.951 - ETA: 1s - loss: 0.1592 - acc: 0.952 - ETA: 1s - loss: 0.1777 - acc: 0.947 - ETA: 1s - loss: 0.1699 - acc: 0.951 - ETA: 1s - loss: 0.1610 - acc: 0.954 - ETA: 1s - loss: 0.1680 - acc: 0.952 - ETA: 0s - loss: 0.1702 - acc: 0.951 - ETA: 0s - loss: 0.1687 - acc: 0.951 - ETA: 0s - loss: 0.1715 - acc: 0.950 - ETA: 0s - loss: 0.1694 - acc: 0.950 - ETA: 0s - loss: 0.1716 - acc: 0.949 - ETA: 0s - loss: 0.1759 - acc: 0.948 - ETA: 0s - loss: 0.1780 - acc: 0.947 - ETA: 0s - loss: 0.1798 - acc: 0.946 - ETA: 0s - loss: 0.1802 - acc: 0.946 - ETA: 0s - loss: 0.1838 - acc: 0.945 - ETA: 0s - loss: 0.1840 - acc: 0.945 - ETA: 0s - loss: 0.1831 - acc: 0.945 - ETA: 0s - loss: 0.1828 - acc: 0.945 - ETA: 0s - loss: 0.1827 - acc: 0.945 - ETA: 0s - loss: 0.1846 - acc: 0.945 - ETA: 0s - loss: 0.1866 - acc: 0.944 - ETA: 0s - loss: 0.1855 - acc: 0.945 - ETA: 0s - loss: 0.1859 - acc: 0.945 - 1s 36us/step - loss: 0.1870 - acc: 0.9446 - val_loss: 1.4716 - val_acc: 0.7343\n",
      "Epoch 114/150\n",
      "36008/36008 [==============================] - ETA: 1s - loss: 0.2113 - acc: 0.920 - ETA: 1s - loss: 0.1771 - acc: 0.948 - ETA: 0s - loss: 0.1952 - acc: 0.946 - ETA: 0s - loss: 0.1760 - acc: 0.950 - ETA: 0s - loss: 0.1758 - acc: 0.950 - ETA: 0s - loss: 0.1723 - acc: 0.951 - ETA: 0s - loss: 0.1685 - acc: 0.951 - ETA: 0s - loss: 0.1688 - acc: 0.950 - ETA: 0s - loss: 0.1741 - acc: 0.950 - ETA: 0s - loss: 0.1738 - acc: 0.950 - ETA: 0s - loss: 0.1755 - acc: 0.950 - ETA: 0s - loss: 0.1737 - acc: 0.950 - ETA: 0s - loss: 0.1741 - acc: 0.949 - ETA: 0s - loss: 0.1750 - acc: 0.949 - ETA: 0s - loss: 0.1744 - acc: 0.949 - ETA: 0s - loss: 0.1752 - acc: 0.949 - ETA: 0s - loss: 0.1765 - acc: 0.948 - ETA: 0s - loss: 0.1775 - acc: 0.947 - ETA: 0s - loss: 0.1816 - acc: 0.946 - ETA: 0s - loss: 0.1814 - acc: 0.946 - ETA: 0s - loss: 0.1842 - acc: 0.945 - ETA: 0s - loss: 0.1844 - acc: 0.945 - ETA: 0s - loss: 0.1859 - acc: 0.945 - ETA: 0s - loss: 0.1857 - acc: 0.946 - ETA: 0s - loss: 0.1859 - acc: 0.946 - ETA: 0s - loss: 0.1868 - acc: 0.945 - 1s 37us/step - loss: 0.1876 - acc: 0.9452 - val_loss: 1.5510 - val_acc: 0.7276\n",
      "Epoch 115/150\n",
      "36008/36008 [==============================] - ETA: 1s - loss: 0.1396 - acc: 0.980 - ETA: 1s - loss: 0.1520 - acc: 0.960 - ETA: 1s - loss: 0.1517 - acc: 0.956 - ETA: 1s - loss: 0.1692 - acc: 0.952 - ETA: 1s - loss: 0.1649 - acc: 0.954 - ETA: 0s - loss: 0.1709 - acc: 0.953 - ETA: 0s - loss: 0.1691 - acc: 0.952 - ETA: 0s - loss: 0.1740 - acc: 0.951 - ETA: 0s - loss: 0.1753 - acc: 0.950 - ETA: 0s - loss: 0.1780 - acc: 0.949 - ETA: 0s - loss: 0.1739 - acc: 0.950 - ETA: 0s - loss: 0.1743 - acc: 0.950 - ETA: 0s - loss: 0.1723 - acc: 0.950 - ETA: 0s - loss: 0.1732 - acc: 0.950 - ETA: 0s - loss: 0.1759 - acc: 0.949 - ETA: 0s - loss: 0.1780 - acc: 0.948 - ETA: 0s - loss: 0.1814 - acc: 0.947 - ETA: 0s - loss: 0.1815 - acc: 0.947 - ETA: 0s - loss: 0.1797 - acc: 0.947 - ETA: 0s - loss: 0.1802 - acc: 0.947 - ETA: 0s - loss: 0.1804 - acc: 0.947 - ETA: 0s - loss: 0.1825 - acc: 0.946 - ETA: 0s - loss: 0.1819 - acc: 0.946 - 1s 34us/step - loss: 0.1821 - acc: 0.9467 - val_loss: 1.4783 - val_acc: 0.7311\n",
      "Epoch 116/150\n",
      "36008/36008 [==============================] - ETA: 1s - loss: 0.0716 - acc: 0.980 - ETA: 0s - loss: 0.1203 - acc: 0.966 - ETA: 0s - loss: 0.1447 - acc: 0.956 - ETA: 0s - loss: 0.1627 - acc: 0.952 - ETA: 0s - loss: 0.1636 - acc: 0.951 - ETA: 0s - loss: 0.1628 - acc: 0.952 - ETA: 0s - loss: 0.1655 - acc: 0.951 - ETA: 0s - loss: 0.1648 - acc: 0.951 - ETA: 0s - loss: 0.1673 - acc: 0.951 - ETA: 0s - loss: 0.1669 - acc: 0.951 - ETA: 0s - loss: 0.1642 - acc: 0.951 - ETA: 0s - loss: 0.1656 - acc: 0.950 - ETA: 0s - loss: 0.1676 - acc: 0.950 - ETA: 0s - loss: 0.1708 - acc: 0.950 - ETA: 0s - loss: 0.1713 - acc: 0.950 - ETA: 0s - loss: 0.1737 - acc: 0.949 - ETA: 0s - loss: 0.1738 - acc: 0.949 - ETA: 0s - loss: 0.1749 - acc: 0.948 - ETA: 0s - loss: 0.1748 - acc: 0.948 - ETA: 0s - loss: 0.1747 - acc: 0.947 - ETA: 0s - loss: 0.1761 - acc: 0.947 - ETA: 0s - loss: 0.1785 - acc: 0.947 - ETA: 0s - loss: 0.1778 - acc: 0.947 - ETA: 0s - loss: 0.1779 - acc: 0.947 - 1s 35us/step - loss: 0.1784 - acc: 0.9470 - val_loss: 1.5281 - val_acc: 0.7196\n",
      "Epoch 117/150\n",
      "36008/36008 [==============================] - ETA: 1s - loss: 0.2079 - acc: 0.940 - ETA: 1s - loss: 0.1503 - acc: 0.958 - ETA: 1s - loss: 0.1593 - acc: 0.953 - ETA: 0s - loss: 0.1658 - acc: 0.954 - ETA: 0s - loss: 0.1728 - acc: 0.952 - ETA: 0s - loss: 0.1739 - acc: 0.951 - ETA: 0s - loss: 0.1731 - acc: 0.951 - ETA: 0s - loss: 0.1747 - acc: 0.951 - ETA: 0s - loss: 0.1763 - acc: 0.950 - ETA: 0s - loss: 0.1809 - acc: 0.948 - ETA: 0s - loss: 0.1814 - acc: 0.948 - ETA: 0s - loss: 0.1809 - acc: 0.948 - ETA: 0s - loss: 0.1790 - acc: 0.949 - ETA: 0s - loss: 0.1810 - acc: 0.949 - ETA: 0s - loss: 0.1819 - acc: 0.949 - ETA: 0s - loss: 0.1816 - acc: 0.949 - ETA: 0s - loss: 0.1821 - acc: 0.949 - ETA: 0s - loss: 0.1817 - acc: 0.949 - ETA: 0s - loss: 0.1820 - acc: 0.948 - ETA: 0s - loss: 0.1830 - acc: 0.948 - ETA: 0s - loss: 0.1844 - acc: 0.947 - ETA: 0s - loss: 0.1843 - acc: 0.947 - 1s 31us/step - loss: 0.1844 - acc: 0.9476 - val_loss: 1.4936 - val_acc: 0.7296\n",
      "Epoch 118/150\n",
      "36008/36008 [==============================] - ETA: 1s - loss: 0.3874 - acc: 0.970 - ETA: 1s - loss: 0.1602 - acc: 0.954 - ETA: 0s - loss: 0.1639 - acc: 0.952 - ETA: 0s - loss: 0.1843 - acc: 0.948 - ETA: 0s - loss: 0.1784 - acc: 0.949 - ETA: 0s - loss: 0.1864 - acc: 0.949 - ETA: 0s - loss: 0.1890 - acc: 0.948 - ETA: 0s - loss: 0.1941 - acc: 0.946 - ETA: 0s - loss: 0.1861 - acc: 0.948 - ETA: 0s - loss: 0.1825 - acc: 0.948 - ETA: 0s - loss: 0.1839 - acc: 0.948 - ETA: 0s - loss: 0.1843 - acc: 0.948 - ETA: 0s - loss: 0.1854 - acc: 0.947 - ETA: 0s - loss: 0.1847 - acc: 0.947 - ETA: 0s - loss: 0.1849 - acc: 0.946 - ETA: 0s - loss: 0.1822 - acc: 0.947 - ETA: 0s - loss: 0.1843 - acc: 0.946 - ETA: 0s - loss: 0.1857 - acc: 0.946 - ETA: 0s - loss: 0.1851 - acc: 0.946 - ETA: 0s - loss: 0.1845 - acc: 0.946 - ETA: 0s - loss: 0.1859 - acc: 0.946 - ETA: 0s - loss: 0.1853 - acc: 0.946 - ETA: 0s - loss: 0.1835 - acc: 0.946 - 1s 33us/step - loss: 0.1837 - acc: 0.9463 - val_loss: 1.4798 - val_acc: 0.7341\n",
      "Epoch 119/150\n",
      "36008/36008 [==============================] - ETA: 1s - loss: 0.1449 - acc: 0.960 - ETA: 1s - loss: 0.1732 - acc: 0.943 - ETA: 1s - loss: 0.1607 - acc: 0.948 - ETA: 1s - loss: 0.1556 - acc: 0.950 - ETA: 1s - loss: 0.1550 - acc: 0.951 - ETA: 1s - loss: 0.1612 - acc: 0.951 - ETA: 1s - loss: 0.1676 - acc: 0.950 - ETA: 0s - loss: 0.1729 - acc: 0.950 - ETA: 0s - loss: 0.1797 - acc: 0.948 - ETA: 0s - loss: 0.1815 - acc: 0.948 - ETA: 0s - loss: 0.1787 - acc: 0.949 - ETA: 0s - loss: 0.1793 - acc: 0.949 - ETA: 0s - loss: 0.1787 - acc: 0.949 - ETA: 0s - loss: 0.1780 - acc: 0.949 - ETA: 0s - loss: 0.1776 - acc: 0.949 - ETA: 0s - loss: 0.1776 - acc: 0.948 - ETA: 0s - loss: 0.1776 - acc: 0.948 - ETA: 0s - loss: 0.1802 - acc: 0.948 - ETA: 0s - loss: 0.1805 - acc: 0.947 - ETA: 0s - loss: 0.1817 - acc: 0.947 - ETA: 0s - loss: 0.1846 - acc: 0.946 - 1s 31us/step - loss: 0.1850 - acc: 0.9466 - val_loss: 1.5100 - val_acc: 0.7223\n",
      "Epoch 120/150\n",
      "36008/36008 [==============================] - ETA: 1s - loss: 0.1548 - acc: 0.960 - ETA: 1s - loss: 0.1481 - acc: 0.960 - ETA: 0s - loss: 0.1533 - acc: 0.957 - ETA: 0s - loss: 0.1384 - acc: 0.960 - ETA: 0s - loss: 0.1438 - acc: 0.958 - ETA: 0s - loss: 0.1523 - acc: 0.956 - ETA: 0s - loss: 0.1659 - acc: 0.953 - ETA: 0s - loss: 0.1694 - acc: 0.952 - ETA: 0s - loss: 0.1699 - acc: 0.951 - ETA: 0s - loss: 0.1722 - acc: 0.950 - ETA: 0s - loss: 0.1711 - acc: 0.951 - ETA: 0s - loss: 0.1712 - acc: 0.951 - ETA: 0s - loss: 0.1746 - acc: 0.950 - ETA: 0s - loss: 0.1784 - acc: 0.949 - ETA: 0s - loss: 0.1788 - acc: 0.949 - ETA: 0s - loss: 0.1780 - acc: 0.949 - ETA: 0s - loss: 0.1769 - acc: 0.949 - ETA: 0s - loss: 0.1792 - acc: 0.948 - ETA: 0s - loss: 0.1818 - acc: 0.947 - 1s 29us/step - loss: 0.1815 - acc: 0.9480 - val_loss: 1.5034 - val_acc: 0.7398\n",
      "Epoch 121/150\n",
      "36008/36008 [==============================] - ETA: 1s - loss: 0.1724 - acc: 0.990 - ETA: 0s - loss: 0.1595 - acc: 0.956 - ETA: 0s - loss: 0.1627 - acc: 0.956 - ETA: 0s - loss: 0.1714 - acc: 0.956 - ETA: 0s - loss: 0.1759 - acc: 0.953 - ETA: 0s - loss: 0.1799 - acc: 0.953 - ETA: 0s - loss: 0.1819 - acc: 0.952 - ETA: 0s - loss: 0.1832 - acc: 0.952 - ETA: 0s - loss: 0.1811 - acc: 0.952 - ETA: 0s - loss: 0.1792 - acc: 0.951 - ETA: 0s - loss: 0.1792 - acc: 0.951 - ETA: 0s - loss: 0.1803 - acc: 0.950 - ETA: 0s - loss: 0.1783 - acc: 0.951 - ETA: 0s - loss: 0.1789 - acc: 0.950 - ETA: 0s - loss: 0.1811 - acc: 0.949 - ETA: 0s - loss: 0.1811 - acc: 0.949 - ETA: 0s - loss: 0.1816 - acc: 0.949 - ETA: 0s - loss: 0.1807 - acc: 0.949 - ETA: 0s - loss: 0.1800 - acc: 0.949 - 1s 31us/step - loss: 0.1794 - acc: 0.9491 - val_loss: 1.5606 - val_acc: 0.7183\n",
      "Epoch 122/150\n",
      "36008/36008 [==============================] - ETA: 1s - loss: 0.0893 - acc: 0.980 - ETA: 1s - loss: 0.1415 - acc: 0.962 - ETA: 1s - loss: 0.1595 - acc: 0.957 - ETA: 1s - loss: 0.1607 - acc: 0.954 - ETA: 1s - loss: 0.1643 - acc: 0.953 - ETA: 0s - loss: 0.1653 - acc: 0.952 - ETA: 0s - loss: 0.1676 - acc: 0.952 - ETA: 0s - loss: 0.1693 - acc: 0.951 - ETA: 0s - loss: 0.1689 - acc: 0.952 - ETA: 0s - loss: 0.1705 - acc: 0.952 - ETA: 0s - loss: 0.1698 - acc: 0.951 - ETA: 0s - loss: 0.1717 - acc: 0.951 - ETA: 0s - loss: 0.1713 - acc: 0.951 - ETA: 0s - loss: 0.1729 - acc: 0.951 - ETA: 0s - loss: 0.1736 - acc: 0.950 - ETA: 0s - loss: 0.1776 - acc: 0.949 - ETA: 0s - loss: 0.1780 - acc: 0.949 - ETA: 0s - loss: 0.1781 - acc: 0.949 - ETA: 0s - loss: 0.1789 - acc: 0.949 - ETA: 0s - loss: 0.1786 - acc: 0.949 - ETA: 0s - loss: 0.1806 - acc: 0.948 - ETA: 0s - loss: 0.1792 - acc: 0.949 - ETA: 0s - loss: 0.1800 - acc: 0.948 - 1s 33us/step - loss: 0.1810 - acc: 0.9486 - val_loss: 1.5339 - val_acc: 0.7413\n",
      "Epoch 123/150\n",
      "36008/36008 [==============================] - ETA: 2s - loss: 0.1861 - acc: 0.940 - ETA: 0s - loss: 0.1498 - acc: 0.957 - ETA: 1s - loss: 0.1593 - acc: 0.956 - ETA: 1s - loss: 0.1543 - acc: 0.957 - ETA: 0s - loss: 0.1630 - acc: 0.954 - ETA: 0s - loss: 0.1591 - acc: 0.956 - ETA: 0s - loss: 0.1625 - acc: 0.955 - ETA: 0s - loss: 0.1622 - acc: 0.955 - ETA: 0s - loss: 0.1665 - acc: 0.954 - ETA: 0s - loss: 0.1649 - acc: 0.954 - ETA: 0s - loss: 0.1650 - acc: 0.953 - ETA: 0s - loss: 0.1713 - acc: 0.952 - ETA: 0s - loss: 0.1730 - acc: 0.951 - ETA: 0s - loss: 0.1760 - acc: 0.950 - ETA: 0s - loss: 0.1750 - acc: 0.950 - ETA: 0s - loss: 0.1776 - acc: 0.950 - ETA: 0s - loss: 0.1779 - acc: 0.949 - ETA: 0s - loss: 0.1816 - acc: 0.949 - ETA: 0s - loss: 0.1797 - acc: 0.949 - ETA: 0s - loss: 0.1808 - acc: 0.949 - ETA: 0s - loss: 0.1808 - acc: 0.949 - 1s 31us/step - loss: 0.1805 - acc: 0.9492 - val_loss: 1.6006 - val_acc: 0.7226\n",
      "Epoch 124/150\n",
      "36008/36008 [==============================] - ETA: 1s - loss: 0.1730 - acc: 0.950 - ETA: 0s - loss: 0.1872 - acc: 0.957 - ETA: 1s - loss: 0.1664 - acc: 0.959 - ETA: 0s - loss: 0.1627 - acc: 0.957 - ETA: 0s - loss: 0.1620 - acc: 0.957 - ETA: 0s - loss: 0.1675 - acc: 0.954 - ETA: 0s - loss: 0.1648 - acc: 0.954 - ETA: 0s - loss: 0.1639 - acc: 0.954 - ETA: 0s - loss: 0.1656 - acc: 0.953 - ETA: 0s - loss: 0.1693 - acc: 0.953 - ETA: 0s - loss: 0.1716 - acc: 0.953 - ETA: 0s - loss: 0.1709 - acc: 0.953 - ETA: 0s - loss: 0.1727 - acc: 0.952 - ETA: 0s - loss: 0.1731 - acc: 0.952 - ETA: 0s - loss: 0.1731 - acc: 0.952 - ETA: 0s - loss: 0.1726 - acc: 0.951 - ETA: 0s - loss: 0.1719 - acc: 0.951 - ETA: 0s - loss: 0.1736 - acc: 0.951 - ETA: 0s - loss: 0.1737 - acc: 0.951 - ETA: 0s - loss: 0.1750 - acc: 0.950 - 1s 30us/step - loss: 0.1742 - acc: 0.9507 - val_loss: 1.5215 - val_acc: 0.7336\n",
      "Epoch 125/150\n",
      "36008/36008 [==============================] - ETA: 0s - loss: 0.1662 - acc: 0.960 - ETA: 1s - loss: 0.1872 - acc: 0.955 - ETA: 1s - loss: 0.1638 - acc: 0.959 - ETA: 0s - loss: 0.1625 - acc: 0.958 - ETA: 0s - loss: 0.1498 - acc: 0.959 - ETA: 0s - loss: 0.1491 - acc: 0.960 - ETA: 0s - loss: 0.1473 - acc: 0.960 - ETA: 0s - loss: 0.1530 - acc: 0.958 - ETA: 0s - loss: 0.1497 - acc: 0.958 - ETA: 0s - loss: 0.1580 - acc: 0.956 - ETA: 0s - loss: 0.1603 - acc: 0.955 - ETA: 0s - loss: 0.1617 - acc: 0.954 - ETA: 0s - loss: 0.1632 - acc: 0.953 - ETA: 0s - loss: 0.1627 - acc: 0.953 - ETA: 0s - loss: 0.1661 - acc: 0.953 - ETA: 0s - loss: 0.1674 - acc: 0.952 - ETA: 0s - loss: 0.1691 - acc: 0.952 - ETA: 0s - loss: 0.1694 - acc: 0.951 - ETA: 0s - loss: 0.1706 - acc: 0.951 - ETA: 0s - loss: 0.1697 - acc: 0.951 - ETA: 0s - loss: 0.1696 - acc: 0.951 - ETA: 0s - loss: 0.1701 - acc: 0.950 - 1s 33us/step - loss: 0.1704 - acc: 0.9507 - val_loss: 1.5691 - val_acc: 0.7268\n",
      "Epoch 126/150\n"
     ]
    },
    {
     "name": "stdout",
     "output_type": "stream",
     "text": [
      "36008/36008 [==============================] - ETA: 0s - loss: 0.1702 - acc: 0.950 - ETA: 1s - loss: 0.1457 - acc: 0.955 - ETA: 1s - loss: 0.1485 - acc: 0.956 - ETA: 1s - loss: 0.1468 - acc: 0.957 - ETA: 1s - loss: 0.1502 - acc: 0.957 - ETA: 1s - loss: 0.1451 - acc: 0.957 - ETA: 0s - loss: 0.1440 - acc: 0.957 - ETA: 0s - loss: 0.1531 - acc: 0.956 - ETA: 0s - loss: 0.1595 - acc: 0.954 - ETA: 0s - loss: 0.1599 - acc: 0.955 - ETA: 0s - loss: 0.1630 - acc: 0.954 - ETA: 0s - loss: 0.1624 - acc: 0.954 - ETA: 0s - loss: 0.1683 - acc: 0.953 - ETA: 0s - loss: 0.1690 - acc: 0.953 - ETA: 0s - loss: 0.1694 - acc: 0.952 - ETA: 0s - loss: 0.1692 - acc: 0.952 - ETA: 0s - loss: 0.1698 - acc: 0.952 - ETA: 0s - loss: 0.1717 - acc: 0.952 - ETA: 0s - loss: 0.1703 - acc: 0.952 - ETA: 0s - loss: 0.1725 - acc: 0.951 - ETA: 0s - loss: 0.1735 - acc: 0.951 - ETA: 0s - loss: 0.1724 - acc: 0.951 - ETA: 0s - loss: 0.1731 - acc: 0.951 - 1s 37us/step - loss: 0.1730 - acc: 0.9510 - val_loss: 1.5810 - val_acc: 0.7253\n",
      "Epoch 127/150\n",
      "36008/36008 [==============================] - ETA: 0s - loss: 0.2738 - acc: 0.950 - ETA: 1s - loss: 0.1333 - acc: 0.965 - ETA: 1s - loss: 0.1335 - acc: 0.964 - ETA: 1s - loss: 0.1433 - acc: 0.961 - ETA: 1s - loss: 0.1490 - acc: 0.960 - ETA: 0s - loss: 0.1538 - acc: 0.957 - ETA: 0s - loss: 0.1570 - acc: 0.957 - ETA: 0s - loss: 0.1626 - acc: 0.955 - ETA: 0s - loss: 0.1629 - acc: 0.954 - ETA: 0s - loss: 0.1642 - acc: 0.954 - ETA: 0s - loss: 0.1646 - acc: 0.954 - ETA: 0s - loss: 0.1674 - acc: 0.953 - ETA: 0s - loss: 0.1684 - acc: 0.953 - ETA: 0s - loss: 0.1678 - acc: 0.954 - ETA: 0s - loss: 0.1656 - acc: 0.954 - ETA: 0s - loss: 0.1662 - acc: 0.954 - ETA: 0s - loss: 0.1676 - acc: 0.953 - ETA: 0s - loss: 0.1685 - acc: 0.952 - ETA: 0s - loss: 0.1693 - acc: 0.952 - ETA: 0s - loss: 0.1685 - acc: 0.952 - ETA: 0s - loss: 0.1704 - acc: 0.952 - ETA: 0s - loss: 0.1696 - acc: 0.952 - ETA: 0s - loss: 0.1710 - acc: 0.951 - 1s 38us/step - loss: 0.1710 - acc: 0.9519 - val_loss: 1.5522 - val_acc: 0.7358\n",
      "Epoch 128/150\n",
      "36008/36008 [==============================] - ETA: 2s - loss: 0.0654 - acc: 0.980 - ETA: 1s - loss: 0.1406 - acc: 0.954 - ETA: 1s - loss: 0.1559 - acc: 0.956 - ETA: 1s - loss: 0.1537 - acc: 0.957 - ETA: 1s - loss: 0.1502 - acc: 0.958 - ETA: 0s - loss: 0.1514 - acc: 0.960 - ETA: 0s - loss: 0.1518 - acc: 0.960 - ETA: 0s - loss: 0.1567 - acc: 0.959 - ETA: 0s - loss: 0.1574 - acc: 0.958 - ETA: 0s - loss: 0.1577 - acc: 0.958 - ETA: 0s - loss: 0.1605 - acc: 0.956 - ETA: 0s - loss: 0.1584 - acc: 0.955 - ETA: 0s - loss: 0.1571 - acc: 0.955 - ETA: 0s - loss: 0.1585 - acc: 0.955 - ETA: 0s - loss: 0.1602 - acc: 0.955 - ETA: 0s - loss: 0.1635 - acc: 0.954 - ETA: 0s - loss: 0.1650 - acc: 0.954 - ETA: 0s - loss: 0.1677 - acc: 0.954 - ETA: 0s - loss: 0.1685 - acc: 0.953 - ETA: 0s - loss: 0.1717 - acc: 0.953 - ETA: 0s - loss: 0.1729 - acc: 0.953 - 1s 35us/step - loss: 0.1738 - acc: 0.9528 - val_loss: 1.6677 - val_acc: 0.7056\n",
      "Epoch 129/150\n",
      "36008/36008 [==============================] - ETA: 1s - loss: 0.1191 - acc: 0.960 - ETA: 0s - loss: 0.1124 - acc: 0.973 - ETA: 0s - loss: 0.1369 - acc: 0.965 - ETA: 0s - loss: 0.1449 - acc: 0.964 - ETA: 0s - loss: 0.1491 - acc: 0.960 - ETA: 0s - loss: 0.1583 - acc: 0.958 - ETA: 0s - loss: 0.1665 - acc: 0.955 - ETA: 0s - loss: 0.1671 - acc: 0.955 - ETA: 0s - loss: 0.1699 - acc: 0.954 - ETA: 0s - loss: 0.1695 - acc: 0.954 - ETA: 0s - loss: 0.1667 - acc: 0.955 - ETA: 0s - loss: 0.1660 - acc: 0.954 - ETA: 0s - loss: 0.1645 - acc: 0.954 - ETA: 0s - loss: 0.1677 - acc: 0.954 - ETA: 0s - loss: 0.1689 - acc: 0.953 - ETA: 0s - loss: 0.1707 - acc: 0.953 - ETA: 0s - loss: 0.1701 - acc: 0.953 - ETA: 0s - loss: 0.1718 - acc: 0.952 - ETA: 0s - loss: 0.1720 - acc: 0.952 - ETA: 0s - loss: 0.1703 - acc: 0.952 - ETA: 0s - loss: 0.1705 - acc: 0.952 - 1s 35us/step - loss: 0.1712 - acc: 0.9523 - val_loss: 1.6296 - val_acc: 0.7326\n",
      "Epoch 130/150\n",
      "36008/36008 [==============================] - ETA: 0s - loss: 0.2421 - acc: 0.940 - ETA: 0s - loss: 0.1268 - acc: 0.965 - ETA: 0s - loss: 0.1458 - acc: 0.962 - ETA: 0s - loss: 0.1530 - acc: 0.961 - ETA: 0s - loss: 0.1540 - acc: 0.960 - ETA: 0s - loss: 0.1599 - acc: 0.958 - ETA: 0s - loss: 0.1555 - acc: 0.958 - ETA: 0s - loss: 0.1556 - acc: 0.957 - ETA: 0s - loss: 0.1618 - acc: 0.956 - ETA: 0s - loss: 0.1614 - acc: 0.956 - ETA: 0s - loss: 0.1658 - acc: 0.955 - ETA: 0s - loss: 0.1634 - acc: 0.956 - ETA: 0s - loss: 0.1665 - acc: 0.955 - ETA: 0s - loss: 0.1687 - acc: 0.954 - ETA: 0s - loss: 0.1703 - acc: 0.954 - ETA: 0s - loss: 0.1681 - acc: 0.954 - ETA: 0s - loss: 0.1708 - acc: 0.954 - ETA: 0s - loss: 0.1719 - acc: 0.953 - ETA: 0s - loss: 0.1749 - acc: 0.953 - ETA: 0s - loss: 0.1747 - acc: 0.953 - ETA: 0s - loss: 0.1738 - acc: 0.953 - 1s 37us/step - loss: 0.1740 - acc: 0.9528 - val_loss: 1.5893 - val_acc: 0.7308\n",
      "Epoch 131/150\n",
      "36008/36008 [==============================] - ETA: 0s - loss: 0.0971 - acc: 0.950 - ETA: 1s - loss: 0.1549 - acc: 0.953 - ETA: 1s - loss: 0.1383 - acc: 0.959 - ETA: 1s - loss: 0.1461 - acc: 0.957 - ETA: 1s - loss: 0.1475 - acc: 0.958 - ETA: 0s - loss: 0.1513 - acc: 0.957 - ETA: 0s - loss: 0.1514 - acc: 0.958 - ETA: 0s - loss: 0.1524 - acc: 0.958 - ETA: 0s - loss: 0.1523 - acc: 0.958 - ETA: 0s - loss: 0.1564 - acc: 0.956 - ETA: 0s - loss: 0.1618 - acc: 0.955 - ETA: 0s - loss: 0.1644 - acc: 0.954 - ETA: 0s - loss: 0.1684 - acc: 0.954 - ETA: 0s - loss: 0.1690 - acc: 0.954 - ETA: 0s - loss: 0.1694 - acc: 0.954 - ETA: 0s - loss: 0.1693 - acc: 0.953 - ETA: 0s - loss: 0.1670 - acc: 0.954 - ETA: 0s - loss: 0.1710 - acc: 0.953 - ETA: 0s - loss: 0.1731 - acc: 0.952 - ETA: 0s - loss: 0.1742 - acc: 0.952 - 1s 32us/step - loss: 0.1742 - acc: 0.9521 - val_loss: 1.5868 - val_acc: 0.7316\n",
      "Epoch 132/150\n",
      "36008/36008 [==============================] - ETA: 0s - loss: 0.0874 - acc: 0.980 - ETA: 1s - loss: 0.1237 - acc: 0.965 - ETA: 1s - loss: 0.1391 - acc: 0.964 - ETA: 0s - loss: 0.1574 - acc: 0.958 - ETA: 0s - loss: 0.1545 - acc: 0.958 - ETA: 0s - loss: 0.1609 - acc: 0.957 - ETA: 0s - loss: 0.1581 - acc: 0.957 - ETA: 0s - loss: 0.1618 - acc: 0.956 - ETA: 0s - loss: 0.1660 - acc: 0.955 - ETA: 0s - loss: 0.1657 - acc: 0.955 - ETA: 0s - loss: 0.1672 - acc: 0.955 - ETA: 0s - loss: 0.1620 - acc: 0.956 - ETA: 0s - loss: 0.1632 - acc: 0.955 - ETA: 0s - loss: 0.1656 - acc: 0.955 - ETA: 0s - loss: 0.1702 - acc: 0.953 - ETA: 0s - loss: 0.1720 - acc: 0.953 - ETA: 0s - loss: 0.1727 - acc: 0.953 - ETA: 0s - loss: 0.1729 - acc: 0.952 - ETA: 0s - loss: 0.1724 - acc: 0.952 - ETA: 0s - loss: 0.1728 - acc: 0.952 - 1s 34us/step - loss: 0.1725 - acc: 0.9526 - val_loss: 1.6445 - val_acc: 0.7226\n",
      "Epoch 133/150\n",
      "36008/36008 [==============================] - ETA: 0s - loss: 0.1213 - acc: 0.970 - ETA: 0s - loss: 0.1447 - acc: 0.954 - ETA: 0s - loss: 0.1393 - acc: 0.958 - ETA: 0s - loss: 0.1471 - acc: 0.957 - ETA: 0s - loss: 0.1475 - acc: 0.956 - ETA: 0s - loss: 0.1524 - acc: 0.956 - ETA: 0s - loss: 0.1565 - acc: 0.955 - ETA: 0s - loss: 0.1543 - acc: 0.956 - ETA: 0s - loss: 0.1574 - acc: 0.956 - ETA: 0s - loss: 0.1621 - acc: 0.954 - ETA: 0s - loss: 0.1647 - acc: 0.954 - ETA: 0s - loss: 0.1667 - acc: 0.953 - ETA: 0s - loss: 0.1690 - acc: 0.953 - ETA: 0s - loss: 0.1683 - acc: 0.953 - ETA: 0s - loss: 0.1684 - acc: 0.953 - ETA: 0s - loss: 0.1722 - acc: 0.952 - ETA: 0s - loss: 0.1720 - acc: 0.952 - ETA: 0s - loss: 0.1759 - acc: 0.952 - ETA: 0s - loss: 0.1755 - acc: 0.951 - 1s 32us/step - loss: 0.1758 - acc: 0.9514 - val_loss: 1.5759 - val_acc: 0.7323\n",
      "Epoch 134/150\n",
      "36008/36008 [==============================] - ETA: 5s - loss: 0.1175 - acc: 0.960 - ETA: 1s - loss: 0.1614 - acc: 0.956 - ETA: 1s - loss: 0.1627 - acc: 0.958 - ETA: 1s - loss: 0.1504 - acc: 0.960 - ETA: 1s - loss: 0.1484 - acc: 0.962 - ETA: 1s - loss: 0.1462 - acc: 0.961 - ETA: 1s - loss: 0.1544 - acc: 0.959 - ETA: 0s - loss: 0.1541 - acc: 0.959 - ETA: 0s - loss: 0.1508 - acc: 0.959 - ETA: 0s - loss: 0.1520 - acc: 0.959 - ETA: 0s - loss: 0.1530 - acc: 0.959 - ETA: 0s - loss: 0.1579 - acc: 0.958 - ETA: 0s - loss: 0.1611 - acc: 0.957 - ETA: 0s - loss: 0.1613 - acc: 0.957 - ETA: 0s - loss: 0.1642 - acc: 0.956 - ETA: 0s - loss: 0.1674 - acc: 0.955 - ETA: 0s - loss: 0.1661 - acc: 0.956 - ETA: 0s - loss: 0.1653 - acc: 0.955 - ETA: 0s - loss: 0.1664 - acc: 0.955 - ETA: 0s - loss: 0.1669 - acc: 0.955 - ETA: 0s - loss: 0.1681 - acc: 0.955 - ETA: 0s - loss: 0.1690 - acc: 0.954 - ETA: 0s - loss: 0.1688 - acc: 0.955 - 1s 38us/step - loss: 0.1692 - acc: 0.9548 - val_loss: 1.6413 - val_acc: 0.7268\n",
      "Epoch 135/150\n",
      "36008/36008 [==============================] - ETA: 0s - loss: 0.2639 - acc: 0.950 - ETA: 1s - loss: 0.1485 - acc: 0.964 - ETA: 1s - loss: 0.1406 - acc: 0.967 - ETA: 1s - loss: 0.1514 - acc: 0.961 - ETA: 0s - loss: 0.1543 - acc: 0.959 - ETA: 0s - loss: 0.1592 - acc: 0.958 - ETA: 0s - loss: 0.1585 - acc: 0.958 - ETA: 0s - loss: 0.1644 - acc: 0.956 - ETA: 0s - loss: 0.1650 - acc: 0.956 - ETA: 0s - loss: 0.1722 - acc: 0.955 - ETA: 0s - loss: 0.1673 - acc: 0.955 - ETA: 0s - loss: 0.1712 - acc: 0.954 - ETA: 0s - loss: 0.1693 - acc: 0.954 - ETA: 0s - loss: 0.1675 - acc: 0.955 - ETA: 0s - loss: 0.1671 - acc: 0.955 - ETA: 0s - loss: 0.1685 - acc: 0.954 - ETA: 0s - loss: 0.1690 - acc: 0.954 - ETA: 0s - loss: 0.1698 - acc: 0.954 - 1s 31us/step - loss: 0.1701 - acc: 0.9542 - val_loss: 1.6049 - val_acc: 0.7288\n",
      "Epoch 136/150\n",
      "36008/36008 [==============================] - ETA: 1s - loss: 0.0636 - acc: 0.970 - ETA: 1s - loss: 0.1539 - acc: 0.959 - ETA: 1s - loss: 0.1537 - acc: 0.957 - ETA: 1s - loss: 0.1546 - acc: 0.957 - ETA: 1s - loss: 0.1509 - acc: 0.958 - ETA: 0s - loss: 0.1557 - acc: 0.955 - ETA: 0s - loss: 0.1605 - acc: 0.955 - ETA: 0s - loss: 0.1550 - acc: 0.958 - ETA: 0s - loss: 0.1619 - acc: 0.956 - ETA: 0s - loss: 0.1652 - acc: 0.955 - ETA: 0s - loss: 0.1685 - acc: 0.955 - ETA: 0s - loss: 0.1668 - acc: 0.955 - ETA: 0s - loss: 0.1659 - acc: 0.956 - ETA: 0s - loss: 0.1685 - acc: 0.955 - ETA: 0s - loss: 0.1690 - acc: 0.955 - ETA: 0s - loss: 0.1692 - acc: 0.955 - ETA: 0s - loss: 0.1694 - acc: 0.954 - ETA: 0s - loss: 0.1693 - acc: 0.954 - ETA: 0s - loss: 0.1713 - acc: 0.954 - 1s 33us/step - loss: 0.1704 - acc: 0.9544 - val_loss: 1.6269 - val_acc: 0.7253\n",
      "Epoch 137/150\n",
      "36008/36008 [==============================] - ETA: 1s - loss: 0.0911 - acc: 0.960 - ETA: 1s - loss: 0.1368 - acc: 0.962 - ETA: 1s - loss: 0.1543 - acc: 0.957 - ETA: 0s - loss: 0.1466 - acc: 0.960 - ETA: 0s - loss: 0.1453 - acc: 0.960 - ETA: 0s - loss: 0.1471 - acc: 0.960 - ETA: 0s - loss: 0.1563 - acc: 0.958 - ETA: 0s - loss: 0.1620 - acc: 0.957 - ETA: 0s - loss: 0.1620 - acc: 0.957 - ETA: 0s - loss: 0.1647 - acc: 0.956 - ETA: 0s - loss: 0.1630 - acc: 0.956 - ETA: 0s - loss: 0.1627 - acc: 0.956 - ETA: 0s - loss: 0.1640 - acc: 0.956 - ETA: 0s - loss: 0.1613 - acc: 0.957 - ETA: 0s - loss: 0.1628 - acc: 0.957 - ETA: 0s - loss: 0.1603 - acc: 0.957 - ETA: 0s - loss: 0.1609 - acc: 0.957 - ETA: 0s - loss: 0.1642 - acc: 0.956 - ETA: 0s - loss: 0.1645 - acc: 0.956 - ETA: 0s - loss: 0.1662 - acc: 0.955 - ETA: 0s - loss: 0.1665 - acc: 0.955 - ETA: 0s - loss: 0.1667 - acc: 0.955 - 1s 33us/step - loss: 0.1666 - acc: 0.9553 - val_loss: 1.6657 - val_acc: 0.7303\n",
      "Epoch 138/150\n",
      "36008/36008 [==============================] - ETA: 0s - loss: 0.1480 - acc: 0.940 - ETA: 1s - loss: 0.1575 - acc: 0.960 - ETA: 0s - loss: 0.1619 - acc: 0.956 - ETA: 0s - loss: 0.1539 - acc: 0.957 - ETA: 0s - loss: 0.1587 - acc: 0.957 - ETA: 0s - loss: 0.1579 - acc: 0.957 - ETA: 0s - loss: 0.1601 - acc: 0.956 - ETA: 0s - loss: 0.1646 - acc: 0.956 - ETA: 0s - loss: 0.1640 - acc: 0.956 - ETA: 0s - loss: 0.1672 - acc: 0.956 - ETA: 0s - loss: 0.1653 - acc: 0.957 - ETA: 0s - loss: 0.1685 - acc: 0.958 - ETA: 0s - loss: 0.1687 - acc: 0.957 - ETA: 0s - loss: 0.1691 - acc: 0.957 - ETA: 0s - loss: 0.1672 - acc: 0.957 - ETA: 0s - loss: 0.1687 - acc: 0.957 - ETA: 0s - loss: 0.1673 - acc: 0.957 - ETA: 0s - loss: 0.1720 - acc: 0.956 - ETA: 0s - loss: 0.1726 - acc: 0.956 - ETA: 0s - loss: 0.1705 - acc: 0.956 - ETA: 0s - loss: 0.1722 - acc: 0.955 - ETA: 0s - loss: 0.1716 - acc: 0.955 - ETA: 0s - loss: 0.1711 - acc: 0.955 - ETA: 0s - loss: 0.1710 - acc: 0.955 - ETA: 0s - loss: 0.1718 - acc: 0.954 - 1s 38us/step - loss: 0.1718 - acc: 0.9548 - val_loss: 1.6812 - val_acc: 0.7283\n",
      "Epoch 139/150\n",
      "36008/36008 [==============================] - ETA: 1s - loss: 0.2542 - acc: 0.930 - ETA: 1s - loss: 0.1616 - acc: 0.959 - ETA: 1s - loss: 0.1345 - acc: 0.963 - ETA: 0s - loss: 0.1348 - acc: 0.961 - ETA: 0s - loss: 0.1403 - acc: 0.960 - ETA: 0s - loss: 0.1425 - acc: 0.960 - ETA: 0s - loss: 0.1470 - acc: 0.959 - ETA: 0s - loss: 0.1421 - acc: 0.960 - ETA: 0s - loss: 0.1416 - acc: 0.960 - ETA: 0s - loss: 0.1457 - acc: 0.960 - ETA: 0s - loss: 0.1494 - acc: 0.959 - ETA: 0s - loss: 0.1528 - acc: 0.958 - ETA: 0s - loss: 0.1533 - acc: 0.958 - ETA: 0s - loss: 0.1546 - acc: 0.958 - ETA: 0s - loss: 0.1556 - acc: 0.958 - ETA: 0s - loss: 0.1558 - acc: 0.958 - ETA: 0s - loss: 0.1565 - acc: 0.957 - ETA: 0s - loss: 0.1579 - acc: 0.957 - ETA: 0s - loss: 0.1587 - acc: 0.956 - ETA: 0s - loss: 0.1593 - acc: 0.956 - ETA: 0s - loss: 0.1600 - acc: 0.956 - ETA: 0s - loss: 0.1612 - acc: 0.956 - ETA: 0s - loss: 0.1630 - acc: 0.955 - ETA: 0s - loss: 0.1625 - acc: 0.955 - 1s 36us/step - loss: 0.1631 - acc: 0.9556 - val_loss: 1.6570 - val_acc: 0.7291\n",
      "Epoch 140/150\n",
      "36008/36008 [==============================] - ETA: 1s - loss: 0.0912 - acc: 0.970 - ETA: 1s - loss: 0.1286 - acc: 0.960 - ETA: 1s - loss: 0.1376 - acc: 0.962 - ETA: 1s - loss: 0.1315 - acc: 0.966 - ETA: 1s - loss: 0.1361 - acc: 0.964 - ETA: 0s - loss: 0.1385 - acc: 0.963 - ETA: 0s - loss: 0.1440 - acc: 0.962 - ETA: 0s - loss: 0.1453 - acc: 0.961 - ETA: 0s - loss: 0.1448 - acc: 0.961 - ETA: 0s - loss: 0.1446 - acc: 0.960 - ETA: 0s - loss: 0.1475 - acc: 0.960 - ETA: 0s - loss: 0.1502 - acc: 0.960 - ETA: 0s - loss: 0.1536 - acc: 0.959 - ETA: 0s - loss: 0.1559 - acc: 0.958 - ETA: 0s - loss: 0.1594 - acc: 0.958 - ETA: 0s - loss: 0.1585 - acc: 0.958 - ETA: 0s - loss: 0.1573 - acc: 0.958 - ETA: 0s - loss: 0.1605 - acc: 0.957 - ETA: 0s - loss: 0.1605 - acc: 0.957 - ETA: 0s - loss: 0.1602 - acc: 0.957 - ETA: 0s - loss: 0.1615 - acc: 0.956 - ETA: 0s - loss: 0.1638 - acc: 0.956 - ETA: 0s - loss: 0.1640 - acc: 0.956 - ETA: 0s - loss: 0.1631 - acc: 0.956 - ETA: 0s - loss: 0.1635 - acc: 0.955 - ETA: 0s - loss: 0.1630 - acc: 0.955 - ETA: 0s - loss: 0.1654 - acc: 0.955 - 1s 40us/step - loss: 0.1659 - acc: 0.9549 - val_loss: 1.6295 - val_acc: 0.7333\n",
      "Epoch 141/150\n",
      "36008/36008 [==============================] - ETA: 1s - loss: 0.0904 - acc: 0.970 - ETA: 1s - loss: 0.1366 - acc: 0.960 - ETA: 1s - loss: 0.1460 - acc: 0.961 - ETA: 0s - loss: 0.1385 - acc: 0.962 - ETA: 0s - loss: 0.1430 - acc: 0.962 - ETA: 0s - loss: 0.1483 - acc: 0.961 - ETA: 0s - loss: 0.1537 - acc: 0.960 - ETA: 0s - loss: 0.1542 - acc: 0.960 - ETA: 0s - loss: 0.1613 - acc: 0.958 - ETA: 0s - loss: 0.1629 - acc: 0.958 - ETA: 0s - loss: 0.1618 - acc: 0.957 - ETA: 0s - loss: 0.1618 - acc: 0.957 - ETA: 0s - loss: 0.1644 - acc: 0.956 - ETA: 0s - loss: 0.1610 - acc: 0.957 - ETA: 0s - loss: 0.1584 - acc: 0.957 - ETA: 0s - loss: 0.1579 - acc: 0.957 - ETA: 0s - loss: 0.1606 - acc: 0.957 - ETA: 0s - loss: 0.1635 - acc: 0.956 - ETA: 0s - loss: 0.1625 - acc: 0.956 - ETA: 0s - loss: 0.1631 - acc: 0.956 - ETA: 0s - loss: 0.1635 - acc: 0.956 - ETA: 0s - loss: 0.1639 - acc: 0.956 - 1s 35us/step - loss: 0.1631 - acc: 0.9559 - val_loss: 1.6163 - val_acc: 0.7368\n",
      "Epoch 142/150\n"
     ]
    },
    {
     "name": "stdout",
     "output_type": "stream",
     "text": [
      "36008/36008 [==============================] - ETA: 5s - loss: 0.1180 - acc: 0.960 - ETA: 1s - loss: 0.1403 - acc: 0.966 - ETA: 1s - loss: 0.1532 - acc: 0.965 - ETA: 1s - loss: 0.1580 - acc: 0.964 - ETA: 0s - loss: 0.1623 - acc: 0.961 - ETA: 0s - loss: 0.1633 - acc: 0.962 - ETA: 0s - loss: 0.1614 - acc: 0.961 - ETA: 0s - loss: 0.1650 - acc: 0.960 - ETA: 0s - loss: 0.1632 - acc: 0.960 - ETA: 0s - loss: 0.1602 - acc: 0.961 - ETA: 0s - loss: 0.1602 - acc: 0.961 - ETA: 0s - loss: 0.1608 - acc: 0.960 - ETA: 0s - loss: 0.1612 - acc: 0.959 - ETA: 0s - loss: 0.1623 - acc: 0.959 - ETA: 0s - loss: 0.1643 - acc: 0.958 - ETA: 0s - loss: 0.1668 - acc: 0.958 - ETA: 0s - loss: 0.1657 - acc: 0.958 - ETA: 0s - loss: 0.1634 - acc: 0.958 - ETA: 0s - loss: 0.1633 - acc: 0.959 - ETA: 0s - loss: 0.1650 - acc: 0.958 - ETA: 0s - loss: 0.1648 - acc: 0.958 - ETA: 0s - loss: 0.1657 - acc: 0.957 - 1s 35us/step - loss: 0.1652 - acc: 0.9578 - val_loss: 1.7010 - val_acc: 0.7201\n",
      "Epoch 143/150\n",
      "36008/36008 [==============================] - ETA: 2s - loss: 0.1617 - acc: 0.960 - ETA: 1s - loss: 0.1330 - acc: 0.961 - ETA: 1s - loss: 0.1379 - acc: 0.967 - ETA: 1s - loss: 0.1330 - acc: 0.968 - ETA: 1s - loss: 0.1305 - acc: 0.967 - ETA: 1s - loss: 0.1314 - acc: 0.966 - ETA: 0s - loss: 0.1461 - acc: 0.964 - ETA: 0s - loss: 0.1523 - acc: 0.962 - ETA: 0s - loss: 0.1522 - acc: 0.961 - ETA: 0s - loss: 0.1491 - acc: 0.961 - ETA: 0s - loss: 0.1499 - acc: 0.960 - ETA: 0s - loss: 0.1497 - acc: 0.960 - ETA: 0s - loss: 0.1475 - acc: 0.960 - ETA: 0s - loss: 0.1512 - acc: 0.960 - ETA: 0s - loss: 0.1524 - acc: 0.959 - ETA: 0s - loss: 0.1562 - acc: 0.959 - ETA: 0s - loss: 0.1552 - acc: 0.959 - ETA: 0s - loss: 0.1572 - acc: 0.959 - ETA: 0s - loss: 0.1582 - acc: 0.958 - ETA: 0s - loss: 0.1569 - acc: 0.958 - ETA: 0s - loss: 0.1586 - acc: 0.957 - ETA: 0s - loss: 0.1601 - acc: 0.957 - ETA: 0s - loss: 0.1611 - acc: 0.957 - 1s 34us/step - loss: 0.1614 - acc: 0.9569 - val_loss: 1.7046 - val_acc: 0.7298\n",
      "Epoch 144/150\n",
      "36008/36008 [==============================] - ETA: 1s - loss: 0.1536 - acc: 0.960 - ETA: 1s - loss: 0.0968 - acc: 0.980 - ETA: 1s - loss: 0.1350 - acc: 0.968 - ETA: 1s - loss: 0.1335 - acc: 0.967 - ETA: 0s - loss: 0.1402 - acc: 0.966 - ETA: 0s - loss: 0.1461 - acc: 0.965 - ETA: 0s - loss: 0.1484 - acc: 0.964 - ETA: 0s - loss: 0.1457 - acc: 0.964 - ETA: 0s - loss: 0.1474 - acc: 0.962 - ETA: 0s - loss: 0.1535 - acc: 0.960 - ETA: 0s - loss: 0.1534 - acc: 0.959 - ETA: 0s - loss: 0.1554 - acc: 0.959 - ETA: 0s - loss: 0.1547 - acc: 0.959 - ETA: 0s - loss: 0.1550 - acc: 0.958 - ETA: 0s - loss: 0.1568 - acc: 0.958 - ETA: 0s - loss: 0.1556 - acc: 0.959 - ETA: 0s - loss: 0.1565 - acc: 0.959 - ETA: 0s - loss: 0.1582 - acc: 0.958 - ETA: 0s - loss: 0.1591 - acc: 0.958 - ETA: 0s - loss: 0.1611 - acc: 0.958 - ETA: 0s - loss: 0.1603 - acc: 0.958 - ETA: 0s - loss: 0.1610 - acc: 0.957 - 1s 32us/step - loss: 0.1611 - acc: 0.9578 - val_loss: 1.7220 - val_acc: 0.7308\n",
      "Epoch 145/150\n",
      "36008/36008 [==============================] - ETA: 1s - loss: 0.0837 - acc: 0.980 - ETA: 0s - loss: 0.1743 - acc: 0.964 - ETA: 0s - loss: 0.1504 - acc: 0.965 - ETA: 0s - loss: 0.1497 - acc: 0.963 - ETA: 0s - loss: 0.1488 - acc: 0.964 - ETA: 0s - loss: 0.1523 - acc: 0.963 - ETA: 0s - loss: 0.1551 - acc: 0.962 - ETA: 0s - loss: 0.1539 - acc: 0.960 - ETA: 0s - loss: 0.1563 - acc: 0.959 - ETA: 0s - loss: 0.1577 - acc: 0.959 - ETA: 0s - loss: 0.1549 - acc: 0.959 - ETA: 0s - loss: 0.1572 - acc: 0.959 - ETA: 0s - loss: 0.1557 - acc: 0.959 - ETA: 0s - loss: 0.1574 - acc: 0.958 - ETA: 0s - loss: 0.1584 - acc: 0.958 - ETA: 0s - loss: 0.1573 - acc: 0.958 - ETA: 0s - loss: 0.1592 - acc: 0.958 - ETA: 0s - loss: 0.1580 - acc: 0.958 - ETA: 0s - loss: 0.1590 - acc: 0.958 - ETA: 0s - loss: 0.1584 - acc: 0.958 - ETA: 0s - loss: 0.1628 - acc: 0.957 - ETA: 0s - loss: 0.1624 - acc: 0.957 - 1s 32us/step - loss: 0.1625 - acc: 0.9571 - val_loss: 1.6826 - val_acc: 0.7298\n",
      "Epoch 146/150\n",
      "36008/36008 [==============================] - ETA: 2s - loss: 0.1836 - acc: 0.930 - ETA: 1s - loss: 0.1233 - acc: 0.964 - ETA: 0s - loss: 0.1466 - acc: 0.961 - ETA: 0s - loss: 0.1558 - acc: 0.961 - ETA: 0s - loss: 0.1676 - acc: 0.959 - ETA: 0s - loss: 0.1685 - acc: 0.959 - ETA: 0s - loss: 0.1631 - acc: 0.959 - ETA: 0s - loss: 0.1642 - acc: 0.959 - ETA: 0s - loss: 0.1596 - acc: 0.960 - ETA: 0s - loss: 0.1607 - acc: 0.959 - ETA: 0s - loss: 0.1600 - acc: 0.959 - ETA: 0s - loss: 0.1605 - acc: 0.959 - ETA: 0s - loss: 0.1590 - acc: 0.958 - ETA: 0s - loss: 0.1586 - acc: 0.958 - ETA: 0s - loss: 0.1591 - acc: 0.958 - ETA: 0s - loss: 0.1590 - acc: 0.958 - ETA: 0s - loss: 0.1611 - acc: 0.957 - ETA: 0s - loss: 0.1592 - acc: 0.957 - ETA: 0s - loss: 0.1589 - acc: 0.957 - ETA: 0s - loss: 0.1584 - acc: 0.957 - 1s 29us/step - loss: 0.1585 - acc: 0.9573 - val_loss: 1.6894 - val_acc: 0.7286\n",
      "Epoch 147/150\n",
      "36008/36008 [==============================] - ETA: 1s - loss: 0.0512 - acc: 0.990 - ETA: 0s - loss: 0.1418 - acc: 0.965 - ETA: 0s - loss: 0.1298 - acc: 0.967 - ETA: 0s - loss: 0.1245 - acc: 0.967 - ETA: 0s - loss: 0.1427 - acc: 0.964 - ETA: 0s - loss: 0.1424 - acc: 0.964 - ETA: 0s - loss: 0.1465 - acc: 0.963 - ETA: 0s - loss: 0.1477 - acc: 0.963 - ETA: 0s - loss: 0.1491 - acc: 0.963 - ETA: 0s - loss: 0.1485 - acc: 0.962 - ETA: 0s - loss: 0.1495 - acc: 0.961 - ETA: 0s - loss: 0.1485 - acc: 0.962 - ETA: 0s - loss: 0.1487 - acc: 0.962 - ETA: 0s - loss: 0.1499 - acc: 0.961 - ETA: 0s - loss: 0.1514 - acc: 0.961 - ETA: 0s - loss: 0.1506 - acc: 0.961 - ETA: 0s - loss: 0.1524 - acc: 0.960 - ETA: 0s - loss: 0.1523 - acc: 0.961 - ETA: 0s - loss: 0.1522 - acc: 0.961 - ETA: 0s - loss: 0.1542 - acc: 0.960 - ETA: 0s - loss: 0.1520 - acc: 0.960 - ETA: 0s - loss: 0.1551 - acc: 0.960 - ETA: 0s - loss: 0.1537 - acc: 0.960 - 1s 33us/step - loss: 0.1548 - acc: 0.9601 - val_loss: 1.7294 - val_acc: 0.7346\n",
      "Epoch 148/150\n",
      "36008/36008 [==============================] - ETA: 1s - loss: 0.0709 - acc: 0.970 - ETA: 0s - loss: 0.1404 - acc: 0.970 - ETA: 0s - loss: 0.1448 - acc: 0.967 - ETA: 0s - loss: 0.1476 - acc: 0.962 - ETA: 0s - loss: 0.1483 - acc: 0.961 - ETA: 0s - loss: 0.1506 - acc: 0.961 - ETA: 0s - loss: 0.1476 - acc: 0.962 - ETA: 0s - loss: 0.1469 - acc: 0.962 - ETA: 0s - loss: 0.1521 - acc: 0.961 - ETA: 0s - loss: 0.1552 - acc: 0.960 - ETA: 0s - loss: 0.1547 - acc: 0.960 - ETA: 0s - loss: 0.1528 - acc: 0.961 - ETA: 0s - loss: 0.1548 - acc: 0.960 - ETA: 0s - loss: 0.1573 - acc: 0.960 - ETA: 0s - loss: 0.1575 - acc: 0.960 - ETA: 0s - loss: 0.1617 - acc: 0.959 - ETA: 0s - loss: 0.1612 - acc: 0.958 - ETA: 0s - loss: 0.1639 - acc: 0.958 - ETA: 0s - loss: 0.1645 - acc: 0.958 - ETA: 0s - loss: 0.1677 - acc: 0.957 - ETA: 0s - loss: 0.1661 - acc: 0.957 - ETA: 0s - loss: 0.1652 - acc: 0.957 - ETA: 0s - loss: 0.1641 - acc: 0.957 - 1s 33us/step - loss: 0.1642 - acc: 0.9576 - val_loss: 1.6781 - val_acc: 0.7311\n",
      "Epoch 149/150\n",
      "36008/36008 [==============================] - ETA: 1s - loss: 0.0688 - acc: 0.990 - ETA: 0s - loss: 0.1479 - acc: 0.972 - ETA: 0s - loss: 0.1414 - acc: 0.969 - ETA: 0s - loss: 0.1306 - acc: 0.969 - ETA: 0s - loss: 0.1386 - acc: 0.967 - ETA: 0s - loss: 0.1381 - acc: 0.965 - ETA: 0s - loss: 0.1459 - acc: 0.964 - ETA: 0s - loss: 0.1480 - acc: 0.965 - ETA: 0s - loss: 0.1470 - acc: 0.965 - ETA: 0s - loss: 0.1530 - acc: 0.963 - ETA: 0s - loss: 0.1528 - acc: 0.963 - ETA: 0s - loss: 0.1589 - acc: 0.963 - ETA: 0s - loss: 0.1599 - acc: 0.963 - ETA: 0s - loss: 0.1645 - acc: 0.962 - ETA: 0s - loss: 0.1669 - acc: 0.961 - ETA: 0s - loss: 0.1651 - acc: 0.961 - ETA: 0s - loss: 0.1628 - acc: 0.961 - ETA: 0s - loss: 0.1626 - acc: 0.961 - ETA: 0s - loss: 0.1640 - acc: 0.960 - ETA: 0s - loss: 0.1647 - acc: 0.960 - ETA: 0s - loss: 0.1645 - acc: 0.960 - ETA: 0s - loss: 0.1654 - acc: 0.959 - 1s 33us/step - loss: 0.1656 - acc: 0.9596 - val_loss: 1.8107 - val_acc: 0.7191\n",
      "Epoch 150/150\n",
      "36008/36008 [==============================] - ETA: 1s - loss: 0.1894 - acc: 0.900 - ETA: 1s - loss: 0.1439 - acc: 0.958 - ETA: 1s - loss: 0.1504 - acc: 0.959 - ETA: 1s - loss: 0.1497 - acc: 0.960 - ETA: 0s - loss: 0.1362 - acc: 0.963 - ETA: 0s - loss: 0.1400 - acc: 0.963 - ETA: 0s - loss: 0.1509 - acc: 0.959 - ETA: 0s - loss: 0.1479 - acc: 0.961 - ETA: 0s - loss: 0.1507 - acc: 0.960 - ETA: 0s - loss: 0.1491 - acc: 0.961 - ETA: 0s - loss: 0.1492 - acc: 0.960 - ETA: 0s - loss: 0.1511 - acc: 0.960 - ETA: 0s - loss: 0.1539 - acc: 0.960 - ETA: 0s - loss: 0.1557 - acc: 0.959 - ETA: 0s - loss: 0.1561 - acc: 0.959 - ETA: 0s - loss: 0.1586 - acc: 0.959 - ETA: 0s - loss: 0.1580 - acc: 0.959 - ETA: 0s - loss: 0.1583 - acc: 0.959 - ETA: 0s - loss: 0.1601 - acc: 0.958 - ETA: 0s - loss: 0.1600 - acc: 0.958 - ETA: 0s - loss: 0.1604 - acc: 0.958 - ETA: 0s - loss: 0.1619 - acc: 0.958 - 1s 33us/step - loss: 0.1612 - acc: 0.9585 - val_loss: 1.6909 - val_acc: 0.7356\n"
     ]
    }
   ],
   "source": [
    "history = model.fit(X_train, y_train, \n",
    "                    batch_size=100, \n",
    "                    epochs=150, \n",
    "                    verbose=1, \n",
    "                    validation_split=0.1)"
   ]
  },
  {
   "cell_type": "code",
   "execution_count": 96,
   "metadata": {},
   "outputs": [
    {
     "data": {
      "image/png": "[encoded data removed]",
      "text/plain": [
       "<Figure size 432x288 with 1 Axes>"
      ]
     },
     "metadata": {},
     "output_type": "display_data"
    },
    {
     "data": {
      "image/png": "[encoded data removed]",
      "text/plain": [
       "<Figure size 432x288 with 1 Axes>"
      ]
     },
     "metadata": {},
     "output_type": "display_data"
    }
   ],
   "source": [
    "# summarize history for accuracy\n",
    "plt.plot(history.history['acc'])\n",
    "plt.plot(history.history['val_acc'])\n",
    "plt.title('Model accuracy')\n",
    "plt.ylabel('accuracy')\n",
    "plt.xlabel('epoch')\n",
    "plt.legend(['train', 'test'], loc='upper left')\n",
    "plt.savefig('accuracy.jpg',  bbox_inches = \"tight\")\n",
    "plt.show()\n",
    "# summarize history for loss\n",
    "plt.plot(history.history['loss'])\n",
    "plt.plot(history.history['val_loss'])\n",
    "plt.title('model loss')\n",
    "plt.ylabel('loss')\n",
    "plt.xlabel('epoch')\n",
    "plt.legend(['train', 'test'], loc='upper left')\n",
    "plt.show()"
   ]
  },
  {
   "cell_type": "markdown",
   "metadata": {},
   "source": [
    "## Tuning the model"
   ]
  },
  {
   "cell_type": "code",
   "execution_count": null,
   "metadata": {},
   "outputs": [],
   "source": [
    "def create_model():\n",
    "   # create model\n",
    "    model = Sequential()\n",
    "    model.add(Dense(12, input_dim=8, activation='relu'))\n",
    "    model.add(Dense(1, activation='sigmoid'))\n",
    "    # Compile model\n",
    "    model.compile(loss='categorical_crossentropy', optimizer='adam', metrics=['accuracy'])\n",
    "    return model"
   ]
  },
  {
   "cell_type": "code",
   "execution_count": null,
   "metadata": {},
   "outputs": [],
   "source": [
    "model = KerasClassifier(build_fn=create_model, verbose=0)\n",
    "batch_size = [10, 20, 40, 60, 80, 100]\n",
    "epochs = [10, 50, 100]\n",
    "optimizer = ['SGD', 'RMSprop', 'Adagrad', 'Adadelta', 'Adam', 'Adamax', 'Nadam']\n",
    "learn_rate = [0.001, 0.01, 0.1, 0.2, 0.3]\n",
    "momentum = [0.0, 0.2, 0.4, 0.6, 0.8, 0.9]\n",
    "init_mode = ['uniform', 'lecun_uniform', 'normal', 'zero', 'glorot_normal', 'glorot_uniform', 'he_normal', 'he_uniform']\n",
    "activation = ['softmax', 'softplus', 'softsign', 'relu', 'tanh', 'sigmoid', 'hard_sigmoid', 'linear']\n",
    "# define the grid search parameters\n",
    "weight_constraint = [1, 2, 3, 4, 5]\n",
    "dropout_rate = [0.0, 0.1, 0.2, 0.3, 0.4, 0.5, 0.6, 0.7, 0.8, 0.9]\n",
    "# define the grid search parameters\n",
    "neurons = [1, 5, 10, 15, 20, 25, 30]\n",
    "\n",
    "param_grid = dict(batch_size=batch_size, epochs=epochs)\n",
    "grid = GridSearchCV(estimator=model, param_grid=param_grid, n_jobs=-1)\n",
    "grid_result = grid.fit(X, Y)\n",
    "# summarize results\n",
    "print(\"Best: %f using %s\" % (grid_result.best_score_, grid_result.best_params_))\n",
    "means = grid_result.cv_results_['mean_test_score']\n",
    "stds = grid_result.cv_results_['std_test_score']\n",
    "params = grid_result.cv_results_['params']\n",
    "for mean, stdev, param in zip(means, stds, params):\n",
    "    print(\"%f (%f) with: %r\" % (mean, stdev, param))"
   ]
  },
  {
   "cell_type": "markdown",
   "metadata": {},
   "source": [
    "## Making prediction"
   ]
  },
  {
   "cell_type": "code",
   "execution_count": 100,
   "metadata": {},
   "outputs": [],
   "source": [
    "for i in range(10):    \n",
    "    prediction = model.predict(np.array([X_test[i]]))"
   ]
  },
  {
   "cell_type": "code",
   "execution_count": 101,
   "metadata": {},
   "outputs": [
    {
     "name": "stdout",
     "output_type": "stream",
     "text": [
      "where is the no cost emi t co ...\n",
      "===========================================================\n",
      "Actual label:AmazonHelp\n",
      "Predicted label: AmazonHelp\n"
     ]
    }
   ],
   "source": [
    "i=2000\n",
    "text_labels = encoder.classes_ \n",
    "predicted_label = labels[np.argmax(prediction[0])]\n",
    "\n",
    "print(cleaned_list.cleaned_tweet.iloc[i], \"...\")\n",
    "print(\"===========================================================\")\n",
    "print('Actual label:' + labels[i])\n",
    "print(\"Predicted label: \" + predicted_label)"
   ]
  }
 ],
 "metadata": {
  "kernelspec": {
   "display_name": "Python 3",
   "language": "python",
   "name": "python3"
  },
  "language_info": {
   "codemirror_mode": {
    "name": "ipython",
    "version": 3
   },
   "file_extension": ".py",
   "mimetype": "text/x-python",
   "name": "python",
   "nbconvert_exporter": "python",
   "pygments_lexer": "ipython3",
   "version": "3.7.3"
  }
 },
 "nbformat": 4,
 "nbformat_minor": 2
}
