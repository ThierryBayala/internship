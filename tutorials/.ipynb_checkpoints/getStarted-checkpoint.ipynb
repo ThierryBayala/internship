{
 "cells": [
  {
   "cell_type": "markdown",
   "metadata": {
    "collapsed": true
   },
   "source": [
    "<h1 style=\"background-color: #cf6868; color: white; padding: 24px; line-height: 32px;\">Get started with \"Jupyter Notebook\"</h1>\n",
    "<p>Hideki Kozima (xkozima@tohoku.ac.jp)</p>"
   ]
  },
  {
   "cell_type": "markdown",
   "metadata": {},
   "source": [
    "<hr style=\"border-color: #cf6868; border-width: 2px;\" />\n",
    "### All you need is \"Anaconda\""
   ]
  },
  {
   "cell_type": "markdown",
   "metadata": {},
   "source": [
    "Download and install \"<strong>Anaconda</strong>\" from <a href=\"https://www.continuum.io/\">the official page of Anaconda</a>.  You will get everything to run \"Jupyter Notebook\".  Start \"<strong>Anaconda Navigator</strong>\" (from \"start\" menu on Windows, or LaunchPad on macOS), and you will see a collection of Anaconda applications you can choose from."
   ]
  },
  {
   "cell_type": "markdown",
   "metadata": {},
   "source": [
    "<img src=\"img/pyAnaconda1.png\" alt=\"pyAnaconda1\" style=\"width: 80%; border: 1px solid #cccccc;\" />"
   ]
  },
  {
   "cell_type": "markdown",
   "metadata": {},
   "source": [
    "<hr style=\"border-color: #cf6868; border-width: 2px;\" />\n",
    "### Launch \"Jupyter Notebook\""
   ]
  },
  {
   "cell_type": "markdown",
   "metadata": {},
   "source": [
    "Launch \"<strong>jupyter notebook</strong>\".  It shows up a terminal window, on which the Python engine runs.  Shortly it shows up a browser tab on your default Web browser.  This browser tab \"Home\" is the portal page for interaction with your notebooks."
   ]
  },
  {
   "cell_type": "markdown",
   "metadata": {},
   "source": [
    "<img src=\"img/pyJupyter0.png\" alt=\"pyJupyter0\" style=\"width: 80%; border: 1px solid #cccccc;\" />"
   ]
  },
  {
   "cell_type": "markdown",
   "metadata": {},
   "source": [
    "The browser tab shows the contents of your home folder.  Let us make a \"Jupyter\" folder in your home folder, in which you can organize your jupyter notebooks.  Click \"<strong>New</strong>\" on the right side of jupyter tab, and choose \"<strong>Folder</strong>\" from the menu.  You will get a untitled folder.  Then, check the left side of the folder name, and the click \"<strong>Rename</strong>\" button above.  Let us give it a new name, say, \"Jupyter\".  Let us move into the folder."
   ]
  },
  {
   "cell_type": "markdown",
   "metadata": {},
   "source": [
    "<img src=\"img/pyJupyter1.png\" alt=\"pyJupyter1\" style=\"width: 80%; border: 1px solid #cccccc;\" />"
   ]
  },
  {
   "cell_type": "markdown",
   "metadata": {},
   "source": [
    "<hr style=\"border-color: #cf6868; border-width: 2px;\" />\n",
    "### Make your own \"notebook\""
   ]
  },
  {
   "cell_type": "markdown",
   "metadata": {},
   "source": [
    "Now let us make a new jupyter notenook, on which we learn some basics of Python and data science.  Click \"<strong>New</strong>\" on the right side of jupyter tab, and choose \"<strong>Python 3</strong>\" from the menu."
   ]
  },
  {
   "cell_type": "markdown",
   "metadata": {},
   "source": [
    "<img src=\"img/pyJupyter1a.png\" alt=\"pyJupyter1a\" style=\"width: 80%; border: 1px solid #cccccc;\" />"
   ]
  },
  {
   "cell_type": "markdown",
   "metadata": {},
   "source": [
    "You will get an empty notebook in a new browser tab.  This is where you interact with the <strong>Python kernel</strong>, that is an interpreter of the programming language.  "
   ]
  },
  {
   "cell_type": "markdown",
   "metadata": {},
   "source": [
    "<img src=\"img/pyJupyter2.png\" alt=\"pyJupyter2\" style=\"width: 80%; border: 1px solid #cccccc;\" />"
   ]
  },
  {
   "cell_type": "markdown",
   "metadata": {},
   "source": [
    "<hr style=\"border-color: #cf6868; border-width: 2px;\" />\n",
    "### Type and run Python codes"
   ]
  },
  {
   "cell_type": "markdown",
   "metadata": {},
   "source": [
    "You can type any Python code in the input box.  Press \"<strong>Control-Enter</strong>\" to run the code.  You can modify the code and re-run it.  Try it out!"
   ]
  },
  {
   "cell_type": "markdown",
   "metadata": {},
   "source": [
    "<img src=\"img/pyJupyter3.png\" alt=\"pyJupyter3\" style=\"width: 80%; border: 1px solid #cccccc;\" />"
   ]
  },
  {
   "cell_type": "markdown",
   "metadata": {},
   "source": [
    "You can save the notebook with an appropriate name.  Click the current name \"<strong>Untitled</strong>\" above and <strong>rename</strong> it as, for example, \"testRun\"."
   ]
  },
  {
   "cell_type": "markdown",
   "metadata": {},
   "source": [
    "<img src=\"img/pyJupyter4.png\" alt=\"pyJupyter4\" style=\"width: 80%; border: 1px solid #cccccc;\" />"
   ]
  },
  {
   "cell_type": "markdown",
   "metadata": {},
   "source": [
    "If you want to make a new In-Out box, leaving the previous interaction behind, click \"<strong>+</strong>\" icon.  You will get a new input box just below the previous one."
   ]
  },
  {
   "cell_type": "markdown",
   "metadata": {},
   "source": [
    "<img src=\"img/pyJupyter5.png\" alt=\"pyJupyter5\" style=\"width: 80%; border: 1px solid #cccccc;\" />"
   ]
  },
  {
   "cell_type": "markdown",
   "metadata": {},
   "source": [
    "You can go back and forth to any In/Out box on your notebook.  Just click one.  You can modify it and re-run it.  Copy-and-paste also works.  Yes, this is your notebook for your learning and research."
   ]
  },
  {
   "cell_type": "markdown",
   "metadata": {},
   "source": [
    "<div style=\"padding: 1em; border: solid 1px #cccccc;\">\n",
    "Note that \"<strong>division</strong>\" in Python 3 always results in <strong>float</strong> (real number).  In the above example, the division between integers \"6 / 5\" gives \"1.2\" in a float.  While, in other major programming languages (including Python 2), such a division between integers gives just an integer quotient.\n",
    "</div>"
   ]
  },
  {
   "cell_type": "markdown",
   "metadata": {},
   "source": [
    "<hr style=\"border-color: #cf6868; border-width: 2px;\" />\n",
    "### Add text and math"
   ]
  },
  {
   "cell_type": "markdown",
   "metadata": {},
   "source": [
    "If you want to leave some comments, say, just below an In/Out box, click the box and click \"<strong>+</strong>\" in the menu.  You will get an empty \"<strong>Code</strong>\" box.  Change it to \"<strong>Markdown</strong>\" from the pulldown menu.  Now you can type in any <strong>text</strong>, even with <strong>HTML</strong> tags, or <strong>math</strong> expressions in <strong>LaTeX</strong> notation."
   ]
  },
  {
   "cell_type": "markdown",
   "metadata": {},
   "source": [
    "<img src=\"img/pyJupyter6.png\" alt=\"pyJupyter6\" style=\"width: 80%; border: 1px solid #cccccc;\" />"
   ]
  },
  {
   "cell_type": "markdown",
   "metadata": {},
   "source": [
    "The \"Markdown\" texts above will turn into attractive text and mathematical expressions as shown below.  If you want to know the details of LaTeX notation, refer to <a href=\"https://en.wikibooks.org/wiki/LaTeX/Mathematics\">WikiBooks on LaTeX/Mathematics</a>."
   ]
  },
  {
   "cell_type": "markdown",
   "metadata": {},
   "source": [
    "<img src=\"img/pyJupyter7.png\" alt=\"pyJupyter7\" style=\"width: 80%; border: 1px solid #cccccc;\" />"
   ]
  },
  {
   "cell_type": "markdown",
   "metadata": {},
   "source": [
    "<hr style=\"border-color: #cf6868; border-width: 2px;\" />\n",
    "### Under the hood"
   ]
  },
  {
   "cell_type": "markdown",
   "metadata": {},
   "source": [
    "You may want to make a number of In/Out boxes on your notebook.  Those boxes are connected to <strong>a single Python kernel</strong>, or a Python  interpreter, under the engine hood.  When you execute some code in a box, the resulting effect (for example, new values assigned to variables) will be transferred to another box you are interacting with."
   ]
  },
  {
   "cell_type": "markdown",
   "metadata": {},
   "source": [
    "<img src=\"img/pyJupyter8a.png\" alt=\"pyJupyter8a\" style=\"width: 80%;\" />"
   ]
  },
  {
   "cell_type": "markdown",
   "metadata": {},
   "source": [
    "Take a look at the following example.  In the last box, the value of \"p\" is carried over from the assignment in the preceding box.  Those boxes are connected to the same kernel."
   ]
  },
  {
   "cell_type": "markdown",
   "metadata": {},
   "source": [
    "<img src=\"img/pyJupyter8.png\" alt=\"pyJupyter8\" style=\"width: 80%; border: 1px solid #cccccc;\" />"
   ]
  },
  {
   "cell_type": "markdown",
   "metadata": {},
   "source": [
    "Next example is a bit more interesting.  After we re-assign \"p\" as 3 in the last box, we select the preceding box and re-execute the code in it.  The result changed to 75 (in integer).  What matters is <strong>the order of execution</strong>, not the order of placement in the notebook."
   ]
  },
  {
   "cell_type": "markdown",
   "metadata": {},
   "source": [
    "<img src=\"img/pyJupyter9.png\" alt=\"pyJupyter9\" style=\"width: 80%; border: 1px solid #cccccc;\" />"
   ]
  },
  {
   "cell_type": "markdown",
   "metadata": {},
   "source": [
    "<hr style=\"border-color: #cf6868; border-width: 2px;\" />\n",
    "### Get stuck?"
   ]
  },
  {
   "cell_type": "markdown",
   "metadata": {},
   "source": [
    "If you think you get stuck, or you think your Python kernel does not respond properly, try restarting the kernel by clicking <img src=\"img/reload.png\" style=\"display: inline-block; width: 14px; margin-left: 2px; margin-right: 2px;\"> icon."
   ]
  },
  {
   "cell_type": "markdown",
   "metadata": {},
   "source": [
    "Still cannot solve the problem?  As the last resort, close all the browser tabs for Jupyter Notebooks, close the terminal where the Python kernel is running, and then start over from Anaconda Navigator.  I hope you can come back to where you were."
   ]
  },
  {
   "cell_type": "markdown",
   "metadata": {},
   "source": [
    "<hr style=\"border-color: #cf6868; border-width: 2px;\" />\n",
    "### Closing and re-opening your notebook"
   ]
  },
  {
   "cell_type": "markdown",
   "metadata": {},
   "source": [
    "To close (shut down) your notebook, first <strong>save</strong> the current contents of the notebook by pressing \"<strong>Command-S</strong>\" or \"<strong>Control-S</strong>\", or clicking \"save\" icon, to preserve any progress you have made on your notebook.  Then, <strong>close</strong> the browser tab, by pressing \"<strong>Command-W</strong>\" or \"<strong>Control-W</strong>\", or clicking the closing button on the browser tab."
   ]
  },
  {
   "cell_type": "markdown",
   "metadata": {},
   "source": [
    "If you want to stop the Python kernel as well, <strong>close the terminal</strong> behind that runs the kernel.  You should close all the notebooks first, then kill the kernel."
   ]
  },
  {
   "cell_type": "markdown",
   "metadata": {},
   "source": [
    "To re-open your notebook, if the Python kernel is not running, <strong>start \"Anaconda Navigator\"</strong>, from which <strong>launch \"jupyter notebook\"</strong>.  If the kernel is running but the \"Home\" tab is not present on your browser, open \"<strong>localhost:8888/tree</strong>\" in a new tab.  If you see the \"<strong>Home</strong>\" tab, just click the notebook file to open."
   ]
  },
  {
   "cell_type": "markdown",
   "metadata": {},
   "source": [
    "<h1 style=\"background-color: #cf6868; color: white; padding: 24px;\">Python for data science</h1>"
   ]
  },
  {
   "cell_type": "markdown",
   "metadata": {},
   "source": [
    "Now, everything is ready to go.  Let us start learning Python for data science.  We are using \"jupyter notebooks\" for working on the following list of learning contents."
   ]
  },
  {
   "cell_type": "markdown",
   "metadata": {},
   "source": [
    "<ol start=\"0\">\n",
    "<li> Get started with \"Jupyter Notebook\" (this material) </li>\n",
    "<li> Learning Python in 90 minutes: <a href=\"http://www.ei.tohoku.ac.jp/xkozima/lab/deep/pyTutorial1.zip\">pyTutorial1.zip</a> </li>\n",
    "<li> Introduction to data science with Python: pyTutorial2.zip </li>\n",
    "<li> Introduction to deep learning: pyTutorial3.zip </li>\n",
    "</ol>"
   ]
  },
  {
   "cell_type": "markdown",
   "metadata": {},
   "source": [
    "To proceed to \"<strong>1. Learning Python in 90 minutes</strong>\", download \"<strong>pyTutorial1.zip</strong>\" from the link above and unzip it.  You will get a folder \"pyTutorial1\".  Place the folder in your \"Jupyter\" folder.\n",
    "\n",
    "From the \"Home\" tab on your browser, open the file \"<strong>pyTutorial1.ipynb</strong>\" in the folder.  You will have a notebook opened in your browser.  That is your notebook as well as the textbook for learning Python for data science.  From now on, please follow the instruction in the notebook."
   ]
  },
  {
   "cell_type": "markdown",
   "metadata": {},
   "source": [
    "<h3 style=\"background-color: #cf6868; color: white; padding: 24px; text-align: center;\">(cc) Koziken, MMXVII</h3>"
   ]
  }
 ],
 "metadata": {
  "kernelspec": {
   "display_name": "Python 3",
   "language": "python",
   "name": "python3"
  },
  "language_info": {
   "codemirror_mode": {
    "name": "ipython",
    "version": 3
   },
   "file_extension": ".py",
   "mimetype": "text/x-python",
   "name": "python",
   "nbconvert_exporter": "python",
   "pygments_lexer": "ipython3",
   "version": "3.6.3"
  }
 },
 "nbformat": 4,
 "nbformat_minor": 2
}
