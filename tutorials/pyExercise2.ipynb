{
 "cells": [
  {
   "cell_type": "markdown",
   "metadata": {},
   "source": [
    "<h1 style=\"background-color: #cf6868; color: white; padding: 24px; line-height: 32px;\">Exercise 2: <br>\n",
    "Population change </h1>\n",
    "<p>Hideki Kozima (xkozima@tohoku.ac.jp)</p>"
   ]
  },
  {
   "cell_type": "markdown",
   "metadata": {},
   "source": [
    "<hr style=\"border-color: #cf6868; border-width: 12px;\" />\n",
    "## Preparation"
   ]
  },
  {
   "cell_type": "code",
   "execution_count": null,
   "metadata": {
    "collapsed": true
   },
   "outputs": [],
   "source": [
    "# read the file as a list of lines\n",
    "file = open(\"data/popuPrefChangeCP932.csv\", \"r\", encoding=\"cp932\")\n",
    "lineList = file.readlines()\n",
    "file.close()"
   ]
  },
  {
   "cell_type": "markdown",
   "metadata": {},
   "source": [
    "The file (in CSV format) looks like:\n",
    "<img src=\"img/resasExample1.png\" width=\"90%\" style=\"border: solid 1px #cccccc\">"
   ]
  },
  {
   "cell_type": "markdown",
   "metadata": {},
   "source": [
    "<hr style=\"border-color: #cf6868; border-width: 12px;\" />\n",
    "## Preparation"
   ]
  },
  {
   "cell_type": "markdown",
   "metadata": {},
   "source": [
    "\"data/popuPrefChangeCP932.csv\" is downloaded from \"https:resas.go.jp\" (Regional Economy and Society Analyzing System) run by the Japanese government.  To download the file, visit  \"https://resas.go.jp/population-composition/#\".  Note that most of the files on the site are CSV encoded in \"cp932\".  \n",
    "\n",
    "Other sources of official statistical information of Japan:\n",
    "* Statistics Bureau: http://www.e-stat.go.jp/SG1/estat/eStatTopPortalE.do\n",
    "* Data.go.jp: http://www.data.go.jp/?lang=english\n",
    "* METI (Ministry of Economy, Trade and Industry, Japan): http://datameti.go.jp/?lang=en\n",
    "* JMA (Japan Meteological Agency): http://www.jma.go.jp/jma/menu/menureport.html"
   ]
  },
  {
   "cell_type": "markdown",
   "metadata": {},
   "source": [
    "<hr style=\"border-color: #cf6868; border-width: 12px;\" />\n",
    "## What's in the dataset"
   ]
  },
  {
   "cell_type": "markdown",
   "metadata": {},
   "source": [
    "The data contains population of each prefecture on 1960, 1965, ..., 2015 (actual) and on 2020, 2025, ..., 2040 (estimated). 47 x 17 = 799 lines.  The file comes with a \"header\" line."
   ]
  },
  {
   "cell_type": "code",
   "execution_count": null,
   "metadata": {},
   "outputs": [],
   "source": [
    "# let's peep the data\n",
    "print(\"number of lines:\", len(lineList))\n",
    "print(\"header:\", lineList[0], end=\"\")\n",
    "print(\"line 1:\", lineList[1], end=\"\")\n",
    "print(\"line 2:\", lineList[2], end=\"\")\n",
    "print(\"line 3:\", lineList[3], end=\"\")\n",
    "print(\"line 4:\", lineList[4], end=\"\")"
   ]
  },
  {
   "cell_type": "markdown",
   "metadata": {},
   "source": [
    "The first couple of lines contain the following information:\n",
    "<table style=\"font-size: 75%\">\n",
    "<tr><th>集計年</th><th>都道府県コード</th><th>都道府県名</th><th>総人口（人）</th><th>年少人口（人）</th><th>生産年齢人口（人）</th><th>老年人口（人）</th><th>年少人口割合</th><th>生産年齢人口割合</th><th>老年人口割合</th></tr>\n",
    "<tr><td>1960</td><td>1</td><td>北海道</td><td>5039206</td><td>1681479</td><td>3145664</td><td>212063</td><td>0.33</td><td>0.62</td><td>0.04</td></tr>\n",
    "<tr><td>1960</td><td>2</td><td>青森県</td><td>1426606</td><td>513397</td><td>848838</td><td>64371</td><td>0.36</td><td>0.6</td><td>0.05</td></tr>\n",
    "<tr><td>1960</td><td>3</td><td>岩手県</td><td>1448517</td><td>501782</td><td>870492</td><td>76243</td><td>0.35</td><td>0.6</td><td>0.05</td></tr>\n",
    "<tr><td>1960</td><td>4</td><td>宮城県</td><td>1743195</td><td>584497</td><td>1063732</td><td>94966</td><td>0.34</td><td>0.61</td><td>0.05</td></tr>\n",
    "</table>\n",
    "\n",
    "The header says, <br>\n",
    "(0) \"year of census\", (1) \"prefecture code\", (2) \"prefecture name\", <br>\n",
    "(3) \"total population\", <br>\n",
    "(4) \"junior (~14y)\", (5) \"productive (15~64y)\", (6) \"senior (65~y)\", <br>\n",
    "(7) \"junior (in prop)\", (8) \"productive (in prop)\", (9) \"senior (in prop)\"."
   ]
  },
  {
   "cell_type": "code",
   "execution_count": null,
   "metadata": {},
   "outputs": [],
   "source": [
    "prefDict = {\n",
    " '北海道' : 'Hokkaido',  '青森県' : 'Aomori',    '岩手県' : 'Iwate',\n",
    " '宮城県' : 'Miyagi',    '秋田県' : 'Akita',     '山形県' : 'Yamagata',\n",
    " '福島県' : 'Fukushima', '茨城県' : 'Ibaraki',   '栃木県' : 'Tochigi',\n",
    " '群馬県' : 'Gunma',     '埼玉県' : 'Saitama',   '千葉県' : 'Chiba',\n",
    " '東京都' : 'Tokyo',     '神奈川県':'Kanagawa',  '新潟県' : 'Nigata',\n",
    " '富山県' : 'Toyama',    '石川県' : 'Ishikawa',  '福井県' : 'Fukui',\n",
    " '山梨県' : 'Yamanashi', '長野県' : 'Nagano',    '岐阜県' : 'Gifu',\n",
    " '静岡県' : 'Shizuoka',  '愛知県' : 'Aichi',     '三重県' : 'Mie',\n",
    " '滋賀県' : 'Shiga',     '京都府' : 'Kyoto',     '大阪府' : 'Osaka',\n",
    " '兵庫県' : 'Hyogo',     '奈良県' : 'Nara',      '和歌山県':'Wakayama',\n",
    " '鳥取県' : 'Tottori',   '島根県' : 'Shimane',   '岡山県' : 'Okayama',\n",
    " '広島県' : 'Hiroshima', '山口県' : 'Yamaguchi', '徳島県' : 'Tokushima',\n",
    " '香川県' : 'Kagawa',    '愛媛県' : 'Ehime',     '高知県' : 'Kochi',\n",
    " '福岡県' : 'Fukuoka',   '佐賀県' : 'Saga',      '長崎県' : 'Nagasaki',\n",
    " '熊本県' : 'Kumamoto',  '大分県' : 'Oita',      '宮崎県' : 'Miyazaki',\n",
    " '鹿児島県':'Kagoshima', '沖縄県' : 'Okinawa' }\n",
    "print(prefDict)"
   ]
  },
  {
   "cell_type": "code",
   "execution_count": null,
   "metadata": {},
   "outputs": [],
   "source": [
    "# (0) remove header, now 799 lines\n",
    "lineListBody = lineList[1:]\n",
    "# (1) remove trailing \"\\n\"\n",
    "# (2) Romanize the prefecture names\n",
    "# (3) make strings into numbers\n",
    "dataList = []\n",
    "for line in lineListBody:\n",
    "    if line[-1] == \"\\n\":\n",
    "        line = line[0:-1]    \n",
    "    stringList = line.split(\",\")\n",
    "    recordList = [int(stringList[0]), int(stringList[1]), prefDict[stringList[2]], \n",
    "                  int(stringList[3]), \n",
    "                  int(stringList[4]), int(stringList[5]), int(stringList[6]), \n",
    "                  float(stringList[7]), float(stringList[8]), float(stringList[9]) ]\n",
    "    dataList.append(recordList)\n",
    "# peep for the first 5 lines\n",
    "for i in range(0, 4):\n",
    "    print(dataList[i])\n",
    "print(\"...\")\n",
    "for i in range(795, 799):\n",
    "    print(dataList[i])"
   ]
  },
  {
   "cell_type": "markdown",
   "metadata": {},
   "source": [
    "<hr style=\"border-color: #cf6868; border-width: 12px;\" />\n",
    "## Total population change"
   ]
  },
  {
   "cell_type": "code",
   "execution_count": null,
   "metadata": {},
   "outputs": [],
   "source": [
    "# generate yearList\n",
    "yearList = []\n",
    "for data in dataList:\n",
    "    year = data[0]\n",
    "    if year not in yearList:\n",
    "        yearList.append(year)\n",
    "print(yearList)\n",
    "# generate prefList\n",
    "prefList = []\n",
    "for data in dataList:\n",
    "    pref = data[2]\n",
    "    if pref not in prefList:\n",
    "        prefList.append(pref)\n",
    "print(prefList)"
   ]
  },
  {
   "cell_type": "code",
   "execution_count": null,
   "metadata": {},
   "outputs": [],
   "source": [
    "# total population of Japan from 1960 to 2040\n",
    "totalPopuList = []\n",
    "for year in yearList:\n",
    "    popuList = [data[3] for data in filter(lambda data: data[0] == year, dataList)]\n",
    "    total = sum(popuList)\n",
    "    totalPopuList.append((year, total))\n",
    "print(totalPopuList)"
   ]
  },
  {
   "cell_type": "code",
   "execution_count": null,
   "metadata": {},
   "outputs": [],
   "source": [
    "import matplotlib.pyplot as plt\n",
    "x = [tpl[0] for tpl in totalPopuList]\n",
    "y = [tpl[1] for tpl in totalPopuList]\n",
    "plt.title(\"Total population of Japan\")\n",
    "plt.ylim(ymin=0, ymax=1.4e8)\n",
    "plt.plot(x, y)\n",
    "plt.show()"
   ]
  },
  {
   "cell_type": "markdown",
   "metadata": {},
   "source": [
    "<hr style=\"border-color: #cf6868; border-width: 12px;\" />\n",
    "## Population change in each prefecture"
   ]
  },
  {
   "cell_type": "code",
   "execution_count": null,
   "metadata": {},
   "outputs": [],
   "source": [
    "# population of each prefecture from 1960 to 2040\n",
    "prefPopuList = []\n",
    "for pref in prefList:\n",
    "    prefData = list(filter(lambda data: data[2] == pref, dataList))\n",
    "    popuList = []\n",
    "    for year in yearList:\n",
    "        popuList += [data[3] for data in prefData if data[0] == year]\n",
    "    prefPopuList.append((pref, popuList))\n",
    "# print(prefPopuList) --- too long to print all\n",
    "print(prefPopuList[0])\n",
    "print(prefPopuList[1])\n",
    "print(prefPopuList[2])\n",
    "print(prefPopuList[3])\n",
    "print(prefPopuList[4])"
   ]
  },
  {
   "cell_type": "code",
   "execution_count": null,
   "metadata": {},
   "outputs": [],
   "source": [
    "# draw it\n",
    "plt.title(\"Population of each prefecture\")\n",
    "plt.ylim(ymin=0, ymax=1.4e7)\n",
    "for prefPopu in prefPopuList:\n",
    "    pref = prefPopu[0]\n",
    "    popuList = prefPopu[1]\n",
    "    plt.plot(yearList, popuList, label=pref)\n",
    "# plt.legend() --- too big to show\n",
    "plt.show()"
   ]
  },
  {
   "cell_type": "code",
   "execution_count": null,
   "metadata": {},
   "outputs": [],
   "source": [
    "# population of major prefectures from 1960 to 2040\n",
    "prefPopuList2 = []\n",
    "for pref in [\"Tokyo\", \"Osaka\", \"Hokkaido\", \"Fukuoka\", \"Miyagi\"]:\n",
    "    prefData = list(filter(lambda data: data[2] == pref, dataList))\n",
    "    popuList = []\n",
    "    for year in yearList:\n",
    "        popuList += [data[3] for data in prefData if data[0] == year]\n",
    "    prefPopuList2.append((pref, popuList))\n",
    "# draw it\n",
    "plt.title(\"Population of major prefectures\")\n",
    "plt.ylim(ymin=0, ymax=1.4e7)\n",
    "for prefPopu in prefPopuList2:\n",
    "    pref = prefPopu[0]\n",
    "    popuList = prefPopu[1]\n",
    "    plt.plot(yearList, popuList, label=pref)\n",
    "plt.legend()\n",
    "plt.show()"
   ]
  },
  {
   "cell_type": "markdown",
   "metadata": {},
   "source": [
    "<hr style=\"border-color: #cf6868; border-width: 12px;\" />\n",
    "## Age balance in population in each prefecture"
   ]
  },
  {
   "cell_type": "code",
   "execution_count": null,
   "metadata": {},
   "outputs": [],
   "source": [
    "# elderly population of each prefecture from 1960 to 2040\n",
    "prefPopuList2 = []\n",
    "for pref in [\"Akita\", \"Miyagi\", \"Tokyo\", \"Okinawa\"]:\n",
    "    prefData = list(filter(lambda data: data[2] == pref, dataList))\n",
    "    popuList = []\n",
    "    for year in yearList:\n",
    "        popuList += [data[9] for data in prefData if data[0] == year]\n",
    "    prefPopuList2.append((pref, popuList))\n",
    "# print(prefPopuList2) --- too long to print all\n",
    "for prefPopu in prefPopuList2:\n",
    "    pref = prefPopu[0]\n",
    "    popuList = prefPopu[1]\n",
    "    plt.plot(yearList, popuList, label=pref)\n",
    "plt.title(\"Elderly population (relative)\")\n",
    "plt.ylim(ymin=0, ymax=0.5)\n",
    "plt.legend()\n",
    "plt.show()"
   ]
  },
  {
   "cell_type": "code",
   "execution_count": null,
   "metadata": {},
   "outputs": [],
   "source": [
    "# elderly population of each prefecture from 1960 to 2040\n",
    "prefPopuList2 = []\n",
    "for pref in [\"Akita\", \"Miyagi\", \"Tokyo\", \"Okinawa\"]:\n",
    "    prefData = list(filter(lambda data: data[2] == pref, dataList))\n",
    "    popuList = []\n",
    "    for year in yearList:\n",
    "        popuList += [data[7] for data in prefData if data[0] == year]\n",
    "    prefPopuList2.append((pref, popuList))\n",
    "# print(prefPopuList2) --- too long to print all\n",
    "for prefPopu in prefPopuList2:\n",
    "    pref = prefPopu[0]\n",
    "    popuList = prefPopu[1]\n",
    "    plt.plot(yearList, popuList, label=pref)\n",
    "plt.title(\"Junior population (relative)\")\n",
    "plt.ylim(ymin=0, ymax=0.5)\n",
    "plt.legend()\n",
    "plt.show()"
   ]
  },
  {
   "cell_type": "markdown",
   "metadata": {},
   "source": [
    "<h3 style=\"background-color: #cf6868; color: white; padding: 24px; text-align: center;\">(cc) Koziken, MMXVII</h3>"
   ]
  }
 ],
 "metadata": {
  "kernelspec": {
   "display_name": "Python 3",
   "language": "python",
   "name": "python3"
  },
  "language_info": {
   "codemirror_mode": {
    "name": "ipython",
    "version": 3
   },
   "file_extension": ".py",
   "mimetype": "text/x-python",
   "name": "python",
   "nbconvert_exporter": "python",
   "pygments_lexer": "ipython3",
   "version": "3.6.1"
  }
 },
 "nbformat": 4,
 "nbformat_minor": 2
}
