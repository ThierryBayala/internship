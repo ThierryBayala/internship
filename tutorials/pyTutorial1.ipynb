{
 "cells": [
  {
   "cell_type": "markdown",
   "metadata": {},
   "source": [
    "<h1 style=\"background-color: #cf6868; color: white; padding: 24px; line-height: 32px;\">Learning Python in 90 minutes</h1>\n",
    "<p>Hideki Kozima (xkozima@tohoku.ac.jp)</p>"
   ]
  },
  {
   "cell_type": "markdown",
   "metadata": {},
   "source": [
    "## Contents\n",
    "* <a href=\"#Why\">Why Python?</a>\n",
    "* <a href=\"#Action\">Python in action</a>\n",
    "* <a href=\"#Lists\">Lists, tuples, dictionaries, and sets</a>\n",
    "* <a href=\"#Structures\">Control structures</a>\n",
    "* <a href=\"#Strings\">Strings</a>\n",
    "* <a href=\"#Modules\">Modules</a>\n",
    "* <a href=\"#Comprehensions\">List comprehensions</a>\n",
    "* <a href=\"#Functions\">Functions</a>\n",
    "* <a href=\"#Files\">Reading/writing files</a>"
   ]
  },
  {
   "cell_type": "markdown",
   "metadata": {},
   "source": [
    "<a name=\"Why\"></a>\n",
    "<hr style=\"border-color: #cf6868; border-width: 12px;\" />\n",
    "## Why Python?"
   ]
  },
  {
   "cell_type": "markdown",
   "metadata": {},
   "source": [
    "This is a hands-on tutorial of Python (Python 3), an advanced, general-purpose programming language.\n",
    "\n",
    "* Python is an <strong>interpreted language</strong>. No need to compile. Python gives you interactive programming environment.\n",
    "* Python is <strong>dynamically typed</strong>. No need to specify types of variables and arguments. Python interpreters are equipped with an automatic garbage collector.\n",
    "* Python uses <strong>white-space indentation</strong> for indicating <strong>code blocks</strong>. No need for curly braces or \"begin\" / \"end\".\n",
    "\n",
    "Here is a simple example of a Python program to find the minimum and maximum value in a list of numbers. Press \"<strong>Control-Enter</strong>\" in the following box to run it. Try it out!  (So far, you do not have to fully understand the code.)"
   ]
  },
  {
   "cell_type": "code",
   "execution_count": null,
   "metadata": {
    "collapsed": true
   },
   "outputs": [],
   "source": [
    "theList = [14, 15, 92, 65, 35, 89, 79, 32, 38, 46]\n",
    "first = True\n",
    "for n in theList:\n",
    "    print(n)\n",
    "    if first:\n",
    "        minimum = n\n",
    "        maximum = n\n",
    "        first = False\n",
    "    elif n < minimum:\n",
    "        minimum = n\n",
    "    elif n > maximum:\n",
    "        maximum = n\n",
    "print(\"min =\", minimum)\n",
    "print(\"max =\", maximum)"
   ]
  },
  {
   "cell_type": "markdown",
   "metadata": {},
   "source": [
    "I would recommend using Python for learning \"<strong>data science</strong>\".  There are a couple of reasons.\n",
    "* Python is widely used in <strong>real-world applications</strong>,\n",
    "* Python has strong connections with existing <strong>frameworks and libraries</strong> for \"data analysis\" and \"machine learning\", and\n",
    "* Python has advantages also in graphical <strong>data visualization</strong>, which will be one of the key technology needed in future collaboration between AI and humans."
   ]
  },
  {
   "cell_type": "markdown",
   "metadata": {},
   "source": [
    "Let us learn Python as a gateway to \"data science\".  Here I suppose that you have some experience in computer programming, say, in C/C++, JavaScript, or other programming languages, but I will keep this tutorial as plain as possible."
   ]
  },
  {
   "cell_type": "markdown",
   "metadata": {},
   "source": [
    "<a name=\"Action\"></a>\n",
    "<hr style=\"border-color: #cf6868; border-width: 12px;\" />\n",
    "## Python in action"
   ]
  },
  {
   "cell_type": "markdown",
   "metadata": {},
   "source": [
    "<hr style=\"border-color: #cf6868; border-width: 2px;\" />\n",
    "### Hello, world!"
   ]
  },
  {
   "cell_type": "markdown",
   "metadata": {},
   "source": [
    "\"<strong><tt>print()</tt></strong>\" prints out the value of the argument(s).  See what the following code prints out.  Here we deal with <strong>string</strong>, <strong>int</strong> (integer), and <strong>float</strong> (real number)."
   ]
  },
  {
   "cell_type": "code",
   "execution_count": null,
   "metadata": {
    "collapsed": true,
    "scrolled": true
   },
   "outputs": [],
   "source": [
    "# comment spans from \"#\" to the end of line\n",
    "print(\"Hello, world!\")\n",
    "# \"+\" connects two strings\n",
    "print(\"note\" + \"book\")\n",
    "# \"print()\" prints out each argument with a space\n",
    "print(\"Welcome\", \"to\", \"Japan\")\n",
    "# expressions are evaluated, then printed out\n",
    "print(2 * 2 + 2 / 2)\n",
    "print(\"answer is\", 2 * 2 + 2 / 2)\n",
    "# \"+\" connects only strings, so make it string\n",
    "print(\"answer=\" + str(2 * 2 + 2 / 2))\n",
    "# \"+\", \"-\", \"*\" between integers result in an integer\n",
    "print(1+2, 2-3, 4*5, 6*7)\n",
    "# if a float is in the operands, result is also an float\n",
    "print(1+2.0, 2.0-3, 4*5.0, 6.0*7.0)\n",
    "# \"/\" always results in a float\n",
    "print(\"10 /  3 =\", 10 / 3)\n",
    "# \"//\" for quotient, \"%\" for remainder\n",
    "print(\"10 // 3 =\", 10 // 3)\n",
    "print(\"10 %  3 =\", 10 % 3)\n",
    "# 2 to the power of 16\n",
    "print(\"2 ** 16 =\", 2 ** 16)\n",
    "# when \"*\" meets a string\n",
    "print(\"Ha\" * 5)\n",
    "# for no \"newline\" (by default, end=\"\\n\")\n",
    "print(\"Hello, world\", end=\"\")\n",
    "print(\" peace!\")"
   ]
  },
  {
   "cell_type": "markdown",
   "metadata": {},
   "source": [
    "<hr style=\"border-color: #cf6868; border-width: 2px;\" />\n",
    "### Variables and literals"
   ]
  },
  {
   "cell_type": "markdown",
   "metadata": {},
   "source": [
    "<strong>No need to \"declare\" variables</strong>.  Just assign some value to a new identifier, Python automatically makes a new variable.  (However, you cannot access to unassigned variables.)"
   ]
  },
  {
   "cell_type": "code",
   "execution_count": null,
   "metadata": {
    "collapsed": true
   },
   "outputs": [],
   "source": [
    "# slim beer glass\n",
    "pi = 3.14159\n",
    "radius = 2.0\n",
    "height = 10.0\n",
    "volume = pi * radius * radius * height\n",
    "print(volume)\n",
    "# fat beer glass\n",
    "radius = 4.0\n",
    "volume = pi * radius * radius * height\n",
    "print(volume)"
   ]
  },
  {
   "cell_type": "markdown",
   "metadata": {},
   "source": [
    "Identifiers are somethings like \"<tt>skywalker</tt>\", \"<tt>R2D2</tt>\", and \"<tt>obi_wan</tt>\".  Note that Python is <strong>case sensitive</strong>; \"<tt>skywalker</tt>\", \"<tt>SkyWalker</tt>\", and \"<tt>SKYWALKER</tt>\" are all different. "
   ]
  },
  {
   "cell_type": "markdown",
   "metadata": {},
   "source": [
    "<div style=\"padding: 1em; border: solid 1px #cccccc;\">\n",
    "Below are \"<strong>reserved words</strong>\" or \"<strong>keywords</strong>\", which cannot be used for identifiers.\n",
    "<pre>\n",
    "False      class      finally    is         return\n",
    "None       continue   for        lambda     try\n",
    "True       def        from       nonlocal   while\n",
    "and        del        global     not        with\n",
    "as         elif       if         or         yield\n",
    "assert     else       import     pass\n",
    "break      except     in         raise\n",
    "</pre>\n",
    "</div>"
   ]
  },
  {
   "cell_type": "markdown",
   "metadata": {},
   "source": [
    "A \"<strong>literal</strong>\" in Python is a representation in the code, like <tt>123</tt> or <tt>1.23</tt>, to produce a value in a specified data type.  For integers, you could also denote <tt>0x2a</tt> (hexadecimal) or <tt>0b101010</tt> (binary).  For strings, if you want to include quotation marks, type <tt>\"what's 'Python'\"</tt> or <tt>'what is \"Python\"'</tt>.  You could also write <tt>'what\\'s'</tt> or <tt>'newline is \\\\\\\\n'</tt>."
   ]
  },
  {
   "cell_type": "markdown",
   "metadata": {},
   "source": [
    "<hr style=\"border-color: #cf6868; border-width: 2px;\" />\n",
    "### Assignments"
   ]
  },
  {
   "cell_type": "markdown",
   "metadata": {},
   "source": [
    "As in assignment statements in other programming languages, the expression on the right side is evaluated and get a value, then the value is assigned to the variable on the left side.  C-like <strong>incremental/decremental assignments</strong> are OK.  However,  \"<tt>k++</tt>\" or \"<tt>k--</tt>\" are not allowed; so, use \"<tt>k += 1</tt>\" or \"<tt>k -= 1</tt>\" instead.  Python accepts <strong>multiple assignments</strong>, which may sometimes be very useful."
   ]
  },
  {
   "cell_type": "code",
   "execution_count": null,
   "metadata": {
    "collapsed": true
   },
   "outputs": [],
   "source": [
    "k = 1\n",
    "print(k)\n",
    "# you cannot do \"k++\" or \"k--\" in Python\n",
    "k += 1\n",
    "print(k)\n",
    "# \"-=\", \"/=\", \"//=\", etc. are also OK\n",
    "k *= 10\n",
    "print(k)\n",
    "# exchange the values of k, j\n",
    "j = 1\n",
    "print(\"before: k, j =\", k, \",\", j)\n",
    "j, k = k, j\n",
    "print(\" after: k, j =\", k, \",\", j)\n",
    "# traditionally, you would do...\n",
    "print(\"before: k, j =\", k, \",\", j)\n",
    "tmp = k\n",
    "k = j\n",
    "j = tmp\n",
    "print(\" after: k, j =\", k, \",\", j)"
   ]
  },
  {
   "cell_type": "markdown",
   "metadata": {},
   "source": [
    "<hr style=\"border-color: #cf6868; border-width: 2px;\" />\n",
    "### User input and data types"
   ]
  },
  {
   "cell_type": "markdown",
   "metadata": {},
   "source": [
    "\"<strong>input()</strong>\" reads what the user typed in (and press \"enter\").  It always returns a <strong>string</strong>.  Take a look at the following code to compute your BMI (Body Mass Index).  Keep it around 22."
   ]
  },
  {
   "cell_type": "code",
   "execution_count": null,
   "metadata": {
    "collapsed": true
   },
   "outputs": [],
   "source": [
    "# \"input()\" reads user input (with the prompt)\n",
    "name = input(\"Name:\")\n",
    "weight = input(\"weight[kg]:\")\n",
    "height = input(\"height[cm]:\")\n",
    "# strings have to be converted to float\n",
    "meters = float(height) / 100.0\n",
    "BMI = float(weight) / meters ** 2\n",
    "print(name + \"'s BMI is\", BMI)\n",
    "# round(f, n) make the float value down to the n-th decimal\n",
    "print(name + \"'s BMI is\", round(BMI, 3))"
   ]
  },
  {
   "cell_type": "markdown",
   "metadata": {},
   "source": [
    "When you need to change the \"<strong>data type</strong>\" of a variable, use \"<strong><tt>int()</tt></strong>\", \"<strong><tt>float()</tt></strong>\", <strong><tt>str()</tt></strong>\", and <strong><tt>bool()</tt></strong>.  The type \"<strong>bool</strong>\" is for a value of either <strong><tt>True</tt></strong> or <strong><tt>False</tt></strong>.  To get the data type oa a variable, use \"<strong><tt>type()</tt></strong>\"."
   ]
  },
  {
   "cell_type": "code",
   "execution_count": null,
   "metadata": {
    "collapsed": true
   },
   "outputs": [],
   "source": [
    "# strings to numbers\n",
    "anInt = int(\"123\")\n",
    "print(\"int('123') =\", anInt, type(anInt))\n",
    "aFloat = float(\"123\")\n",
    "print(\"float('123') =\", aFloat, type(aFloat))\n",
    "aFloat2 = float(anInt)\n",
    "print(\"float(123) =\", aFloat2, type(aFloat2))\n",
    "# numbers to strings\n",
    "aString = str(anInt)\n",
    "print(\"str(123) = '\" + aString + \"'\", type(aString))\n",
    "aString2 = str(aFloat)\n",
    "print(\"str(123.0) = '\" + aString2 + \"'\", type(aString2))\n",
    "# bool is {True, False}\n",
    "aBool = True;\n",
    "print(\"aBool = \", aBool, type(aBool))\n",
    "# True <-> 1 and False <-> 0\n",
    "anInt2 = int(aBool)\n",
    "print(\"int(aBool) =\", anInt2, type(anInt2))\n",
    "aBool2 = bool(0)\n",
    "print(\"bool(0) =\", aBool2, type(aBool2))"
   ]
  },
  {
   "cell_type": "markdown",
   "metadata": {},
   "source": [
    "<hr style=\"border-color: #cf6868; border-width: 2px;\" />\n",
    "### Formatted printing"
   ]
  },
  {
   "cell_type": "markdown",
   "metadata": {},
   "source": [
    "You might want to print numbers in specified format, like \"to the 3rd dicimal\" or \"in hexadecimal\". Use <a href=\"https://docs.python.org/3.4/library/string.html\">\"<tt>format()</tt>\" method</a>.  Here are some examples."
   ]
  },
  {
   "cell_type": "code",
   "execution_count": null,
   "metadata": {
    "collapsed": true
   },
   "outputs": [],
   "source": [
    "# printing in a row\n",
    "nl = [3.14, 1.59, 2.65, 3.58, 9.79]\n",
    "for n in nl:\n",
    "    print(n, end=\", \")\n",
    "print()\n",
    "# printing integer and float\n",
    "pi = 3.14159265358979\n",
    "print(\"####:{0:4d}\".format(32))\n",
    "print(\"####:{0:04d}\".format(38))\n",
    "print(\"?.#####:{0:.5f}\".format(pi))\n",
    "print(\"##.#####:{0:8.5f}\".format(pi))\n",
    "print(\"##.#####e%%:{0:5.2e}\".format(pi/1000))\n",
    "# hexadecimal (you could reuse 3238)\n",
    "print(\"xxxx:{0:04x} ({0:d})\".format(3238))\n",
    "# strings (left-aligned)\n",
    "print(\"{0:s}'s weight is {1:.1f}kg, height is {2:3.0f}cm\".format(\"Hideki\", 63.25, 169.8))\n",
    "print(\"ccccc/ccccc:{0:5s}/{1:5s}.\".format(\"Subj\", \"Verb\"))"
   ]
  },
  {
   "cell_type": "markdown",
   "metadata": {},
   "source": [
    "<a name=\"Lists\"></a>\n",
    "<hr style=\"border-color: #cf6868; border-width: 12px;\" />\n",
    "## Lists, tuples, dictionaries, and sets"
   ]
  },
  {
   "cell_type": "markdown",
   "metadata": {},
   "source": [
    "Here we will review the major data structure.  For details, refer to <a href=\"https://docs.python.org/3/tutorial/datastructures.html\">the official reference</a>."
   ]
  },
  {
   "cell_type": "markdown",
   "metadata": {},
   "source": [
    "<hr style=\"border-color: #cf6868; border-width: 2px;\" />\n",
    "### Lists (arrays)"
   ]
  },
  {
   "cell_type": "markdown",
   "metadata": {},
   "source": [
    "A list is an <strong>array</strong> of objects, just as in other programming languages like JavaScript."
   ]
  },
  {
   "cell_type": "code",
   "execution_count": null,
   "metadata": {
    "collapsed": true
   },
   "outputs": [],
   "source": [
    "x = [14, 15, 92, 65, 35, 89, 79, 32, 38, 46]\n",
    "print(x)\n",
    "# x[n] accesses to the n-th element (starting from n=0)\n",
    "print(x[0])\n",
    "# len() returns the number of elements\n",
    "print(x[0], x[1], \"...\", x[len(x) - 2], x[len(x) - 1])\n",
    "# negative index also works as follows\n",
    "print(x[0], x[1], \"...\", x[-2], x[-1])\n",
    "# min/max/sum\n",
    "print(\"min max =\", min(x), max(x))\n",
    "print(\"sum =\", sum(x))"
   ]
  },
  {
   "cell_type": "markdown",
   "metadata": {},
   "source": [
    "Lists are <strong>mutable</strong> arrays, so you can change the contents, add a new element, and delete a particular element."
   ]
  },
  {
   "cell_type": "code",
   "execution_count": null,
   "metadata": {
    "collapsed": true
   },
   "outputs": [],
   "source": [
    "# you can change a particular element\n",
    "x[0] = 314\n",
    "print(\"change:\", x)\n",
    "# you can add a new element at the end\n",
    "x.append(26)\n",
    "print(\"append:\", x)\n",
    "# delete the k-th element\n",
    "del x[5]\n",
    "print(\"delete:\", x)\n",
    "# insert as the k-th element\n",
    "x.insert(3, 123)\n",
    "print(\"insert:\", x)\n",
    "# sort in the ascending/descending order\n",
    "x.sort()\n",
    "print(\"sort:\", x)\n",
    "x.sort(reverse=True)\n",
    "print(\"sort:\", x)"
   ]
  },
  {
   "cell_type": "markdown",
   "metadata": {},
   "source": [
    "<hr style=\"border-color: #cf6868; border-width: 2px;\" />\n",
    "### Tuples (immutable arrays)"
   ]
  },
  {
   "cell_type": "markdown",
   "metadata": {},
   "source": [
    "A tuple is similar to arrays, but it is <strong>immutable</strong>, so you cannot change its elements once you generate it.  Use round parentheses to embrace the elements."
   ]
  },
  {
   "cell_type": "code",
   "execution_count": null,
   "metadata": {
    "collapsed": true
   },
   "outputs": [],
   "source": [
    "y = (\"Mon\", \"Tue\", \"Wed\", \"Thu\", \"Fri\", \"Sat\", \"Sun\")\n",
    "print(\"y =\", y)\n",
    "print(\"len(y) =\", len(y))\n",
    "print(y[0], y[1], \"...\", y[-2], y[-1])"
   ]
  },
  {
   "cell_type": "markdown",
   "metadata": {},
   "source": [
    "When you need to modify the contents of the tuple, you can change it into a list.  You can also change a list to a tuple."
   ]
  },
  {
   "cell_type": "code",
   "execution_count": null,
   "metadata": {
    "collapsed": true
   },
   "outputs": [],
   "source": [
    "# make the tuple d into a new list\n",
    "yl = list(y)\n",
    "print(\"list:\", yl)\n",
    "# so you can modify it\n",
    "yl[5] = \"Fri\"\n",
    "print(\"list:\", yl)\n",
    "# make the list x into a tuple\n",
    "xt = tuple(x)\n",
    "print(xt)\n",
    "# the tuple xt is no longer mutable"
   ]
  },
  {
   "cell_type": "markdown",
   "metadata": {},
   "source": [
    "<hr style=\"border-color: #cf6868; border-width: 2px;\" />\n",
    "### Dictionaries (associative arrays)"
   ]
  },
  {
   "cell_type": "markdown",
   "metadata": {},
   "source": [
    "A dictionary is an <strong>associative array</strong> in the form like <strong>JSON</strong>, namely <tt>dic = {key1:value1, key2:value2, ...}</tt>.  You can get the value for a key by \"<tt>dic[key]</tt>\".  You can add (or overwrite) a new value for a key by \"<tt>dic[key] = value</tt>\".  Note that dictionaries are mutable."
   ]
  },
  {
   "cell_type": "code",
   "execution_count": null,
   "metadata": {
    "collapsed": true
   },
   "outputs": [],
   "source": [
    "d = {\"English\":82, \"Math\":70, \"History\":58, \"Science\":87}\n",
    "print(d)\n",
    "print(len(d))\n",
    "print(d[\"Math\"])\n",
    "# you can make change\n",
    "d[\"Math\"] = 95\n",
    "print(d)\n",
    "# you can add a new pair\n",
    "d[\"Economy\"] = 85\n",
    "print(d)\n",
    "# or delete a pair\n",
    "del d[\"History\"]\n",
    "print(d)\n",
    "# get all keys or values\n",
    "print(d.keys())\n",
    "print(d.values())\n",
    "# above results can be converted into lists\n",
    "dvl = list(d.values())\n",
    "print(dvl)\n",
    "print(\"sum =\", sum(dvl))\n",
    "print(\"avg =\", sum(dvl) / len(dvl))\n",
    "# items() gives all key:value pairs\n",
    "kv = d.items()\n",
    "print(kv)\n",
    "kvl = list(kv)\n",
    "print(kvl)\n",
    "print(list(kv)[1][0])"
   ]
  },
  {
   "cell_type": "markdown",
   "metadata": {},
   "source": [
    "<hr style=\"border-color: #cf6868; border-width: 2px;\" />\n",
    "### Sets (as in math)"
   ]
  },
  {
   "cell_type": "markdown",
   "metadata": {},
   "source": [
    "A set of collection of <strong>distinct</strong> elements.  Each of its elements appears only once in the set.  As in math, operations like \"<tt><strong>&amp;</strong></tt>\" (intersection), \"<tt><strong>|</strong></tt>\" (union), and \"<tt><strong>-</strong></tt>\" (subtraction) are defined for sets."
   ]
  },
  {
   "cell_type": "code",
   "execution_count": null,
   "metadata": {
    "collapsed": true
   },
   "outputs": [],
   "source": [
    "s1 = {\"html\", \"css\", \"javascript\", \"python\"}\n",
    "s2 = {\"javascript\", \"python\", \"c\", \"c++\", \"lisp\"}\n",
    "s3 = {\"python\", \"R\", \"spss\", \"matlab\"}\n",
    "# some operations\n",
    "print(s1, s2, s3)\n",
    "print(\"coverage:\", s1 | s2 | s3)\n",
    "print(\"common:\", s1 & s2 & s3)\n",
    "# add/remove\n",
    "s2.add(\"java\")\n",
    "print(s2)\n",
    "s3.remove(\"spss\")\n",
    "print(s3)\n",
    "# clear the set\n",
    "s1.clear()\n",
    "print(s1)\n",
    "s1.add(\"actionscript\")\n",
    "print(s1)"
   ]
  },
  {
   "cell_type": "markdown",
   "metadata": {},
   "source": [
    "Note that a set has <strong>no sequential order</strong> in its elements, so you <u>cannot</u> access to an element by something like <tt>s2[1]</tt>."
   ]
  },
  {
   "cell_type": "markdown",
   "metadata": {},
   "source": [
    "<a name=\"Structures\"></a>\n",
    "<hr style=\"border-color: #cf6868; border-width: 12px;\" />\n",
    "## Control structures"
   ]
  },
  {
   "cell_type": "markdown",
   "metadata": {},
   "source": [
    "<hr style=\"border-color: #cf6868; border-width: 2px;\" />\n",
    "### \"if\" branches"
   ]
  },
  {
   "cell_type": "markdown",
   "metadata": {},
   "source": [
    "Conditional statements of <a href=\"https://docs.python.org/3/tutorial/controlflow.html#if-statements\">\"<tt><strong>if</tt></strong>\"</a> may take several patterns of <strong>control flow</strong>, as illustrated below.  Note that Python uses \"<tt><strong>elif</strong></tt>\" instead of \"<tt><strong>else if</tt></strong>\"."
   ]
  },
  {
   "cell_type": "code",
   "execution_count": null,
   "metadata": {
    "collapsed": true
   },
   "outputs": [],
   "source": [
    "n = 123\n",
    "if n % 2 == 0:\n",
    "    print(n, \"is an even number\")\n",
    "else:\n",
    "    print(n, \"is an odd number\")"
   ]
  },
  {
   "cell_type": "markdown",
   "metadata": {
    "collapsed": true
   },
   "source": [
    "<div style=\"float: left;\">\n",
    "<pre>\n",
    "if <i>&lt;condition&gt;</i>:\n",
    "    <i>&lt;then-block&gt;</i>\n",
    "</pre>\n",
    "</div>\n",
    "<div>\n",
    "<img src=\"img/deepPyCond1.png\" width=\"235\">\n",
    "</div>"
   ]
  },
  {
   "cell_type": "markdown",
   "metadata": {
    "collapsed": true
   },
   "source": [
    "<div style=\"float: left;\">\n",
    "<pre>\n",
    "if <i>&lt;condition&gt;</i>:\n",
    "    <i>&lt;then-block&gt;</i>\n",
    "else:\n",
    "    <i>&lt;else-block&gt;</i>\n",
    "</pre>\n",
    "</div>\n",
    "<div>\n",
    "<img src=\"img/deepPyCond2.png\" width=\"235\">\n",
    "</div>"
   ]
  },
  {
   "cell_type": "markdown",
   "metadata": {
    "collapsed": true
   },
   "source": [
    "<div style=\"float: left;\">\n",
    "<pre>\n",
    "if <i>&lt;condition1&gt;</i>:\n",
    "    <i>&lt;block1&gt;</i>\n",
    "elif <i>&lt;condition2&gt;</i>:\n",
    "    <i>&lt;block2&gt;</i>\n",
    "</pre>\n",
    "</div>\n",
    "<div>\n",
    "<img src=\"img/deepPyCond3.png\" width=\"300\">\n",
    "</div>"
   ]
  },
  {
   "cell_type": "markdown",
   "metadata": {
    "collapsed": true
   },
   "source": [
    "<div style=\"float: left;\">\n",
    "<pre>\n",
    "if <i>&lt;condition1&gt;</i>:\n",
    "    <i>&lt;block1&gt;</i>\n",
    "elif <i>&lt;condition2&gt;</i>:\n",
    "    <i>&lt;block2&gt;</i>\n",
    "elif <i>&lt;condition3&gt;</i>:\n",
    "    <i>&lt;block3&gt;</i>\n",
    "</pre>\n",
    "</div>\n",
    "<div>\n",
    "<img src=\"img/deepPyCond4.png\" width=\"300\">\n",
    "</div>"
   ]
  },
  {
   "cell_type": "markdown",
   "metadata": {
    "collapsed": true
   },
   "source": [
    "<div style=\"float: left;\">\n",
    "<pre>\n",
    "if <i>&lt;condition1&gt;</i>:\n",
    "    <i>&lt;block1&gt;</i>\n",
    "elif <i>&lt;condition2&gt;</i>:\n",
    "    <i>&lt;block2&gt;</i>\n",
    "elif <i>&lt;condition3&gt;</i>:\n",
    "    <i>&lt;block3&gt;</i>\n",
    "else:\n",
    "    <i>&lt;block4&gt;</i>\n",
    "</pre>\n",
    "</div>\n",
    "<div>\n",
    "<img src=\"img/deepPyCond5.png\" width=\"300\">\n",
    "</div>"
   ]
  },
  {
   "cell_type": "markdown",
   "metadata": {},
   "source": [
    "For comparison, \"<tt>==</tt>\" (equal), \"<tt>!=</tt>\" (not equal), \"<tt>&lt;</tt>\", \"<tt>&lt;=</tt>\", \"<tt>&gt;</tt>\", \"<tt>&gt;=</tt>\" can be used as operators.  Another operator \"<tt>in</tt>\" check is an item is in the collection (list, tuple, set, or keys in dictionary)."
   ]
  },
  {
   "cell_type": "code",
   "execution_count": null,
   "metadata": {
    "collapsed": true,
    "scrolled": true
   },
   "outputs": [],
   "source": [
    "# works for [list], (tuple), {set}\n",
    "collection = [\"George\", \"Barack\", \"Donald\"]\n",
    "item = \"Donald\"\n",
    "if item in collection:\n",
    "    print(\"Yes,\", item)\n",
    "else:\n",
    "    print(\"No.\")\n",
    "\n",
    "# for {dictio:nary}, \"in\" check for keys\n",
    "dictionary = {\"George\":55, \"Barack\":80, \"Donald\":45}\n",
    "item = \"George\"\n",
    "if item in collection:\n",
    "    print(\"Yes,\", item)\n",
    "else:\n",
    "    print(\"No.\")"
   ]
  },
  {
   "cell_type": "markdown",
   "metadata": {},
   "source": [
    "The following codes exemplify the conditional control flows illustrated above.  Try them out for <tt>year = 2017, 2020, 2000, 2100</tt>.  (2000 and 2020 are <a href=\"https://en.wikipedia.org/wiki/Leap_year\">leap years</a>.)"
   ]
  },
  {
   "cell_type": "code",
   "execution_count": null,
   "metadata": {
    "collapsed": true
   },
   "outputs": [],
   "source": [
    "year = 2017\n",
    "# if-elif-else implementation\n",
    "if year % 400 == 0:\n",
    "    days = 366\n",
    "elif year % 100 == 0:\n",
    "    days = 365\n",
    "elif year % 4 == 0:\n",
    "    days = 366\n",
    "else:\n",
    "    days = 365\n",
    "print(\"year\", year, \"has\", days, \"days\")"
   ]
  },
  {
   "cell_type": "markdown",
   "metadata": {},
   "source": [
    "Of course, you can embed another \"if\" statement inside the block of an \"if\" statement."
   ]
  },
  {
   "cell_type": "code",
   "execution_count": null,
   "metadata": {
    "collapsed": true
   },
   "outputs": [],
   "source": [
    "year = 2017\n",
    "# nested if-else\n",
    "if year % 4 == 0:\n",
    "    if year % 100 == 0:\n",
    "        if year % 400 == 0:\n",
    "            days = 366\n",
    "        else:\n",
    "            days = 365\n",
    "    else:\n",
    "        days = 366\n",
    "else:\n",
    "    days = 365\n",
    "print(\"year\", year, \"has\", days, \"days\")"
   ]
  },
  {
   "cell_type": "markdown",
   "metadata": {},
   "source": [
    "Conditional expressions (such as \"<tt>year % 4 == 0</tt>\") can be combined with other conditional expressions with \"<strong><tt>and</strong></tt>\", \"<strong><tt>or</strong></tt>\".  To negate, use \"<tt><strong>not</strong> (year % == 0)</tt>\".  "
   ]
  },
  {
   "cell_type": "code",
   "execution_count": null,
   "metadata": {
    "collapsed": true
   },
   "outputs": [],
   "source": [
    "year = 2017\n",
    "# logical operation\n",
    "if (year % 4 == 0) and ((year % 100 != 0) or (year % 400 == 0)):\n",
    "    days = 366\n",
    "else:\n",
    "    days = 365\n",
    "print(\"year\", year, \"has\", days, \"days\")"
   ]
  },
  {
   "cell_type": "markdown",
   "metadata": {},
   "source": [
    "<hr style=\"border-color: #cf6868; border-width: 2px;\" />\n",
    "### \"for\" loops"
   ]
  },
  {
   "cell_type": "markdown",
   "metadata": {},
   "source": [
    "<a href=\"https://docs.python.org/3/tutorial/controlflow.html#for-statements\">\"<strong><tt>for</tt>\"</a> loops are the most common form of iteration.  Try out the following example.  The \"<tt>for</tt>\" loop computes the sum of 1, 2, ..., 10. Python often uses a list, like <tt>[1, 2, ..., 10]</tt>, for such interactions."
   ]
  },
  {
   "cell_type": "code",
   "execution_count": null,
   "metadata": {
    "collapsed": true
   },
   "outputs": [],
   "source": [
    "total = 0\n",
    "for k in [1, 2, 3, 4, 5, 6, 7, 8, 9, 10]:\n",
    "    total += k\n",
    "print(\"1+...+10 =\", total)"
   ]
  },
  {
   "cell_type": "markdown",
   "metadata": {},
   "source": [
    "Never ever forget to put <strong>\"<tt>:</tt>\" (colon)</strong> at the end of \"for\" line. The colon indicates that a <strong>block</strong> starts from the next line.\n",
    "\n",
    "A block consists of consecutive lines sharing <strong>the same level of indentation</strong> (by leading spaces). This is sometimes called \"off-side rule\". It is strongly recommended to use <strong>white spaces</strong> to make this indentation. A 4-space indentation is commonly used in Python communities."
   ]
  },
  {
   "cell_type": "code",
   "execution_count": null,
   "metadata": {
    "collapsed": true
   },
   "outputs": [],
   "source": [
    "loops = 0\n",
    "total = 0\n",
    "start = 1\n",
    "end   = 1001\n",
    "for k in range(start, end):\n",
    "    loops += 1\n",
    "    total += k\n",
    "print(\"num of loops =\", loops)\n",
    "print(str(start) + \"+...+\" + str(end-1) + \" =\", total)"
   ]
  },
  {
   "cell_type": "markdown",
   "metadata": {},
   "source": [
    "Here, \"<tt>range()</tt>\" generates a range of consecutive numbers, which can be used in \"for\" loops."
   ]
  },
  {
   "cell_type": "code",
   "execution_count": 2,
   "metadata": {},
   "outputs": [
    {
     "name": "stdout",
     "output_type": "stream",
     "text": [
      "range(1, 10)\n",
      "range(1, 10) = [0, 1, 2, 3, 4, 5, 6, 7, 8, 9]\n",
      "range(1, 10, 2) = [1, 3, 5, 7, 9]\n",
      "range(5) = [0, 1, 2, 3, 4]\n"
     ]
    }
   ],
   "source": [
    "print(range(1, 10))\n",
    "# make it a \"list\" to see the contents of the range\n",
    "print(\"range(1, 10) =\", list(range(0, 10)))\n",
    "# the third argument is \"step\"\n",
    "print(\"range(1, 10, 2) =\", list(range(1, 10, 2)))\n",
    "# simply \"range(n)\" gives \"range(0, n)\"\n",
    "print(\"range(5) =\", list(range(5)))"
   ]
  },
  {
   "cell_type": "markdown",
   "metadata": {},
   "source": [
    "<hr style=\"border-color: #cf6868; border-width: 2px;\" />\n",
    "### More about \"for\" loops"
   ]
  },
  {
   "cell_type": "markdown",
   "metadata": {},
   "source": [
    "For <strong>reverse order</strong> iterations, use a negative step in \"<tt>range(start, end, step)</tt>\"."
   ]
  },
  {
   "cell_type": "code",
   "execution_count": null,
   "metadata": {
    "collapsed": true
   },
   "outputs": [],
   "source": [
    "for k in range(10, 0, -1):\n",
    "    print(k)"
   ]
  },
  {
   "cell_type": "markdown",
   "metadata": {},
   "source": [
    "When you want to use indices as well as elements in a list, use <tt>enumerate()</tt> as in the example below."
   ]
  },
  {
   "cell_type": "code",
   "execution_count": null,
   "metadata": {
    "collapsed": true
   },
   "outputs": [],
   "source": [
    "tohoku = [\"Miyagi\", \"Fukushima\", \"Yamagata\", \"Iwate\", \"Akita\", \"Aomori\"]\n",
    "for (i, name) in enumerate(tohoku):\n",
    "    print(i, name)"
   ]
  },
  {
   "cell_type": "markdown",
   "metadata": {},
   "source": [
    "When you want to scan two lists in parallel, use <tt>zip()</tt> as in the next example."
   ]
  },
  {
   "cell_type": "code",
   "execution_count": null,
   "metadata": {
    "collapsed": true
   },
   "outputs": [],
   "source": [
    "Greek = [\"Zeus\",    \"Poseidon\", \"Dionysus\", \"Athena\",  \"Aphrodite\"]\n",
    "Roman = [\"Jupiter\", \"Neptune\",  \"Bucchus\",  \"Minerva\", \"Venus\"]\n",
    "for (g, r) in zip(Greek, Roman):\n",
    "    print(g, r)"
   ]
  },
  {
   "cell_type": "markdown",
   "metadata": {},
   "source": [
    "Any \"<tt>for</tt>\" loop may include an \"<strong><tt>else</tt></strong>\" block.  \"<tt>else</tt>\" block will be executed if no \"<tt>break</tt>\" occurred inside the loop.  In other words, the \"else\" block will be executed only after <strong>all</strong> elements were processed."
   ]
  },
  {
   "cell_type": "code",
   "execution_count": null,
   "metadata": {
    "collapsed": true
   },
   "outputs": [],
   "source": [
    "sum = 0\n",
    "for score in [80, 92, 83, 57, 88]:\n",
    "    # test for 60 and 50\n",
    "    if score < 60:\n",
    "        print(\"FAILED\")\n",
    "        break\n",
    "    sum += score\n",
    "else:\n",
    "    print(\"TOTAL:\", sum)"
   ]
  },
  {
   "cell_type": "markdown",
   "metadata": {},
   "source": [
    "<hr style=\"border-color: #cf6868; border-width: 2px;\" />\n",
    "### \"while\" loops"
   ]
  },
  {
   "cell_type": "markdown",
   "metadata": {},
   "source": [
    "Another way to make a loop is \"while\". Try this example. This program generates \"Fibonacci sequence\" and computes the \"golden ratio\" (1.6180339887...)."
   ]
  },
  {
   "cell_type": "code",
   "execution_count": null,
   "metadata": {
    "collapsed": true
   },
   "outputs": [],
   "source": [
    "a = 1\n",
    "b = 1\n",
    "k = 1\n",
    "while k <= 10:\n",
    "    print(k, b, b / a)\n",
    "    next = a + b\n",
    "    a = b\n",
    "    b = next\n",
    "    k += 1\n",
    "print(\"Now, k =\", k)"
   ]
  },
  {
   "cell_type": "markdown",
   "metadata": {},
   "source": [
    "Note that you may need to count up or down the control variable (\"k\" for here) yourself; otherwise, Python could be trapped in an infinite loop."
   ]
  },
  {
   "cell_type": "markdown",
   "metadata": {},
   "source": [
    "<hr style=\"border-color: #cf6868; border-width: 2px;\" />\n",
    "### \"break\" and \"continue\" in a loop"
   ]
  },
  {
   "cell_type": "markdown",
   "metadata": {},
   "source": [
    "You can make an infinite loop by \"<strong><tt>while True:</tt></strong>\" and specify the condition to terminate the loop.  \"<strong><tt>break</tt></strong>\" terminates the (most inner) loop."
   ]
  },
  {
   "cell_type": "code",
   "execution_count": null,
   "metadata": {
    "collapsed": true
   },
   "outputs": [],
   "source": [
    "a = 1\n",
    "b = 1\n",
    "k = 1\n",
    "while True:\n",
    "    print(k, b, b / a)\n",
    "    b, a = a + b, b    # multiple value assignment\n",
    "    k += 1\n",
    "    if b > 100:\n",
    "        break\n",
    "print(\"Now, k =\", k)"
   ]
  },
  {
   "cell_type": "markdown",
   "metadata": {},
   "source": [
    "\"<tt>break</tt>\" can be used also in \"<tt><strong>for</strong></tt>\" loops.  Once encountered with \"<tt>break</tt>\", the loop immediately terminates."
   ]
  },
  {
   "cell_type": "code",
   "execution_count": null,
   "metadata": {
    "collapsed": true
   },
   "outputs": [],
   "source": [
    "a = 1\n",
    "b = 1\n",
    "for k in range(1, 100):\n",
    "    print(k, b, b / a)\n",
    "    b, a = a + b, b\n",
    "    if b > 100:\n",
    "        break\n",
    "print(\"Now, k =\", k)"
   ]
  },
  {
   "cell_type": "markdown",
   "metadata": {},
   "source": [
    "When a loop encounters \"<strong><tt>continue</tt></strong>\", it immediately comes back to the loop head and continues running the block from the beginning."
   ]
  },
  {
   "cell_type": "code",
   "execution_count": null,
   "metadata": {
    "collapsed": true
   },
   "outputs": [],
   "source": [
    "for x in range(-10, 10):\n",
    "    y = x ** 3\n",
    "    if (y > 100.0) or (y < -100.0):\n",
    "        continue\n",
    "    print(x, y)"
   ]
  },
  {
   "cell_type": "markdown",
   "metadata": {},
   "source": [
    "<hr style=\"border-color: #cf6868; border-width: 2px;\" />\n",
    "### Exceptions (try... except...)"
   ]
  },
  {
   "cell_type": "markdown",
   "metadata": {},
   "source": [
    "Using <a href=\"https://docs.python.org/3/library/exceptions.html\">\"<tt>try... except...</tt>\"</a>, you can handle <strong>errors</strong>, so as not to stop your program."
   ]
  },
  {
   "cell_type": "code",
   "execution_count": null,
   "metadata": {
    "collapsed": true
   },
   "outputs": [],
   "source": [
    "try:\n",
    "    age = int(input(\"Age:\"))\n",
    "except:\n",
    "    print(\"An integer is required.\");\n",
    "else:\n",
    "    birthYear = 2017 - age\n",
    "    print(\"You were born in\", birthYear, \"or\", birthYear - 1)\n",
    "finally:\n",
    "    print(\"Thank you for using me!\")"
   ]
  },
  {
   "cell_type": "markdown",
   "metadata": {},
   "source": [
    "Above example catches errors in all types.  But you can specify the exception types: <tt>ValueError</tt>, <tt>ArithmeticError</tt> (subtypes are <tt>OverflowError</tt>, <tt>ZeroDivisionError</tt>).  For example, use \"<tt>except ValueError:</tt>\" for coping with <tt>ValueError</tt>.  You can make multiple except blocks for different error types."
   ]
  },
  {
   "cell_type": "markdown",
   "metadata": {},
   "source": [
    "<a name=\"Strings\"></a>\n",
    "<hr style=\"border-color: #cf6868; border-width: 12px;\" />\n",
    "## Strings"
   ]
  },
  {
   "cell_type": "markdown",
   "metadata": {},
   "source": [
    "<hr style=\"border-color: #cf6868; border-width: 2px;\" />\n",
    "### String basics"
   ]
  },
  {
   "cell_type": "markdown",
   "metadata": {},
   "source": [
    "Behavior of <a href=\"https://docs.python.org/3/library/stdtypes.html#text-sequence-type-str\">strings</a> is intuitively understandable.  It is similar to that in JavaScript."
   ]
  },
  {
   "cell_type": "code",
   "execution_count": null,
   "metadata": {
    "collapsed": true
   },
   "outputs": [],
   "source": [
    "s = \"Hello, world!\"\n",
    "# upper/lower case\n",
    "print(\"lower:\", s.lower())\n",
    "print(\"upper:\", s.upper())\n",
    "# the original string never changes\n",
    "print(\"original:\", s)\n",
    "# string is a list of characters, so len() also works\n",
    "print(len(s))\n",
    "# so indexing is also works\n",
    "print(s[0], s[4], s[7], s[-1])\n",
    "print(s[7:12])"
   ]
  },
  {
   "cell_type": "markdown",
   "metadata": {},
   "source": [
    "\"<tt>format()</tt>\" can be used outside of \"<tt>print()</tt>\"."
   ]
  },
  {
   "cell_type": "code",
   "execution_count": null,
   "metadata": {
    "collapsed": true
   },
   "outputs": [],
   "source": [
    "base = \"I'm sorry, {0:s}.  I'm afraid, but I can't do that.\"\n",
    "ans = base.format(\"Dave\")\n",
    "print(ans)"
   ]
  },
  {
   "cell_type": "markdown",
   "metadata": {},
   "source": [
    "<hr style=\"border-color: #cf6868; border-width: 2px;\" />\n",
    "### Split and connect"
   ]
  },
  {
   "cell_type": "markdown",
   "metadata": {},
   "source": [
    "When you want to tokenize (split) a string into a list of words, use \"<tt>split()</tt>\".  Reversely, \"<tt>join</tt>\" concatenates a list of words into a single string."
   ]
  },
  {
   "cell_type": "code",
   "execution_count": null,
   "metadata": {
    "collapsed": true
   },
   "outputs": [],
   "source": [
    "s = \"We learn Python for data science. Python is great!\"\n",
    "# here we use \" \" (a space) as the delimiter\n",
    "tokens = s.split(\" \")\n",
    "print(tokens)\n",
    "# \"delim\".join(strList) connect strings with \"delim\" in between\n",
    "s2 = \"/\".join(tokens)\n",
    "print(s2)"
   ]
  },
  {
   "cell_type": "markdown",
   "metadata": {},
   "source": [
    "If you omit the delimiter in \"<tt>split(delimiter)</tt>\", it uses default delimiters (any sequence made of \"<tt> </tt>\", \"<tt>\\t</tt>\", \"<tt>\\n</tt>\", or \"<tt>\\r</tt>\") to split a string into words."
   ]
  },
  {
   "cell_type": "code",
   "execution_count": null,
   "metadata": {
    "collapsed": true
   },
   "outputs": [],
   "source": [
    "wl = \"There  must\\tbe\\n\\n   an\\r\\nangel\".split()\n",
    "print(wl)"
   ]
  },
  {
   "cell_type": "markdown",
   "metadata": {},
   "source": [
    "If you split a string into characters, you can do it in a couple of ways."
   ]
  },
  {
   "cell_type": "code",
   "execution_count": null,
   "metadata": {
    "collapsed": true
   },
   "outputs": [],
   "source": [
    "for c in \"Wow\":\n",
    "    print(c)"
   ]
  },
  {
   "cell_type": "code",
   "execution_count": null,
   "metadata": {
    "collapsed": true
   },
   "outputs": [],
   "source": [
    "s = \"Wow\"\n",
    "cs = list(s)\n",
    "print(cs)"
   ]
  },
  {
   "cell_type": "markdown",
   "metadata": {},
   "source": [
    "<hr style=\"border-color: #cf6868; border-width: 2px;\" />\n",
    "### Internationalization (i17n)"
   ]
  },
  {
   "cell_type": "markdown",
   "metadata": {},
   "source": [
    "You can use non-roman letters, such as Japanese letters, in Python strings.  Python uses the \"<strong>utf-8</strong>\" character set, which can handle virtually all languages on this planet."
   ]
  },
  {
   "cell_type": "code",
   "execution_count": null,
   "metadata": {
    "collapsed": true
   },
   "outputs": [],
   "source": [
    "# Hope you can read Japanese\n",
    "j = \"これは日本語で書いた文字列です\"\n",
    "# indexing also works\n",
    "print(j[3:6] + j[-2:])\n",
    "for c in (j[4:6] + j[-2:]):\n",
    "    print(c)"
   ]
  },
  {
   "cell_type": "code",
   "execution_count": null,
   "metadata": {
    "collapsed": true
   },
   "outputs": [],
   "source": [
    "# ロシア語です（日本語のコメントもOK）\n",
    "ru = \"Здравствуйте\"\n",
    "print(ru)\n",
    "for c in ru[1:]:\n",
    "    print(c)"
   ]
  },
  {
   "cell_type": "markdown",
   "metadata": {},
   "source": [
    "<hr style=\"border-color: #cf6868; border-width: 2px;\" />\n",
    "### Search and replace"
   ]
  },
  {
   "cell_type": "markdown",
   "metadata": {},
   "source": [
    "Searching a substring in a string is quite easy in Python.  Use \"<tt>find()</tt>\", which returns the index of the first occurrence (if no occurrence, -1)."
   ]
  },
  {
   "cell_type": "code",
   "execution_count": null,
   "metadata": {
    "collapsed": true
   },
   "outputs": [],
   "source": [
    "#    012345678901234567890123456789012345678901234567890\n",
    "s = \"We learn Python for data science. Python is great!\"\n",
    "# find() returns the index of the first occurrence\n",
    "print(s.find(\"Python\"))\n",
    "# if not found, find() returns -1\n",
    "print(s.find(\"JavaScript\"))\n",
    "# counts up the number of occurrence\n",
    "print(s.count(\"Python\"))\n",
    "# \"in\" checks the occurrence and returns True/False\n",
    "keyword = \"Python\"\n",
    "if (keyword in s):\n",
    "    print(\"Yes, we have\", keyword)\n",
    "else:\n",
    "    print(\"Sorry, we don't have\", keyword)"
   ]
  },
  {
   "cell_type": "markdown",
   "metadata": {},
   "source": [
    "Sometimes you need to find every occurrence of a keyword in a string.  In such a case, you could use something like the following.  Note that \"<tt>find(keyword, start)</tt> searches the keyword from the index \"start\"."
   ]
  },
  {
   "cell_type": "code",
   "execution_count": null,
   "metadata": {
    "collapsed": true
   },
   "outputs": [],
   "source": [
    "#    0123456789012345678901234567890123456789\n",
    "s = \"Your Python may not work on Monday.\"\n",
    "keyword = \"on\"\n",
    "keylen = len(keyword)\n",
    "index = s.find(keyword)\n",
    "while index != -1:\n",
    "    print(index)\n",
    "    index = s.find(keyword, index + keylen)"
   ]
  },
  {
   "cell_type": "markdown",
   "metadata": {},
   "source": [
    "If you want to perform a case-insensitive search or count, you can do something like the following."
   ]
  },
  {
   "cell_type": "code",
   "execution_count": null,
   "metadata": {
    "collapsed": true
   },
   "outputs": [],
   "source": [
    "# search \"python\" in the \"lowered\" string.\n",
    "s = \"You know pi is 3.14... and pie is something to eat.\"\n",
    "keyword = \"Pi\"\n",
    "index = s.lower().find(keyword.lower());\n",
    "print(\" \" * index + \"v\")\n",
    "print(s)\n",
    "print(\"Found\", s.lower().count(keyword.lower()), \"pi(es)\")"
   ]
  },
  {
   "cell_type": "markdown",
   "metadata": {},
   "source": [
    "To replace a substring with another, use \"<tt>replace(old, new)</tt>\", which replace all occurrence of \"old\" with \"new\"."
   ]
  },
  {
   "cell_type": "code",
   "execution_count": null,
   "metadata": {
    "collapsed": true
   },
   "outputs": [],
   "source": [
    "s = \"We learn Python for data science. Python is great!\"\n",
    "s2 = s.replace(\"Python\", \"JavaScript\")\n",
    "print(s2)"
   ]
  },
  {
   "cell_type": "markdown",
   "metadata": {},
   "source": [
    "<a name=\"Modules\"></a>\n",
    "<hr style=\"border-color: #cf6868; border-width: 12px;\" />\n",
    "## Modules"
   ]
  },
  {
   "cell_type": "markdown",
   "metadata": {},
   "source": [
    "A module is a dynamically loadable package of functions and constants. There are standard modules like \"<a href=\"https://docs.python.org/3/library/math.html\"><tt>math</tt></a>\" (like exp, log, sin, etc.), \"<a href=\"https://docs.python.org/3/library/random.html\"><tt>random</tt></a>\" (like randint, randrange, etc.).  Also you could make your own modules."
   ]
  },
  {
   "cell_type": "markdown",
   "metadata": {},
   "source": [
    "<hr style=\"border-color: #cf6868; border-width: 2px;\" />\n",
    "### Math"
   ]
  },
  {
   "cell_type": "markdown",
   "metadata": {},
   "source": [
    "To incorporate a module (for example, \"<tt>math</tt>\") into your program, just say \"<tt>import math</tt>\". After that line, you can use any function or constants in \"<tt>math</tt>\" module like math.sqrt() and math.pi (3.14159...). Take a look at this example."
   ]
  },
  {
   "cell_type": "code",
   "execution_count": null,
   "metadata": {
    "collapsed": true
   },
   "outputs": [],
   "source": [
    "import math\n",
    "for i in range(1, 26):\n",
    "    print(\"sqrt(\" + str(i) + \") =\", math.sqrt(i))"
   ]
  },
  {
   "cell_type": "markdown",
   "metadata": {},
   "source": [
    "Here is a list of \"math\" functions and constants that you might often use."
   ]
  },
  {
   "cell_type": "markdown",
   "metadata": {},
   "source": [
    "<pre>\n",
    "ceil(x)      floor(x)     trunc(x)     modf(x)\n",
    "fabs(x)      log(x)       log2(x)      log10(x)\n",
    "exp(x)       pow(x, y)    sqrt(x)      hypot(x, y)\n",
    "sin(x)       asin(x)      cos(x)       acos(x)\n",
    "tan(x)       atan(x)      radians(x)   degrees(x)\n",
    "pi           e\n",
    "</pre>"
   ]
  },
  {
   "cell_type": "markdown",
   "metadata": {},
   "source": [
    "<hr style=\"border-color: #cf6868; border-width: 2px;\" />\n",
    "### Random"
   ]
  },
  {
   "cell_type": "markdown",
   "metadata": {},
   "source": [
    "Sometimes the module name, such as <a href=\"https://docs.python.org/3/library/random.html\">\"<tt>random</tt>\"</a>, is a bit too long to add to its function and constant names. In such a case, you can <strong>rename</strong> it as in the following example, where \"<tt>ran.randrange(0, 4)</tt>\" returns 0, 1, 2, or 3, randomly."
   ]
  },
  {
   "cell_type": "code",
   "execution_count": null,
   "metadata": {
    "collapsed": true
   },
   "outputs": [],
   "source": [
    "import random as ran\n",
    "bases = list(\"AGCT\")\n",
    "for i in range(0, 100):\n",
    "    k = ran.randrange(0, len(bases))\n",
    "    print(bases[k], end=\"\")\n",
    "print()"
   ]
  },
  {
   "cell_type": "markdown",
   "metadata": {},
   "source": [
    "When you want to have random numbers in floats, use \"<tt>random()</tt>\" or \"<tt>uniform(min, max)</tt>\" instead."
   ]
  },
  {
   "cell_type": "code",
   "execution_count": null,
   "metadata": {
    "collapsed": true
   },
   "outputs": [],
   "source": [
    "import random as ran\n",
    "for i in range(0, 10):\n",
    "    # uniform in [0, 1)\n",
    "    r1 = ran.random()\n",
    "    # uniform in [min, max]\n",
    "    r2 = ran.uniform(-1.0, 1.0)\n",
    "    print(\"r1 = {0:.5f},  r2 = {1:8.5f}\".format(r1, r2))"
   ]
  },
  {
   "cell_type": "markdown",
   "metadata": {},
   "source": [
    "Here are other convenient features of \"<tt>random</tt>\", namely \"<tt>choice()</tt>\" and \"<tt>shuffle()</tt>\"."
   ]
  },
  {
   "cell_type": "code",
   "execution_count": null,
   "metadata": {
    "collapsed": true
   },
   "outputs": [],
   "source": [
    "import random as ran\n",
    "a = [\"L\", \"R\", \"F\", \"B\"]\n",
    "# feed a \"seed\" (from the current time)\n",
    "ran.seed()\n",
    "# random choice\n",
    "print(\"random choice: \", end=\"\")\n",
    "for i in range(0, 20):\n",
    "    action = ran.choice(a)\n",
    "    print(action, end=\" \")\n",
    "print()\n",
    "# shuffle it\n",
    "print(\"original:\", a)\n",
    "for i in range(0, 4):\n",
    "    ran.shuffle(a)\n",
    "    print(\"shuffled:\", a)"
   ]
  },
  {
   "cell_type": "markdown",
   "metadata": {},
   "source": [
    "<hr style=\"border-color: #cf6868; border-width: 2px;\" />\n",
    "### Other modules"
   ]
  },
  {
   "cell_type": "markdown",
   "metadata": {},
   "source": [
    "There are tons of modules available. Some modules you will be using in the study of \"data science\" may include:\n",
    "\n",
    "* numpy : Numerical computation tools including n-dimensional arrays.\n",
    "* matplotlib : Plotting tools for data visualization.\n",
    "* scipy : Works with numpy for computing integrals, differential equiations, etc.\n",
    "* pandas : Data maniputation tools for statistical data analysis."
   ]
  },
  {
   "cell_type": "markdown",
   "metadata": {},
   "source": [
    "<a name=\"Comprehensions\"></a>\n",
    "<hr style=\"border-color: #cf6868; border-width: 12px;\" />\n",
    "## List comprehensions"
   ]
  },
  {
   "cell_type": "markdown",
   "metadata": {},
   "source": [
    "\"List comprehensions\" are methods for generating lists from methematically natural notations like the followings.\n",
    "\n",
    "* $A = \\left\\{ 2^n : n \\in \\mathbb{N}, \\ n < 10 \\right\\}$\n",
    "* $B = \\left\\{ x \\mid x \\in A, \\ x < 100 \\right\\}$"
   ]
  },
  {
   "cell_type": "code",
   "execution_count": null,
   "metadata": {
    "collapsed": true
   },
   "outputs": [],
   "source": [
    "# this works as a simple mapping\n",
    "A = [2 ** n for n in range(0, 10)]\n",
    "print(A)\n",
    "# and this works as a filter\n",
    "B = [x for x in A if x < 100]\n",
    "print(B)"
   ]
  },
  {
   "cell_type": "markdown",
   "metadata": {},
   "source": [
    "You could also filter something out of an existing list."
   ]
  },
  {
   "cell_type": "code",
   "execution_count": null,
   "metadata": {
    "collapsed": true
   },
   "outputs": [],
   "source": [
    "dic = [(\"Rod\", \"M\"), (\"Cindy\", \"F\"), (\"Brian\", \"M\"), \n",
    "       (\"Jessy\", \"F\"), (\"Matt\", \"M\"), (\"Paul\", \"M\"), \n",
    "       (\"Charlie\", \"M\"), (\"Marilyn\", \"F\") ]\n",
    "women = [p[0] for p in dic if p[1] == \"F\"]\n",
    "print(women)"
   ]
  },
  {
   "cell_type": "code",
   "execution_count": null,
   "metadata": {
    "collapsed": true
   },
   "outputs": [],
   "source": [
    "tests = [\"English\", \"Math\", \"Science\", \"History\", \"Essay\"]\n",
    "scores = [90, 85, 88, 57, 64]\n",
    "# you can make a new dictionary using comprehension\n",
    "dic = {t : s for (t, s) in zip(tests, scores) }\n",
    "print(dic)"
   ]
  },
  {
   "cell_type": "markdown",
   "metadata": {},
   "source": [
    "List comprehensions are quite powerful.  You could nest another \"<tt>for</tt>\" inside the \"<tt>for</tt>\" of a comprehension."
   ]
  },
  {
   "cell_type": "code",
   "execution_count": null,
   "metadata": {
    "collapsed": true
   },
   "outputs": [],
   "source": [
    "# embedded comprehensions\n",
    "a1 = [[i, j] for i in range(1, 4) for j in range(7, 10)]\n",
    "print(\"a1  =\", a1)\n",
    "# you can rewrite above as follows\n",
    "a2 = []\n",
    "for i in range(1, 4):\n",
    "    for j in range(7, 10):\n",
    "        a2.append([i, j])\n",
    "print(\"a2 =\", a2)"
   ]
  },
  {
   "cell_type": "markdown",
   "metadata": {},
   "source": [
    "Also you could use another comprehension inside a comprehesion. The example below is to generate a list of prime numbers upto 50.  Note that this is a bit \"tricky\" example."
   ]
  },
  {
   "cell_type": "code",
   "execution_count": null,
   "metadata": {
    "collapsed": true
   },
   "outputs": [],
   "source": [
    "pr = [p for p in range(2, 50) if not p in [np for i in range(2, 8) for np in range(i * 2, 50, i)]]\n",
    "print(pr)"
   ]
  },
  {
   "cell_type": "markdown",
   "metadata": {},
   "source": [
    "<a name=\"Functions\"></a>\n",
    "<hr style=\"border-color: #cf6868; border-width: 12px;\" />\n",
    "## Functions"
   ]
  },
  {
   "cell_type": "markdown",
   "metadata": {},
   "source": [
    "<hr style=\"border-color: #cf6868; border-width: 2px;\" />\n",
    "### Defining functions"
   ]
  },
  {
   "cell_type": "markdown",
   "metadata": {},
   "source": [
    "A <strong>function</strong> in Python is, just like functions in other programming languages, a chunk of reusable code to perform a certain \"function\". We have already used built-in functions like \"<tt>print()</tt>\" and others. Here we learn to make your original function. Look at the two examples below. Both compute the factorial of n (n! = 1 × 2 × ... × n)."
   ]
  },
  {
   "cell_type": "code",
   "execution_count": null,
   "metadata": {
    "collapsed": true
   },
   "outputs": [],
   "source": [
    "def fact(n):\n",
    "    res = 1\n",
    "    for i in range(1, n + 1):\n",
    "        res *= i\n",
    "    return res\n",
    "for i in range(1, 10):\n",
    "    print(\"fact({0:d}) = {1:d}\".format(i, fact(i)))"
   ]
  },
  {
   "cell_type": "markdown",
   "metadata": {},
   "source": [
    "A functions terminates and returns some value when it encounters \"<strong><tt>return</tt></strong>\" statement.  If the function does not have \"<tt>return</tt>\", no value is returned. (Strictly speaking, such a function returns \"<tt>None</tt>\", which will be printed as \"<tt>None</tt>\".)"
   ]
  },
  {
   "cell_type": "markdown",
   "metadata": {},
   "source": [
    "The second example above uses <strong>recursion</strong>. The recursion stops at n = 1 (for 1! = 1); otherwise, it computes (n - 1)! by calling recursively itself, then computes n × (n - 1)! to get the result of n!."
   ]
  },
  {
   "cell_type": "code",
   "execution_count": null,
   "metadata": {
    "collapsed": true
   },
   "outputs": [],
   "source": [
    "def fact(n):\n",
    "    if n <= 1:\n",
    "        return 1\n",
    "    else:\n",
    "        return n * fact(n - 1)\n",
    "for i in range(1, 10):\n",
    "    print(\"fact({0:d}) = {1:d}\".format(i, fact(i)))"
   ]
  },
  {
   "cell_type": "markdown",
   "metadata": {},
   "source": [
    "You can make a function that returns a string, a list, or others."
   ]
  },
  {
   "cell_type": "code",
   "execution_count": null,
   "metadata": {
    "collapsed": true
   },
   "outputs": [],
   "source": [
    "def week(n):\n",
    "    if n == 1:\n",
    "        return \"Monday\"\n",
    "    elif n == 2:\n",
    "        return \"Tuesday\"\n",
    "    elif n == 3:\n",
    "        return \"Wednesday\"\n",
    "    elif n == 4:\n",
    "        return \"Thursday\"\n",
    "    elif n == 5:\n",
    "        return \"Friday\"\n",
    "    elif n == 6:\n",
    "        return \"Saturday\"\n",
    "    elif n == 7:\n",
    "        return \"Sunday\"\n",
    "for i in range(1, 8):\n",
    "    print(i, week(i))\n",
    "def weekDay():\n",
    "    return [week(1), week(2), week(3), week(4), week(5)]\n",
    "def weekEnd():\n",
    "    return [week(6), week(7)]\n",
    "print(weekDay())\n",
    "print(weekEnd())"
   ]
  },
  {
   "cell_type": "markdown",
   "metadata": {},
   "source": [
    "Note that Python does not have \"<tt>switch-case</tt>\" control structure.  Use \"<tt>if-elif-elif-...-else</tt>\" instead."
   ]
  },
  {
   "cell_type": "markdown",
   "metadata": {},
   "source": [
    "<hr style=\"border-color: #cf6868; border-width: 2px;\" />\n",
    "### Scope rules"
   ]
  },
  {
   "cell_type": "markdown",
   "metadata": {},
   "source": [
    "Arguments of a function (for example, \"<tt>n</tt>\" inside \"<tt>def f(n):</tt>\" of the example below) works as a <strong>local</strong> variable, so any assignment to it does not affect outside of the function."
   ]
  },
  {
   "cell_type": "code",
   "execution_count": null,
   "metadata": {
    "collapsed": true
   },
   "outputs": [],
   "source": [
    "def foo(n):\n",
    "    # arguments are \"local\" variables\n",
    "    n = n + 1\n",
    "    print(\"local:  n =\", n)\n",
    "# this is \"global\"\n",
    "n = 1\n",
    "foo(n)\n",
    "# \"global\" variables do not change\n",
    "print(\"global: n =\", n)"
   ]
  },
  {
   "cell_type": "markdown",
   "metadata": {},
   "source": [
    "You can <strong>read</strong> global variables from the inside of a function."
   ]
  },
  {
   "cell_type": "code",
   "execution_count": null,
   "metadata": {
    "collapsed": true
   },
   "outputs": [],
   "source": [
    "def foo(n):\n",
    "    # arguments are \"local\" variables\n",
    "    print(\"through: m =\", m)\n",
    "    n = m + 1\n",
    "    print(\"local:   n =\", n)\n",
    "# this is \"global\"\n",
    "m = 2\n",
    "n = 1\n",
    "foo(n)\n",
    "# \"global\" variables do not change\n",
    "print(\"global:  m =\", m)\n",
    "print(\"global:  n =\", n)"
   ]
  },
  {
   "cell_type": "markdown",
   "metadata": {},
   "source": [
    "However, <strong>any variables that are assigned some values inside the function</strong> are considered to be <strong>local</strong>.  Assignments to such local variables do not affect outside of the function."
   ]
  },
  {
   "cell_type": "code",
   "execution_count": null,
   "metadata": {
    "collapsed": true
   },
   "outputs": [],
   "source": [
    "def foo(n):\n",
    "    # assignment to the \"local\" variable\n",
    "    m = n * 2\n",
    "    print(\"local:  m =\", m)\n",
    "# this is \"global\"\n",
    "m = 1\n",
    "foo(1)\n",
    "# \"global\" variables do not change\n",
    "print(\"global: m =\", m)"
   ]
  },
  {
   "cell_type": "markdown",
   "metadata": {},
   "source": [
    "If you really need to assign some values to \"global\" variables, you need to explicitly \"declare\" that the variables are \"<strong><tt>global</tt><strong>\"."
   ]
  },
  {
   "cell_type": "code",
   "execution_count": null,
   "metadata": {
    "collapsed": true
   },
   "outputs": [],
   "source": [
    "def foo(n):\n",
    "    # now m is imported from \"global\"\n",
    "    global m\n",
    "    m = n * 2\n",
    "    print(\"inside: m =\", m)\n",
    "    \n",
    "# this is \"global\"\n",
    "m = 1\n",
    "foo(1)\n",
    "# m is changed inside f()\n",
    "print(\"global: m =\", m)"
   ]
  },
  {
   "cell_type": "markdown",
   "metadata": {},
   "source": [
    "<hr style=\"border-color: #cf6868; border-width: 2px;\" />\n",
    "### Keywords and defaults"
   ]
  },
  {
   "cell_type": "markdown",
   "metadata": {},
   "source": [
    "When you call a function with some arguments, you can give an argument in  \"<strong><tt>keyword=value</tt></strong>\" style, by which you can arrange the arguments in a arbitrary order."
   ]
  },
  {
   "cell_type": "code",
   "execution_count": null,
   "metadata": {
    "collapsed": true
   },
   "outputs": [],
   "source": [
    "def cylinderVolume(radius, height):\n",
    "    return 3.14159 * radius * radius * height\n",
    "# all produce the same result\n",
    "print(cylinderVolume(5, 10))\n",
    "print(cylinderVolume(radius=5, height=10))\n",
    "print(cylinderVolume(height=10, radius=5))"
   ]
  },
  {
   "cell_type": "markdown",
   "metadata": {},
   "source": [
    "When you define a function, you can give a <strong>default value</strong> to an argument.  When the function is called with a missing argument, the default value will be used in the function."
   ]
  },
  {
   "cell_type": "code",
   "execution_count": null,
   "metadata": {
    "collapsed": true
   },
   "outputs": [],
   "source": [
    "def cylinderVolume(radius, height=10, myPi=3.14159):\n",
    "    return myPi * radius * radius * height\n",
    "print(cylinderVolume(5, 10, 3.0))\n",
    "print(cylinderVolume(5, myPi=3.0))\n",
    "print(cylinderVolume(5, 10))\n",
    "print(cylinderVolume(5))"
   ]
  },
  {
   "cell_type": "markdown",
   "metadata": {},
   "source": [
    "<hr style=\"border-color: #cf6868; border-width: 2px;\" />\n",
    "### Arguments of mutable data"
   ]
  },
  {
   "cell_type": "markdown",
   "metadata": {},
   "source": [
    "When you give a mutable data (lists, dictoinaries, sets, etc.) as an argument of a function, any change to the argument in the function body will be carried to the outer environment.  See the example below."
   ]
  },
  {
   "cell_type": "code",
   "execution_count": null,
   "metadata": {
    "collapsed": true
   },
   "outputs": [],
   "source": [
    "def addPoo(lst):\n",
    "    lst.append(\"Poo\")\n",
    "a = [\"Head\", \"Body\"]\n",
    "print(\"before:\", a)\n",
    "addPoo(a)\n",
    "print(\"after: \", a)"
   ]
  },
  {
   "cell_type": "markdown",
   "metadata": {},
   "source": [
    "For mutable data as an argument to a function, the actual object ouside the function and the actual object inside the function are identical."
   ]
  },
  {
   "cell_type": "code",
   "execution_count": null,
   "metadata": {
    "collapsed": true
   },
   "outputs": [],
   "source": [
    "def addPoo(lst):\n",
    "    lst.append(\"Poo\")\n",
    "    print(\"inside:\", id(lst), lst)\n",
    "a = [\"Head\", \"Body\"]\n",
    "print(\"before:\", id(a), a)\n",
    "addPoo(a)\n",
    "print(\"after: \", id(a), a)"
   ]
  },
  {
   "cell_type": "markdown",
   "metadata": {},
   "source": [
    "Above example proves that the outside data (\"<tt>a</tt>\" for here) and the inside data (\"<tt>lst</tt>\" for here) share <tt>id</tt>, which can be considered as the \"memory address\" of the beginning of the data."
   ]
  },
  {
   "cell_type": "markdown",
   "metadata": {},
   "source": [
    "<hr style=\"border-color: #cf6868; border-width: 2px;\" />\n",
    "### Variable-length arguments"
   ]
  },
  {
   "cell_type": "markdown",
   "metadata": {},
   "source": [
    "You could make a function that takes an arbitrary number of arguments."
   ]
  },
  {
   "cell_type": "code",
   "execution_count": null,
   "metadata": {
    "collapsed": true
   },
   "outputs": [],
   "source": [
    "def vari(first, *rest):\n",
    "    print(1, first, end=\", \")\n",
    "    for i, arg in enumerate(rest):\n",
    "        print(i + 2, arg, end=\", \")\n",
    "    print()\n",
    "vari(\"One\")\n",
    "vari(\"One\", \"Two\")\n",
    "vari(\"One\", \"Two\", \"Three\", \"Four\")"
   ]
  },
  {
   "cell_type": "markdown",
   "metadata": {},
   "source": [
    "<hr style=\"border-color: #cf6868; border-width: 2px;\" />\n",
    "### Lambda expressions"
   ]
  },
  {
   "cell_type": "markdown",
   "metadata": {},
   "source": [
    "<strong>Lambda expressions</strong> can be considered as functions without names.  As exemplified below, \"<tt>lambda z:...</tt>\" is a function that executes some codes (\"<tt>...</tt>\") on the argument \"<tt>z</tt>\".  Note that \"<tt>A if C else B</tt>\" returns A if C is True, otherwise returns B."
   ]
  },
  {
   "cell_type": "code",
   "execution_count": null,
   "metadata": {
    "collapsed": true
   },
   "outputs": [],
   "source": [
    "# lambda expression itself does not do anything\n",
    "lambda z: 1 if z >= 0 else 0\n",
    "# (lambda...)() works as a function\n",
    "z = 1\n",
    "y = (lambda z: 1 if z >= 0 else 0)(z)\n",
    "print(\"{0:5.2f} {1:5.2f}\".format(z, y))\n",
    "z = -1\n",
    "y = (lambda z: 1 if z >= 0 else 0)(z)\n",
    "print(\"{0:5.2f} {1:5.2f}\".format(z, y))"
   ]
  },
  {
   "cell_type": "code",
   "execution_count": null,
   "metadata": {
    "collapsed": true
   },
   "outputs": [],
   "source": [
    "phi = lambda z: 1 if z >= 0 else 0\n",
    "for z in [-1.0, -0.5, 0.0, 0.5, 1.0]:\n",
    "    y = phi(z)\n",
    "    print(\"{0:5.2f} {1:5.2f}\".format(z, y))"
   ]
  },
  {
   "cell_type": "markdown",
   "metadata": {},
   "source": [
    "Lambda expressions can be an argument of a function.  In the following example, the function \"<tt>mother()</tt>\" take different formula (such as $x^2$, $x^3$, and $x^4$) to compute."
   ]
  },
  {
   "cell_type": "code",
   "execution_count": null,
   "metadata": {
    "collapsed": true
   },
   "outputs": [],
   "source": [
    "# mother of all functions?\n",
    "def mother(f):\n",
    "    for x in [-2.0, -1.0, 0.0, 1.0, 2.0]:\n",
    "        y = f(x)\n",
    "        print(\"{0:5.2f} {1:5.2f}\".format(x, y))\n",
    "# give \"lambda\" to mother\n",
    "print(\"lambda x: x ** 2\")\n",
    "mother(lambda x: x ** 2)\n",
    "# give fun to the mother\n",
    "fun = lambda x: x ** 3\n",
    "print(\"lambda x: x ** 3\")\n",
    "mother(f3)\n",
    "# give function to the mother\n",
    "print(\"def f4(x):...\")\n",
    "def f4(x):\n",
    "    return x ** 4\n",
    "mother(f4)"
   ]
  },
  {
   "cell_type": "markdown",
   "metadata": {},
   "source": [
    "<hr style=\"border-color: #cf6868; border-width: 2px;\" />\n",
    "### Mapping, filtering, and sorting"
   ]
  },
  {
   "cell_type": "markdown",
   "metadata": {},
   "source": [
    "Lambda expressions can also be used for mapping, filtering, and sorting the elements of a list."
   ]
  },
  {
   "cell_type": "code",
   "execution_count": null,
   "metadata": {
    "collapsed": true
   },
   "outputs": [],
   "source": [
    "miles = [314, 159, 265, 358, 97]\n",
    "# using loop\n",
    "kms = []\n",
    "for mi in miles:\n",
    "    kms.append(mi * 1.609)\n",
    "print(\"loop:  \", kms)\n",
    "# using comprehension\n",
    "kms = [mi * 1.609 for mi in miles]\n",
    "print(\"compre:\", kms)\n",
    "# using lambda and \"map()\"\n",
    "kms = map(lambda mi: mi * 1.609, miles)\n",
    "print(\"lambda:\", list(kms))\n",
    "# using indirect lambda and \"map()\"\n",
    "f = lambda mi: mi * 1.609\n",
    "kms = map(f, miles)\n",
    "print(\"f=lamb:\", list(kms))"
   ]
  },
  {
   "cell_type": "code",
   "execution_count": null,
   "metadata": {
    "collapsed": true
   },
   "outputs": [],
   "source": [
    "numbers = [314, 159, 265, 358, 97, 323, 84]\n",
    "mod2 = lambda num: num % 2 == 0\n",
    "# \"filter()\" selects items that give True\n",
    "evens = filter(mod2, numbers)\n",
    "print(list(evens))"
   ]
  },
  {
   "cell_type": "code",
   "execution_count": null,
   "metadata": {
    "collapsed": true
   },
   "outputs": [],
   "source": [
    "# sort a list by a key\n",
    "score = [(\"Math\", 72), (\"Essay\", 64), (\"Science\", 87), (\"English\", 85)]\n",
    "score2 = sorted(score, key=lambda p:p[1], reverse=True)\n",
    "print(score2)\n",
    "# for dictionary, you need to convert it into a list of tuples\n",
    "dic = {\"Math\": 72, \"Essay\": 64, \"Science\": 87, \"English\": 85}\n",
    "dic2lt = dic.items()    # dic -> [(\"Math\", 72), ...]\n",
    "dic2 = sorted(dic2lt, key=lambda p:p[0])    # alphabetical order\n",
    "print(dic2)"
   ]
  },
  {
   "cell_type": "markdown",
   "metadata": {},
   "source": [
    "<hr style=\"border-color: #cf6868; border-width: 2px;\" />\n",
    "### Generators"
   ]
  },
  {
   "cell_type": "markdown",
   "metadata": {},
   "source": [
    "A function that has \"<strong><tt>yield</tt></strong>\" (and no \"<tt>return</tt>\") returns a <strong>generator</strong>, which trickles each elements in a sequence.  Each time it is called with \"<tt>\\_\\_next\\_\\_()</tt>\" method, the generator returns the \"next\" element in the sequence."
   ]
  },
  {
   "cell_type": "code",
   "execution_count": null,
   "metadata": {
    "collapsed": true
   },
   "outputs": [],
   "source": [
    "def trickle(string):\n",
    "    for char in string:\n",
    "        yield \"letter-{0:s}\".format(char)\n",
    "gen = trickle(\"Peace\")\n",
    "print(gen.__next__())\n",
    "print(gen.__next__())\n",
    "print(gen.__next__())\n",
    "print(gen.__next__())\n",
    "print(gen.__next__())\n",
    "# \"__next__()\" again, exception(StopIteration) occurs"
   ]
  },
  {
   "cell_type": "code",
   "execution_count": null,
   "metadata": {
    "collapsed": true
   },
   "outputs": [],
   "source": [
    "def trickle(string):\n",
    "    for char in string:\n",
    "        yield \"letter-'{0:s}'\".format(char)\n",
    "for c in trickle(\"Happiness\"):\n",
    "    print(c)"
   ]
  },
  {
   "cell_type": "markdown",
   "metadata": {},
   "source": [
    "<a name=\"Files\"></a>\n",
    "<hr style=\"border-color: #cf6868; border-width: 12px;\" />\n",
    "## Reading/writing files"
   ]
  },
  {
   "cell_type": "markdown",
   "metadata": {},
   "source": [
    "You can read/write text files and binary files.  Assume you have the following text file, which is actually located in \"data/textfile.txt\" relative to this Jupyter Notebook file.\n",
    "<pre>\n",
    "Yesterday, all my troubles seemed so far away\n",
    "Now it looks as though they're here to stay\n",
    "Oh, I believe in yesterday\n",
    "</pre>"
   ]
  },
  {
   "cell_type": "markdown",
   "metadata": {},
   "source": [
    "<hr style=\"border-color: #cf6868; border-width: 2px;\" />\n",
    "### Reading files"
   ]
  },
  {
   "cell_type": "markdown",
   "metadata": {},
   "source": [
    "You can read a text file as a single whole string, or a list of lines.  Also you can repeat reading the file line by line, or character by character."
   ]
  },
  {
   "cell_type": "code",
   "execution_count": null,
   "metadata": {
    "collapsed": true
   },
   "outputs": [],
   "source": [
    "file = open(\"data/textfile.txt\", \"r\")\n",
    "s = file.read()\n",
    "print(\"<begin>\" + s + \"<end>\")\n",
    "file.close()"
   ]
  },
  {
   "cell_type": "code",
   "execution_count": null,
   "metadata": {
    "collapsed": true
   },
   "outputs": [],
   "source": [
    "file = open(\"data/textfile.txt\", \"r\")\n",
    "# read entire text as a list of lines\n",
    "lineList = file.readlines()\n",
    "# show each of the lines\n",
    "for line in lineList:\n",
    "    print(\"<begin>\" + line + \"<end>\")\n",
    "file.close()"
   ]
  },
  {
   "cell_type": "code",
   "execution_count": null,
   "metadata": {
    "collapsed": true
   },
   "outputs": [],
   "source": [
    "file = open(\"data/textfile.txt\", \"r\")\n",
    "# read the first line\n",
    "line = file.readline()\n",
    "# if EOF, readline() returns \"\"\n",
    "while line != \"\":\n",
    "    print(\"<begin>\" + line + \"<end>\")\n",
    "    # read the next line\n",
    "    line = file.readline()\n",
    "file.close()"
   ]
  },
  {
   "cell_type": "code",
   "execution_count": null,
   "metadata": {
    "collapsed": true
   },
   "outputs": [],
   "source": [
    "file = open(\"data/textfile.txt\", \"r\")\n",
    "# read the first 10 characters\n",
    "for i in range(0, 10):\n",
    "    # read just one character\n",
    "    ch = file.read(1)\n",
    "    print(\"'{0:s}', \".format(ch), end=\"\")\n",
    "file.close()\n",
    "print()"
   ]
  },
  {
   "cell_type": "markdown",
   "metadata": {},
   "source": [
    "<hr style=\"border-color: #cf6868; border-width: 2px;\" />\n",
    "### Writing files"
   ]
  },
  {
   "cell_type": "markdown",
   "metadata": {},
   "source": [
    "Writing strings to a text file is fairly easy, too.  Speficy \"<tt>w</tt>\" for writing (actually, overwriting, if the file already exists), or \"<tt>a</tt>\" for appending new text at the end of existing contents."
   ]
  },
  {
   "cell_type": "code",
   "execution_count": null,
   "metadata": {
    "collapsed": true
   },
   "outputs": [],
   "source": [
    "# string that contains \"\\n\" (newline)\n",
    "s_out = \"Why she had to go?\\nI don't know, she wouldn't say\\n\"\n",
    "file = open(\"data/newTextfile.txt\", \"w\")\n",
    "file.write(s_out)\n",
    "file.close()\n",
    "# try reading back\n",
    "file = open(\"data/newTextfile.txt\", \"r\")\n",
    "s_in = file.read()\n",
    "file.close()\n",
    "print(\"<begin>\" + s_in + \"<end>\")"
   ]
  },
  {
   "cell_type": "code",
   "execution_count": null,
   "metadata": {
    "collapsed": true
   },
   "outputs": [],
   "source": [
    "# string of two lines\n",
    "lineList = [\"I said something wrong\\n\", \"Now I long for yesterday.\\n\"]\n",
    "# append to the existing file\n",
    "file = open(\"data/newTextfile.txt\", \"a\")\n",
    "for line in lineList:\n",
    "    file.write(line)\n",
    "file.close()\n",
    "# try reading back\n",
    "file = open(\"data/newTextfile.txt\", \"r\")\n",
    "s_in = file.read()\n",
    "file.close()\n",
    "print(\"<begin>\" + s_in + \"<end>\")"
   ]
  },
  {
   "cell_type": "markdown",
   "metadata": {},
   "source": [
    "<hr style=\"border-color: #cf6868; border-width: 2px;\" />\n",
    "### CSV files"
   ]
  },
  {
   "cell_type": "markdown",
   "metadata": {},
   "source": [
    "You would need to handle CSV files.  CSV (comma separated values) is the major format of open data (like those of <a href=\"https://resas.go.jp/\">\"RESAS\"</a>) and outputs of spreadsheets (like Excel)."
   ]
  },
  {
   "cell_type": "code",
   "execution_count": null,
   "metadata": {
    "collapsed": true
   },
   "outputs": [],
   "source": [
    "file = open(\"data/csvfile.csv\", \"r\")\n",
    "lineList = file.readlines()\n",
    "file.close()\n",
    "# just show the first 7 prefs\n",
    "for i in range(0, 7):\n",
    "    # remove \"\\n\" at the end of each line\n",
    "    if lineList[i][-1] == \"\\n\":\n",
    "        lineList[i] = lineList[i][0:-1]\n",
    "    print(lineList[i])"
   ]
  },
  {
   "cell_type": "code",
   "execution_count": null,
   "metadata": {
    "collapsed": true
   },
   "outputs": [],
   "source": [
    "file = open(\"data/csvfile.csv\", \"r\")\n",
    "lineList = file.readlines()\n",
    "file.close()\n",
    "# just show the first 7 prefs\n",
    "for i in range(0, 7):\n",
    "    # remove \"\\n\" at the end of each line\n",
    "    if lineList[i][-1] == \"\\n\":\n",
    "        lineList[i] = lineList[i][0:-1]\n",
    "    wordList = lineList[i].split(\",\")\n",
    "    print(wordList)"
   ]
  },
  {
   "cell_type": "code",
   "execution_count": null,
   "metadata": {
    "collapsed": true
   },
   "outputs": [],
   "source": [
    "file = open(\"data/csvfile.csv\", \"r\")\n",
    "lineList = file.readlines()\n",
    "file.close()\n",
    "# let us make a dictionary\n",
    "population = {}\n",
    "# just show the first 7 prefs\n",
    "for i in range(0, 7):\n",
    "    # remove \"\\n\" at the end of each line\n",
    "    if lineList[i][-1] == \"\\n\":\n",
    "        lineList[i] = lineList[i][0:-1]\n",
    "    wordList = lineList[i].split(\",\")\n",
    "    population[wordList[0]] = wordList[1]\n",
    "print(population)"
   ]
  },
  {
   "cell_type": "markdown",
   "metadata": {},
   "source": [
    "Note that above examples assume the file \"<tt>data/csvfile.csv</tt>\" is encoded in \"<tt>utf_8</tt>\" (default).  As far as you are dealing with numbers and English texts, there would be no problem.  However, if you are dealing with Japanese language in the CSV files, you may need to cope with \"encoding\" methods.  Microsoft Excel usually makes csv files in \"<tt>cp932</tt>\" (Microsoft version of Shift-JIS) for Japanese texts.  In such a case, try specifying \"<tt>encoding='cp932'</tt>\" when opening the file."
   ]
  },
  {
   "cell_type": "code",
   "execution_count": null,
   "metadata": {
    "collapsed": true,
    "scrolled": true
   },
   "outputs": [],
   "source": [
    "file = open(\"data/csvfile2.csv\", \"r\", encoding=\"cp932\")\n",
    "lineList = file.readlines()\n",
    "file.close()\n",
    "# just show the first 7 prefs\n",
    "for i in range(0, 7):\n",
    "    # remove \"\\n\" at the end of each line\n",
    "    if lineList[i][-1] == \"\\n\":\n",
    "        lineList[i] = lineList[i][0:-1]\n",
    "    wordList = lineList[i].split(\",\")\n",
    "    print(wordList)"
   ]
  },
  {
   "cell_type": "markdown",
   "metadata": {},
   "source": [
    "<h3 style=\"background-color: #cf6868; color: white; padding: 24px; text-align: center;\">(cc) Koziken, MMXVII</h3>"
   ]
  }
 ],
 "metadata": {
  "kernelspec": {
   "display_name": "Python 3",
   "language": "python",
   "name": "python3"
  },
  "language_info": {
   "codemirror_mode": {
    "name": "ipython",
    "version": 3
   },
   "file_extension": ".py",
   "mimetype": "text/x-python",
   "name": "python",
   "nbconvert_exporter": "python",
   "pygments_lexer": "ipython3",
   "version": "3.6.3"
  }
 },
 "nbformat": 4,
 "nbformat_minor": 2
}
