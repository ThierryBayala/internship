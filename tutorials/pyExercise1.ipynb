{
 "cells": [
  {
   "cell_type": "markdown",
   "metadata": {},
   "source": [
    "<h1 style=\"background-color: #cf6868; color: white; padding: 24px; line-height: 32px;\">Exercise 1: <br>\n",
    "Population in Prefectures</h1>\n",
    "<p>Hideki Kozima (xkozima@tohoku.ac.jp)</p>"
   ]
  },
  {
   "cell_type": "markdown",
   "metadata": {},
   "source": [
    "<hr style=\"border-color: #cf6868; border-width: 12px;\" />\n",
    "## Preparation"
   ]
  },
  {
   "cell_type": "code",
   "execution_count": null,
   "metadata": {
    "collapsed": true
   },
   "outputs": [],
   "source": [
    "# read the file as a list of lines\n",
    "file = open(\"data/popuPref.csv\", \"r\")\n",
    "lineList = file.readlines()\n",
    "file.close()"
   ]
  },
  {
   "cell_type": "markdown",
   "metadata": {},
   "source": [
    "The file looks like...\n",
    "<pre>\n",
    "北海道,5381733\n",
    "青森県,1308265\n",
    "岩手県,1279594\n",
    "宮城県,2333899\n",
    "秋田県,1023119\n",
    "山形県,1123891\n",
    "福島県,1914039\n",
    "...\n",
    "</pre>\n",
    "And we read the file as <strong>a list of lines (strings)</strong>."
   ]
  },
  {
   "cell_type": "code",
   "execution_count": null,
   "metadata": {},
   "outputs": [],
   "source": [
    "# just remove trailing \"\\n\" (newline)\n",
    "popuStringList = []\n",
    "for line in lineList:\n",
    "    if line[-1] == \"\\n\":\n",
    "        popuString = line[0:-1]\n",
    "    popuStringList.append(popuString)\n",
    "print(popuStringList)   "
   ]
  },
  {
   "cell_type": "code",
   "execution_count": null,
   "metadata": {},
   "outputs": [],
   "source": [
    "# split into two parts\n",
    "popuPairList = []\n",
    "for popuString in popuStringList:\n",
    "    popuPair = popuString.split(\",\")\n",
    "    popuPairList.append(popuPair)\n",
    "print(popuPairList)"
   ]
  },
  {
   "cell_type": "code",
   "execution_count": null,
   "metadata": {},
   "outputs": [],
   "source": [
    "# now, we've got INTEGERs\n",
    "popuDataList = []\n",
    "for popuPair in popuPairList:\n",
    "    popuData = [popuPair[0], int(popuPair[1])]\n",
    "    popuDataList.append(popuData)\n",
    "print(popuDataList)"
   ]
  },
  {
   "cell_type": "code",
   "execution_count": null,
   "metadata": {},
   "outputs": [],
   "source": [
    "# demographic facts\n",
    "numPrefs = len(popuDataList)\n",
    "print(\"The number of Prefectures:\", numPrefs)\n",
    "sumPopus = sum([popuData[1] for popuData in popuDataList])\n",
    "print(\"The sum of Prefectural populations:\", sumPopus)\n",
    "print(\"Average population per Prefecture:\", sumPopus / numPrefs)"
   ]
  },
  {
   "cell_type": "markdown",
   "metadata": {},
   "source": [
    "<hr style=\"border-color: #cf6868; border-width: 12px;\" />\n",
    "## Make it Romanized"
   ]
  },
  {
   "cell_type": "code",
   "execution_count": null,
   "metadata": {},
   "outputs": [],
   "source": [
    "# this is truly a dictionary\n",
    "prefDict = {\n",
    " '北海道' : 'Hokkaido',\n",
    " '青森県' : 'Aomori',\n",
    " '岩手県' : 'Iwate',\n",
    " '宮城県' : 'Miyagi',\n",
    " '秋田県' : 'Akita',\n",
    " '山形県' : 'Yamagata',\n",
    " '福島県' : 'Fukushima',\n",
    " '茨城県' : 'Ibaraki',\n",
    " '栃木県' : 'Tochigi',\n",
    " '群馬県' : 'Gunma',\n",
    " '埼玉県' : 'Saitama',\n",
    " '千葉県' : 'Chiba',\n",
    " '東京都' : 'Tokyo',\n",
    " '神奈川県' : 'Kanagawa',\n",
    " '新潟県' : 'Nigata',\n",
    " '富山県' : 'Toyama',\n",
    " '石川県' : 'Ishikawa',\n",
    " '福井県' : 'Fukui',\n",
    " '山梨県' : 'Yamanashi',\n",
    " '長野県' : 'Nagano',\n",
    " '岐阜県' : 'Gifu',\n",
    " '静岡県' : 'Shizuoka',\n",
    " '愛知県' : 'Aichi',\n",
    " '三重県' : 'Mie',\n",
    " '滋賀県' : 'Shiga',\n",
    " '京都府' : 'Kyoto',\n",
    " '大阪府' : 'Osaka',\n",
    " '兵庫県' : 'Hyogo',\n",
    " '奈良県' : 'Nara',\n",
    " '和歌山県' : 'Wakayama',\n",
    " '鳥取県' : 'Tottori',\n",
    " '島根県' : 'Shimane',\n",
    " '岡山県' : 'Okayama',\n",
    " '広島県' : 'Hiroshima',\n",
    " '山口県' : 'Yamaguchi',\n",
    " '徳島県' : 'Tokushima',\n",
    " '香川県' : 'Kagawa',\n",
    " '愛媛県' : 'Ehime',\n",
    " '高知県' : 'Kochi',\n",
    " '福岡県' : 'Fukuoka',\n",
    " '佐賀県' : 'Saga',\n",
    " '長崎県' : 'Nagasaki',\n",
    " '熊本県' : 'Kumamoto',\n",
    " '大分県' : 'Oita',\n",
    " '宮崎県' : 'Miyazaki',\n",
    " '鹿児島県' : 'Kagoshima',\n",
    " '沖縄県' : 'Okinawa' }\n",
    "print(prefDict)"
   ]
  },
  {
   "cell_type": "markdown",
   "metadata": {},
   "source": [
    "Here is a map of Japan. (Click to enlarge.)\n",
    "<div style=\"text-align: center\">\n",
    "<a href=\"img/mapJapanPref.svg\">\n",
    "<img src=\"img/mapJapanPref.svg\" width=40%>\n",
    "</a>\n",
    "</div>"
   ]
  },
  {
   "cell_type": "code",
   "execution_count": null,
   "metadata": {},
   "outputs": [],
   "source": [
    "# Romanize it!\n",
    "popuRoman = [[prefDict[pair[0]], pair[1]] for pair in popuDataList]\n",
    "print(popuRoman)"
   ]
  },
  {
   "cell_type": "code",
   "execution_count": null,
   "metadata": {},
   "outputs": [],
   "source": [
    "# Let us see Tohoku region\n",
    "filteredList = filter(lambda pair: pair[0] in [\"Aomori\", \"Iwate\", \"Miyagi\", \"Akita\", \"Yamagata\", \"Fukushima\"], popuRoman)\n",
    "tohokuList = list(filteredList)\n",
    "for pair in tohokuList:\n",
    "    print(\"{0:>9s}'s population is {1:7d}\".format(pair[0], pair[1]))"
   ]
  },
  {
   "cell_type": "markdown",
   "metadata": {},
   "source": [
    "<hr style=\"border-color: #cf6868; border-width: 12px;\" />\n",
    "## Drawing the pie chart and the histogram"
   ]
  },
  {
   "cell_type": "code",
   "execution_count": null,
   "metadata": {},
   "outputs": [],
   "source": [
    "popuSort = sorted(popuRoman, key=lambda pair: pair[1], reverse=True)\n",
    "print(popuSort)"
   ]
  },
  {
   "cell_type": "code",
   "execution_count": null,
   "metadata": {},
   "outputs": [],
   "source": [
    "import matplotlib.pyplot as plt\n",
    "# a name list and a number list\n",
    "names = [pair[0] for pair in popuSort]\n",
    "popus = [pair[1] for pair in popuSort]\n",
    "plt.axis(\"equal\")\n",
    "plt.pie(popus, labels=names, startangle=90, counterclock=False)\n",
    "plt.show()"
   ]
  },
  {
   "cell_type": "code",
   "execution_count": null,
   "metadata": {},
   "outputs": [],
   "source": [
    "bins = 13\n",
    "plt.hist(popus, bins)\n",
    "plt.show()"
   ]
  },
  {
   "cell_type": "markdown",
   "metadata": {},
   "source": [
    "<h3 style=\"background-color: #cf6868; color: white; padding: 24px; text-align: center;\">(cc) Koziken, MMXVII</h3>"
   ]
  }
 ],
 "metadata": {
  "kernelspec": {
   "display_name": "Python 3",
   "language": "python",
   "name": "python3"
  },
  "language_info": {
   "codemirror_mode": {
    "name": "ipython",
    "version": 3
   },
   "file_extension": ".py",
   "mimetype": "text/x-python",
   "name": "python",
   "nbconvert_exporter": "python",
   "pygments_lexer": "ipython3",
   "version": "3.6.1"
  }
 },
 "nbformat": 4,
 "nbformat_minor": 2
}
