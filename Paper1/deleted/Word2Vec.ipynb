{
 "cells": [
  {
   "cell_type": "code",
   "execution_count": 2,
   "metadata": {},
   "outputs": [],
   "source": [
    "# imports needed and set up logging\n",
    "import gzip\n",
    "import gensim \n",
    "import logging\n",
    "\n",
    "logging.basicConfig(format='%(asctime)s : %(levelname)s : %(message)s', level=logging.INFO)\n"
   ]
  },
  {
   "cell_type": "code",
   "execution_count": 3,
   "metadata": {},
   "outputs": [],
   "source": [
    "documents=[]\n",
    "f = open(\"default-data.txt\", \"r\")\n",
    "for x in f:\n",
    "  documents.append(x)"
   ]
  },
  {
   "cell_type": "code",
   "execution_count": 4,
   "metadata": {},
   "outputs": [
    {
     "name": "stderr",
     "output_type": "stream",
     "text": [
      "2019-01-23 17:04:30,081 : WARNING : consider setting layer size to a multiple of 4 for greater performance\n",
      "2019-01-23 17:04:30,082 : INFO : collecting all words and their counts\n",
      "2019-01-23 17:04:30,083 : WARNING : Each 'sentences' item should be a list of words (usually unicode strings). First item here is instead plain <class 'str'>.\n",
      "2019-01-23 17:04:30,085 : INFO : PROGRESS: at sentence #0, processed 0 words, keeping 0 word types\n",
      "2019-01-23 17:04:30,178 : INFO : PROGRESS: at sentence #10000, processed 784348 words, keeping 28 word types\n",
      "2019-01-23 17:04:30,238 : INFO : collected 46 word types from a corpus of 1304174 raw words and 16456 sentences\n",
      "2019-01-23 17:04:30,239 : INFO : Loading a fresh vocabulary\n",
      "2019-01-23 17:04:30,241 : INFO : effective_min_count=2 retains 46 unique words (100% of original 46, drops 0)\n",
      "2019-01-23 17:04:30,242 : INFO : effective_min_count=2 leaves 1304174 word corpus (100% of original 1304174, drops 0)\n",
      "2019-01-23 17:04:30,242 : INFO : deleting the raw counts dictionary of 46 items\n",
      "2019-01-23 17:04:30,244 : INFO : sample=0.001 downsamples 24 most-common words\n",
      "2019-01-23 17:04:30,244 : INFO : downsampling leaves estimated 226286 word corpus (17.4% of prior 1304174)\n",
      "2019-01-23 17:04:30,246 : INFO : estimated required memory for 46 words and 150 dimensions: 78200 bytes\n",
      "2019-01-23 17:04:30,247 : INFO : resetting layer weights\n",
      "2019-01-23 17:04:30,250 : INFO : training model with 10 workers on 46 vocabulary and 150 features, using sg=0 hs=0 sample=0.001 negative=5 window=10\n",
      "2019-01-23 17:04:30,520 : INFO : worker thread finished; awaiting finish of 9 more threads\n",
      "2019-01-23 17:04:30,524 : INFO : worker thread finished; awaiting finish of 8 more threads\n",
      "2019-01-23 17:04:30,525 : INFO : worker thread finished; awaiting finish of 7 more threads\n",
      "2019-01-23 17:04:30,527 : INFO : worker thread finished; awaiting finish of 6 more threads\n",
      "2019-01-23 17:04:30,528 : INFO : worker thread finished; awaiting finish of 5 more threads\n",
      "2019-01-23 17:04:30,528 : INFO : worker thread finished; awaiting finish of 4 more threads\n",
      "2019-01-23 17:04:30,529 : INFO : worker thread finished; awaiting finish of 3 more threads\n",
      "2019-01-23 17:04:30,531 : INFO : worker thread finished; awaiting finish of 2 more threads\n",
      "2019-01-23 17:04:30,531 : INFO : worker thread finished; awaiting finish of 1 more threads\n",
      "2019-01-23 17:04:30,532 : INFO : worker thread finished; awaiting finish of 0 more threads\n",
      "2019-01-23 17:04:30,533 : INFO : EPOCH - 1 : training on 1304174 raw words (226375 effective words) took 0.3s, 838961 effective words/s\n",
      "2019-01-23 17:04:30,800 : INFO : worker thread finished; awaiting finish of 9 more threads\n",
      "2019-01-23 17:04:30,804 : INFO : worker thread finished; awaiting finish of 8 more threads\n",
      "2019-01-23 17:04:30,809 : INFO : worker thread finished; awaiting finish of 7 more threads\n",
      "2019-01-23 17:04:30,810 : INFO : worker thread finished; awaiting finish of 6 more threads\n",
      "2019-01-23 17:04:30,811 : INFO : worker thread finished; awaiting finish of 5 more threads\n",
      "2019-01-23 17:04:30,812 : INFO : worker thread finished; awaiting finish of 4 more threads\n",
      "2019-01-23 17:04:30,813 : INFO : worker thread finished; awaiting finish of 3 more threads\n",
      "2019-01-23 17:04:30,814 : INFO : worker thread finished; awaiting finish of 2 more threads\n",
      "2019-01-23 17:04:30,815 : INFO : worker thread finished; awaiting finish of 1 more threads\n",
      "2019-01-23 17:04:30,816 : INFO : worker thread finished; awaiting finish of 0 more threads\n",
      "2019-01-23 17:04:30,817 : INFO : EPOCH - 2 : training on 1304174 raw words (225601 effective words) took 0.3s, 824071 effective words/s\n",
      "2019-01-23 17:04:31,075 : INFO : worker thread finished; awaiting finish of 9 more threads\n",
      "2019-01-23 17:04:31,079 : INFO : worker thread finished; awaiting finish of 8 more threads\n",
      "2019-01-23 17:04:31,081 : INFO : worker thread finished; awaiting finish of 7 more threads\n",
      "2019-01-23 17:04:31,081 : INFO : worker thread finished; awaiting finish of 6 more threads\n",
      "2019-01-23 17:04:31,085 : INFO : worker thread finished; awaiting finish of 5 more threads\n",
      "2019-01-23 17:04:31,086 : INFO : worker thread finished; awaiting finish of 4 more threads\n",
      "2019-01-23 17:04:31,088 : INFO : worker thread finished; awaiting finish of 3 more threads\n",
      "2019-01-23 17:04:31,090 : INFO : worker thread finished; awaiting finish of 2 more threads\n",
      "2019-01-23 17:04:31,091 : INFO : worker thread finished; awaiting finish of 1 more threads\n",
      "2019-01-23 17:04:31,092 : INFO : worker thread finished; awaiting finish of 0 more threads\n",
      "2019-01-23 17:04:31,093 : INFO : EPOCH - 3 : training on 1304174 raw words (226121 effective words) took 0.3s, 860685 effective words/s\n",
      "2019-01-23 17:04:31,355 : INFO : worker thread finished; awaiting finish of 9 more threads\n",
      "2019-01-23 17:04:31,357 : INFO : worker thread finished; awaiting finish of 8 more threads\n",
      "2019-01-23 17:04:31,364 : INFO : worker thread finished; awaiting finish of 7 more threads\n",
      "2019-01-23 17:04:31,366 : INFO : worker thread finished; awaiting finish of 6 more threads\n",
      "2019-01-23 17:04:31,367 : INFO : worker thread finished; awaiting finish of 5 more threads\n",
      "2019-01-23 17:04:31,368 : INFO : worker thread finished; awaiting finish of 4 more threads\n",
      "2019-01-23 17:04:31,369 : INFO : worker thread finished; awaiting finish of 3 more threads\n",
      "2019-01-23 17:04:31,371 : INFO : worker thread finished; awaiting finish of 2 more threads\n",
      "2019-01-23 17:04:31,372 : INFO : worker thread finished; awaiting finish of 1 more threads\n",
      "2019-01-23 17:04:31,373 : INFO : worker thread finished; awaiting finish of 0 more threads\n",
      "2019-01-23 17:04:31,374 : INFO : EPOCH - 4 : training on 1304174 raw words (226595 effective words) took 0.3s, 833497 effective words/s\n",
      "2019-01-23 17:04:31,652 : INFO : worker thread finished; awaiting finish of 9 more threads\n",
      "2019-01-23 17:04:31,655 : INFO : worker thread finished; awaiting finish of 8 more threads\n",
      "2019-01-23 17:04:31,656 : INFO : worker thread finished; awaiting finish of 7 more threads\n",
      "2019-01-23 17:04:31,663 : INFO : worker thread finished; awaiting finish of 6 more threads\n",
      "2019-01-23 17:04:31,665 : INFO : worker thread finished; awaiting finish of 5 more threads\n",
      "2019-01-23 17:04:31,666 : INFO : worker thread finished; awaiting finish of 4 more threads\n",
      "2019-01-23 17:04:31,667 : INFO : worker thread finished; awaiting finish of 3 more threads\n",
      "2019-01-23 17:04:31,668 : INFO : worker thread finished; awaiting finish of 2 more threads\n",
      "2019-01-23 17:04:31,668 : INFO : worker thread finished; awaiting finish of 1 more threads\n",
      "2019-01-23 17:04:31,669 : INFO : worker thread finished; awaiting finish of 0 more threads\n",
      "2019-01-23 17:04:31,670 : INFO : EPOCH - 5 : training on 1304174 raw words (226007 effective words) took 0.3s, 795516 effective words/s\n",
      "2019-01-23 17:04:31,671 : INFO : training on a 6520870 raw words (1130699 effective words) took 1.4s, 796552 effective words/s\n",
      "2019-01-23 17:04:31,672 : WARNING : Effective 'alpha' higher than previous training cycles\n",
      "2019-01-23 17:04:31,673 : INFO : training model with 10 workers on 46 vocabulary and 150 features, using sg=0 hs=0 sample=0.001 negative=5 window=10\n",
      "2019-01-23 17:04:31,935 : INFO : worker thread finished; awaiting finish of 9 more threads\n",
      "2019-01-23 17:04:31,936 : INFO : worker thread finished; awaiting finish of 8 more threads\n",
      "2019-01-23 17:04:31,941 : INFO : worker thread finished; awaiting finish of 7 more threads\n",
      "2019-01-23 17:04:31,942 : INFO : worker thread finished; awaiting finish of 6 more threads\n",
      "2019-01-23 17:04:31,944 : INFO : worker thread finished; awaiting finish of 5 more threads\n",
      "2019-01-23 17:04:31,945 : INFO : worker thread finished; awaiting finish of 4 more threads\n",
      "2019-01-23 17:04:31,945 : INFO : worker thread finished; awaiting finish of 3 more threads\n",
      "2019-01-23 17:04:31,946 : INFO : worker thread finished; awaiting finish of 2 more threads\n",
      "2019-01-23 17:04:31,947 : INFO : worker thread finished; awaiting finish of 1 more threads\n",
      "2019-01-23 17:04:31,948 : INFO : worker thread finished; awaiting finish of 0 more threads\n",
      "2019-01-23 17:04:31,948 : INFO : EPOCH - 1 : training on 1304174 raw words (226403 effective words) took 0.3s, 870982 effective words/s\n",
      "2019-01-23 17:04:32,191 : INFO : worker thread finished; awaiting finish of 9 more threads\n"
     ]
    },
    {
     "name": "stderr",
     "output_type": "stream",
     "text": [
      "2019-01-23 17:04:32,193 : INFO : worker thread finished; awaiting finish of 8 more threads\n",
      "2019-01-23 17:04:32,195 : INFO : worker thread finished; awaiting finish of 7 more threads\n",
      "2019-01-23 17:04:32,198 : INFO : worker thread finished; awaiting finish of 6 more threads\n",
      "2019-01-23 17:04:32,199 : INFO : worker thread finished; awaiting finish of 5 more threads\n",
      "2019-01-23 17:04:32,200 : INFO : worker thread finished; awaiting finish of 4 more threads\n",
      "2019-01-23 17:04:32,201 : INFO : worker thread finished; awaiting finish of 3 more threads\n",
      "2019-01-23 17:04:32,202 : INFO : worker thread finished; awaiting finish of 2 more threads\n",
      "2019-01-23 17:04:32,203 : INFO : worker thread finished; awaiting finish of 1 more threads\n",
      "2019-01-23 17:04:32,204 : INFO : worker thread finished; awaiting finish of 0 more threads\n",
      "2019-01-23 17:04:32,204 : INFO : EPOCH - 2 : training on 1304174 raw words (226205 effective words) took 0.2s, 917119 effective words/s\n",
      "2019-01-23 17:04:32,493 : INFO : worker thread finished; awaiting finish of 9 more threads\n",
      "2019-01-23 17:04:32,494 : INFO : worker thread finished; awaiting finish of 8 more threads\n",
      "2019-01-23 17:04:32,497 : INFO : worker thread finished; awaiting finish of 7 more threads\n",
      "2019-01-23 17:04:32,499 : INFO : worker thread finished; awaiting finish of 6 more threads\n",
      "2019-01-23 17:04:32,503 : INFO : worker thread finished; awaiting finish of 5 more threads\n",
      "2019-01-23 17:04:32,507 : INFO : worker thread finished; awaiting finish of 4 more threads\n",
      "2019-01-23 17:04:32,512 : INFO : worker thread finished; awaiting finish of 3 more threads\n",
      "2019-01-23 17:04:32,513 : INFO : worker thread finished; awaiting finish of 2 more threads\n",
      "2019-01-23 17:04:32,514 : INFO : worker thread finished; awaiting finish of 1 more threads\n",
      "2019-01-23 17:04:32,517 : INFO : worker thread finished; awaiting finish of 0 more threads\n",
      "2019-01-23 17:04:32,519 : INFO : EPOCH - 3 : training on 1304174 raw words (226420 effective words) took 0.3s, 735864 effective words/s\n",
      "2019-01-23 17:04:32,842 : INFO : worker thread finished; awaiting finish of 9 more threads\n",
      "2019-01-23 17:04:32,847 : INFO : worker thread finished; awaiting finish of 8 more threads\n",
      "2019-01-23 17:04:32,851 : INFO : worker thread finished; awaiting finish of 7 more threads\n",
      "2019-01-23 17:04:32,856 : INFO : worker thread finished; awaiting finish of 6 more threads\n",
      "2019-01-23 17:04:32,858 : INFO : worker thread finished; awaiting finish of 5 more threads\n",
      "2019-01-23 17:04:32,859 : INFO : worker thread finished; awaiting finish of 4 more threads\n",
      "2019-01-23 17:04:32,861 : INFO : worker thread finished; awaiting finish of 3 more threads\n",
      "2019-01-23 17:04:32,862 : INFO : worker thread finished; awaiting finish of 2 more threads\n",
      "2019-01-23 17:04:32,863 : INFO : worker thread finished; awaiting finish of 1 more threads\n",
      "2019-01-23 17:04:32,864 : INFO : worker thread finished; awaiting finish of 0 more threads\n",
      "2019-01-23 17:04:32,865 : INFO : EPOCH - 4 : training on 1304174 raw words (226076 effective words) took 0.3s, 681174 effective words/s\n",
      "2019-01-23 17:04:33,182 : INFO : worker thread finished; awaiting finish of 9 more threads\n",
      "2019-01-23 17:04:33,184 : INFO : worker thread finished; awaiting finish of 8 more threads\n",
      "2019-01-23 17:04:33,185 : INFO : worker thread finished; awaiting finish of 7 more threads\n",
      "2019-01-23 17:04:33,189 : INFO : worker thread finished; awaiting finish of 6 more threads\n",
      "2019-01-23 17:04:33,192 : INFO : worker thread finished; awaiting finish of 5 more threads\n",
      "2019-01-23 17:04:33,194 : INFO : worker thread finished; awaiting finish of 4 more threads\n",
      "2019-01-23 17:04:33,195 : INFO : worker thread finished; awaiting finish of 3 more threads\n",
      "2019-01-23 17:04:33,196 : INFO : worker thread finished; awaiting finish of 2 more threads\n",
      "2019-01-23 17:04:33,196 : INFO : worker thread finished; awaiting finish of 1 more threads\n",
      "2019-01-23 17:04:33,198 : INFO : worker thread finished; awaiting finish of 0 more threads\n",
      "2019-01-23 17:04:33,198 : INFO : EPOCH - 5 : training on 1304174 raw words (225894 effective words) took 0.3s, 720853 effective words/s\n",
      "2019-01-23 17:04:33,494 : INFO : worker thread finished; awaiting finish of 9 more threads\n",
      "2019-01-23 17:04:33,502 : INFO : worker thread finished; awaiting finish of 8 more threads\n",
      "2019-01-23 17:04:33,503 : INFO : worker thread finished; awaiting finish of 7 more threads\n",
      "2019-01-23 17:04:33,507 : INFO : worker thread finished; awaiting finish of 6 more threads\n",
      "2019-01-23 17:04:33,509 : INFO : worker thread finished; awaiting finish of 5 more threads\n",
      "2019-01-23 17:04:33,510 : INFO : worker thread finished; awaiting finish of 4 more threads\n",
      "2019-01-23 17:04:33,512 : INFO : worker thread finished; awaiting finish of 3 more threads\n",
      "2019-01-23 17:04:33,513 : INFO : worker thread finished; awaiting finish of 2 more threads\n",
      "2019-01-23 17:04:33,515 : INFO : worker thread finished; awaiting finish of 1 more threads\n",
      "2019-01-23 17:04:33,516 : INFO : worker thread finished; awaiting finish of 0 more threads\n",
      "2019-01-23 17:04:33,517 : INFO : EPOCH - 6 : training on 1304174 raw words (225800 effective words) took 0.3s, 735265 effective words/s\n",
      "2019-01-23 17:04:33,836 : INFO : worker thread finished; awaiting finish of 9 more threads\n",
      "2019-01-23 17:04:33,838 : INFO : worker thread finished; awaiting finish of 8 more threads\n",
      "2019-01-23 17:04:33,842 : INFO : worker thread finished; awaiting finish of 7 more threads\n",
      "2019-01-23 17:04:33,849 : INFO : worker thread finished; awaiting finish of 6 more threads\n",
      "2019-01-23 17:04:33,851 : INFO : worker thread finished; awaiting finish of 5 more threads\n",
      "2019-01-23 17:04:33,855 : INFO : worker thread finished; awaiting finish of 4 more threads\n",
      "2019-01-23 17:04:33,859 : INFO : worker thread finished; awaiting finish of 3 more threads\n",
      "2019-01-23 17:04:33,863 : INFO : worker thread finished; awaiting finish of 2 more threads\n",
      "2019-01-23 17:04:33,865 : INFO : worker thread finished; awaiting finish of 1 more threads\n",
      "2019-01-23 17:04:33,867 : INFO : worker thread finished; awaiting finish of 0 more threads\n",
      "2019-01-23 17:04:33,869 : INFO : EPOCH - 7 : training on 1304174 raw words (225875 effective words) took 0.3s, 666780 effective words/s\n",
      "2019-01-23 17:04:34,201 : INFO : worker thread finished; awaiting finish of 9 more threads\n",
      "2019-01-23 17:04:34,204 : INFO : worker thread finished; awaiting finish of 8 more threads\n",
      "2019-01-23 17:04:34,212 : INFO : worker thread finished; awaiting finish of 7 more threads\n",
      "2019-01-23 17:04:34,217 : INFO : worker thread finished; awaiting finish of 6 more threads\n",
      "2019-01-23 17:04:34,220 : INFO : worker thread finished; awaiting finish of 5 more threads\n",
      "2019-01-23 17:04:34,221 : INFO : worker thread finished; awaiting finish of 4 more threads\n",
      "2019-01-23 17:04:34,222 : INFO : worker thread finished; awaiting finish of 3 more threads\n",
      "2019-01-23 17:04:34,225 : INFO : worker thread finished; awaiting finish of 2 more threads\n",
      "2019-01-23 17:04:34,226 : INFO : worker thread finished; awaiting finish of 1 more threads\n",
      "2019-01-23 17:04:34,227 : INFO : worker thread finished; awaiting finish of 0 more threads\n",
      "2019-01-23 17:04:34,229 : INFO : EPOCH - 8 : training on 1304174 raw words (226707 effective words) took 0.3s, 667477 effective words/s\n",
      "2019-01-23 17:04:34,580 : INFO : worker thread finished; awaiting finish of 9 more threads\n",
      "2019-01-23 17:04:34,583 : INFO : worker thread finished; awaiting finish of 8 more threads\n",
      "2019-01-23 17:04:34,584 : INFO : worker thread finished; awaiting finish of 7 more threads\n",
      "2019-01-23 17:04:34,585 : INFO : worker thread finished; awaiting finish of 6 more threads\n",
      "2019-01-23 17:04:34,586 : INFO : worker thread finished; awaiting finish of 5 more threads\n",
      "2019-01-23 17:04:34,587 : INFO : worker thread finished; awaiting finish of 4 more threads\n",
      "2019-01-23 17:04:34,588 : INFO : worker thread finished; awaiting finish of 3 more threads\n",
      "2019-01-23 17:04:34,589 : INFO : worker thread finished; awaiting finish of 2 more threads\n",
      "2019-01-23 17:04:34,590 : INFO : worker thread finished; awaiting finish of 1 more threads\n",
      "2019-01-23 17:04:34,591 : INFO : worker thread finished; awaiting finish of 0 more threads\n",
      "2019-01-23 17:04:34,591 : INFO : EPOCH - 9 : training on 1304174 raw words (226282 effective words) took 0.3s, 648866 effective words/s\n"
     ]
    },
    {
     "name": "stderr",
     "output_type": "stream",
     "text": [
      "2019-01-23 17:04:34,863 : INFO : worker thread finished; awaiting finish of 9 more threads\n",
      "2019-01-23 17:04:34,864 : INFO : worker thread finished; awaiting finish of 8 more threads\n",
      "2019-01-23 17:04:34,865 : INFO : worker thread finished; awaiting finish of 7 more threads\n",
      "2019-01-23 17:04:34,866 : INFO : worker thread finished; awaiting finish of 6 more threads\n",
      "2019-01-23 17:04:34,867 : INFO : worker thread finished; awaiting finish of 5 more threads\n",
      "2019-01-23 17:04:34,867 : INFO : worker thread finished; awaiting finish of 4 more threads\n",
      "2019-01-23 17:04:34,869 : INFO : worker thread finished; awaiting finish of 3 more threads\n",
      "2019-01-23 17:04:34,870 : INFO : worker thread finished; awaiting finish of 2 more threads\n",
      "2019-01-23 17:04:34,871 : INFO : worker thread finished; awaiting finish of 1 more threads\n",
      "2019-01-23 17:04:34,872 : INFO : worker thread finished; awaiting finish of 0 more threads\n",
      "2019-01-23 17:04:34,872 : INFO : EPOCH - 10 : training on 1304174 raw words (225922 effective words) took 0.3s, 828362 effective words/s\n",
      "2019-01-23 17:04:34,874 : INFO : training on a 13041740 raw words (2261584 effective words) took 3.2s, 706905 effective words/s\n"
     ]
    },
    {
     "data": {
      "text/plain": [
       "(2261584, 13041740)"
      ]
     },
     "execution_count": 4,
     "metadata": {},
     "output_type": "execute_result"
    }
   ],
   "source": [
    "model = gensim.models.Word2Vec (documents, size=150, window=10, min_count=2, workers=10)\n",
    "model.train(documents,total_examples=len(documents),epochs=10)"
   ]
  },
  {
   "cell_type": "markdown",
   "metadata": {},
   "source": [
    "## Now, let's look at some output \n",
    "This first example shows a simple case of looking up words similar to the word `dirty`. All we need to do here is to call the `most_similar` function and provide the word `dirty` as the positive example. This returns the top 10 similar words. "
   ]
  },
  {
   "cell_type": "code",
   "execution_count": null,
   "metadata": {},
   "outputs": [],
   "source": [
    "\n",
    "w1 = \"get\"\n",
    "model.wv.most_similar (positive=w1)\n"
   ]
  },
  {
   "cell_type": "markdown",
   "metadata": {},
   "source": [
    "That looks pretty good, right? Let's look at a few more. Let's look at similarity for `polite`, `france` and `shocked`. "
   ]
  },
  {
   "cell_type": "code",
   "execution_count": null,
   "metadata": {},
   "outputs": [],
   "source": [
    "# look up top 6 words similar to 'polite'\n",
    "w1 = [\"polite\"]\n",
    "model.wv.most_similar (positive=w1,topn=6)\n"
   ]
  },
  {
   "cell_type": "code",
   "execution_count": null,
   "metadata": {},
   "outputs": [],
   "source": [
    "# look up top 6 words similar to 'france'\n",
    "w1 = [\"france\"]\n",
    "model.wv.most_similar (positive=w1,topn=6)\n"
   ]
  },
  {
   "cell_type": "code",
   "execution_count": null,
   "metadata": {},
   "outputs": [],
   "source": [
    "# look up top 6 words similar to 'shocked'\n",
    "w1 = [\"shocked\"]\n",
    "model.wv.most_similar (positive=w1,topn=6)\n"
   ]
  },
  {
   "cell_type": "markdown",
   "metadata": {},
   "source": [
    "That's, nice. You can even specify several positive examples to get things that are related in the provided context and provide negative examples to say what should not be considered as related. In the example below we are asking for all items that *relate to bed* only:"
   ]
  },
  {
   "cell_type": "code",
   "execution_count": null,
   "metadata": {},
   "outputs": [],
   "source": [
    "# get everything related to stuff on the bed\n",
    "w1 = [\"bed\",'sheet','pillow']\n",
    "w2 = ['couch']\n",
    "model.wv.most_similar (positive=w1,negative=w2,topn=10)\n"
   ]
  },
  {
   "cell_type": "markdown",
   "metadata": {},
   "source": [
    "### Similarity between two words in the vocabulary"
   ]
  },
  {
   "cell_type": "markdown",
   "metadata": {},
   "source": [
    "You can even use the Word2Vec model to return the similarity between two words that are present in the vocabulary. "
   ]
  },
  {
   "cell_type": "code",
   "execution_count": null,
   "metadata": {},
   "outputs": [],
   "source": [
    "# similarity between two different words\n",
    "model.wv.similarity(w1=\"dirty\",w2=\"smelly\")"
   ]
  },
  {
   "cell_type": "code",
   "execution_count": null,
   "metadata": {},
   "outputs": [],
   "source": [
    "# similarity between two identical words\n",
    "model.wv.similarity(w1=\"dirty\",w2=\"dirty\")"
   ]
  },
  {
   "cell_type": "code",
   "execution_count": null,
   "metadata": {},
   "outputs": [],
   "source": [
    "# similarity between two unrelated words\n",
    "model.wv.similarity(w1=\"dirty\",w2=\"clean\")"
   ]
  },
  {
   "cell_type": "markdown",
   "metadata": {},
   "source": [
    "Under the hood, the above three snippets computes the cosine similarity between the two specified words using word vectors of each. From the scores, it makes sense that `dirty` is highly similar to `smelly` but `dirty` is dissimilar to `clean`. If you do a similarity between two identical words, the score will be 1.0 as the range of the cosine similarity score will always be between [0.0-1.0]. You can read more about cosine similarity scoring [here](https://en.wikipedia.org/wiki/Cosine_similarity)."
   ]
  },
  {
   "cell_type": "markdown",
   "metadata": {},
   "source": [
    "### Find the odd one out\n",
    "You can even use Word2Vec to find odd items given a list of items."
   ]
  },
  {
   "cell_type": "code",
   "execution_count": null,
   "metadata": {},
   "outputs": [],
   "source": [
    "# Which one is the odd one out in this list?\n",
    "model.wv.doesnt_match([\"cat\",\"dog\",\"france\"])"
   ]
  },
  {
   "cell_type": "code",
   "execution_count": null,
   "metadata": {},
   "outputs": [],
   "source": [
    "# Which one is the odd one out in this list?\n",
    "model.wv.doesnt_match([\"bed\",\"pillow\",\"duvet\",\"shower\"])\n"
   ]
  },
  {
   "cell_type": "markdown",
   "metadata": {},
   "source": [
    "## Understanding some of the parameters\n",
    "To train the model earlier, we had to set some parameters. Now, let's try to understand what some of them mean. For reference, this is the command that we used to train the model.\n",
    "\n",
    "```\n",
    "model = gensim.models.Word2Vec (documents, size=150, window=10, min_count=2, workers=10)\n",
    "```\n",
    "\n",
    "### `size`\n",
    "The size of the dense vector to represent each token or word. If you have very limited data, then size should be a much smaller value. If you have lots of data, its good to experiment with various sizes. A value of 100-150 has worked well for me. \n",
    "\n",
    "### `window`\n",
    "The maximum distance between the target word and its neighboring word. If your neighbor's position is greater than the maximum window width to the left and the right, then, some neighbors are not considered as being related to the target word. In theory, a smaller window should give you terms that are more related. If you have lots of data, then the window size should not matter too much, as long as its a decent sized window. \n",
    "\n",
    "### `min_count`\n",
    "Minimium frequency count of words. The model would ignore words that do not statisfy the `min_count`. Extremely infrequent words are usually unimportant, so its best to get rid of those. Unless your dataset is really tiny, this does not really affect the model.\n",
    "\n",
    "### `workers`\n",
    "How many threads to use behind the scenes?\n"
   ]
  },
  {
   "cell_type": "markdown",
   "metadata": {},
   "source": [
    "## When should you use Word2Vec?\n",
    "\n",
    "There are many application scenarios for Word2Vec. Imagine if you need to build a sentiment lexicon. Training a Word2Vec model on large amounts of user reviews helps you achieve that. You have a lexicon for not just sentiment, but for most words in the vocabulary. \n",
    "\n",
    "Beyond, raw unstructured text data, you could also use Word2Vec for more structured data. For example, if you had tags for a million stackoverflow questions and answers, you could find tags that are related to a given tag and recommend the related ones for exploration. You can do this by treating each set of co-occuring tags as a \"sentence\" and train a Word2Vec model on this data. Granted, you still need a large number of examples to make it work. \n"
   ]
  }
 ],
 "metadata": {
  "kernelspec": {
   "display_name": "Python 3",
   "language": "python",
   "name": "python3"
  },
  "language_info": {
   "codemirror_mode": {
    "name": "ipython",
    "version": 3
   },
   "file_extension": ".py",
   "mimetype": "text/x-python",
   "name": "python",
   "nbconvert_exporter": "python",
   "pygments_lexer": "ipython3",
   "version": "3.6.6"
  }
 },
 "nbformat": 4,
 "nbformat_minor": 2
}
