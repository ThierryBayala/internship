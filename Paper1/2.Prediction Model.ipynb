{
 "cells": [
  {
   "cell_type": "code",
   "execution_count": 69,
   "metadata": {},
   "outputs": [],
   "source": [
    "import pandas as pd # provide sql-like data manipulation tools. very handy.\n",
    "pd.options.mode.chained_assignment = None\n",
    "import numpy as np # high dimensional vector computing library.\n",
    "from copy import deepcopy\n",
    "from cleaner import *\n",
    "import re\n",
    "import string\n",
    "from string import punctuation\n",
    "from random import shuffle\n",
    "import warnings\n",
    "warnings.filterwarnings('ignore')\n",
    "%matplotlib inline\n",
    "import time\n",
    "from IPython.display import display\n",
    "import matplotlib.pyplot as plt\n",
    "from sklearn.metrics import confusion_matrix\n",
    "from sklearn.model_selection import train_test_split\n",
    "import seaborn as sns\n",
    "import pandas as pd\n",
    "from sklearn.linear_model import LogisticRegression\n",
    "from sklearn.ensemble import RandomForestClassifier\n",
    "from sklearn.naive_bayes import MultinomialNB\n",
    "from sklearn.neural_network import MLPClassifier\n",
    "from sklearn.model_selection import train_test_split\n",
    "from sklearn.feature_extraction.text import CountVectorizer\n",
    "from sklearn.feature_extraction.text import TfidfTransformer\n",
    "from sklearn.feature_extraction.text import TfidfVectorizer\n",
    "from sklearn.naive_bayes import MultinomialNB\n",
    "from sklearn.svm import LinearSVC\n",
    "from sklearn.feature_selection import chi2\n",
    "import numpy as np\n",
    "from sklearn.model_selection import cross_val_score\n",
    "import warnings\n",
    "warnings.filterwarnings('ignore')\n",
    "import gensim\n",
    "from gensim.models.word2vec import Word2Vec \n",
    "LabeledSentence = gensim.models.doc2vec.LabeledSentence \n",
    "from tqdm import tqdm\n",
    "tqdm.pandas(desc=\"progress-bar\")\n",
    "\n",
    "from nltk.tokenize import TweetTokenizer # a tweet tokenizer from nltk.\n",
    "tokenizer = TweetTokenizer()\n",
    "\n",
    "from sklearn.model_selection import train_test_split\n",
    "from sklearn.feature_extraction.text import TfidfVectorizer"
   ]
  },
  {
   "cell_type": "code",
   "execution_count": 70,
   "metadata": {},
   "outputs": [
    {
     "data": {
      "text/plain": [
       "(93170, 13)"
      ]
     },
     "execution_count": 70,
     "metadata": {},
     "output_type": "execute_result"
    }
   ],
   "source": [
    "df = pd.read_csv('data/final_data.csv')\n",
    "df.shape"
   ]
  },
  {
   "cell_type": "code",
   "execution_count": 71,
   "metadata": {},
   "outputs": [],
   "source": [
    "df = df[pd.notnull(df['Tweet'])]"
   ]
  },
  {
   "cell_type": "code",
   "execution_count": 72,
   "metadata": {},
   "outputs": [],
   "source": [
    "col = ['Category', 'Tweet']\n",
    "df = df[col]"
   ]
  },
  {
   "cell_type": "code",
   "execution_count": 73,
   "metadata": {},
   "outputs": [],
   "source": [
    "df.columns = ['Category', 'Tweet']"
   ]
  },
  {
   "cell_type": "code",
   "execution_count": 74,
   "metadata": {},
   "outputs": [],
   "source": [
    "def clean_text_round1(text):\n",
    "    text = text.lower()\n",
    "    text = re.sub('\\[.*?\\]', '', text)\n",
    "    text = re.sub('[%s]' % re.escape(string.punctuation), '', text)\n",
    "    text = re.sub('\\w*\\d\\w*', '', text)\n",
    "    return text"
   ]
  },
  {
   "cell_type": "code",
   "execution_count": 75,
   "metadata": {},
   "outputs": [],
   "source": [
    "def clean_text_round2(text):\n",
    "    '''Get rid of some additional punctuation and non-sensical \n",
    "    text that was missed the first time around.'''\n",
    "    text = re.sub('[‘’“”…]', '', text)\n",
    "    text = re.sub('\\n', '', text)\n",
    "    return text"
   ]
  },
  {
   "cell_type": "code",
   "execution_count": 76,
   "metadata": {},
   "outputs": [],
   "source": [
    "from generator import*\n",
    "data_xml=[]\n",
    "\n",
    "stop_words = ['ourselves', 'hers', 'between', 'yourself', \n",
    "              'but', 'again', 'there', 'about', 'once', \n",
    "              'during', 'out', 'very', 'with', 'they',\n",
    "              'own', 'an', 'be', 'some', 'for', 'do', 'its', \n",
    "              'yours', 'such', 'into', 'of', 'most', 'itself',\n",
    "              'other', 'off', 'is', 's', 'am', 'or', 'who', 'as', \n",
    "              'from', 'him', 'each', 'the', 'themselves', 'until', \n",
    "              'below', 'are', 'we', 'these', 'your', 'his', 'through', 'don',\n",
    "              'nor', 'me', 'were', 'her', 'more', 'himself', 'this', 'down', \n",
    "              'should', 'our', 'their', 'while', 'above', 'both', 'up', 'to', 'ours', \n",
    "              'she', 'all', 'no', 'when', 'at', 'any', 'before', 'them', 'same', 'and', \n",
    "              'been', 'in', 'will', 'on', 'does', 'yourselves', 'then', 'that', 'because',\n",
    "              'what', 'over', 'why', 'so', 'can', 'did', 'not', 'now', 'under', 'he', 'you',\n",
    "              'herself', 'just', 'where', 'too', 'only', 'myself', 'which', 'those', 'i', 'after',\n",
    "              'few', 'whom', 't', 'being', 'if', 'theirs', 'my', 'against', 'a', 'by', 'doing', 'it', \n",
    "              'how', 'further', 'was', 'here', 'than']\n",
    "\n",
    "def tokenize(tweet):\n",
    "    tweet = nlp(tweet)\n",
    "    tweet = negation_tag(tweet)\n",
    "    tweet = ' '.join(tweet)\n",
    "    tweet=clean_text_round1(tweet)\n",
    "    tweet=clean_text_round2(tweet)\n",
    "    tokens = tokenizer.tokenize(tweet.lower())\n",
    "    tokens=[w for w in tokens if not w in stop_words]\n",
    "    \n",
    "    try:\n",
    "        temp=[]\n",
    "        tokens = list(filter(lambda t: not t.startswith('@'), tokens))\n",
    "        tokens = list(filter(lambda t: not t.startswith('#'), tokens))\n",
    "        tokens = list(filter(lambda t: not t.startswith('http'), tokens))\n",
    "        tokens = list(filter(lambda t: not t.startswith('www'), tokens))\n",
    "        temp.append(tokens)\n",
    "        #print(type(data.Category.values))\n",
    "        #temp.append(data.Category)\n",
    "        data_xml.append(temp)\n",
    "        \n",
    "\n",
    "        \n",
    "        #doc=convert_to_doc(' '.join(tokens))\n",
    "        #data_xml.append(doc)\n",
    "        #vector=generator_vec(doc)\n",
    "        return tokens\n",
    "    except:\n",
    "        return 'NC'"
   ]
  },
  {
   "cell_type": "code",
   "execution_count": 77,
   "metadata": {},
   "outputs": [
    {
     "name": "stderr",
     "output_type": "stream",
     "text": [
      "progress-bar: 100%|██████████| 93170/93170 [15:26<00:00, 100.56it/s]\n"
     ]
    }
   ],
   "source": [
    "def postprocess(data, n=93170):\n",
    "    data = data.head(n)\n",
    "    data['tokens'] = data['Tweet'].progress_map(tokenize) \n",
    "    data = data[data.tokens != 'NC']\n",
    "    data.reset_index(inplace=True)\n",
    "    return data\n",
    "\n",
    "data = postprocess(df)"
   ]
  },
  {
   "cell_type": "code",
   "execution_count": 78,
   "metadata": {},
   "outputs": [],
   "source": [
    "x_train, x_test, y_train, y_test = train_test_split(np.array(data.head(93170).tokens),\n",
    "                                   np.array(data.head(93170).Tweet), test_size=0.2)"
   ]
  },
  {
   "cell_type": "code",
   "execution_count": 79,
   "metadata": {},
   "outputs": [
    {
     "name": "stderr",
     "output_type": "stream",
     "text": [
      "74536it [00:00, 138292.92it/s]\n",
      "18634it [00:00, 203675.12it/s]\n"
     ]
    }
   ],
   "source": [
    "def labelizeTweets(tweets, label_type):\n",
    "    labelized = []\n",
    "    for i,v in tqdm(enumerate(tweets)):\n",
    "        label = '%s_%s'%(label_type,i)\n",
    "        labelized.append(LabeledSentence(v, [label]))\n",
    "    return labelized\n",
    "\n",
    "x_train = labelizeTweets(x_train, 'TRAIN')\n",
    "x_test = labelizeTweets(x_test, 'TEST')"
   ]
  },
  {
   "cell_type": "code",
   "execution_count": 80,
   "metadata": {},
   "outputs": [
    {
     "name": "stderr",
     "output_type": "stream",
     "text": [
      "100%|██████████| 74536/74536 [00:00<00:00, 1650119.25it/s]\n",
      "100%|██████████| 74536/74536 [00:00<00:00, 1407264.59it/s]\n"
     ]
    },
    {
     "data": {
      "text/plain": [
       "(2139031, 3204745)"
      ]
     },
     "execution_count": 80,
     "metadata": {},
     "output_type": "execute_result"
    }
   ],
   "source": [
    "tweet_w2v = Word2Vec(size=150, min_count=20,sg=0)#sg=1: skip-gram, 0: cbow\n",
    "tweet_w2v.build_vocab([x.words for x in tqdm(x_train)])\n",
    "tweet_w2v.train([x.words for x in tqdm(x_train)], \n",
    "                total_examples=tweet_w2v.corpus_count, epochs=tweet_w2v.iter)"
   ]
  },
  {
   "cell_type": "code",
   "execution_count": 81,
   "metadata": {},
   "outputs": [],
   "source": [
    "import matplotlib.pyplot as plt\n",
    "%matplotlib inline\n",
    "\n",
    "import pandas as pd\n",
    "from sklearn.decomposition import PCA\n",
    "\n",
    "def plot_words(words):\n",
    "    word_vecs = [tweet_w2v[word] for word in words]\n",
    "    pca = PCA(n_components=2)\n",
    "\n",
    "    columns = [\"Component1\",\"Component2\"]\n",
    "    df = pd.DataFrame(pca.fit_transform(word_vecs), columns=columns, index=words)\n",
    "    def annotate_df(row):  \n",
    "        ax.annotate(row.name, list(row.values),\n",
    "                    xytext=(10,-5), \n",
    "                    textcoords='offset points',\n",
    "                    size=12, \n",
    "                    color='black')\n",
    "\n",
    "    ax = df.plot(kind=\"scatter\",x='Component1', y='Component2',)\n",
    "    _ = df.apply(annotate_df, axis=1)\n",
    "    plt.savefig('outputcb.jpg')\n",
    "    "
   ]
  },
  {
   "cell_type": "code",
   "execution_count": 82,
   "metadata": {},
   "outputs": [
    {
     "data": {
      "image/png": "[encoded data removed]",
      "text/plain": [
       "<Figure size 432x288 with 1 Axes>"
      ]
     },
     "metadata": {
      "needs_background": "light"
     },
     "output_type": "display_data"
    }
   ],
   "source": [
    "words=['meningitis','contracted', \n",
    "       'contract',\n",
    "       'get', 'got',\n",
    "       'getting',\n",
    "       'have', 'having', 'had', 'has', 'catch', 'caught', 'infected', 'recovered']\n",
    "\n",
    "plot_words(words)"
   ]
  },
  {
   "cell_type": "code",
   "execution_count": 83,
   "metadata": {},
   "outputs": [
    {
     "name": "stdout",
     "output_type": "stream",
     "text": [
      "building tf-idf matrix ...\n",
      "vocab size : 24368\n"
     ]
    }
   ],
   "source": [
    "print('building tf-idf matrix ...')\n",
    "vectorizer = TfidfVectorizer(analyzer=lambda x: x, min_df=0)\n",
    "matrix = vectorizer.fit_transform([x.words for x in x_train])\n",
    "tfidf = dict(zip(vectorizer.get_feature_names(), vectorizer.idf_))\n",
    "print('vocab size :', len(tfidf))"
   ]
  },
  {
   "cell_type": "code",
   "execution_count": 84,
   "metadata": {},
   "outputs": [],
   "source": [
    "def buildWordVector(tokens, size):\n",
    "    vec = np.zeros(size).reshape((1, size))\n",
    "    count = 0.\n",
    "    for word in tokens:\n",
    "        try:\n",
    "            vec += tweet_w2v[word].reshape((1, size)) * tfidf[word]\n",
    "            count += 1.\n",
    "        except KeyError: # handling the case where the token is not\n",
    "                         # in the corpus. useful for testing.\n",
    "            continue\n",
    "    if count != 0:\n",
    "        vec /= count\n",
    "    return vec"
   ]
  },
  {
   "cell_type": "code",
   "execution_count": 85,
   "metadata": {},
   "outputs": [],
   "source": [
    "data['category_id'] = data['Category'].factorize()[0]\n",
    "from io import StringIO\n",
    "category_id_df = data[['Category', 'category_id']].drop_duplicates().sort_values('category_id')\n",
    "category_to_id = dict(category_id_df.values)\n",
    "id_to_category = dict(category_id_df[['category_id', 'Category']].values)"
   ]
  },
  {
   "cell_type": "code",
   "execution_count": 86,
   "metadata": {},
   "outputs": [],
   "source": [
    "labels=data.category_id"
   ]
  },
  {
   "cell_type": "code",
   "execution_count": 88,
   "metadata": {},
   "outputs": [
    {
     "name": "stderr",
     "output_type": "stream",
     "text": [
      "\n",
      "0it [00:00, ?it/s]\u001b[A\n",
      "648it [00:00, 6473.06it/s]\u001b[A\n",
      "1286it [00:00, 6443.12it/s]\u001b[A\n",
      "1933it [00:00, 6448.40it/s]\u001b[A\n",
      "2600it [00:00, 6512.12it/s]\u001b[A\n",
      "3329it [00:00, 6726.56it/s]\u001b[A\n",
      "4003it [00:00, 6729.64it/s]\u001b[A\n",
      "4709it [00:00, 6824.37it/s]\u001b[A\n",
      "5407it [00:00, 6868.50it/s]\u001b[A\n",
      "6072it [00:00, 6798.98it/s]\u001b[A\n",
      "6770it [00:01, 6851.10it/s]\u001b[A\n",
      "7505it [00:01, 6991.89it/s]\u001b[A\n",
      "8197it [00:01, 6968.15it/s]\u001b[A\n",
      "8886it [00:01, 6943.74it/s]\u001b[A\n",
      "9613it [00:01, 7037.34it/s]\u001b[A\n",
      "10314it [00:01, 6996.01it/s]\u001b[A\n",
      "11100it [00:01, 7233.33it/s]\u001b[A\n",
      "11824it [00:01, 6989.90it/s]\u001b[A\n",
      "12554it [00:01, 7078.79it/s]\u001b[A\n",
      "13264it [00:01, 6965.75it/s]\u001b[A\n",
      "13963it [00:02, 6876.96it/s]\u001b[A\n",
      "14664it [00:02, 6915.15it/s]\u001b[A\n",
      "15380it [00:02, 6985.74it/s]\u001b[A\n",
      "16163it [00:02, 7218.76it/s]\u001b[A\n",
      "16888it [00:02, 7155.62it/s]\u001b[A\n",
      "17650it [00:02, 7288.69it/s]\u001b[A\n",
      "18381it [00:02, 7286.23it/s]\u001b[A\n",
      "19111it [00:02, 7171.64it/s]\u001b[A\n",
      "19895it [00:02, 7359.45it/s]\u001b[A\n",
      "20634it [00:02, 7181.26it/s]\u001b[A\n",
      "21355it [00:03, 7091.94it/s]\u001b[A\n",
      "22067it [00:03, 7030.28it/s]\u001b[A\n",
      "22774it [00:03, 7041.19it/s]\u001b[A\n",
      "23541it [00:03, 7218.64it/s]\u001b[A\n",
      "24288it [00:03, 7291.65it/s]\u001b[A\n",
      "25019it [00:03, 7246.13it/s]\u001b[A\n",
      "25745it [00:03, 7123.54it/s]\u001b[A\n",
      "26459it [00:03, 7114.06it/s]\u001b[A\n",
      "27172it [00:03, 7090.73it/s]\u001b[A\n",
      "27882it [00:03, 6875.42it/s]\u001b[A\n",
      "28652it [00:04, 7102.79it/s]\u001b[A\n",
      "29366it [00:04, 7015.59it/s]\u001b[A\n",
      "30100it [00:04, 7108.45it/s]\u001b[A\n",
      "30813it [00:04, 7092.21it/s]\u001b[A\n",
      "31530it [00:04, 7114.67it/s]\u001b[A\n",
      "32243it [00:04, 7088.22it/s]\u001b[A\n",
      "32953it [00:04, 6974.94it/s]\u001b[A\n",
      "33652it [00:04, 6936.02it/s]\u001b[A\n",
      "34352it [00:04, 6953.88it/s]\u001b[A\n",
      "35048it [00:04, 6945.06it/s]\u001b[A\n",
      "35768it [00:05, 7019.44it/s]\u001b[A\n",
      "36550it [00:05, 7240.37it/s]\u001b[A\n",
      "37277it [00:05, 7200.48it/s]\u001b[A\n",
      "37999it [00:05, 7134.84it/s]\u001b[A\n",
      "38735it [00:05, 7200.31it/s]\u001b[A\n",
      "39457it [00:05, 7069.61it/s]\u001b[A\n",
      "40166it [00:05, 6992.25it/s]\u001b[A\n",
      "40917it [00:05, 7138.64it/s]\u001b[A\n",
      "41651it [00:05, 7196.71it/s]\u001b[A\n",
      "42372it [00:06, 6928.11it/s]\u001b[A\n",
      "43068it [00:06, 6836.70it/s]\u001b[A\n",
      "43755it [00:06, 6796.08it/s]\u001b[A\n",
      "44437it [00:06, 6782.60it/s]\u001b[A\n",
      "45117it [00:06, 6590.34it/s]\u001b[A\n",
      "45779it [00:06, 6543.15it/s]\u001b[A\n",
      "46435it [00:06, 6470.63it/s]\u001b[A\n",
      "47097it [00:06, 6513.48it/s]\u001b[A\n",
      "47750it [00:06, 6172.31it/s]\u001b[A\n",
      "48498it [00:06, 6508.29it/s]\u001b[A\n",
      "49175it [00:07, 6582.77it/s]\u001b[A\n",
      "49872it [00:07, 6692.42it/s]\u001b[A\n",
      "50611it [00:07, 6886.85it/s]\u001b[A\n",
      "51305it [00:07, 6772.05it/s]\u001b[A\n",
      "51986it [00:07, 6540.54it/s]\u001b[A\n",
      "52673it [00:07, 6634.49it/s]\u001b[A\n",
      "53340it [00:07, 6426.52it/s]\u001b[A\n",
      "53987it [00:07, 6340.38it/s]\u001b[A\n",
      "54624it [00:07, 6207.01it/s]\u001b[A\n",
      "55248it [00:08, 6174.11it/s]\u001b[A\n",
      "55878it [00:08, 6209.58it/s]\u001b[A\n",
      "56563it [00:08, 6388.20it/s]\u001b[A\n",
      "57205it [00:08, 5965.88it/s]\u001b[A\n",
      "57847it [00:08, 6094.92it/s]\u001b[A\n",
      "58596it [00:08, 6454.17it/s]\u001b[A\n",
      "59282it [00:08, 6569.79it/s]\u001b[A\n",
      "60013it [00:08, 6774.73it/s]\u001b[A\n",
      "60715it [00:08, 6845.13it/s]\u001b[A\n",
      "61424it [00:08, 6914.57it/s]\u001b[A\n",
      "62120it [00:09, 6892.53it/s]\u001b[A\n",
      "62855it [00:09, 7019.72it/s]\u001b[A\n",
      "63632it [00:09, 7227.30it/s]\u001b[A\n",
      "64414it [00:09, 7392.50it/s]\u001b[A\n",
      "65157it [00:09, 7328.95it/s]\u001b[A\n",
      "65893it [00:09, 7217.58it/s]\u001b[A\n",
      "66617it [00:09, 6977.53it/s]\u001b[A\n",
      "67335it [00:09, 7036.15it/s]\u001b[A\n",
      "68086it [00:09, 7170.47it/s]\u001b[A\n",
      "68806it [00:09, 7166.61it/s]\u001b[A\n",
      "69525it [00:10, 6840.53it/s]\u001b[A\n",
      "70214it [00:10, 6604.99it/s]\u001b[A\n",
      "70880it [00:10, 6604.32it/s]\u001b[A\n",
      "71544it [00:10, 6542.69it/s]\u001b[A\n",
      "72281it [00:10, 6769.43it/s]\u001b[A\n",
      "72962it [00:10, 6678.91it/s]\u001b[A\n",
      "73633it [00:10, 6636.95it/s]\u001b[A\n",
      "74328it [00:10, 6725.81it/s]\u001b[A\n",
      "75003it [00:10, 6606.39it/s]\u001b[A\n",
      "75666it [00:11, 6594.10it/s]\u001b[A\n",
      "76370it [00:11, 6720.26it/s]\u001b[A\n",
      "77100it [00:11, 6884.26it/s]\u001b[A\n",
      "77818it [00:11, 6970.17it/s]\u001b[A\n",
      "78565it [00:11, 7112.10it/s]\u001b[A\n",
      "79286it [00:11, 7140.23it/s]\u001b[A\n",
      "80002it [00:11, 6900.15it/s]\u001b[A\n",
      "80695it [00:11, 6894.62it/s]\u001b[A\n",
      "81412it [00:11, 6974.63it/s]\u001b[A\n",
      "82111it [00:11, 6877.53it/s]\u001b[A\n",
      "82869it [00:12, 7073.29it/s]\u001b[A\n",
      "83635it [00:12, 7237.74it/s]\u001b[A\n",
      "84362it [00:12, 7210.34it/s]\u001b[A\n",
      "85085it [00:12, 7054.08it/s]\u001b[A\n",
      "85793it [00:12, 6701.36it/s]\u001b[A\n",
      "86477it [00:12, 6738.46it/s]\u001b[A\n",
      "87155it [00:12, 6616.21it/s]\u001b[A\n",
      "87830it [00:12, 6654.50it/s]\u001b[A\n",
      "88498it [00:12, 6291.93it/s]\u001b[A\n",
      "89133it [00:12, 6308.71it/s]\u001b[A\n",
      "89838it [00:13, 6512.21it/s]\u001b[A\n",
      "90522it [00:13, 6605.40it/s]\u001b[A\n",
      "91186it [00:13, 6534.20it/s]\u001b[A\n",
      "91848it [00:13, 6558.13it/s]\u001b[A\n",
      "92506it [00:13, 5921.00it/s]\u001b[A\n",
      "93112it [00:13, 5213.01it/s]\u001b[A\n",
      "93170it [00:13, 6807.70it/s]\u001b[A"
     ]
    }
   ],
   "source": [
    "from sklearn.preprocessing import scale\n",
    "features = np.concatenate([buildWordVector(z, 150) for z in tqdm(map(lambda x: x, data.tokens))])\n",
    "features = scale(features)\n",
    "\n"
   ]
  },
  {
   "cell_type": "markdown",
   "metadata": {},
   "source": [
    "# Vectorizing the tweet using the embedding model"
   ]
  },
  {
   "cell_type": "code",
   "execution_count": 90,
   "metadata": {},
   "outputs": [
    {
     "name": "stdout",
     "output_type": "stream",
     "text": [
      "Execution time =  1107.3146092891693\n"
     ]
    }
   ],
   "source": [
    "start = time.time()\n",
    "\n",
    "models = [\n",
    "    RandomForestClassifier(n_estimators=200, max_depth=3, random_state=0),\n",
    "    LinearSVC(),\n",
    "    MLPClassifier(),\n",
    "    #MultinomialNB(),\n",
    "    LogisticRegression(random_state=0),\n",
    "]\n",
    "CV = 5\n",
    "cv_df = pd.DataFrame(index=range(CV * len(models)))\n",
    "entries = []\n",
    "for model in models:\n",
    "  model_name = model.__class__.__name__\n",
    "  accuracies = cross_val_score(model, features, labels, scoring='accuracy', cv=CV)\n",
    "  for fold_idx, accuracy in enumerate(accuracies):\n",
    "    entries.append((model_name, fold_idx, accuracy))\n",
    "cv_df = pd.DataFrame(entries, columns=['model_name', 'fold_idx', 'accuracy'])\n",
    "print(\"Execution time =  {}\".format(time.time()-start))"
   ]
  },
  {
   "cell_type": "code",
   "execution_count": 91,
   "metadata": {},
   "outputs": [
    {
     "data": {
      "image/png": "[encoded data removed]",
      "text/plain": [
       "<Figure size 432x288 with 1 Axes>"
      ]
     },
     "metadata": {
      "needs_background": "light"
     },
     "output_type": "display_data"
    }
   ],
   "source": [
    "sns.boxplot(x='model_name', y='accuracy', data=cv_df)\n",
    "sns.stripplot(x='model_name', y='accuracy', data=cv_df, \n",
    "              size=8, jitter=True, edgecolor=\"gray\", linewidth=2)\n",
    "#plt.show()\n",
    "plt.savefig('plot/word2Vec/models.jpg')"
   ]
  },
  {
   "cell_type": "code",
   "execution_count": 92,
   "metadata": {},
   "outputs": [
    {
     "data": {
      "text/plain": [
       "model_name\n",
       "LinearSVC                 0.953878\n",
       "LogisticRegression        0.948758\n",
       "MLPClassifier             0.930909\n",
       "RandomForestClassifier    0.844925\n",
       "Name: accuracy, dtype: float64"
      ]
     },
     "execution_count": 92,
     "metadata": {},
     "output_type": "execute_result"
    }
   ],
   "source": [
    "cv_df.groupby('model_name').accuracy.mean()"
   ]
  },
  {
   "cell_type": "markdown",
   "metadata": {},
   "source": [
    "## Support Vector Machine"
   ]
  },
  {
   "cell_type": "code",
   "execution_count": 93,
   "metadata": {},
   "outputs": [],
   "source": [
    "model = LinearSVC()\n",
    "\n",
    "X_train, X_test, y_train, y_test, indices_train, indices_test = train_test_split(features, labels, df.index, test_size=0.33, random_state=0)\n",
    "model.fit(X_train, y_train)\n",
    "y_pred = model.predict(X_test)"
   ]
  },
  {
   "cell_type": "code",
   "execution_count": 96,
   "metadata": {},
   "outputs": [
    {
     "name": "stdout",
     "output_type": "stream",
     "text": [
      "              precision    recall  f1-score   support\n",
      "\n",
      "   Infection       0.95      0.99      0.97      9122\n",
      "     Concern       0.00      0.00      0.00       294\n",
      "     Vaccine       0.99      0.99      0.99      9258\n",
      "    Campaign       0.99      0.99      0.99      3340\n",
      "        News       0.99      0.98      0.98      8733\n",
      "\n",
      "   micro avg       0.98      0.98      0.98     30747\n",
      "   macro avg       0.78      0.79      0.79     30747\n",
      "weighted avg       0.97      0.98      0.97     30747\n",
      "\n"
     ]
    },
    {
     "data": {
      "image/png": "[encoded data removed]",
      "text/plain": [
       "<Figure size 576x432 with 2 Axes>"
      ]
     },
     "metadata": {
      "needs_background": "light"
     },
     "output_type": "display_data"
    }
   ],
   "source": [
    "from sklearn.metrics import classification_report\n",
    "\n",
    "conf_mat = confusion_matrix(y_test, y_pred)\n",
    "\n",
    "target_names=['Infection','Concern','Vaccine','Campaign','News']\n",
    "print(classification_report(y_test, y_pred, target_names=target_names))\n",
    "\n",
    "\n",
    "fig, ax = plt.subplots(figsize=(8,6))\n",
    "sns.heatmap(conf_mat, annot=True, fmt='d',\n",
    "            xticklabels=category_id_df.Category.values, yticklabels=category_id_df.Category.values)\n",
    "plt.ylabel('Actual')\n",
    "plt.xlabel('Predicted')\n",
    "plt.savefig('plot/word2Vec/svm.jpg')\n",
    "plt.show()"
   ]
  },
  {
   "cell_type": "markdown",
   "metadata": {},
   "source": [
    "## ANN"
   ]
  },
  {
   "cell_type": "code",
   "execution_count": 97,
   "metadata": {},
   "outputs": [],
   "source": [
    "model_ann = MLPClassifier()\n",
    "model_ann.fit(X_train, y_train)\n",
    "y_pred = model_ann.predict(X_test)"
   ]
  },
  {
   "cell_type": "code",
   "execution_count": 98,
   "metadata": {},
   "outputs": [
    {
     "name": "stdout",
     "output_type": "stream",
     "text": [
      "              precision    recall  f1-score   support\n",
      "\n",
      "   Infection       0.96      0.97      0.97      9122\n",
      "     Concern       0.31      0.27      0.29       294\n",
      "     Vaccine       0.99      0.99      0.99      9258\n",
      "    Campaign       0.99      0.99      0.99      3340\n",
      "        News       0.99      0.99      0.99      8733\n",
      "\n",
      "   micro avg       0.98      0.98      0.98     30747\n",
      "   macro avg       0.85      0.84      0.85     30747\n",
      "weighted avg       0.98      0.98      0.98     30747\n",
      "\n"
     ]
    },
    {
     "data": {
      "image/png": "[encoded data removed]",
      "text/plain": [
       "<Figure size 576x432 with 2 Axes>"
      ]
     },
     "metadata": {
      "needs_background": "light"
     },
     "output_type": "display_data"
    }
   ],
   "source": [
    "from sklearn.metrics import classification_report\n",
    "\n",
    "conf_mat = confusion_matrix(y_test, y_pred)\n",
    "\n",
    "target_names=['Infection','Concern','Vaccine','Campaign','News']\n",
    "print(classification_report(y_test, y_pred, target_names=target_names))\n",
    "\n",
    "fig, ax = plt.subplots(figsize=(8,6))\n",
    "sns.heatmap(conf_mat, annot=True, fmt='d',\n",
    "            xticklabels=category_id_df.Category.values, yticklabels=category_id_df.Category.values)\n",
    "plt.ylabel('Actual')\n",
    "plt.xlabel('Predicted')\n",
    "plt.savefig('plot/word2Vec/ann.jpg')\n",
    "plt.show()"
   ]
  },
  {
   "cell_type": "markdown",
   "metadata": {},
   "source": [
    "## Random Forest"
   ]
  },
  {
   "cell_type": "code",
   "execution_count": 99,
   "metadata": {},
   "outputs": [],
   "source": [
    "model_rf = RandomForestClassifier(n_estimators=200, max_depth=3, random_state=0)\n",
    "model_rf.fit(X_train, y_train)\n",
    "y_pred = model_rf.predict(X_test)"
   ]
  },
  {
   "cell_type": "code",
   "execution_count": 100,
   "metadata": {},
   "outputs": [
    {
     "name": "stdout",
     "output_type": "stream",
     "text": [
      "              precision    recall  f1-score   support\n",
      "\n",
      "   Infection       0.82      0.90      0.86      9122\n",
      "     Concern       0.00      0.00      0.00       294\n",
      "     Vaccine       0.93      0.91      0.92      9258\n",
      "    Campaign       0.95      0.76      0.85      3340\n",
      "        News       0.84      0.86      0.85      8733\n",
      "\n",
      "   micro avg       0.87      0.87      0.87     30747\n",
      "   macro avg       0.71      0.69      0.70     30747\n",
      "weighted avg       0.87      0.87      0.87     30747\n",
      "\n"
     ]
    },
    {
     "data": {
      "image/png": "[encoded data removed]",
      "text/plain": [
       "<Figure size 576x432 with 2 Axes>"
      ]
     },
     "metadata": {
      "needs_background": "light"
     },
     "output_type": "display_data"
    }
   ],
   "source": [
    "from sklearn.metrics import classification_report\n",
    "\n",
    "conf_mat = confusion_matrix(y_test, y_pred)\n",
    "\n",
    "target_names=['Infection','Concern','Vaccine','Campaign','News']\n",
    "print(classification_report(y_test, y_pred, target_names=target_names))\n",
    "\n",
    "fig, ax = plt.subplots(figsize=(8,6))\n",
    "sns.heatmap(conf_mat, annot=True, fmt='d',\n",
    "            xticklabels=category_id_df.Category.values, yticklabels=category_id_df.Category.values)\n",
    "plt.ylabel('Actual')\n",
    "plt.xlabel('Predicted')\n",
    "plt.savefig('plot/word2Vec/rf.jpg')\n",
    "plt.show()"
   ]
  },
  {
   "cell_type": "markdown",
   "metadata": {},
   "source": [
    "## Logistic Regression"
   ]
  },
  {
   "cell_type": "code",
   "execution_count": 101,
   "metadata": {},
   "outputs": [],
   "source": [
    "model_lr =  LogisticRegression(random_state=0)\n",
    "model_lr.fit(X_train, y_train)\n",
    "y_pred = model_lr.predict(X_test)"
   ]
  },
  {
   "cell_type": "code",
   "execution_count": 102,
   "metadata": {},
   "outputs": [
    {
     "name": "stdout",
     "output_type": "stream",
     "text": [
      "              precision    recall  f1-score   support\n",
      "\n",
      "   Infection       0.95      0.98      0.97      9122\n",
      "     Concern       0.00      0.00      0.00       294\n",
      "     Vaccine       0.99      0.99      0.99      9258\n",
      "    Campaign       0.99      0.98      0.99      3340\n",
      "        News       0.98      0.98      0.98      8733\n",
      "\n",
      "   micro avg       0.97      0.97      0.97     30747\n",
      "   macro avg       0.78      0.79      0.78     30747\n",
      "weighted avg       0.97      0.97      0.97     30747\n",
      "\n"
     ]
    },
    {
     "data": {
      "image/png": "[encoded data removed]",
      "text/plain": [
       "<Figure size 576x432 with 2 Axes>"
      ]
     },
     "metadata": {
      "needs_background": "light"
     },
     "output_type": "display_data"
    }
   ],
   "source": [
    "from sklearn.metrics import classification_report\n",
    "\n",
    "conf_mat = confusion_matrix(y_test, y_pred)\n",
    "\n",
    "target_names=['Infection','Concern','Vaccine','Campaign','News']\n",
    "print(classification_report(y_test, y_pred, target_names=target_names))\n",
    "\n",
    "fig, ax = plt.subplots(figsize=(8,6))\n",
    "sns.heatmap(conf_mat, annot=True, fmt='d',\n",
    "            xticklabels=category_id_df.Category.values, yticklabels=category_id_df.Category.values)\n",
    "plt.ylabel('Actual')\n",
    "plt.xlabel('Predicted')\n",
    "plt.savefig('plot/word2Vec/lr.jpg')\n",
    "plt.show()"
   ]
  },
  {
   "cell_type": "code",
   "execution_count": null,
   "metadata": {},
   "outputs": [],
   "source": []
  }
 ],
 "metadata": {
  "kernelspec": {
   "display_name": "Python 3",
   "language": "python",
   "name": "python3"
  },
  "language_info": {
   "codemirror_mode": {
    "name": "ipython",
    "version": 3
   },
   "file_extension": ".py",
   "mimetype": "text/x-python",
   "name": "python",
   "nbconvert_exporter": "python",
   "pygments_lexer": "ipython3",
   "version": "3.6.6"
  }
 },
 "nbformat": 4,
 "nbformat_minor": 2
}
