{
 "cells": [
  {
   "cell_type": "markdown",
   "metadata": {},
   "source": [
    "# Data Cleaning"
   ]
  },
  {
   "cell_type": "code",
   "execution_count": 1,
   "metadata": {},
   "outputs": [],
   "source": [
    "from cleaner import*\n",
    "import json\n",
    "import pandas as pd\n",
    "from langdetect import detect\n",
    "from normalizer import *\n",
    "from glob import glob"
   ]
  },
  {
   "cell_type": "code",
   "execution_count": 2,
   "metadata": {},
   "outputs": [],
   "source": [
    "raw_data=[]\n",
    "f = open(\"default-data.txt\", \"r\")\n",
    "for x in f:\n",
    "  raw_data.append(x)"
   ]
  },
  {
   "cell_type": "code",
   "execution_count": 3,
   "metadata": {},
   "outputs": [
    {
     "name": "stdout",
     "output_type": "stream",
     "text": [
      "63\n"
     ]
    }
   ],
   "source": [
    "print(len(raw_data))"
   ]
  },
  {
   "cell_type": "markdown",
   "metadata": {},
   "source": [
    "## Language Cheching "
   ]
  },
  {
   "cell_type": "code",
   "execution_count": 4,
   "metadata": {},
   "outputs": [],
   "source": [
    "data=[]\n",
    "for msg in raw_data:\n",
    "    try: \n",
    "        if detect(msg)=='en':\n",
    "            data.append(msg)\n",
    "    except:\n",
    "        pass"
   ]
  },
  {
   "cell_type": "markdown",
   "metadata": {},
   "source": [
    "## Make text lowercase, remove text in square brackets, remove punctuation and remove words containing numbers"
   ]
  },
  {
   "cell_type": "code",
   "execution_count": null,
   "metadata": {},
   "outputs": [],
   "source": [
    "# Apply a first round of text cleaning techniques\n",
    "import re\n",
    "import string\n",
    "\n",
    "def clean_text_round1(text):\n",
    "    text = text.lower()\n",
    "    text = re.sub('\\[.*?\\]', '', text)\n",
    "    text = re.sub('[%s]' % re.escape(string.punctuation), '', text)\n",
    "    text = re.sub('\\w*\\d\\w*', '', text)\n",
    "    return text"
   ]
  },
  {
   "cell_type": "code",
   "execution_count": null,
   "metadata": {},
   "outputs": [],
   "source": [
    "data1=[]\n",
    "for text in data:\n",
    "    data1.append(clean_text_round1(text))"
   ]
  },
  {
   "cell_type": "code",
   "execution_count": null,
   "metadata": {},
   "outputs": [],
   "source": [
    "# Apply a second round of cleaning\n",
    "def clean_text_round2(text):\n",
    "    '''Get rid of some additional punctuation and non-sensical text that was missed the first time around.'''\n",
    "    text = re.sub('[‘’“”…]', '', text)\n",
    "    text = re.sub('\\n', '', text)\n",
    "    return text\n"
   ]
  },
  {
   "cell_type": "code",
   "execution_count": null,
   "metadata": {},
   "outputs": [],
   "source": [
    "data2=[]\n",
    "for text in data1:\n",
    "    data2.append(clean_text_round2(text))"
   ]
  },
  {
   "cell_type": "code",
   "execution_count": null,
   "metadata": {},
   "outputs": [],
   "source": [
    "for text in data2:\n",
    "    print(text)"
   ]
  },
  {
   "cell_type": "code",
   "execution_count": null,
   "metadata": {},
   "outputs": [],
   "source": [
    "from textblob import TextBlob\n",
    "import nltk\n",
    "english_vocab = set(w.lower() for w in nltk.corpus.words.words())"
   ]
  },
  {
   "cell_type": "code",
   "execution_count": null,
   "metadata": {},
   "outputs": [],
   "source": [
    "lemma=[]\n",
    "for text in data2:\n",
    "    temp=[]\n",
    "    text_join=''\n",
    "    sentence=TextBlob(text)\n",
    "    sentence=sentence.correct()\n",
    "    for word in sentence.words:\n",
    "        if word in english_vocab:\n",
    "            temp.append(word.lemmatize('v'))\n",
    "        else:\n",
    "            pass\n",
    "    text_join=' '.join(temp)\n",
    "    lemma.append(text_join)"
   ]
  },
  {
   "cell_type": "code",
   "execution_count": null,
   "metadata": {},
   "outputs": [],
   "source": [
    "print(lemma)"
   ]
  },
  {
   "cell_type": "code",
   "execution_count": null,
   "metadata": {},
   "outputs": [],
   "source": [
    "myfile = open('default-data.txt', 'w')\n",
    "for line in lemma:\n",
    "    if len(line.split()) > 4:\n",
    "        myfile.write(\"%s\\n\" % line)\n",
    "myfile.close()"
   ]
  },
  {
   "cell_type": "code",
   "execution_count": null,
   "metadata": {},
   "outputs": [],
   "source": [
    "for text in lemma:\n",
    "    print(text)"
   ]
  },
  {
   "cell_type": "code",
   "execution_count": null,
   "metadata": {},
   "outputs": [],
   "source": [
    "from nltk.corpus import stopwords \n",
    "from nltk.tokenize import word_tokenize \n",
    "stop_words = ['ourselves', 'hers', 'between', 'yourself', \n",
    "              'but', 'again', 'there', 'about', 'once', \n",
    "              'during', 'out', 'very', 'with', 'they',\n",
    "              'own', 'an', 'be', 'some', 'for', 'do', 'its', \n",
    "              'yours', 'such', 'into', 'of', 'most', 'itself',\n",
    "              'other', 'off', 'is', 's', 'am', 'or', 'who', 'as', \n",
    "              'from', 'him', 'each', 'the', 'themselves', 'until', \n",
    "              'below', 'are', 'we', 'these', 'your', 'his', 'through', 'don',\n",
    "              'nor', 'me', 'were', 'her', 'more', 'himself', 'this', 'down', \n",
    "              'should', 'our', 'their', 'while', 'above', 'both', 'up', 'to', 'ours', \n",
    "              'she', 'all', 'no', 'when', 'at', 'any', 'before', 'them', 'same', 'and', \n",
    "              'been', 'in', 'will', 'on', 'does', 'yourselves', 'then', 'that', 'because',\n",
    "              'what', 'over', 'why', 'so', 'can', 'did', 'not', 'now', 'under', 'he', 'you',\n",
    "              'herself', 'just', 'where', 'too', 'only', 'myself', 'which', 'those', 'i', 'after',\n",
    "              'few', 'whom', 't', 'being', 'if', 'theirs', 'my', 'against', 'a', 'by', 'doing', 'it', \n",
    "              'how', 'further', 'was', 'here', 'than']\n",
    "\n",
    "filtered_data=[]\n",
    "for text in lemma:\n",
    "    temp=[]\n",
    "    text_join=''\n",
    "    word_tokens = word_tokenize(text) \n",
    "    for word in word_tokens:\n",
    "        if word not in stop_words:\n",
    "            temp.append(word)\n",
    "        else:\n",
    "            pass\n",
    "    text_join=' '.join(temp)\n",
    "    filtered_data.append(text_join)"
   ]
  },
  {
   "cell_type": "code",
   "execution_count": null,
   "metadata": {},
   "outputs": [],
   "source": [
    "print(filtered_data)"
   ]
  },
  {
   "cell_type": "code",
   "execution_count": null,
   "metadata": {},
   "outputs": [],
   "source": [
    "myfile = open('filtered-data.txt', 'w')\n",
    "for line in filtered_data:\n",
    "    if len(line.split()) > 4:\n",
    "        myfile.write(\"%s\\n\" % line)\n",
    "myfile.close()"
   ]
  },
  {
   "cell_type": "code",
   "execution_count": null,
   "metadata": {},
   "outputs": [],
   "source": []
  }
 ],
 "metadata": {
  "kernelspec": {
   "display_name": "Python 3",
   "language": "python",
   "name": "python3"
  },
  "language_info": {
   "codemirror_mode": {
    "name": "ipython",
    "version": 3
   },
   "file_extension": ".py",
   "mimetype": "text/x-python",
   "name": "python",
   "nbconvert_exporter": "python",
   "pygments_lexer": "ipython3",
   "version": "3.6.6"
  },
  "toc": {
   "nav_menu": {},
   "number_sections": true,
   "sideBar": true,
   "skip_h1_title": false,
   "toc_cell": false,
   "toc_position": {},
   "toc_section_display": "block",
   "toc_window_display": false
  },
  "varInspector": {
   "cols": {
    "lenName": 16,
    "lenType": 16,
    "lenVar": 40
   },
   "kernels_config": {
    "python": {
     "delete_cmd_postfix": "",
     "delete_cmd_prefix": "del ",
     "library": "var_list.py",
     "varRefreshCmd": "print(var_dic_list())"
    },
    "r": {
     "delete_cmd_postfix": ") ",
     "delete_cmd_prefix": "rm(",
     "library": "var_list.r",
     "varRefreshCmd": "cat(var_dic_list()) "
    }
   },
   "types_to_exclude": [
    "module",
    "function",
    "builtin_function_or_method",
    "instance",
    "_Feature"
   ],
   "window_display": false
  }
 },
 "nbformat": 4,
 "nbformat_minor": 2
}
