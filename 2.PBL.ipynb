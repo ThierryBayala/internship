{
 "cells": [
  {
   "cell_type": "markdown",
   "metadata": {},
   "source": [
    "<div style=\"background-color:maroon;width:100%;color:white;font-size:20px;padding-top:20px;padding-bottom:20px;padding-left:15px;font-weight:bold\"><p>OVERVIEW TASK 1: Project Based Learning (PBL)</p></div>\n",
    "\n",
    "\n",
    "Machine Learning is on of the technique of artificial intelligence that is widely use in many field such as healthcare , agriculture, linguistic and so on. The context of this problem-based learning course is to provide to the students in MSc the basic knowledge about Natural Language Processing through a pratical example. "
   ]
  },
  {
   "cell_type": "markdown",
   "metadata": {},
   "source": [
    "<strong>OBJECTIVE OF THE PROJECT</strong>\n",
    "<hr style=`backgound-color:black;height:2px`>\n",
    "<ol>\n",
    "    <li>Data Exploration Methods</li>\n",
    "    <li>Data Cleanning Process</li>\n",
    "    <li>Text Embeddings Method</li> \n",
    "    <li>Text Data Classification </li>\n",
    "</ol>"
   ]
  },
  {
   "cell_type": "markdown",
   "metadata": {},
   "source": [
    "<strong>ABOUT THE DATASET</strong>\n",
    "<hr style=`backgound-color:black;height:2px`>\n",
    "\n",
    "For this pratical courses we will use customers support on twitter available on Kaggle. The datasets contains more than 1 million tweets including customers questions and the answers from the compaies. The dataset has 7 features describes as follow:\n",
    "<ul>\n",
    "    <li><strong>tweet_id:</strong> tweet_id is an unique identifier for each tweet in the dataset</li>\n",
    "    <li><strong>author_id:</strong>author_id is an unique identifier for each users in the dataset</li>\n",
    "    <li><strong>inbounded:</strong> inbounded is a boolean value which can be true or false if<br/> the tweet is a company answer or not.</li>\n",
    "    <li><strong>created_at:</strong> This date correspond to the date where the tweet posted <br/>by the users.</li>\n",
    "    <li><strong>text:</strong> text correspond to the customers inquiries or the companies answers</li>\n",
    "    <li><strong>response_tweet_id:</strong> IDs of tweets that are responses to this tweet, <br/>comma-separated.</li>\n",
    "    <li><strong>in_response_to_tweet_id:</strong> ID of the tweet this tweet is in response to, if<br/> any</li>\n",
    "    \n",
    "</ul>\n",
    "\n",
    "In additionnal the dataset has several languages such as english, french, and so on. "
   ]
  },
  {
   "cell_type": "markdown",
   "metadata": {},
   "source": [
    "<strong style=\"color:maroon\">HYPOTHESIS</strong>\n",
    "<hr style=`backgound-color:black;height:2px`>\n",
    "\n",
    "<p style=\"justify-content: center;padding:5px\">In this analysis we intend to build a classifier on the top of the datset of customer support on Twitter. Let's see how we can train classifier to classify the customer per companies based on their tweets. For the simplicity, let consider the following companies: Apple, Amazon, PlayStation, XboxSupport, TMobile and Uber_Support. </p>"
   ]
  },
  {
   "cell_type": "markdown",
   "metadata": {},
   "source": [
    "<strong>SOME CONCEPTS AND DEFINITION</strong>\n",
    "<hr style=`backgound-color:black;height:2px`>\n",
    "\n",
    "<ol>\n",
    "    <li>Natural Language Processing:</li>\n",
    "    <li>Supervised Machine Learning:</li>\n",
    "    <li>Tokenization:</li>\n",
    "    <li>Classification:</li>\n",
    "    <li>Words or Document Embedding:</li>\n",
    "    \n",
    "</ol>"
   ]
  },
  {
   "cell_type": "markdown",
   "metadata": {},
   "source": [
    "<strong>BASIC PYTHON PROGRAMMING</strong>\n",
    "<hr style=`backgound-color:black;height:2px`>\n",
    "\n",
    "This part of the module is to present briefly some libraries we used in this to students. In case the students are confortable with these libraries, they can just skip this part."
   ]
  },
  {
   "cell_type": "markdown",
   "metadata": {},
   "source": [
    "<strong style=\"color:maroon\">SOME LIBRARIES WE USE IN THIS COURSE</strong>\n",
    "<hr style=`backgound-color:black;height:2px`>\n",
    "\n",
    "<ol>\n",
    "    <li><strong>Pandas:</strong></li>\n",
    "    <li><strong>Gensim:</strong></li>\n",
    "    <li><strong>Matplolib:</strong></li>\n",
    "    <li><strong>Tensorflow:<strong></li>\n",
    "    <li><strong>Keras:</strong></li>\n",
    "    \n",
    "</ol>"
   ]
  },
  {
   "cell_type": "markdown",
   "metadata": {},
   "source": [
    "<strong>SOLUTION TO THE HYPOTHESIS</strong>\n",
    "<hr style=`backgound-color:black;height:2px`>"
   ]
  },
  {
   "cell_type": "markdown",
   "metadata": {},
   "source": [
    "## HYPOTHESIS 1"
   ]
  },
  {
   "cell_type": "code",
   "execution_count": 1,
   "metadata": {},
   "outputs": [],
   "source": [
    "import pandas as pd \n",
    "from string import ascii_letters, punctuation\n",
    "pd.options.mode.chained_assignment = None\n",
    "import numpy as np \n",
    "from copy import deepcopy\n",
    "import re\n",
    "import string\n",
    "import seaborn as sb\n",
    "from string import punctuation\n",
    "from random import shuffle\n",
    "from sklearn.feature_extraction.text import TfidfVectorizer\n",
    "import warnings\n",
    "warnings.filterwarnings('ignore')\n",
    "from sklearn.model_selection import train_test_split\n",
    "import matplotlib.pyplot as plt\n",
    "from tqdm import tqdm\n",
    "tqdm.pandas(desc=\"progress-cleanning\")\n",
    "from sklearn.preprocessing import scale\n",
    "import gensim\n",
    "from nltk.tokenize import TweetTokenizer\n",
    "tokenizer = TweetTokenizer()\n",
    "import warnings\n",
    "warnings.filterwarnings('ignore')"
   ]
  },
  {
   "cell_type": "markdown",
   "metadata": {},
   "source": [
    "#### LOADING THE DATASET IN A DATAFRAME"
   ]
  },
  {
   "cell_type": "code",
   "execution_count": 2,
   "metadata": {},
   "outputs": [
    {
     "name": "stdout",
     "output_type": "stream",
     "text": [
      "dataset loaded with shape (2811774, 7)\n"
     ]
    }
   ],
   "source": [
    "def ingest(path):\n",
    "    data = pd.read_csv(path)\n",
    "    \n",
    "    data = data[data.text.isnull() == False]\n",
    "    data = data[data['text'].isnull() == False]\n",
    "    data.reset_index(inplace=True)\n",
    "    data.drop('index', axis=1, inplace=True)\n",
    "    print('dataset loaded with shape', data.shape)    \n",
    "    return data\n",
    "\n",
    "data = ingest('twcs.csv')"
   ]
  },
  {
   "cell_type": "code",
   "execution_count": 3,
   "metadata": {},
   "outputs": [
    {
     "name": "stdout",
     "output_type": "stream",
     "text": [
      "Found 787346 first inbound messages.\n",
      "Found 875292 responses.\n",
      "Found 794299 responses from companies.\n"
     ]
    }
   ],
   "source": [
    "# Pick only inbound tweets that aren't in reply to anything...\n",
    "first_inbound = data[pd.isnull(data.in_response_to_tweet_id) & data.inbound]\n",
    "print('Found {} first inbound messages.'.format(len(first_inbound)))\n",
    "\n",
    "# Merge in all tweets in response\n",
    "inbounds_and_outbounds = pd.merge(first_inbound, data, left_on='tweet_id', \n",
    "                                  right_on='in_response_to_tweet_id')\n",
    "print(\"Found {} responses.\".format(len(inbounds_and_outbounds)))\n",
    "\n",
    "# Filter out cases where reply tweet isn't from company\n",
    "inbounds_and_outbounds = inbounds_and_outbounds[inbounds_and_outbounds.inbound_y ^ True]\n",
    "\n",
    "print(\"Found {} responses from companies.\".format(len(inbounds_and_outbounds)))\n"
   ]
  },
  {
   "cell_type": "code",
   "execution_count": 4,
   "metadata": {},
   "outputs": [],
   "source": [
    "df=inbounds_and_outbounds"
   ]
  },
  {
   "cell_type": "code",
   "execution_count": 5,
   "metadata": {},
   "outputs": [],
   "source": [
    "df=df.drop_duplicates(['tweet_id_x'], keep='first')"
   ]
  },
  {
   "cell_type": "code",
   "execution_count": 6,
   "metadata": {},
   "outputs": [],
   "source": [
    "array=['AppleSupport','AmazonHelp','AskPlayStation','XboxSupport','TMobileHelp','Uber_Support' ]\n",
    "\n",
    "df.loc[df['author_id_y'].isin(array)]\n",
    "df=df.loc[df['author_id_y'].isin(array)]"
   ]
  },
  {
   "cell_type": "code",
   "execution_count": 7,
   "metadata": {},
   "outputs": [],
   "source": [
    "df['category_id'] = df['author_id_y'].factorize()[0]\n",
    "from io import StringIO\n",
    "category_id_df = df[['author_id_y', 'category_id']].drop_duplicates().sort_values('category_id')\n",
    "category_to_id = dict(category_id_df.values)\n",
    "id_to_category = dict(category_id_df[['category_id', 'author_id_y']].values)"
   ]
  },
  {
   "cell_type": "code",
   "execution_count": 8,
   "metadata": {
    "scrolled": true
   },
   "outputs": [
    {
     "data": {
      "image/png": "[encoded data removed]",
      "text/plain": [
       "<Figure size 576x432 with 1 Axes>"
      ]
     },
     "metadata": {},
     "output_type": "display_data"
    }
   ],
   "source": [
    "sb.set()\n",
    "fig = plt.figure(figsize=(8,6))\n",
    "ax=df.groupby('author_id_y').text_x.count().plot.bar(rot=0)\n",
    "ax.set_xlabel(\"Company Name\")\n",
    "ax.set_ylabel(\"Customer First Tweet\")\n",
    "plt.savefig('chart.jpg', bbox_inches = \"tight\")\n",
    "plt.show()"
   ]
  },
  {
   "cell_type": "code",
   "execution_count": 9,
   "metadata": {},
   "outputs": [
    {
     "data": {
      "text/plain": [
       "10817"
      ]
     },
     "execution_count": 9,
     "metadata": {},
     "output_type": "execute_result"
    }
   ],
   "source": [
    "df.groupby('author_id_y').text_x.count().min()"
   ]
  },
  {
   "cell_type": "code",
   "execution_count": 10,
   "metadata": {},
   "outputs": [],
   "source": [
    "def sampling_k_elements(group, k=10817):\n",
    "    if len(group) < k:\n",
    "        return group\n",
    "    return group.sample(k)\n",
    "\n",
    "balanced = df.groupby('author_id_y').apply(sampling_k_elements).reset_index(drop=True)"
   ]
  },
  {
   "cell_type": "code",
   "execution_count": 11,
   "metadata": {},
   "outputs": [
    {
     "data": {
      "image/png": "[encoded data removed]",
      "text/plain": [
       "<Figure size 576x432 with 1 Axes>"
      ]
     },
     "metadata": {},
     "output_type": "display_data"
    }
   ],
   "source": [
    "fig = plt.figure(figsize=(8,6))\n",
    "ax=balanced.groupby('author_id_y').text_x.count().plot.bar(rot=0)\n",
    "ax.set_xlabel(\"Company Name\")\n",
    "ax.set_ylabel(\"Customer First Tweet\")\n",
    "plt.savefig('balancechart.jpg', bbox_inches = \"tight\")\n",
    "plt.show()"
   ]
  },
  {
   "cell_type": "code",
   "execution_count": 12,
   "metadata": {},
   "outputs": [
    {
     "data": {
      "text/html": [
       "<div>\n",
       "<style scoped>\n",
       "    .dataframe tbody tr th:only-of-type {\n",
       "        vertical-align: middle;\n",
       "    }\n",
       "\n",
       "    .dataframe tbody tr th {\n",
       "        vertical-align: top;\n",
       "    }\n",
       "\n",
       "    .dataframe thead th {\n",
       "        text-align: right;\n",
       "    }\n",
       "</style>\n",
       "<table border=\"1\" class=\"dataframe\">\n",
       "  <thead>\n",
       "    <tr style=\"text-align: right;\">\n",
       "      <th></th>\n",
       "      <th>created_at_x</th>\n",
       "      <th>created_at_y</th>\n",
       "    </tr>\n",
       "  </thead>\n",
       "  <tbody>\n",
       "    <tr>\n",
       "      <th>0</th>\n",
       "      <td>Mon Nov 27 09:48:54 +0000 2017</td>\n",
       "      <td>Mon Nov 27 10:03:27 +0000 2017</td>\n",
       "    </tr>\n",
       "    <tr>\n",
       "      <th>1</th>\n",
       "      <td>Sat Oct 28 23:08:30 +0000 2017</td>\n",
       "      <td>Sat Oct 28 23:15:00 +0000 2017</td>\n",
       "    </tr>\n",
       "  </tbody>\n",
       "</table>\n",
       "</div>"
      ],
      "text/plain": [
       "                     created_at_x                    created_at_y\n",
       "0  Mon Nov 27 09:48:54 +0000 2017  Mon Nov 27 10:03:27 +0000 2017\n",
       "1  Sat Oct 28 23:08:30 +0000 2017  Sat Oct 28 23:15:00 +0000 2017"
      ]
     },
     "execution_count": 12,
     "metadata": {},
     "output_type": "execute_result"
    }
   ],
   "source": [
    "balanced[['created_at_x','created_at_y']].head(2)"
   ]
  },
  {
   "cell_type": "code",
   "execution_count": 13,
   "metadata": {},
   "outputs": [],
   "source": [
    "balanced['time_created_at_x']=pd.to_datetime(balanced[\"created_at_x\"], format=\"%a %b %d %H:%M:%S +0000 %Y\")"
   ]
  },
  {
   "cell_type": "code",
   "execution_count": 14,
   "metadata": {},
   "outputs": [],
   "source": [
    "balanced['time_created_at_y']=pd.to_datetime(balanced[\"created_at_y\"], format=\"%a %b %d %H:%M:%S +0000 %Y\")"
   ]
  },
  {
   "cell_type": "code",
   "execution_count": 15,
   "metadata": {},
   "outputs": [
    {
     "data": {
      "text/html": [
       "<div>\n",
       "<style scoped>\n",
       "    .dataframe tbody tr th:only-of-type {\n",
       "        vertical-align: middle;\n",
       "    }\n",
       "\n",
       "    .dataframe tbody tr th {\n",
       "        vertical-align: top;\n",
       "    }\n",
       "\n",
       "    .dataframe thead th {\n",
       "        text-align: right;\n",
       "    }\n",
       "</style>\n",
       "<table border=\"1\" class=\"dataframe\">\n",
       "  <thead>\n",
       "    <tr style=\"text-align: right;\">\n",
       "      <th></th>\n",
       "      <th>created_at_x</th>\n",
       "      <th>time_created_at_x</th>\n",
       "    </tr>\n",
       "  </thead>\n",
       "  <tbody>\n",
       "    <tr>\n",
       "      <th>0</th>\n",
       "      <td>Mon Nov 27 09:48:54 +0000 2017</td>\n",
       "      <td>2017-11-27 09:48:54</td>\n",
       "    </tr>\n",
       "    <tr>\n",
       "      <th>1</th>\n",
       "      <td>Sat Oct 28 23:08:30 +0000 2017</td>\n",
       "      <td>2017-10-28 23:08:30</td>\n",
       "    </tr>\n",
       "  </tbody>\n",
       "</table>\n",
       "</div>"
      ],
      "text/plain": [
       "                     created_at_x   time_created_at_x\n",
       "0  Mon Nov 27 09:48:54 +0000 2017 2017-11-27 09:48:54\n",
       "1  Sat Oct 28 23:08:30 +0000 2017 2017-10-28 23:08:30"
      ]
     },
     "execution_count": 15,
     "metadata": {},
     "output_type": "execute_result"
    }
   ],
   "source": [
    "balanced[['created_at_x','time_created_at_x']].head(2)"
   ]
  },
  {
   "cell_type": "code",
   "execution_count": 16,
   "metadata": {},
   "outputs": [
    {
     "data": {
      "text/plain": [
       "0    873.0\n",
       "1    390.0\n",
       "Name: response_time, dtype: float64"
      ]
     },
     "execution_count": 16,
     "metadata": {},
     "output_type": "execute_result"
    }
   ],
   "source": [
    "time=balanced['time_created_at_y']-balanced['time_created_at_x']\n",
    "balanced['response_time']=time.dt.total_seconds()\n",
    "balanced['response_time'].head(2)"
   ]
  },
  {
   "cell_type": "code",
   "execution_count": 17,
   "metadata": {},
   "outputs": [
    {
     "data": {
      "text/plain": [
       "10748.330775630951"
      ]
     },
     "execution_count": 17,
     "metadata": {},
     "output_type": "execute_result"
    }
   ],
   "source": [
    "balanced['response_time'].mean()"
   ]
  },
  {
   "cell_type": "code",
   "execution_count": 18,
   "metadata": {},
   "outputs": [
    {
     "data": {
      "image/png": "[encoded data removed]",
      "text/plain": [
       "<Figure size 576x432 with 1 Axes>"
      ]
     },
     "metadata": {},
     "output_type": "display_data"
    }
   ],
   "source": [
    "fig = plt.figure(figsize=(8,6))\n",
    "ax=balanced.groupby('author_id_y').response_time.mean().plot.bar(rot=0)\n",
    "ax.set_xlabel(\"Company Name\")\n",
    "ax.set_ylabel(\"Mean Response Time (s)\")\n",
    "plt.savefig('response.jpg', bbox_inches = \"tight\")\n",
    "plt.show()"
   ]
  },
  {
   "cell_type": "markdown",
   "metadata": {},
   "source": [
    "## HYPOTHESIS 2"
   ]
  },
  {
   "cell_type": "code",
   "execution_count": 19,
   "metadata": {},
   "outputs": [
    {
     "data": {
      "text/plain": [
       "Index(['tweet_id_x', 'author_id_x', 'inbound_x', 'created_at_x', 'text_x',\n",
       "       'response_tweet_id_x', 'in_response_to_tweet_id_x', 'tweet_id_y',\n",
       "       'author_id_y', 'inbound_y', 'created_at_y', 'text_y',\n",
       "       'response_tweet_id_y', 'in_response_to_tweet_id_y', 'category_id',\n",
       "       'time_created_at_x', 'time_created_at_y', 'response_time'],\n",
       "      dtype='object')"
      ]
     },
     "execution_count": 19,
     "metadata": {},
     "output_type": "execute_result"
    }
   ],
   "source": [
    "balanced.columns"
   ]
  },
  {
   "cell_type": "code",
   "execution_count": 20,
   "metadata": {},
   "outputs": [
    {
     "data": {
      "text/html": [
       "<div>\n",
       "<style scoped>\n",
       "    .dataframe tbody tr th:only-of-type {\n",
       "        vertical-align: middle;\n",
       "    }\n",
       "\n",
       "    .dataframe tbody tr th {\n",
       "        vertical-align: top;\n",
       "    }\n",
       "\n",
       "    .dataframe thead th {\n",
       "        text-align: right;\n",
       "    }\n",
       "</style>\n",
       "<table border=\"1\" class=\"dataframe\">\n",
       "  <thead>\n",
       "    <tr style=\"text-align: right;\">\n",
       "      <th></th>\n",
       "      <th>text_x</th>\n",
       "      <th>response_time</th>\n",
       "    </tr>\n",
       "  </thead>\n",
       "  <tbody>\n",
       "    <tr>\n",
       "      <th>0</th>\n",
       "      <td>@AmazonHelp wenn ich AmazonPrime abschließe um...</td>\n",
       "      <td>873.0</td>\n",
       "    </tr>\n",
       "  </tbody>\n",
       "</table>\n",
       "</div>"
      ],
      "text/plain": [
       "                                              text_x  response_time\n",
       "0  @AmazonHelp wenn ich AmazonPrime abschließe um...          873.0"
      ]
     },
     "execution_count": 20,
     "metadata": {},
     "output_type": "execute_result"
    }
   ],
   "source": [
    "balanced[[\"text_x\",\"response_time\"]].head(1)"
   ]
  },
  {
   "cell_type": "markdown",
   "metadata": {},
   "source": [
    "#### SPECIAL CHARACTERS & LANGUAGE FILTERING"
   ]
  },
  {
   "cell_type": "code",
   "execution_count": 21,
   "metadata": {},
   "outputs": [],
   "source": [
    "# Apply a first round of text cleaning techniques\n",
    "import re\n",
    "import string\n",
    "\n",
    "def clean_text_round1(text):\n",
    "    text = text.lower()\n",
    "    text = re.sub('\\[.*?\\]', ' ', text)\n",
    "    text = re.sub('[%s]' % re.escape(string.punctuation), ' ', text)\n",
    "    text = re.sub('\\w*\\d\\w*', ' ', text)\n",
    "    return text"
   ]
  },
  {
   "cell_type": "code",
   "execution_count": 22,
   "metadata": {},
   "outputs": [],
   "source": [
    "# Apply a second round of cleaning\n",
    "def clean_text_round2(text):\n",
    "    '''Get rid of some additional punctuation and non-sensical text that was missed in the first time around.'''\n",
    "    text = re.sub('[‘’“”…]', ' ', text)\n",
    "    text = re.sub('\\n', ' ', text)\n",
    "    return text"
   ]
  },
  {
   "cell_type": "code",
   "execution_count": 23,
   "metadata": {},
   "outputs": [],
   "source": [
    "from langdetect import detect\n",
    "stop_words=[]\n",
    "def tokenize(tweet):\n",
    "    try:\n",
    "        if detect(tweet)==\"en\":\n",
    "                tweet=clean_text_round1(tweet)\n",
    "                tweet=clean_text_round2(tweet)\n",
    "                \n",
    "                #creating tokens for each tweet\n",
    "                tokens = tokenizer.tokenize(tweet.lower())\n",
    "                #Removing te stop words from the tweet\n",
    "                tokens=[w for w in tokens if not w in stop_words]\n",
    "                #Removing the htag of the company\n",
    "                others_word_to_remove=['applesupport','tmobilehelp','ubersupport','xboxsupport','amazonhelp','askplaystation']\n",
    "                tokens=[w for w in tokens if not w in others_word_to_remove]\n",
    "                #Removing special characters such as kanjis from the tokens\n",
    "                allowed = set(ascii_letters)\n",
    "                tokens=[word for word in tokens if any(letter in allowed for letter in word)]\n",
    "\n",
    "                try:\n",
    "                    #We used this filter function to remove all tokens starting with these charaters \n",
    "                    #in order to delete information such as URL username ,link and htags\n",
    "                    tokens = list(filter(lambda t: not t.startswith('@'), tokens))\n",
    "                    tokens = list(filter(lambda t: not t.startswith('#'), tokens))\n",
    "                    tokens = list(filter(lambda t: not t.startswith('http'), tokens))\n",
    "                    tokens = list(filter(lambda t: not t.startswith('www'), tokens))\n",
    "                    # Since the tokens contain a list of word for each tweet, we reconstruct the tweet by using the function join\n",
    "                    return \" \".join(tokens)\n",
    "                except:\n",
    "                    return 'NC'\n",
    "    except:\n",
    "        pass"
   ]
  },
  {
   "cell_type": "code",
   "execution_count": 24,
   "metadata": {},
   "outputs": [
    {
     "data": {
      "text/plain": [
       "(64902, 18)"
      ]
     },
     "execution_count": 24,
     "metadata": {},
     "output_type": "execute_result"
    }
   ],
   "source": [
    "balanced.shape"
   ]
  },
  {
   "cell_type": "code",
   "execution_count": 25,
   "metadata": {},
   "outputs": [
    {
     "name": "stderr",
     "output_type": "stream",
     "text": [
      "progress-cleanning: 100%|███████████████████████████████████████████████████████| 64902/64902 [08:44<00:00, 123.76it/s]\n"
     ]
    }
   ],
   "source": [
    "def postprocess(data, n=64902):\n",
    "    data = data.head(n)\n",
    "    data['cleaned_tweet'] = data['text_x'].progress_map(tokenize)\n",
    "    data = data[data.cleaned_tweet != 'NC']\n",
    "    data.reset_index(inplace=True)\n",
    "    \n",
    "    return data\n",
    "data_clean = postprocess(balanced)"
   ]
  },
  {
   "cell_type": "code",
   "execution_count": 26,
   "metadata": {},
   "outputs": [],
   "source": [
    "data_to_save=data_clean[data_clean['cleaned_tweet'].isnull() == False]"
   ]
  },
  {
   "cell_type": "code",
   "execution_count": 27,
   "metadata": {},
   "outputs": [
    {
     "data": {
      "text/html": [
       "<div>\n",
       "<style scoped>\n",
       "    .dataframe tbody tr th:only-of-type {\n",
       "        vertical-align: middle;\n",
       "    }\n",
       "\n",
       "    .dataframe tbody tr th {\n",
       "        vertical-align: top;\n",
       "    }\n",
       "\n",
       "    .dataframe thead th {\n",
       "        text-align: right;\n",
       "    }\n",
       "</style>\n",
       "<table border=\"1\" class=\"dataframe\">\n",
       "  <thead>\n",
       "    <tr style=\"text-align: right;\">\n",
       "      <th></th>\n",
       "      <th>text_x</th>\n",
       "      <th>cleaned_tweet</th>\n",
       "    </tr>\n",
       "  </thead>\n",
       "  <tbody>\n",
       "    <tr>\n",
       "      <th>1</th>\n",
       "      <td>Say, @115821 my tracking say my shit was delivered but I see no package👀</td>\n",
       "      <td>say my tracking say my shit was delivered but i see no package</td>\n",
       "    </tr>\n",
       "  </tbody>\n",
       "</table>\n",
       "</div>"
      ],
      "text/plain": [
       "                                                                     text_x  \\\n",
       "1  Say, @115821 my tracking say my shit was delivered but I see no package👀   \n",
       "\n",
       "                                                    cleaned_tweet  \n",
       "1  say my tracking say my shit was delivered but i see no package  "
      ]
     },
     "execution_count": 27,
     "metadata": {},
     "output_type": "execute_result"
    }
   ],
   "source": [
    "pd.set_option('display.max_colwidth', -1)\n",
    "data_to_save[[\"text_x\",\"cleaned_tweet\"]].head(1)"
   ]
  },
  {
   "cell_type": "code",
   "execution_count": 28,
   "metadata": {},
   "outputs": [
    {
     "data": {
      "text/html": [
       "<div>\n",
       "<style scoped>\n",
       "    .dataframe tbody tr th:only-of-type {\n",
       "        vertical-align: middle;\n",
       "    }\n",
       "\n",
       "    .dataframe tbody tr th {\n",
       "        vertical-align: top;\n",
       "    }\n",
       "\n",
       "    .dataframe thead th {\n",
       "        text-align: right;\n",
       "    }\n",
       "</style>\n",
       "<table border=\"1\" class=\"dataframe\">\n",
       "  <thead>\n",
       "    <tr style=\"text-align: right;\">\n",
       "      <th></th>\n",
       "      <th>cleaned_tweet</th>\n",
       "      <th>response_time</th>\n",
       "    </tr>\n",
       "  </thead>\n",
       "  <tbody>\n",
       "    <tr>\n",
       "      <th>1</th>\n",
       "      <td>say my tracking say my shit was delivered but i see no package</td>\n",
       "      <td>390.0</td>\n",
       "    </tr>\n",
       "  </tbody>\n",
       "</table>\n",
       "</div>"
      ],
      "text/plain": [
       "                                                    cleaned_tweet  \\\n",
       "1  say my tracking say my shit was delivered but i see no package   \n",
       "\n",
       "   response_time  \n",
       "1  390.0          "
      ]
     },
     "execution_count": 28,
     "metadata": {},
     "output_type": "execute_result"
    }
   ],
   "source": [
    "data_to_save[[\"cleaned_tweet\",\"response_time\"]].head(1)"
   ]
  },
  {
   "cell_type": "markdown",
   "metadata": {},
   "source": [
    "### Let create de function the tweet annotation\n",
    "\n",
    "Here we will use a library calles TextBlob which can be install through the following command: <strong>pip install textblob </strong>"
   ]
  },
  {
   "cell_type": "code",
   "execution_count": 29,
   "metadata": {},
   "outputs": [],
   "source": [
    "from textblob import TextBlob\n",
    "def annotator(tweet):\n",
    "    blob=TextBlob(tweet)\n",
    "    if blob.sentiment.polarity>0.5:\n",
    "        return \"positive\"\n",
    "    else:\n",
    "        return \"negative\""
   ]
  },
  {
   "cell_type": "code",
   "execution_count": 30,
   "metadata": {},
   "outputs": [
    {
     "name": "stderr",
     "output_type": "stream",
     "text": [
      "progress-cleanning: 100%|██████████████████████████████████████████████████████| 59693/59693 [00:20<00:00, 2916.12it/s]\n"
     ]
    }
   ],
   "source": [
    "def annotationprocess(data, n=59761):\n",
    "    data = data.head(n)\n",
    "    data['category'] = data['cleaned_tweet'].progress_map(annotator)\n",
    "    data.reset_index(inplace=True)\n",
    "    return data\n",
    "data_annotated = annotationprocess(data_to_save)"
   ]
  },
  {
   "cell_type": "code",
   "execution_count": 31,
   "metadata": {},
   "outputs": [
    {
     "data": {
      "text/plain": [
       "Index(['level_0', 'index', 'tweet_id_x', 'author_id_x', 'inbound_x',\n",
       "       'created_at_x', 'text_x', 'response_tweet_id_x',\n",
       "       'in_response_to_tweet_id_x', 'tweet_id_y', 'author_id_y', 'inbound_y',\n",
       "       'created_at_y', 'text_y', 'response_tweet_id_y',\n",
       "       'in_response_to_tweet_id_y', 'category_id', 'time_created_at_x',\n",
       "       'time_created_at_y', 'response_time', 'cleaned_tweet', 'category'],\n",
       "      dtype='object')"
      ]
     },
     "execution_count": 31,
     "metadata": {},
     "output_type": "execute_result"
    }
   ],
   "source": [
    "data_annotated.columns"
   ]
  },
  {
   "cell_type": "code",
   "execution_count": 32,
   "metadata": {},
   "outputs": [
    {
     "data": {
      "text/html": [
       "<div>\n",
       "<style scoped>\n",
       "    .dataframe tbody tr th:only-of-type {\n",
       "        vertical-align: middle;\n",
       "    }\n",
       "\n",
       "    .dataframe tbody tr th {\n",
       "        vertical-align: top;\n",
       "    }\n",
       "\n",
       "    .dataframe thead th {\n",
       "        text-align: right;\n",
       "    }\n",
       "</style>\n",
       "<table border=\"1\" class=\"dataframe\">\n",
       "  <thead>\n",
       "    <tr style=\"text-align: right;\">\n",
       "      <th></th>\n",
       "      <th>cleaned_tweet</th>\n",
       "      <th>category</th>\n",
       "      <th>response_time</th>\n",
       "      <th>author_id_y</th>\n",
       "    </tr>\n",
       "  </thead>\n",
       "  <tbody>\n",
       "    <tr>\n",
       "      <th>0</th>\n",
       "      <td>say my tracking say my shit was delivered but i see no package</td>\n",
       "      <td>negative</td>\n",
       "      <td>390.0</td>\n",
       "      <td>AmazonHelp</td>\n",
       "    </tr>\n",
       "    <tr>\n",
       "      <th>1</th>\n",
       "      <td>the amazon agent number is switched off amzagent please help</td>\n",
       "      <td>negative</td>\n",
       "      <td>1873.0</td>\n",
       "      <td>AmazonHelp</td>\n",
       "    </tr>\n",
       "    <tr>\n",
       "      <th>2</th>\n",
       "      <td>shout out to for being the worst company when it comes to dealing with fraud</td>\n",
       "      <td>negative</td>\n",
       "      <td>623.0</td>\n",
       "      <td>AmazonHelp</td>\n",
       "    </tr>\n",
       "    <tr>\n",
       "      <th>3</th>\n",
       "      <td>so much for service screw all your deliveries then proceed to be the rudest customer service explaining sometimes the drivers decide to not deliver sarcastically end the conversation and delete the chat beyond annoyed prime is so great now</td>\n",
       "      <td>negative</td>\n",
       "      <td>192.0</td>\n",
       "      <td>AmazonHelp</td>\n",
       "    </tr>\n",
       "    <tr>\n",
       "      <th>4</th>\n",
       "      <td>when amazon delivery crosses my home without stopping me arey bhai bhai bhai</td>\n",
       "      <td>negative</td>\n",
       "      <td>3267.0</td>\n",
       "      <td>AmazonHelp</td>\n",
       "    </tr>\n",
       "  </tbody>\n",
       "</table>\n",
       "</div>"
      ],
      "text/plain": [
       "                                                                                                                                                                                                                                     cleaned_tweet  \\\n",
       "0  say my tracking say my shit was delivered but i see no package                                                                                                                                                                                    \n",
       "1  the amazon agent number is switched off amzagent please help                                                                                                                                                                                      \n",
       "2  shout out to for being the worst company when it comes to dealing with fraud                                                                                                                                                                      \n",
       "3  so much for service screw all your deliveries then proceed to be the rudest customer service explaining sometimes the drivers decide to not deliver sarcastically end the conversation and delete the chat beyond annoyed prime is so great now   \n",
       "4  when amazon delivery crosses my home without stopping me arey bhai bhai bhai                                                                                                                                                                      \n",
       "\n",
       "   category  response_time author_id_y  \n",
       "0  negative  390.0          AmazonHelp  \n",
       "1  negative  1873.0         AmazonHelp  \n",
       "2  negative  623.0          AmazonHelp  \n",
       "3  negative  192.0          AmazonHelp  \n",
       "4  negative  3267.0         AmazonHelp  "
      ]
     },
     "execution_count": 32,
     "metadata": {},
     "output_type": "execute_result"
    }
   ],
   "source": [
    "data_annotated[[\"cleaned_tweet\",\"category\", \"response_time\",\"author_id_y\"]].head()"
   ]
  },
  {
   "cell_type": "markdown",
   "metadata": {},
   "source": [
    "Positive per Company / Negative per Company"
   ]
  },
  {
   "cell_type": "code",
   "execution_count": 33,
   "metadata": {},
   "outputs": [],
   "source": [
    "group_company=data_annotated.groupby(['author_id_y','category'])[\"category\"].count().reset_index(name=\"count\")"
   ]
  },
  {
   "cell_type": "code",
   "execution_count": 34,
   "metadata": {},
   "outputs": [
    {
     "data": {
      "text/html": [
       "<div>\n",
       "<style scoped>\n",
       "    .dataframe tbody tr th:only-of-type {\n",
       "        vertical-align: middle;\n",
       "    }\n",
       "\n",
       "    .dataframe tbody tr th {\n",
       "        vertical-align: top;\n",
       "    }\n",
       "\n",
       "    .dataframe thead th {\n",
       "        text-align: right;\n",
       "    }\n",
       "</style>\n",
       "<table border=\"1\" class=\"dataframe\">\n",
       "  <thead>\n",
       "    <tr style=\"text-align: right;\">\n",
       "      <th></th>\n",
       "      <th>author_id_y</th>\n",
       "      <th>category</th>\n",
       "      <th>count</th>\n",
       "    </tr>\n",
       "  </thead>\n",
       "  <tbody>\n",
       "    <tr>\n",
       "      <th>0</th>\n",
       "      <td>AmazonHelp</td>\n",
       "      <td>negative</td>\n",
       "      <td>7804</td>\n",
       "    </tr>\n",
       "    <tr>\n",
       "      <th>1</th>\n",
       "      <td>AmazonHelp</td>\n",
       "      <td>positive</td>\n",
       "      <td>217</td>\n",
       "    </tr>\n",
       "    <tr>\n",
       "      <th>2</th>\n",
       "      <td>AppleSupport</td>\n",
       "      <td>negative</td>\n",
       "      <td>10333</td>\n",
       "    </tr>\n",
       "    <tr>\n",
       "      <th>3</th>\n",
       "      <td>AppleSupport</td>\n",
       "      <td>positive</td>\n",
       "      <td>133</td>\n",
       "    </tr>\n",
       "    <tr>\n",
       "      <th>4</th>\n",
       "      <td>AskPlayStation</td>\n",
       "      <td>negative</td>\n",
       "      <td>9632</td>\n",
       "    </tr>\n",
       "    <tr>\n",
       "      <th>5</th>\n",
       "      <td>AskPlayStation</td>\n",
       "      <td>positive</td>\n",
       "      <td>127</td>\n",
       "    </tr>\n",
       "    <tr>\n",
       "      <th>6</th>\n",
       "      <td>TMobileHelp</td>\n",
       "      <td>negative</td>\n",
       "      <td>10123</td>\n",
       "    </tr>\n",
       "    <tr>\n",
       "      <th>7</th>\n",
       "      <td>TMobileHelp</td>\n",
       "      <td>positive</td>\n",
       "      <td>335</td>\n",
       "    </tr>\n",
       "    <tr>\n",
       "      <th>8</th>\n",
       "      <td>Uber_Support</td>\n",
       "      <td>negative</td>\n",
       "      <td>10438</td>\n",
       "    </tr>\n",
       "    <tr>\n",
       "      <th>9</th>\n",
       "      <td>Uber_Support</td>\n",
       "      <td>positive</td>\n",
       "      <td>168</td>\n",
       "    </tr>\n",
       "    <tr>\n",
       "      <th>10</th>\n",
       "      <td>XboxSupport</td>\n",
       "      <td>negative</td>\n",
       "      <td>10212</td>\n",
       "    </tr>\n",
       "    <tr>\n",
       "      <th>11</th>\n",
       "      <td>XboxSupport</td>\n",
       "      <td>positive</td>\n",
       "      <td>171</td>\n",
       "    </tr>\n",
       "  </tbody>\n",
       "</table>\n",
       "</div>"
      ],
      "text/plain": [
       "       author_id_y  category  count\n",
       "0   AmazonHelp      negative  7804 \n",
       "1   AmazonHelp      positive  217  \n",
       "2   AppleSupport    negative  10333\n",
       "3   AppleSupport    positive  133  \n",
       "4   AskPlayStation  negative  9632 \n",
       "5   AskPlayStation  positive  127  \n",
       "6   TMobileHelp     negative  10123\n",
       "7   TMobileHelp     positive  335  \n",
       "8   Uber_Support    negative  10438\n",
       "9   Uber_Support    positive  168  \n",
       "10  XboxSupport     negative  10212\n",
       "11  XboxSupport     positive  171  "
      ]
     },
     "execution_count": 34,
     "metadata": {},
     "output_type": "execute_result"
    }
   ],
   "source": [
    "group_company"
   ]
  },
  {
   "cell_type": "code",
   "execution_count": 35,
   "metadata": {},
   "outputs": [],
   "source": [
    "positive_df=group_company.loc[group_company[\"category\"]==\"positive\"]\n",
    "negative_df=group_company.loc[group_company[\"category\"]==\"negative\"]"
   ]
  },
  {
   "cell_type": "code",
   "execution_count": 36,
   "metadata": {},
   "outputs": [
    {
     "data": {
      "text/html": [
       "<div>\n",
       "<style scoped>\n",
       "    .dataframe tbody tr th:only-of-type {\n",
       "        vertical-align: middle;\n",
       "    }\n",
       "\n",
       "    .dataframe tbody tr th {\n",
       "        vertical-align: top;\n",
       "    }\n",
       "\n",
       "    .dataframe thead th {\n",
       "        text-align: right;\n",
       "    }\n",
       "</style>\n",
       "<table border=\"1\" class=\"dataframe\">\n",
       "  <thead>\n",
       "    <tr style=\"text-align: right;\">\n",
       "      <th></th>\n",
       "      <th>author_id_y</th>\n",
       "      <th>category</th>\n",
       "      <th>count</th>\n",
       "    </tr>\n",
       "  </thead>\n",
       "  <tbody>\n",
       "    <tr>\n",
       "      <th>1</th>\n",
       "      <td>AmazonHelp</td>\n",
       "      <td>positive</td>\n",
       "      <td>217</td>\n",
       "    </tr>\n",
       "    <tr>\n",
       "      <th>3</th>\n",
       "      <td>AppleSupport</td>\n",
       "      <td>positive</td>\n",
       "      <td>133</td>\n",
       "    </tr>\n",
       "    <tr>\n",
       "      <th>5</th>\n",
       "      <td>AskPlayStation</td>\n",
       "      <td>positive</td>\n",
       "      <td>127</td>\n",
       "    </tr>\n",
       "    <tr>\n",
       "      <th>7</th>\n",
       "      <td>TMobileHelp</td>\n",
       "      <td>positive</td>\n",
       "      <td>335</td>\n",
       "    </tr>\n",
       "    <tr>\n",
       "      <th>9</th>\n",
       "      <td>Uber_Support</td>\n",
       "      <td>positive</td>\n",
       "      <td>168</td>\n",
       "    </tr>\n",
       "    <tr>\n",
       "      <th>11</th>\n",
       "      <td>XboxSupport</td>\n",
       "      <td>positive</td>\n",
       "      <td>171</td>\n",
       "    </tr>\n",
       "  </tbody>\n",
       "</table>\n",
       "</div>"
      ],
      "text/plain": [
       "       author_id_y  category  count\n",
       "1   AmazonHelp      positive  217  \n",
       "3   AppleSupport    positive  133  \n",
       "5   AskPlayStation  positive  127  \n",
       "7   TMobileHelp     positive  335  \n",
       "9   Uber_Support    positive  168  \n",
       "11  XboxSupport     positive  171  "
      ]
     },
     "execution_count": 36,
     "metadata": {},
     "output_type": "execute_result"
    }
   ],
   "source": [
    "positive_df"
   ]
  },
  {
   "cell_type": "code",
   "execution_count": 37,
   "metadata": {},
   "outputs": [
    {
     "data": {
      "text/html": [
       "<div>\n",
       "<style scoped>\n",
       "    .dataframe tbody tr th:only-of-type {\n",
       "        vertical-align: middle;\n",
       "    }\n",
       "\n",
       "    .dataframe tbody tr th {\n",
       "        vertical-align: top;\n",
       "    }\n",
       "\n",
       "    .dataframe thead th {\n",
       "        text-align: right;\n",
       "    }\n",
       "</style>\n",
       "<table border=\"1\" class=\"dataframe\">\n",
       "  <thead>\n",
       "    <tr style=\"text-align: right;\">\n",
       "      <th></th>\n",
       "      <th>author_id_y</th>\n",
       "      <th>category</th>\n",
       "      <th>count</th>\n",
       "    </tr>\n",
       "  </thead>\n",
       "  <tbody>\n",
       "    <tr>\n",
       "      <th>0</th>\n",
       "      <td>AmazonHelp</td>\n",
       "      <td>negative</td>\n",
       "      <td>7804</td>\n",
       "    </tr>\n",
       "    <tr>\n",
       "      <th>2</th>\n",
       "      <td>AppleSupport</td>\n",
       "      <td>negative</td>\n",
       "      <td>10333</td>\n",
       "    </tr>\n",
       "    <tr>\n",
       "      <th>4</th>\n",
       "      <td>AskPlayStation</td>\n",
       "      <td>negative</td>\n",
       "      <td>9632</td>\n",
       "    </tr>\n",
       "    <tr>\n",
       "      <th>6</th>\n",
       "      <td>TMobileHelp</td>\n",
       "      <td>negative</td>\n",
       "      <td>10123</td>\n",
       "    </tr>\n",
       "    <tr>\n",
       "      <th>8</th>\n",
       "      <td>Uber_Support</td>\n",
       "      <td>negative</td>\n",
       "      <td>10438</td>\n",
       "    </tr>\n",
       "    <tr>\n",
       "      <th>10</th>\n",
       "      <td>XboxSupport</td>\n",
       "      <td>negative</td>\n",
       "      <td>10212</td>\n",
       "    </tr>\n",
       "  </tbody>\n",
       "</table>\n",
       "</div>"
      ],
      "text/plain": [
       "       author_id_y  category  count\n",
       "0   AmazonHelp      negative  7804 \n",
       "2   AppleSupport    negative  10333\n",
       "4   AskPlayStation  negative  9632 \n",
       "6   TMobileHelp     negative  10123\n",
       "8   Uber_Support    negative  10438\n",
       "10  XboxSupport     negative  10212"
      ]
     },
     "execution_count": 37,
     "metadata": {},
     "output_type": "execute_result"
    }
   ],
   "source": [
    "negative_df"
   ]
  },
  {
   "cell_type": "code",
   "execution_count": 38,
   "metadata": {},
   "outputs": [],
   "source": [
    "positive=tuple(positive_df[\"count\"].tolist())\n",
    "negative=tuple(negative_df[\"count\"].tolist())\n",
    "company_name=tuple(positive_df[\"author_id_y\"].tolist())"
   ]
  },
  {
   "cell_type": "code",
   "execution_count": 39,
   "metadata": {},
   "outputs": [
    {
     "data": {
      "text/plain": [
       "(217, 133, 127, 335, 168, 171)"
      ]
     },
     "execution_count": 39,
     "metadata": {},
     "output_type": "execute_result"
    }
   ],
   "source": [
    "positive"
   ]
  },
  {
   "cell_type": "code",
   "execution_count": 40,
   "metadata": {},
   "outputs": [
    {
     "data": {
      "text/plain": [
       "(7804, 10333, 9632, 10123, 10438, 10212)"
      ]
     },
     "execution_count": 40,
     "metadata": {},
     "output_type": "execute_result"
    }
   ],
   "source": [
    "negative"
   ]
  },
  {
   "cell_type": "code",
   "execution_count": 41,
   "metadata": {},
   "outputs": [
    {
     "data": {
      "text/plain": [
       "('AmazonHelp',\n",
       " 'AppleSupport',\n",
       " 'AskPlayStation',\n",
       " 'TMobileHelp',\n",
       " 'Uber_Support',\n",
       " 'XboxSupport')"
      ]
     },
     "execution_count": 41,
     "metadata": {},
     "output_type": "execute_result"
    }
   ],
   "source": [
    "company_name"
   ]
  },
  {
   "cell_type": "code",
   "execution_count": 42,
   "metadata": {},
   "outputs": [
    {
     "data": {
      "image/png": "[encoded data removed]",
      "text/plain": [
       "<Figure size 432x288 with 1 Axes>"
      ]
     },
     "metadata": {},
     "output_type": "display_data"
    }
   ],
   "source": [
    "ind = np.arange(len(company_name))  # the x locations for the groups\n",
    "width = 0.35  # the width of the bars\n",
    "\n",
    "fig, ax = plt.subplots()\n",
    "rects1 = ax.bar(ind - width/2, positive, width,color='Green', label='Positive')\n",
    "\n",
    "rects2 = ax.bar(ind + width/2, negative, width, color='Red', label='Negative')\n",
    "\n",
    "# Add some text for labels, title and custom x-axis tick labels, etc.\n",
    "ax.set_ylabel('Sentiment')\n",
    "ax.set_xlabel('Company Name')\n",
    "\n",
    "ax.set_xticks(ind)\n",
    "ax.set_xticklabels(company_name)\n",
    "ax.legend()\n",
    "\n",
    "\n",
    "def autolabel(rects, xpos='center'):\n",
    "    xpos = xpos.lower() \n",
    "    ha = {'center': 'center', 'right': 'left', 'left': 'right'}\n",
    "    offset = {'center': 0.5, 'right': 0.57, 'left': 0.43} \n",
    "\n",
    "    for rect in rects:\n",
    "        height = rect.get_height()\n",
    "        ax.text(rect.get_x() + rect.get_width()*offset[xpos], 1.01*height,\n",
    "                '{}'.format(height), ha=ha[xpos], va='bottom')\n",
    "\n",
    "\n",
    "autolabel(rects1, \"left\")\n",
    "autolabel(rects2, \"right\")\n",
    "plt.xticks(rotation=25)\n",
    "plt.savefig('sentiment.jpg', bbox_inches = \"tight\")\n",
    "plt.show()"
   ]
  },
  {
   "cell_type": "markdown",
   "metadata": {},
   "source": [
    "# HPOTHSIS 3\n"
   ]
  },
  {
   "cell_type": "markdown",
   "metadata": {},
   "source": [
    "Let create a function to assign the label <strong> bad </strong> if the response time is larger than the mean and <strong> good </strong> if it smaler than the mean."
   ]
  },
  {
   "cell_type": "code",
   "execution_count": 43,
   "metadata": {},
   "outputs": [
    {
     "data": {
      "text/plain": [
       "(59693, 22)"
      ]
     },
     "execution_count": 43,
     "metadata": {},
     "output_type": "execute_result"
    }
   ],
   "source": [
    "data_annotated.shape"
   ]
  },
  {
   "cell_type": "code",
   "execution_count": 44,
   "metadata": {},
   "outputs": [
    {
     "name": "stdout",
     "output_type": "stream",
     "text": [
      "10768.232523076407\n"
     ]
    }
   ],
   "source": [
    "mean=data_annotated[\"response_time\"].mean()\n",
    "print(mean)"
   ]
  },
  {
   "cell_type": "code",
   "execution_count": 45,
   "metadata": {},
   "outputs": [],
   "source": [
    "def behaviorannotator(response_time):\n",
    "    if response_time<mean:\n",
    "        return \"good\"\n",
    "    else:\n",
    "        return \"bad\""
   ]
  },
  {
   "cell_type": "code",
   "execution_count": 46,
   "metadata": {},
   "outputs": [
    {
     "name": "stderr",
     "output_type": "stream",
     "text": [
      "progress-cleanning: 100%|████████████████████████████████████████████████████| 59693/59693 [00:00<00:00, 763893.23it/s]\n"
     ]
    }
   ],
   "source": [
    "def behaviorannotationprocess(datas, n=59761):\n",
    "    datas = datas.head(n)\n",
    "    datas['behavior'] = datas['response_time'].progress_map(behaviorannotator)\n",
    "    return datas\n",
    "d=behaviorannotationprocess(data_annotated)"
   ]
  },
  {
   "cell_type": "code",
   "execution_count": 47,
   "metadata": {},
   "outputs": [
    {
     "data": {
      "text/html": [
       "<div>\n",
       "<style scoped>\n",
       "    .dataframe tbody tr th:only-of-type {\n",
       "        vertical-align: middle;\n",
       "    }\n",
       "\n",
       "    .dataframe tbody tr th {\n",
       "        vertical-align: top;\n",
       "    }\n",
       "\n",
       "    .dataframe thead th {\n",
       "        text-align: right;\n",
       "    }\n",
       "</style>\n",
       "<table border=\"1\" class=\"dataframe\">\n",
       "  <thead>\n",
       "    <tr style=\"text-align: right;\">\n",
       "      <th></th>\n",
       "      <th>cleaned_tweet</th>\n",
       "      <th>response_time</th>\n",
       "      <th>behavior</th>\n",
       "    </tr>\n",
       "  </thead>\n",
       "  <tbody>\n",
       "    <tr>\n",
       "      <th>0</th>\n",
       "      <td>say my tracking say my shit was delivered but i see no package</td>\n",
       "      <td>390.0</td>\n",
       "      <td>good</td>\n",
       "    </tr>\n",
       "    <tr>\n",
       "      <th>1</th>\n",
       "      <td>the amazon agent number is switched off amzagent please help</td>\n",
       "      <td>1873.0</td>\n",
       "      <td>good</td>\n",
       "    </tr>\n",
       "  </tbody>\n",
       "</table>\n",
       "</div>"
      ],
      "text/plain": [
       "                                                    cleaned_tweet  \\\n",
       "0  say my tracking say my shit was delivered but i see no package   \n",
       "1  the amazon agent number is switched off amzagent please help     \n",
       "\n",
       "   response_time behavior  \n",
       "0  390.0          good     \n",
       "1  1873.0         good     "
      ]
     },
     "execution_count": 47,
     "metadata": {},
     "output_type": "execute_result"
    }
   ],
   "source": [
    "d[[\"cleaned_tweet\",\"response_time\",\"behavior\"]].head(2)"
   ]
  },
  {
   "cell_type": "markdown",
   "metadata": {},
   "source": [
    "## Ranking the company per Bad or Good"
   ]
  },
  {
   "cell_type": "code",
   "execution_count": 48,
   "metadata": {},
   "outputs": [],
   "source": [
    "group_company=d.groupby(['author_id_y','behavior'])[\"behavior\"].count().reset_index(name=\"count\")"
   ]
  },
  {
   "cell_type": "code",
   "execution_count": 49,
   "metadata": {},
   "outputs": [],
   "source": [
    "good_df=group_company.loc[group_company[\"behavior\"]==\"good\"]\n",
    "bad_df=group_company.loc[group_company[\"behavior\"]==\"bad\"]"
   ]
  },
  {
   "cell_type": "code",
   "execution_count": 50,
   "metadata": {},
   "outputs": [],
   "source": [
    "good=tuple(good_df[\"count\"].tolist())\n",
    "bad=tuple(bad_df[\"count\"].tolist())\n",
    "company_name=tuple(good_df[\"author_id_y\"].tolist())"
   ]
  },
  {
   "cell_type": "code",
   "execution_count": 51,
   "metadata": {},
   "outputs": [
    {
     "data": {
      "image/png": "[encoded data removed]",
      "text/plain": [
       "<Figure size 432x288 with 1 Axes>"
      ]
     },
     "metadata": {},
     "output_type": "display_data"
    }
   ],
   "source": [
    "ind = np.arange(len(company_name))  # the x locations for the groups\n",
    "width = 0.35  # the width of the bars\n",
    "\n",
    "fig, ax = plt.subplots()\n",
    "rects1 = ax.bar(ind - width/2, good, width,color='Green', label='Good')\n",
    "\n",
    "rects2 = ax.bar(ind + width/2, bad, width, color='Red', label='Bad')\n",
    "\n",
    "# Add some text for labels, title and custom x-axis tick labels, etc.\n",
    "ax.set_ylabel('Behavior')\n",
    "ax.set_xlabel('Company Name')\n",
    "\n",
    "ax.set_xticks(ind)\n",
    "ax.set_xticklabels(company_name)\n",
    "ax.legend()\n",
    "\n",
    "\n",
    "def autolabel(rects, xpos='center'):\n",
    "    xpos = xpos.lower() \n",
    "    ha = {'center': 'center', 'right': 'left', 'left': 'right'}\n",
    "    offset = {'center': 0.5, 'right': 0.57, 'left': 0.43} \n",
    "\n",
    "    for rect in rects:\n",
    "        height = rect.get_height()\n",
    "        ax.text(rect.get_x() + rect.get_width()*offset[xpos], 1.01*height,\n",
    "                '{}'.format(height), ha=ha[xpos], va='bottom')\n",
    "\n",
    "\n",
    "autolabel(rects1, \"left\")\n",
    "autolabel(rects2, \"right\")\n",
    "plt.xticks(rotation=25)\n",
    "plt.savefig('behav.jpg', bbox_inches = \"tight\")\n",
    "plt.show()"
   ]
  },
  {
   "cell_type": "markdown",
   "metadata": {},
   "source": [
    "## Word Embeddings"
   ]
  },
  {
   "cell_type": "code",
   "execution_count": 52,
   "metadata": {},
   "outputs": [
    {
     "data": {
      "text/plain": [
       "Index(['level_0', 'index', 'tweet_id_x', 'author_id_x', 'inbound_x',\n",
       "       'created_at_x', 'text_x', 'response_tweet_id_x',\n",
       "       'in_response_to_tweet_id_x', 'tweet_id_y', 'author_id_y', 'inbound_y',\n",
       "       'created_at_y', 'text_y', 'response_tweet_id_y',\n",
       "       'in_response_to_tweet_id_y', 'category_id', 'time_created_at_x',\n",
       "       'time_created_at_y', 'response_time', 'cleaned_tweet', 'category',\n",
       "       'behavior'],\n",
       "      dtype='object')"
      ]
     },
     "execution_count": 52,
     "metadata": {},
     "output_type": "execute_result"
    }
   ],
   "source": [
    "d.columns"
   ]
  },
  {
   "cell_type": "code",
   "execution_count": 53,
   "metadata": {},
   "outputs": [],
   "source": [
    "cleaned_list=d[[\"cleaned_tweet\",\"category\",\"author_id_y\"]]"
   ]
  },
  {
   "cell_type": "markdown",
   "metadata": {},
   "source": [
    "### Creating the tokens from the cleaned data"
   ]
  },
  {
   "cell_type": "code",
   "execution_count": 54,
   "metadata": {},
   "outputs": [],
   "source": [
    "documents_information=list(map(len, cleaned_list.cleaned_tweet.str.split(\" \")))"
   ]
  },
  {
   "cell_type": "code",
   "execution_count": 55,
   "metadata": {},
   "outputs": [
    {
     "name": "stdout",
     "output_type": "stream",
     "text": [
      "Total of words: 1234809\n",
      "min count: 1\n",
      "max count: 68\n"
     ]
    }
   ],
   "source": [
    "print(\"Total of words: {}\".format(np.sum(documents_information)))\n",
    "print(\"min count: {}\".format(min(documents_information)))\n",
    "print(\"max count: {}\".format(max(documents_information)))"
   ]
  },
  {
   "cell_type": "code",
   "execution_count": 56,
   "metadata": {},
   "outputs": [
    {
     "data": {
      "image/png": "[encoded data removed]",
      "text/plain": [
       "<Figure size 1080x432 with 1 Axes>"
      ]
     },
     "metadata": {},
     "output_type": "display_data"
    }
   ],
   "source": [
    "sb.set()\n",
    "fig, ax = plt.subplots(figsize=(15,6))\n",
    "\n",
    "ax.set_title(\"Distribution of number of words\", fontsize=16)\n",
    "ax.set_xlabel(\"Number of words\")\n",
    "sb.distplot(documents_information, ax=ax,hist_kws=dict(edgecolor=\"w\", linewidth=1));\n",
    "plt.savefig('worddistribution.jpg', bbox_inches = \"tight\")"
   ]
  },
  {
   "cell_type": "code",
   "execution_count": 57,
   "metadata": {},
   "outputs": [],
   "source": [
    "import nltk\n",
    "def get_tokens(df):\n",
    "    cleaned_list[\"tokens\"]=list(map(nltk.word_tokenize, df.cleaned_tweet))\n",
    "\n",
    "get_tokens(cleaned_list)"
   ]
  },
  {
   "cell_type": "code",
   "execution_count": 58,
   "metadata": {},
   "outputs": [],
   "source": [
    "from collections import Counter\n",
    "tokenized_only_dict = Counter(np.concatenate(cleaned_list.tokens.values))\n",
    "\n",
    "tokenized_only_df = pd.DataFrame.from_dict(tokenized_only_dict, orient='index')\n",
    "tokenized_only_df.rename(columns={0: 'count'}, inplace=True)"
   ]
  },
  {
   "cell_type": "code",
   "execution_count": 59,
   "metadata": {},
   "outputs": [],
   "source": [
    "tokenized_only_df.sort_values('count', ascending=False, inplace=True)"
   ]
  },
  {
   "cell_type": "markdown",
   "metadata": {},
   "source": [
    "## Including Stop "
   ]
  },
  {
   "cell_type": "code",
   "execution_count": 60,
   "metadata": {},
   "outputs": [
    {
     "data": {
      "image/png": "[encoded data removed]",
      "text/plain": [
       "<Figure size 1440x360 with 1 Axes>"
      ]
     },
     "metadata": {},
     "output_type": "display_data"
    }
   ],
   "source": [
    "def word_frequency_barplot(df, nr_top_words=30):\n",
    "    \"\"\" df should have a column named count.\n",
    "    \"\"\"\n",
    "    fig, ax = plt.subplots(1,1,figsize=(20,5))\n",
    "\n",
    "    sb.barplot(list(range(nr_top_words)), df['count'].values[:nr_top_words],color=\"r\", ax=ax)\n",
    "\n",
    "    ax.set_xticks(list(range(nr_top_words)))\n",
    "    ax.set_xticklabels(df.index[:nr_top_words], fontsize=14, rotation=90)\n",
    "    return ax\n",
    "    \n",
    "ax = word_frequency_barplot(tokenized_only_df)\n",
    "ax.set_title(\"Word Frequencies\", fontsize=16);\n",
    "plt.savefig('frequencyeithstowords.jpg', bbox_inches = \"tight\")"
   ]
  },
  {
   "cell_type": "markdown",
   "metadata": {},
   "source": [
    "## Without Stop Words"
   ]
  },
  {
   "cell_type": "code",
   "execution_count": 61,
   "metadata": {},
   "outputs": [],
   "source": [
    "from nltk.corpus import stopwords\n",
    "from nltk.corpus import wordnet\n",
    "\n",
    "stopwords=set(stopwords.words(\"english\"))"
   ]
  },
  {
   "cell_type": "code",
   "execution_count": 62,
   "metadata": {},
   "outputs": [],
   "source": [
    "\n",
    "def nostopword(tweet):\n",
    "    tokens=tokenizer.tokenize(tweet)\n",
    "    tokens=[w for w in tokens if not w in stopwords and len(w)>2]\n",
    "    \n",
    "    return tokens"
   ]
  },
  {
   "cell_type": "code",
   "execution_count": 63,
   "metadata": {},
   "outputs": [
    {
     "name": "stderr",
     "output_type": "stream",
     "text": [
      "progress-cleanning: 100%|█████████████████████████████████████████████████████| 59693/59693 [00:04<00:00, 12695.98it/s]\n"
     ]
    }
   ],
   "source": [
    "def get_nostopword(data, n=59738):\n",
    "    data = data.head(n)\n",
    "    data['nostopword'] = data['cleaned_tweet'].progress_map(nostopword)\n",
    "    return data\n",
    "cleaned_list=get_nostopword(cleaned_list)"
   ]
  },
  {
   "cell_type": "markdown",
   "metadata": {},
   "source": [
    "## Stemming and Lemmatizing"
   ]
  },
  {
   "cell_type": "code",
   "execution_count": 64,
   "metadata": {},
   "outputs": [],
   "source": [
    "from nltk import pos_tag\n",
    "def stem_words(df):\n",
    "    lemm = nltk.stem.WordNetLemmatizer()\n",
    "    df['lemmatized_text'] =  list(map(lambda sentence:[lemm.lemmatize(i,j[0].lower()) if j[0].lower() in ['a','n','v'] else lemm.lemmatize(i) for i,j in pos_tag(sentence)]\n",
    ", cleaned_list.nostopword))\n",
    "\n",
    "    p_stemmer = nltk.stem.porter.PorterStemmer()\n",
    "    df['stemmed_text'] = list(map(lambda sentence:list(map(p_stemmer.stem, sentence)), cleaned_list.lemmatized_text))\n",
    "\n",
    "stem_words(cleaned_list)"
   ]
  },
  {
   "cell_type": "code",
   "execution_count": 65,
   "metadata": {},
   "outputs": [],
   "source": [
    "tokenized_only_dict = Counter(np.concatenate(cleaned_list.lemmatized_text.values))\n",
    "\n",
    "tokenized_only_df = pd.DataFrame.from_dict(tokenized_only_dict, orient='index')\n",
    "tokenized_only_df.rename(columns={0: 'count'}, inplace=True)"
   ]
  },
  {
   "cell_type": "code",
   "execution_count": 66,
   "metadata": {},
   "outputs": [],
   "source": [
    "tokenized_only_df.sort_values('count', ascending=False, inplace=True)"
   ]
  },
  {
   "cell_type": "code",
   "execution_count": 67,
   "metadata": {},
   "outputs": [
    {
     "data": {
      "image/png": "[encoded data removed]",
      "text/plain": [
       "<Figure size 1440x360 with 1 Axes>"
      ]
     },
     "metadata": {},
     "output_type": "display_data"
    }
   ],
   "source": [
    "def word_frequency_barplot(df, nr_top_words=30):\n",
    "    \"\"\" df should have a column named count.\n",
    "    \"\"\"\n",
    "    fig, ax = plt.subplots(1,1,figsize=(20,5))\n",
    "\n",
    "    sb.barplot(list(range(nr_top_words)), df['count'].values[:nr_top_words],color=\"g\", ax=ax)\n",
    "\n",
    "    ax.set_xticks(list(range(nr_top_words)))\n",
    "    ax.set_xticklabels(df.index[:nr_top_words], fontsize=14, rotation=90)\n",
    "    return ax\n",
    "    \n",
    "ax = word_frequency_barplot(tokenized_only_df)\n",
    "ax.set_title(\"Word Frequencies\", fontsize=16);\n",
    "plt.savefig('frequencynostop.jpg', bbox_inches = \"tight\")"
   ]
  },
  {
   "cell_type": "code",
   "execution_count": 68,
   "metadata": {},
   "outputs": [
    {
     "data": {
      "text/plain": [
       "Index(['cleaned_tweet', 'category', 'author_id_y', 'tokens', 'nostopword',\n",
       "       'lemmatized_text', 'stemmed_text'],\n",
       "      dtype='object')"
      ]
     },
     "execution_count": 68,
     "metadata": {},
     "output_type": "execute_result"
    }
   ],
   "source": [
    "cleaned_list.columns"
   ]
  },
  {
   "cell_type": "code",
   "execution_count": 69,
   "metadata": {},
   "outputs": [
    {
     "data": {
      "text/plain": [
       "(59693, 7)"
      ]
     },
     "execution_count": 69,
     "metadata": {},
     "output_type": "execute_result"
    }
   ],
   "source": [
    "cleaned_list.shape"
   ]
  },
  {
   "cell_type": "code",
   "execution_count": 70,
   "metadata": {},
   "outputs": [],
   "source": [
    "x_train, x_test, y_train, y_test = train_test_split(np.array(cleaned_list.head(93170).tokens),\n",
    "                                   np.array(cleaned_list.head(93170).cleaned_tweet), test_size=0.2)\n"
   ]
  },
  {
   "cell_type": "code",
   "execution_count": 71,
   "metadata": {},
   "outputs": [
    {
     "name": "stderr",
     "output_type": "stream",
     "text": [
      "47754it [00:00, 80459.03it/s] \n",
      "11939it [00:00, 254535.54it/s]\n"
     ]
    }
   ],
   "source": [
    "from gensim.models.word2vec import Word2Vec \n",
    "LabeledSentence = gensim.models.doc2vec.LabeledSentence \n",
    "def labelizeTweets(tweets, label_type):\n",
    "    labelized = []\n",
    "    for i,v in tqdm(enumerate(tweets)):\n",
    "        label = '%s_%s'%(label_type,i)\n",
    "        labelized.append(LabeledSentence(v, [label]))\n",
    "    return labelized\n",
    "\n",
    "x_train = labelizeTweets(x_train, 'TRAIN')\n",
    "x_test = labelizeTweets(x_test, 'TEST')"
   ]
  },
  {
   "cell_type": "code",
   "execution_count": 72,
   "metadata": {},
   "outputs": [],
   "source": [
    "#tweet_w2v = Word2Vec(size=150, min_count=20,sg=0)#sg=1: skip-gram, 0: cbow\n",
    "#tweet_w2v.build_vocab([x.words for x in tqdm(x_train)])\n",
    "#tweet_w2v.train([x.words for x in tqdm(x_train)], \n",
    "#                total_examples=tweet_w2v.corpus_count, epochs=tweet_w2v.iter)"
   ]
  },
  {
   "cell_type": "code",
   "execution_count": 73,
   "metadata": {},
   "outputs": [],
   "source": [
    "tweet_w2v=Word2Vec.load(\"word2vec.model\")"
   ]
  },
  {
   "cell_type": "code",
   "execution_count": 74,
   "metadata": {},
   "outputs": [
    {
     "data": {
      "text/plain": [
       "[('iphone', 0.6134347915649414),\n",
       " ('ios', 0.5708719491958618),\n",
       " ('phones', 0.5670835375785828),\n",
       " ('wife', 0.564886748790741),\n",
       " ('device', 0.5456759929656982),\n",
       " ('port', 0.5366654396057129),\n",
       " ('bill', 0.5346403121948242),\n",
       " ('laptop', 0.5276452898979187),\n",
       " ('battery', 0.5213087797164917),\n",
       " ('ipad', 0.5206581354141235)]"
      ]
     },
     "execution_count": 74,
     "metadata": {},
     "output_type": "execute_result"
    }
   ],
   "source": [
    "tweet_w2v.wv.most_similar([\"phone\"])"
   ]
  },
  {
   "cell_type": "code",
   "execution_count": 75,
   "metadata": {},
   "outputs": [],
   "source": [
    " #tweet_w2v.save(\"word2vec.model\")\n",
    "    "
   ]
  },
  {
   "cell_type": "code",
   "execution_count": 76,
   "metadata": {},
   "outputs": [],
   "source": [
    "import matplotlib.pyplot as plt\n",
    "import pandas as pd\n",
    "from sklearn.decomposition import PCA\n",
    "\n",
    "def plot_words(words):\n",
    "    word_vecs = [tweet_w2v[word] for word in words]\n",
    "    pca = PCA(n_components=2)\n",
    "\n",
    "    columns = [\"Component1\",\"Component2\"]\n",
    "    df = pd.DataFrame(pca.fit_transform(word_vecs), columns=columns, index=words)\n",
    "    def annotate_df(row):  \n",
    "        ax.annotate(row.name, list(row.values),\n",
    "                    xytext=(10,-5), \n",
    "                    textcoords='offset points',\n",
    "                    size=12, \n",
    "                    color='black')\n",
    "\n",
    "    ax = df.plot(kind=\"scatter\",x='Component1', y='Component2',figsize=(20,10))\n",
    "    _ = df.apply(annotate_df, axis=1)\n",
    "    plt.savefig('outputcb.jpg')"
   ]
  },
  {
   "cell_type": "code",
   "execution_count": 77,
   "metadata": {},
   "outputs": [
    {
     "data": {
      "text/plain": [
       "150"
      ]
     },
     "execution_count": 77,
     "metadata": {},
     "output_type": "execute_result"
    }
   ],
   "source": [
    "len(tweet_w2v[\"phone\"])"
   ]
  },
  {
   "cell_type": "code",
   "execution_count": 78,
   "metadata": {},
   "outputs": [],
   "source": [
    "words=[]\n",
    "for wordlist in  cleaned_list.nostopword:\n",
    "    words.extend(wordlist)"
   ]
  },
  {
   "cell_type": "code",
   "execution_count": 79,
   "metadata": {},
   "outputs": [],
   "source": [
    "w=[]\n",
    "for word in words:\n",
    "    if word in tweet_w2v.wv:\n",
    "        w.append(word)"
   ]
  },
  {
   "cell_type": "code",
   "execution_count": 80,
   "metadata": {},
   "outputs": [
    {
     "name": "stdout",
     "output_type": "stream",
     "text": [
      "527684\n"
     ]
    }
   ],
   "source": [
    "print(len(w))"
   ]
  },
  {
   "cell_type": "code",
   "execution_count": 81,
   "metadata": {},
   "outputs": [
    {
     "name": "stderr",
     "output_type": "stream",
     "text": [
      "'c' argument looks like a single numeric RGB or RGBA sequence, which should be avoided as value-mapping will have precedence in case its length matches with 'x' & 'y'.  Please use a 2-D array with a single row if you really want to specify the same RGB or RGBA value for all points.\n"
     ]
    },
    {
     "data": {
      "image/png": "[encoded data removed]",
      "text/plain": [
       "<Figure size 1440x720 with 1 Axes>"
      ]
     },
     "metadata": {},
     "output_type": "display_data"
    }
   ],
   "source": [
    "plot_words(w[:100])"
   ]
  },
  {
   "cell_type": "code",
   "execution_count": 82,
   "metadata": {},
   "outputs": [
    {
     "name": "stdout",
     "output_type": "stream",
     "text": [
      "building tf-idf matrix ...\n",
      "vocab size : 22751\n"
     ]
    }
   ],
   "source": [
    "print('building tf-idf matrix ...')\n",
    "vectorizer = TfidfVectorizer(analyzer=lambda x: x, min_df=0)\n",
    "matrix = vectorizer.fit_transform([x.words for x in x_train])\n",
    "tfidf = dict(zip(vectorizer.get_feature_names(), vectorizer.idf_))\n",
    "print('vocab size :', len(tfidf))"
   ]
  },
  {
   "cell_type": "code",
   "execution_count": 83,
   "metadata": {},
   "outputs": [],
   "source": [
    "def buildWordVector(tokens, size):\n",
    "    vec = np.zeros(size).reshape((1, size))\n",
    "    count = 0.\n",
    "    for word in tokens:\n",
    "        try:\n",
    "            vec += tweet_w2v[word].reshape((1, size)) * tfidf[word]\n",
    "            count += 1.\n",
    "        except KeyError: # handling the case where the token is not\n",
    "                         # in the corpus. useful for testing.\n",
    "            continue\n",
    "    if count != 0:\n",
    "        vec /= count\n",
    "    return vec"
   ]
  },
  {
   "cell_type": "code",
   "execution_count": 84,
   "metadata": {},
   "outputs": [
    {
     "name": "stderr",
     "output_type": "stream",
     "text": [
      "59693it [00:11, 4996.83it/s]\n"
     ]
    }
   ],
   "source": [
    "vectors = np.concatenate([buildWordVector(z, 150) for z in tqdm(map(lambda x: x, cleaned_list.lemmatized_text))])\n",
    "labels=[label for label in  cleaned_list.author_id_y]\n",
    "vectors = scale(vectors)"
   ]
  },
  {
   "cell_type": "code",
   "execution_count": 85,
   "metadata": {},
   "outputs": [
    {
     "data": {
      "text/plain": [
       "59693"
      ]
     },
     "execution_count": 85,
     "metadata": {},
     "output_type": "execute_result"
    }
   ],
   "source": [
    "len(vectors)"
   ]
  },
  {
   "cell_type": "code",
   "execution_count": 86,
   "metadata": {},
   "outputs": [
    {
     "data": {
      "text/plain": [
       "59693"
      ]
     },
     "execution_count": 86,
     "metadata": {},
     "output_type": "execute_result"
    }
   ],
   "source": [
    "len(labels)"
   ]
  },
  {
   "cell_type": "markdown",
   "metadata": {},
   "source": [
    "## Spliting the data into train and test sets"
   ]
  },
  {
   "cell_type": "code",
   "execution_count": 87,
   "metadata": {},
   "outputs": [],
   "source": [
    "X_train, X_test, y_train, y_test = train_test_split( vectors, labels, test_size=0.33, random_state=42)"
   ]
  },
  {
   "cell_type": "code",
   "execution_count": 88,
   "metadata": {},
   "outputs": [],
   "source": [
    "from sklearn import preprocessing\n",
    "encoder = preprocessing.LabelBinarizer()\n",
    "encoder.fit(y_train)\n",
    "y_train = encoder.transform(y_train)\n",
    "y_test = encoder.transform(y_test)"
   ]
  },
  {
   "cell_type": "code",
   "execution_count": 89,
   "metadata": {},
   "outputs": [
    {
     "data": {
      "text/plain": [
       "array([0, 0, 0, 0, 1, 0])"
      ]
     },
     "execution_count": 89,
     "metadata": {},
     "output_type": "execute_result"
    }
   ],
   "source": [
    "y_train[0]"
   ]
  },
  {
   "cell_type": "markdown",
   "metadata": {},
   "source": [
    "## Keras "
   ]
  },
  {
   "cell_type": "code",
   "execution_count": 90,
   "metadata": {},
   "outputs": [],
   "source": [
    "#from keras.models import Sequential\n",
    "#from keras.layers import Dense, Activation"
   ]
  },
  {
   "cell_type": "code",
   "execution_count": 91,
   "metadata": {},
   "outputs": [],
   "source": [
    "#model= Sequential()"
   ]
  },
  {
   "cell_type": "code",
   "execution_count": 92,
   "metadata": {},
   "outputs": [],
   "source": [
    "#model.add(Dense(512, input_shape=(150,)))\n",
    "#model.add(Activation('relu'))"
   ]
  },
  {
   "cell_type": "code",
   "execution_count": 93,
   "metadata": {},
   "outputs": [],
   "source": [
    "#model.add(Dense(6))\n",
    "#model.add(Activation('softmax'))"
   ]
  },
  {
   "cell_type": "code",
   "execution_count": 94,
   "metadata": {},
   "outputs": [],
   "source": [
    "#model.compile(loss='categorical_crossentropy', \n",
    "#              optimizer='rmsprop', \n",
    "#              metrics=['accuracy'])  "
   ]
  },
  {
   "cell_type": "code",
   "execution_count": 95,
   "metadata": {
    "scrolled": false
   },
   "outputs": [],
   "source": [
    "#history = model.fit(X_train, y_train, \n",
    "#                    batch_size=100, \n",
    "#                    epochs=150, \n",
    "#                    verbose=1, \n",
    "#                    validation_split=0.1)"
   ]
  },
  {
   "cell_type": "code",
   "execution_count": 96,
   "metadata": {},
   "outputs": [],
   "source": [
    "# summarize history for accuracy\n",
    "#plt.plot(history.history['acc'])\n",
    "#plt.plot(history.history['val_acc'])\n",
    "#plt.title('Model accuracy')\n",
    "#plt.ylabel('accuracy')\n",
    "#plt.xlabel('epoch')\n",
    "#plt.legend(['train', 'test'], loc='upper left')\n",
    "#plt.savefig('accuracy.jpg',  bbox_inches = \"tight\")\n",
    "#plt.show()\n",
    "# summarize history for loss\n",
    "#plt.plot(history.history['loss'])\n",
    "#plt.plot(history.history['val_loss'])\n",
    "#plt.title('model loss')\n",
    "#plt.ylabel('loss')\n",
    "#plt.xlabel('epoch')\n",
    "#plt.legend(['train', 'test'], loc='upper left')\n",
    "#plt.show()"
   ]
  },
  {
   "cell_type": "code",
   "execution_count": 97,
   "metadata": {},
   "outputs": [
    {
     "name": "stderr",
     "output_type": "stream",
     "text": [
      "Using TensorFlow backend.\n"
     ]
    }
   ],
   "source": [
    "from keras.models import Sequential\n",
    "from keras.layers import Dense, Activation\n",
    "from keras.wrappers.scikit_learn import KerasClassifier\n",
    "from sklearn.model_selection import GridSearchCV"
   ]
  },
  {
   "cell_type": "markdown",
   "metadata": {},
   "source": [
    "## Tuning the model"
   ]
  },
  {
   "cell_type": "code",
   "execution_count": 107,
   "metadata": {},
   "outputs": [],
   "source": [
    "def create_model(optimizer='adam', activation='relu'):\n",
    "   # create model\n",
    "    model = Sequential()\n",
    "    model.add(Dense(512, input_shape=(150,), activation=activation))\n",
    "    model.add(Dense(6, activation='softmax'))\n",
    "    # Compile model\n",
    "    model.compile(loss='categorical_crossentropy', optimizer=optimizer, metrics=['accuracy'])\n",
    "    return model"
   ]
  },
  {
   "cell_type": "code",
   "execution_count": null,
   "metadata": {},
   "outputs": [],
   "source": [
    "model = KerasClassifier(build_fn=create_model, verbose=0)\n",
    "batch_size = [10, 20, 40, 60, 80, 150]\n",
    "epochs = [10, 50, 150]\n",
    "optimizer = ['SGD', 'RMSprop', 'Adagrad', 'Adadelta', 'Adam', 'Adamax', 'Nadam']\n",
    "#learn_rate = [0.001, 0.01, 0.1, 0.2, 0.3]\n",
    "#momentum = [0.0, 0.2, 0.4, 0.6, 0.8, 0.9]\n",
    "#init_mode = ['uniform', 'lecun_uniform', 'normal', 'zero', 'glorot_normal', 'glorot_uniform', 'he_normal', 'he_uniform']\n",
    "activation = ['softmax', 'softplus', 'softsign', 'relu', 'tanh', 'sigmoid', 'hard_sigmoid', 'linear']\n",
    "# define the grid search parameters\n",
    "#weight_constraint = [1, 2, 3, 4, 5]\n",
    "#dropout_rate = [0.0, 0.1, 0.2, 0.3, 0.4, 0.5, 0.6, 0.7, 0.8, 0.9]\n",
    "# define the grid search parameters\n",
    "#neurons = [1, 5, 10, 15, 20, 25, 30]\n",
    "\n",
    "param_grid = dict(optimizer=optimizer, batch_size=batch_size, nb_epoch=epochs, activation=activation)\n",
    "grid = GridSearchCV(estimator=model, param_grid=param_grid, n_jobs=-1)\n",
    "grid_result = grid.fit(X_train, y_train)\n",
    "# summarize results\n",
    "print(\"Best: %f using %s\" % (grid_result.best_score_, grid_result.best_params_))\n",
    "means = grid_result.cv_results_['mean_test_score']\n",
    "stds = grid_result.cv_results_['std_test_score']\n",
    "params = grid_result.cv_results_['params']\n",
    "for mean, stdev, param in zip(means, stds, params):\n",
    "    print(\"%f (%f) with: %r\" % (mean, stdev, param))"
   ]
  },
  {
   "cell_type": "markdown",
   "metadata": {},
   "source": [
    "## Making prediction"
   ]
  },
  {
   "cell_type": "code",
   "execution_count": null,
   "metadata": {},
   "outputs": [],
   "source": [
    "#for i in range(10):    \n",
    "#    prediction = model.predict(np.array([X_test[i]]))"
   ]
  },
  {
   "cell_type": "code",
   "execution_count": null,
   "metadata": {},
   "outputs": [],
   "source": [
    "#i=2000\n",
    "#text_labels = encoder.classes_ \n",
    "#predicted_label = labels[np.argmax(prediction[0])]\n",
    "\n",
    "#print(cleaned_list.cleaned_tweet.iloc[i], \"...\")\n",
    "#print(\"===========================================================\")\n",
    "#print('Actual label:' + labels[i])\n",
    "#print(\"Predicted label: \" + predicted_label)"
   ]
  }
 ],
 "metadata": {
  "kernelspec": {
   "display_name": "Python 3",
   "language": "python",
   "name": "python3"
  },
  "language_info": {
   "codemirror_mode": {
    "name": "ipython",
    "version": 3
   },
   "file_extension": ".py",
   "mimetype": "text/x-python",
   "name": "python",
   "nbconvert_exporter": "python",
   "pygments_lexer": "ipython3",
   "version": "3.7.3"
  }
 },
 "nbformat": 4,
 "nbformat_minor": 2
}
